{
 "cells": [
  {
   "cell_type": "code",
   "execution_count": 1,
   "metadata": {},
   "outputs": [],
   "source": [
    "#Import necessary library\n",
    "import pandas as pd\n",
    "import os\n",
    "import requests\n",
    "import urllib\n",
    "import xlrd\n",
    "import re"
   ]
  },
  {
   "cell_type": "code",
   "execution_count": 2,
   "metadata": {},
   "outputs": [],
   "source": [
    "# Append the directory in the scrapedData sub-folder\n",
    "BASE = './scrapedData/'\n",
    "TEMP = './tempData/'\n",
    "FINAL = './finalData/'"
   ]
  },
  {
   "cell_type": "markdown",
   "metadata": {},
   "source": [
    "## Combining the individual .xlsx files into one big .xlsx files"
   ]
  },
  {
   "cell_type": "code",
   "execution_count": 3,
   "metadata": {},
   "outputs": [
    {
     "data": {
      "text/plain": [
       "['./scrapedData/scrapingData_ACJC-Confessions-365341810240423_FULL.xlsx',\n",
       " './scrapedData/scrapingData_andiechen_FULL.xlsx',\n",
       " './scrapedData/scrapingData_asrjcconfessions_FULL.xlsx',\n",
       " './scrapedData/scrapingData_bellywellyjelly_FULL.xlsx',\n",
       " './scrapedData/scrapingData_benjamin.kheng_FULL.xlsx',\n",
       " './scrapedData/scrapingData_bossyflossie_FULL.xlsx',\n",
       " './scrapedData/scrapingData_cjcroxx_FULL.xlsx',\n",
       " './scrapedData/scrapingData_DanielFoodDiary_FULL.xlsx',\n",
       " './scrapedData/scrapingData_DHS-Confessions-103690209814932_FULL.xlsx',\n",
       " './scrapedData/scrapingData_DollarsAndSenseSG_FULL.xlsx',\n",
       " './scrapedData/scrapingData_dreachongofficial_FULL.xlsx',\n",
       " './scrapedData/scrapingData_HwaChongConfessions_FULL.xlsx',\n",
       " './scrapedData/scrapingData_ieatishootipost_FULL.xlsx',\n",
       " './scrapedData/scrapingData_InnovaConfessions_FULL.xlsx',\n",
       " './scrapedData/scrapingData_ITE-College-Central-Confessions-102332676616681_FULL.xlsx',\n",
       " './scrapedData/scrapingData_ITE-College-West-Confessions-123845157793064_FULL.xlsx',\n",
       " './scrapedData/scrapingData_JjcConfessions_FULL.xlsx',\n",
       " './scrapedData/scrapingData_ladyironchef_FULL.xlsx',\n",
       " './scrapedData/scrapingData_moneysmartsg_FULL.xlsx',\n",
       " './scrapedData/scrapingData_mongabong_FULL.xlsx',\n",
       " './scrapedData/scrapingData_mrbrownlah_FULL.xlsx',\n",
       " './scrapedData/scrapingData_mykxii_FULL.xlsx',\n",
       " './scrapedData/scrapingData_NJC-Confessions-414721038609037_FULL.xlsx',\n",
       " './scrapedData/scrapingData_npconfession_FULL.xlsx',\n",
       " './scrapedData/scrapingData_NTUConfess_PART.xlsx',\n",
       " './scrapedData/scrapingData_nuswhispers_FULL.xlsx',\n",
       " './scrapedData/scrapingData_NYP-Confessions-118332335013023_FULL.xlsx',\n",
       " './scrapedData/scrapingData_RepublicPolyConfessions_FULL.xlsx',\n",
       " './scrapedData/scrapingData_RJConfessions_FULL.xlsx',\n",
       " './scrapedData/scrapingData_SajcConfessions_FULL.xlsx',\n",
       " './scrapedData/scrapingData_sethluimarketing_FULL.xlsx',\n",
       " './scrapedData/scrapingData_SGAG_FULL.xlsx',\n",
       " './scrapedData/scrapingData_simconfessions_FULL.xlsx',\n",
       " './scrapedData/scrapingData_SMUConfessionsPage_FULL.xlsx',\n",
       " './scrapedData/scrapingData_SP-Confessions-329564370479100_FULL.xlsx',\n",
       " './scrapedData/scrapingData_SUSSConfessions_FULL.xlsx',\n",
       " './scrapedData/scrapingData_therealnaomineo_FULL.xlsx',\n",
       " './scrapedData/scrapingData_TheSmartLocal_FULL.xlsx',\n",
       " './scrapedData/scrapingData_TJC-Confessions-133149643521172_FULL.xlsx',\n",
       " './scrapedData/scrapingData_tpconfession_FULL.xlsx',\n",
       " './scrapedData/scrapingData_yoyokulala_FULL.xlsx',\n",
       " './scrapedData/scrappingData_MemedefSG_FULL.xlsx',\n",
       " './scrapedData/scrappingData_SGAG.xlsx',\n",
       " './scrapedData/scrappingData_SGAG_FULL.xlsx',\n",
       " './scrapedData/scrappingData_singlish101_FULL.xlsx']"
      ]
     },
     "execution_count": 3,
     "metadata": {},
     "output_type": "execute_result"
    }
   ],
   "source": [
    "tempList = os.listdir('scrapedData')\n",
    "# display individual .xlsx names in the ScrapedData sub-folder\n",
    "fileList = list()\n",
    "for file in tempList:\n",
    "    fileList += [BASE + file]\n",
    "    \n",
    "fileList"
   ]
  },
  {
   "cell_type": "code",
   "execution_count": 4,
   "metadata": {},
   "outputs": [
    {
     "data": {
      "text/plain": [
       "45"
      ]
     },
     "execution_count": 4,
     "metadata": {},
     "output_type": "execute_result"
    }
   ],
   "source": [
    "# Check the number of .xlsx files needed to combine\n",
    "len(fileList)"
   ]
  },
  {
   "cell_type": "code",
   "execution_count": 5,
   "metadata": {},
   "outputs": [],
   "source": [
    "# Combining excel files in bigger batches\n",
    "def excelCombiner(idxLow,idxHigh):\n",
    "\n",
    "    #Create a dataframe\n",
    "    df = pd.DataFrame()\n",
    "\n",
    "    # read them in\n",
    "    excels = [pd.ExcelFile(item) for item in fileList[idxLow:idxHigh]]\n",
    "\n",
    "    # turn them into dataframes\n",
    "    frames = [x.parse(x.sheet_names[0], header=None,index_col=None) for x in excels]\n",
    "\n",
    "    # delete the first row for all frames except the first\n",
    "    # i.e. remove the header row -- assumes it's the first\n",
    "    frames[1:] = [df[1:] for df in frames[1:]]\n",
    "\n",
    "    # concatenate them..\n",
    "    combined = pd.concat(frames)\n",
    "    \n",
    "    return combined"
   ]
  },
  {
   "cell_type": "markdown",
   "metadata": {},
   "source": [
    "## Save the output of the combined dataset into bigger batches of excel"
   ]
  },
  {
   "cell_type": "code",
   "execution_count": 6,
   "metadata": {},
   "outputs": [],
   "source": [
    "# Batch 1\n",
    "excelBatch1 = excelCombiner(0,34)\n",
    "excelBatch1.to_excel(TEMP+\"excelBatch1.xlsx\", header=False, index=False)"
   ]
  },
  {
   "cell_type": "code",
   "execution_count": 7,
   "metadata": {},
   "outputs": [],
   "source": [
    "# Batch 2\n",
    "excelBatch2 = excelCombiner(34,len(fileList)+1)\n",
    "excelBatch2.to_excel(TEMP+\"excelBatch2.xlsx\", header=False, index=False)"
   ]
  },
  {
   "cell_type": "code",
   "execution_count": null,
   "metadata": {},
   "outputs": [],
   "source": []
  },
  {
   "cell_type": "code",
   "execution_count": null,
   "metadata": {},
   "outputs": [],
   "source": []
  },
  {
   "cell_type": "markdown",
   "metadata": {},
   "source": [
    "## Cleaning of Data"
   ]
  },
  {
   "cell_type": "code",
   "execution_count": 8,
   "metadata": {},
   "outputs": [],
   "source": [
    "# details of individual batches of .xlsx\n",
    "def xlsxBatchInfo(subFolder,xlsxBatchFile):\n",
    "    file = subFolder + xlsxBatchFile\n",
    "    workbook = xlrd.open_workbook(file)\n",
    "    sheet = workbook.sheet_by_index(0)\n",
    "    # check file directory\n",
    "    #print(file)\n",
    "    # check number of rows in the scraped text corpus in this batch\n",
    "    #print(sheet.nrows)\n",
    "    return file, sheet.nrows"
   ]
  },
  {
   "cell_type": "code",
   "execution_count": 9,
   "metadata": {},
   "outputs": [
    {
     "name": "stdout",
     "output_type": "stream",
     "text": [
      "./tempData/excelBatch1.xlsx\n",
      "64003\n"
     ]
    }
   ],
   "source": [
    "# call the details of batch1 excel file\n",
    "batch1, noOfRows1 = xlsxBatchInfo(TEMP,\"excelBatch1.xlsx\")\n",
    "print(batch1)\n",
    "print(noOfRows1)"
   ]
  },
  {
   "cell_type": "code",
   "execution_count": 10,
   "metadata": {},
   "outputs": [
    {
     "name": "stdout",
     "output_type": "stream",
     "text": [
      "./tempData/excelBatch2.xlsx\n",
      "18923\n"
     ]
    }
   ],
   "source": [
    "# call the details of batch2 excel file\n",
    "batch2, noOfRows2 = xlsxBatchInfo(TEMP,\"excelBatch2.xlsx\")\n",
    "print(batch2)\n",
    "print(noOfRows2)"
   ]
  },
  {
   "cell_type": "code",
   "execution_count": 11,
   "metadata": {},
   "outputs": [],
   "source": [
    "# Function to clean the .xlsx data and export as .txt files by batches \n",
    "# because printing the text log has a limit in jupyter notebook\n",
    "def cleanedData(file):\n",
    "    #Initialize some list\n",
    "    someList = list()\n",
    "\n",
    "    #Script to open data\n",
    "    workbook = xlrd.open_workbook(file)\n",
    "    sheet = workbook.sheet_by_index(0)\n",
    "    for x in range(sheet.nrows):\n",
    "        item = sheet.cell_value(x, 0)\n",
    "        print()\n",
    "        print(\"---After encoding/decoding at row \"+str(x))\n",
    "        \n",
    "        #Removed chinese characters and emojis\n",
    "        cleaned_item = str(item).encode(\"ascii\", errors = \"ignore\").decode()\n",
    "        \n",
    "        #Code to clean for #hastags\n",
    "        p = re.compile('#\\S+')\n",
    "        m = p.findall(cleaned_item)\n",
    "        if m:\n",
    "            cleaned_item = re.sub('#(\\S+)?','',cleaned_item)\n",
    "            \n",
    "        #Code to clean for websites www\n",
    "        regex = r\"(?i)\\b((?:https?://|www\\d{0,3}[.]|[a-z0-9.\\-]+[.][a-z]{2,4}/)(?:[^\\s()<>]+|\\(([^\\s()<>]+|(\\([^\\s()<>]+\\)))*\\))+(?:\\(([^\\s()<>]+|(\\([^\\s()<>]+\\)))*\\)|[^\\s`!()\\[\\]{};:'\\\".,<>?«»“”‘’]))\"\n",
    "        m2 = re.findall(regex,cleaned_item)\n",
    "        if m2:\n",
    "            cleaned_item = re.sub(regex,'',cleaned_item)\n",
    "            \n",
    "        #Code to clean for tags [  ]\n",
    "        p = re.compile('\\[.*?(\\S*)?\\]')\n",
    "        m = p.findall(cleaned_item)\n",
    "        if m:\n",
    "            cleaned_item = re.sub('\\[.*?(\\S*)?\\]','',cleaned_item)\n",
    "            \n",
    "        #Code to clean for angular brackets < >\n",
    "        p = re.compile('\\<.*?(\\S*)?\\>')\n",
    "        m = p.findall(cleaned_item)\n",
    "        if m:\n",
    "            cleaned_item = re.sub('\\<.*?(\\S*)?\\>','',cleaned_item)\n",
    "            \n",
    "        #Code to replace \\n with fullstop\n",
    "        p = re.compile('\\\\n')\n",
    "        m = p.findall(cleaned_item)\n",
    "        if m:\n",
    "            cleaned_item = re.sub('\\\\n','.',cleaned_item)\n",
    "            \n",
    "        #Code to replace date-time\n",
    "        p = re.compile('\\b[0-9]*(-|\\/|\\.|:)[0-9]*((-|\\/|\\.|:)[0-9]*)?\\b')\n",
    "        m = p.findall(cleaned_item)\n",
    "        if m:\n",
    "            cleaned_item = re.sub('\\b[0-9]*(-|\\/|\\.|:)[0-9]*((-|\\/|\\.|:)[0-9]*)?\\b','',cleaned_item)\n",
    "            \n",
    "        #Code to replace month\n",
    "        p = re.compile('([0-9]*(st|nd|rd|th)?\\s)?(January|Jan|Feburary|Feb|March|Mar|April|Apr|May|June|Jun|July|Jul|August|Aug|September|Sep|October|Oct|November|Nov|December|Dec)(\\s[0-9]*)?')\n",
    "        m = p.findall(cleaned_item)\n",
    "        if m:\n",
    "            cleaned_item = re.sub('([0-9]*(st|nd|rd|th)?\\s)?(January|Jan|Feburary|Feb|March|Mar|April|Apr|May|June|Jun|July|Jul|August|Aug|September|Sep|October|Oct|November|Nov|December|Dec)(\\s[0-9]*)?','',cleaned_item)\n",
    "        \n",
    "        #Code to remove parantheses ()\n",
    "        p = re.compile('\\(.*?(\\S*)?\\)')\n",
    "        m = p.findall(cleaned_item)\n",
    "        if m:\n",
    "            cleaned_item = re.sub('\\(.*?(\\S*)?\\)','',cleaned_item)\n",
    "\n",
    "        #Code to remove mentions @\n",
    "        p = re.compile('@(\\S+)?')\n",
    "        m = p.findall(cleaned_item)\n",
    "        if m:\n",
    "            cleaned_item = re.sub('@(\\S+)?','',cleaned_item)\n",
    "            \n",
    "        #Code to remove emoticons (basic)\n",
    "        regex = r\":-\\)|:\\)|:-\\]|:\\]|:-3|:3|:->|:>|8-\\)|8\\)|:-}|:}|:o\\)|:c\\)|:\\^\\)|=\\]|=\\)|:\\(|=\\(|:-D|:D|8-D|8D|x-D|xD|X-D|XD|=D|=3|B\\^D|:-\\)\\)|:-\\(|:-c|:c|:-<|:<|:-\\[|:\\[|>:\\[|:{|:@|;\\(|:'‑\\(|:'\\(|:'-\\)|:\\'\\)|D-':|D:<|D:|D8|D;|D=|DX|:‑O|:O|:‑o|:o|:-0|8-0|>:O|:-\\|:\\|:×|;-\\)|;\\)|;-]|;]|;\\^\\)|;D|:-P|:-P|:-P|:P|X-P|XP|x-p|xp|:-p|:p|:-b|:b|d:|=p|>:P|:-\\/|:\\/|>:\\\\|>:\\/|:\\\\|=\\/|=\\\\|:L|=L|:S|:‑\\||:\\||:\\$|:-X|:X|:‑#|:#|:&|:-&|>:‑\\)|>;\\)|>:3|<\\/3|<3|\\\\o\\/|\\\\\\0\\/\\|v.v|>.<|[Oo][.|][oO]|[uU]w[uU]|;:\\)|:-[Pp]|\\'[o|-]\\'|x[0|o|O]|\\-\\\\-|:\\||\\^[|.]\\^|\\*\\\\*|:\\*\"\n",
    "        m = re.findall(regex, cleaned_item)\n",
    "        if m:\n",
    "            cleaned_item = re.sub(regex,'',cleaned_item)\n",
    "\n",
    "        #Script to replace words\n",
    "        \n",
    "        ##Replace 'll to will\n",
    "        regex = r\"'ll\"\n",
    "        m = re.findall(regex, cleaned_item)\n",
    "        if m:\n",
    "            cleaned_item = re.sub(regex,' will',cleaned_item)\n",
    "            \n",
    "        ##Replace 've to have\n",
    "        regex = r\"'ve\"\n",
    "        m = re.findall(regex, cleaned_item)\n",
    "        if m:\n",
    "            cleaned_item = re.sub(regex,' have',cleaned_item)\n",
    "            \n",
    "        ##Replace don't to do not\n",
    "        regex = r\"[Dd]on'?t\"\n",
    "        m = re.findall(regex, cleaned_item)\n",
    "        if m:\n",
    "            cleaned_item = re.sub(regex,' do not',cleaned_item)\n",
    "            \n",
    "        ##Replace aren't to are not\n",
    "        regex = r\"[Aa]ren'?t\"\n",
    "        m = re.findall(regex, cleaned_item)\n",
    "        if m:\n",
    "            cleaned_item = re.sub(regex,' are not',cleaned_item)\n",
    "            \n",
    "        ##Replace won't to will not\n",
    "        regex = r\"[wW]on'?t\"\n",
    "        m = re.findall(regex, cleaned_item)\n",
    "        if m:\n",
    "            cleaned_item = re.sub(regex,' will not',cleaned_item)\n",
    "            \n",
    "        ##Replace can't to can not\n",
    "        regex = r\"[cC]an'?t\"\n",
    "        m = re.findall(regex, cleaned_item)\n",
    "        if m:\n",
    "            cleaned_item = re.sub(regex,' can not',cleaned_item)\n",
    "            \n",
    "        ##Replace shan't to shall not\n",
    "        regex = r\"[sS]han'?t\"\n",
    "        m = re.findall(regex, cleaned_item)\n",
    "        if m:\n",
    "            cleaned_item = re.sub(regex,' shall not',cleaned_item)\n",
    "            \n",
    "        ##Replace 'm to am\n",
    "        regex = r\"'m\"\n",
    "        m = re.findall(regex, cleaned_item)\n",
    "        if m:\n",
    "            cleaned_item = re.sub(regex,' am',cleaned_item)\n",
    "            \n",
    "        ##Replace doesn't to does not\n",
    "        regex = r\"[dD]oesn'?t\"\n",
    "        m = re.findall(regex, cleaned_item)\n",
    "        if m:\n",
    "            cleaned_item = re.sub(regex,' does not',cleaned_item)\n",
    "            \n",
    "        ##Replace didn't to did not\n",
    "        regex = r\"[dD]idn'?t\"\n",
    "        m = re.findall(regex, cleaned_item)\n",
    "        if m:\n",
    "            cleaned_item = re.sub(regex,' did not',cleaned_item)\n",
    "            \n",
    "        ##Replace hasn't to has not\n",
    "        regex = r\"[hH]asn'?t\"\n",
    "        m = re.findall(regex, cleaned_item)\n",
    "        if m:\n",
    "            cleaned_item = re.sub(regex,' has not',cleaned_item)\n",
    "            \n",
    "        ##Replace haven't to have not\n",
    "        regex = r\"[hH]aven'?t\"\n",
    "        m = re.findall(regex, cleaned_item)\n",
    "        if m:\n",
    "            cleaned_item = re.sub(regex,' have not',cleaned_item)\n",
    "            \n",
    "        ##Replace wouldn't to would not\n",
    "        regex = r\"[wW]ouldn'?t\"\n",
    "        m = re.findall(regex, cleaned_item)\n",
    "        if m:\n",
    "            cleaned_item = re.sub(regex,' would not',cleaned_item)\n",
    "            \n",
    "        ##Replace it's to it is\n",
    "        regex = r\"[iI]t's\"\n",
    "        m = re.findall(regex, cleaned_item)\n",
    "        if m:\n",
    "            cleaned_item = re.sub(regex,' it is',cleaned_item)\n",
    "            \n",
    "        ##Replace that's to that is\n",
    "        regex = r\"[tT]hat's\"\n",
    "        m = re.findall(regex, cleaned_item)\n",
    "        if m:\n",
    "            cleaned_item = re.sub(regex,' would not',cleaned_item)\n",
    "            \n",
    "        ##Replace weren't to were not\n",
    "        regex = r\"[wW]eren'?t\"\n",
    "        m = re.findall(regex, cleaned_item)\n",
    "        if m:\n",
    "            cleaned_item = re.sub(regex,' were not',cleaned_item)\n",
    "        \n",
    "        ##Remove \"\" from text\n",
    "        p = re.compile('\\\"')\n",
    "        m = p.findall(cleaned_item)\n",
    "        if m:\n",
    "            cleaned_item = re.sub('\\\"','',cleaned_item)\n",
    "        \n",
    "        #display cleaned item\n",
    "        print()\n",
    "        print(cleaned_item.lower())\n",
    "        \n",
    "        #append to cleaned list if it contains something\n",
    "        if not (cleaned_item.isspace()):\n",
    "            someList.append(cleaned_item.lower())\n",
    "    \n",
    "    print()\n",
    "    print(\"Total len of List: \"+str(len(someList)))\n",
    "    return someList"
   ]
  },
  {
   "cell_type": "code",
   "execution_count": 12,
   "metadata": {},
   "outputs": [],
   "source": [
    "### Save batch data as .txt file\n",
    "def saveTxt(inputFile,outputFile,destFolder):\n",
    "    with open(destFolder+outputFile, 'w') as f:\n",
    "        for item in inputFile:\n",
    "            f.write(\"%s\\n\" % item)"
   ]
  },
  {
   "cell_type": "code",
   "execution_count": null,
   "metadata": {},
   "outputs": [],
   "source": [
    "# Save the text corpus in batches\n",
    "# batch 1\n",
    "dataBatch1 = cleanedData(batch1)"
   ]
  },
  {
   "cell_type": "code",
   "execution_count": 14,
   "metadata": {},
   "outputs": [],
   "source": [
    "# Save batched corpus as .txt file\n",
    "saveTxt(dataBatch1,\"dataBatch1.txt\",TEMP)"
   ]
  },
  {
   "cell_type": "markdown",
   "metadata": {},
   "source": [
    "### For subsequent batches, run in different runtime"
   ]
  },
  {
   "cell_type": "code",
   "execution_count": null,
   "metadata": {},
   "outputs": [],
   "source": [
    "# Save the text corpus in batches\n",
    "# batch 2\n",
    "dataBatch2 = cleanedData(batch2)"
   ]
  },
  {
   "cell_type": "code",
   "execution_count": 16,
   "metadata": {},
   "outputs": [],
   "source": [
    "# Save batched corpus as .txt file\n",
    "saveTxt(dataBatch2,\"dataBatch2.txt\",TEMP)"
   ]
  },
  {
   "cell_type": "code",
   "execution_count": null,
   "metadata": {},
   "outputs": [],
   "source": []
  },
  {
   "cell_type": "code",
   "execution_count": null,
   "metadata": {},
   "outputs": [],
   "source": [
    "# Save batched corpus as .txt file\n",
    "#saveTxt(dataBatch3,\"dataBatch3.txt\",TEMP)"
   ]
  },
  {
   "cell_type": "code",
   "execution_count": null,
   "metadata": {},
   "outputs": [],
   "source": []
  },
  {
   "cell_type": "markdown",
   "metadata": {},
   "source": [
    "## Merge all .txt batches into one big corpus"
   ]
  },
  {
   "cell_type": "code",
   "execution_count": 18,
   "metadata": {},
   "outputs": [],
   "source": [
    "import glob\n",
    "\n",
    "read_files = glob.glob(\"./tempData/*.txt\")\n",
    "\n",
    "with open(\"./finalData/SgCorpus.txt\", \"wb\") as outfile:\n",
    "    for f in read_files:\n",
    "        with open(f, \"rb\") as infile:\n",
    "            outfile.write(infile.read())"
   ]
  },
  {
   "cell_type": "code",
   "execution_count": null,
   "metadata": {},
   "outputs": [],
   "source": []
  },
  {
   "cell_type": "code",
   "execution_count": 3,
   "metadata": {},
   "outputs": [],
   "source": []
  },
  {
   "cell_type": "code",
   "execution_count": null,
   "metadata": {},
   "outputs": [],
   "source": []
  }
 ],
 "metadata": {
  "kernelspec": {
   "display_name": "Python 3",
   "language": "python",
   "name": "python3"
  },
  "language_info": {
   "codemirror_mode": {
    "name": "ipython",
    "version": 3
   },
   "file_extension": ".py",
   "mimetype": "text/x-python",
   "name": "python",
   "nbconvert_exporter": "python",
   "pygments_lexer": "ipython3",
   "version": "3.7.7"
  }
 },
 "nbformat": 4,
 "nbformat_minor": 4
}
