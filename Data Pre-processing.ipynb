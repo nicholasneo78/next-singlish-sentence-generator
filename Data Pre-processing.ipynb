{
 "cells": [
  {
   "cell_type": "markdown",
   "metadata": {},
   "source": [
    "## Combining the individual .xlsx files into bigger batches of .xlsx files"
   ]
  },
  {
   "cell_type": "code",
   "execution_count": 19,
   "metadata": {},
   "outputs": [],
   "source": [
    "#Import necessary library\n",
    "import pandas as pd\n",
    "import os\n",
    "import requests\n",
    "import urllib\n",
    "import xlrd\n",
    "import re"
   ]
  },
  {
   "cell_type": "code",
   "execution_count": 20,
   "metadata": {},
   "outputs": [
    {
     "data": {
      "text/plain": [
       "['./scrapedData/scrapingData_ACJC-Confessions-365341810240423_FULL.xlsx',\n",
       " './scrapedData/scrapingData_andiechen_FULL.xlsx',\n",
       " './scrapedData/scrapingData_asrjcconfessions_FULL.xlsx',\n",
       " './scrapedData/scrapingData_bellywellyjelly_FULL.xlsx',\n",
       " './scrapedData/scrapingData_benjamin.kheng_FULL.xlsx',\n",
       " './scrapedData/scrapingData_bossyflossie_FULL.xlsx',\n",
       " './scrapedData/scrapingData_cjcroxx_FULL.xlsx',\n",
       " './scrapedData/scrapingData_DanielFoodDiary_FULL.xlsx',\n",
       " './scrapedData/scrapingData_DHS-Confessions-103690209814932_FULL.xlsx',\n",
       " './scrapedData/scrapingData_DollarsAndSenseSG_FULL.xlsx',\n",
       " './scrapedData/scrapingData_dreachongofficial_FULL.xlsx',\n",
       " './scrapedData/scrapingData_HwaChongConfessions_FULL.xlsx',\n",
       " './scrapedData/scrapingData_ieatishootipost_FULL.xlsx',\n",
       " './scrapedData/scrapingData_InnovaConfessions_FULL.xlsx',\n",
       " './scrapedData/scrapingData_ITE-College-Central-Confessions-102332676616681_FULL.xlsx',\n",
       " './scrapedData/scrapingData_ITE-College-West-Confessions-123845157793064_FULL.xlsx',\n",
       " './scrapedData/scrapingData_JjcConfessions_FULL.xlsx',\n",
       " './scrapedData/scrapingData_ladyironchef_FULL.xlsx',\n",
       " './scrapedData/scrapingData_moneysmartsg_FULL.xlsx',\n",
       " './scrapedData/scrapingData_mongabong_FULL.xlsx',\n",
       " './scrapedData/scrapingData_mrbrownlah_FULL.xlsx',\n",
       " './scrapedData/scrapingData_mykxii_FULL.xlsx',\n",
       " './scrapedData/scrapingData_NJC-Confessions-414721038609037_FULL.xlsx',\n",
       " './scrapedData/scrapingData_npconfession_FULL.xlsx',\n",
       " './scrapedData/scrapingData_NTUConfess_PART.xlsx',\n",
       " './scrapedData/scrapingData_nuswhispers_FULL.xlsx',\n",
       " './scrapedData/scrapingData_NYP-Confessions-118332335013023_FULL.xlsx',\n",
       " './scrapedData/scrapingData_RepublicPolyConfessions_FULL.xlsx',\n",
       " './scrapedData/scrapingData_RJConfessions_FULL.xlsx',\n",
       " './scrapedData/scrapingData_SajcConfessions_FULL.xlsx',\n",
       " './scrapedData/scrapingData_sethluimarketing_FULL.xlsx',\n",
       " './scrapedData/scrapingData_SGAG_FULL.xlsx',\n",
       " './scrapedData/scrapingData_simconfessions_FULL.xlsx',\n",
       " './scrapedData/scrapingData_SMUConfessionsPage_FULL.xlsx',\n",
       " './scrapedData/scrapingData_sophiewillocq_FULL.xlsx',\n",
       " './scrapedData/scrapingData_SP-Confessions-329564370479100_FULL.xlsx',\n",
       " './scrapedData/scrapingData_SUSSConfessions_FULL.xlsx',\n",
       " './scrapedData/scrapingData_therealnaomineo_FULL.xlsx',\n",
       " './scrapedData/scrapingData_TheSmartLocal_FULL.xlsx',\n",
       " './scrapedData/scrapingData_TJC-Confessions-133149643521172_FULL.xlsx',\n",
       " './scrapedData/scrapingData_tpconfession_FULL.xlsx',\n",
       " './scrapedData/scrapingData_yoyokulala_FULL.xlsx',\n",
       " './scrapedData/scrappingData_MemedefSG_FULL.xlsx',\n",
       " './scrapedData/scrappingData_SGAG.xlsx',\n",
       " './scrapedData/scrappingData_SGAG_FULL.xlsx',\n",
       " './scrapedData/scrappingData_singlish101_FULL.xlsx']"
      ]
     },
     "execution_count": 20,
     "metadata": {},
     "output_type": "execute_result"
    }
   ],
   "source": [
    "# Append the directory in the ScrapedData sub-folder\n",
    "base = './scrapedData/'\n",
    "tempList = os.listdir('scrapedData')\n",
    "fileList = list()\n",
    "for file in tempList:\n",
    "    fileList += [base + file]\n",
    "\n",
    "# display individual .xlsx names in the ScrapedData sub-folder\n",
    "fileList"
   ]
  },
  {
   "cell_type": "code",
   "execution_count": 13,
   "metadata": {},
   "outputs": [],
   "source": [
    "# Group the scraped data into small batches to ensure that the total number of lines \n",
    "# in each batch of text does not exceed 65000 ()\n",
    "#finalList[:34]\n",
    "#finalList[34:]"
   ]
  },
  {
   "cell_type": "code",
   "execution_count": 17,
   "metadata": {},
   "outputs": [],
   "source": [
    "#Create a dataframe\n",
    "df = pd.DataFrame()\n",
    "\n",
    "# read them in\n",
    "excels = [pd.ExcelFile(item) for item in fileList]\n",
    "\n",
    "# turn them into dataframes\n",
    "frames = [x.parse(x.sheet_names[0], header=None,index_col=None) for x in excels]\n",
    "\n",
    "# delete the first row for all frames except the first\n",
    "# i.e. remove the header row -- assumes it's the first\n",
    "frames[1:] = [df[1:] for df in frames[1:]]\n",
    "\n",
    "# concatenate them..\n",
    "combined = pd.concat(frames)"
   ]
  },
  {
   "cell_type": "code",
   "execution_count": 18,
   "metadata": {},
   "outputs": [],
   "source": [
    "#Save the output of the combined dataset into one excel\n",
    "combined.to_excel(\"combinedScrapedData.xlsx\", header=False, index=False)"
   ]
  },
  {
   "cell_type": "markdown",
   "metadata": {},
   "source": [
    "## Cleaning of Data"
   ]
  },
  {
   "cell_type": "code",
   "execution_count": null,
   "metadata": {},
   "outputs": [],
   "source": [
    "# check number of rows of text in the .xlsx file\n",
    "file = base + \"combinedScrapedData.xlsx\""
   ]
  }
 ],
 "metadata": {
  "kernelspec": {
   "display_name": "Python 3",
   "language": "python",
   "name": "python3"
  },
  "language_info": {
   "codemirror_mode": {
    "name": "ipython",
    "version": 3
   },
   "file_extension": ".py",
   "mimetype": "text/x-python",
   "name": "python",
   "nbconvert_exporter": "python",
   "pygments_lexer": "ipython3",
   "version": "3.7.7"
  }
 },
 "nbformat": 4,
 "nbformat_minor": 4
}
