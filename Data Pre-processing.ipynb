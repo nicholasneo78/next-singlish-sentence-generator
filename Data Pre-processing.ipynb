{
 "cells": [
  {
   "cell_type": "code",
   "execution_count": null,
   "metadata": {},
   "outputs": [],
   "source": []
  },
  {
   "cell_type": "code",
   "execution_count": 253,
   "metadata": {},
   "outputs": [],
   "source": [
    "#Import necessary library\n",
    "import pandas as pd\n",
    "import os\n",
    "import requests\n",
    "import urllib\n",
    "import xlrd\n",
    "import re"
   ]
  },
  {
   "cell_type": "code",
   "execution_count": 254,
   "metadata": {},
   "outputs": [],
   "source": [
    "# Append the directory in the scrapedData sub-folder\n",
    "BASE = './scrapedData/'\n",
    "TEMP = './tempData/'\n",
    "FINAL = './finalData/'"
   ]
  },
  {
   "cell_type": "markdown",
   "metadata": {},
   "source": [
    "## Combining the individual .xlsx files into one big .xlsx files"
   ]
  },
  {
   "cell_type": "code",
   "execution_count": 255,
   "metadata": {},
   "outputs": [
    {
     "output_type": "execute_result",
     "data": {
      "text/plain": "['./scrapedData/scrapingData_ACJC-Confessions-365341810240423_FULL.xlsx',\n './scrapedData/scrapingData_andiechen_FULL.xlsx',\n './scrapedData/scrapingData_asrjcconfessions_FULL.xlsx',\n './scrapedData/scrapingData_bellywellyjelly_FULL.xlsx',\n './scrapedData/scrapingData_benjamin.kheng_FULL.xlsx',\n './scrapedData/scrapingData_bossyflossie_FULL.xlsx',\n './scrapedData/scrapingData_cjcroxx_FULL.xlsx',\n './scrapedData/scrapingData_DanielFoodDiary_FULL.xlsx',\n './scrapedData/scrapingData_DHS-Confessions-103690209814932_FULL.xlsx',\n './scrapedData/scrapingData_DollarsAndSenseSG_FULL.xlsx',\n './scrapedData/scrapingData_dreachongofficial_FULL.xlsx',\n './scrapedData/scrapingData_HwaChongConfessions_FULL.xlsx',\n './scrapedData/scrapingData_ieatishootipost_FULL.xlsx',\n './scrapedData/scrapingData_InnovaConfessions_FULL.xlsx',\n './scrapedData/scrapingData_ITE-College-Central-Confessions-102332676616681_FULL.xlsx',\n './scrapedData/scrapingData_ITE-College-West-Confessions-123845157793064_FULL.xlsx',\n './scrapedData/scrapingData_JjcConfessions_FULL.xlsx',\n './scrapedData/scrapingData_ladyironchef_FULL.xlsx',\n './scrapedData/scrapingData_moneysmartsg_FULL.xlsx',\n './scrapedData/scrapingData_mongabong_FULL.xlsx',\n './scrapedData/scrapingData_mrbrownlah_FULL.xlsx',\n './scrapedData/scrapingData_mykxii_FULL.xlsx',\n './scrapedData/scrapingData_NJC-Confessions-414721038609037_FULL.xlsx',\n './scrapedData/scrapingData_npconfession_FULL.xlsx',\n './scrapedData/scrapingData_NTUConfess_PART.xlsx',\n './scrapedData/scrapingData_nuswhispers_FULL.xlsx',\n './scrapedData/scrapingData_NYP-Confessions-118332335013023_FULL.xlsx',\n './scrapedData/scrapingData_RepublicPolyConfessions_FULL.xlsx',\n './scrapedData/scrapingData_RJConfessions_FULL.xlsx',\n './scrapedData/scrapingData_SajcConfessions_FULL.xlsx',\n './scrapedData/scrapingData_sethluimarketing_FULL.xlsx',\n './scrapedData/scrapingData_SGAG_FULL.xlsx',\n './scrapedData/scrapingData_simconfessions_FULL.xlsx',\n './scrapedData/scrapingData_SMUConfessionsPage_FULL.xlsx',\n './scrapedData/scrapingData_SP-Confessions-329564370479100_FULL.xlsx',\n './scrapedData/scrapingData_SUSSConfessions_FULL.xlsx',\n './scrapedData/scrapingData_therealnaomineo_FULL.xlsx',\n './scrapedData/scrapingData_TheSmartLocal_FULL.xlsx',\n './scrapedData/scrapingData_TJC-Confessions-133149643521172_FULL.xlsx',\n './scrapedData/scrapingData_tpconfession_FULL.xlsx',\n './scrapedData/scrapingData_yoyokulala_FULL.xlsx',\n './scrapedData/scrappingData_MemedefSG_FULL.xlsx',\n './scrapedData/scrappingData_SGAG.xlsx',\n './scrapedData/scrappingData_SGAG_FULL.xlsx',\n './scrapedData/scrappingData_singlish101_FULL.xlsx']"
     },
     "metadata": {},
     "execution_count": 255
    }
   ],
   "source": [
    "tempList = os.listdir('scrapedData')\n",
    "# display individual .xlsx names in the ScrapedData sub-folder\n",
    "fileList = list()\n",
    "for file in tempList:\n",
    "    fileList += [BASE + file]\n",
    "    \n",
    "fileList"
   ]
  },
  {
   "cell_type": "code",
   "execution_count": 256,
   "metadata": {},
   "outputs": [
    {
     "output_type": "execute_result",
     "data": {
      "text/plain": "45"
     },
     "metadata": {},
     "execution_count": 256
    }
   ],
   "source": [
    "# Check the number of .xlsx files needed to combine\n",
    "len(fileList)"
   ]
  },
  {
   "cell_type": "code",
   "execution_count": 257,
   "metadata": {},
   "outputs": [],
   "source": [
    "# Combining excel files in bigger batches\n",
    "def excelCombiner(idxLow,idxHigh):\n",
    "\n",
    "    #Create a dataframe\n",
    "    df = pd.DataFrame()\n",
    "\n",
    "    # read them in\n",
    "    excels = [pd.ExcelFile(item) for item in fileList[idxLow:idxHigh]]\n",
    "\n",
    "    # turn them into dataframes\n",
    "    frames = [x.parse(x.sheet_names[0], header=None,index_col=None) for x in excels]\n",
    "\n",
    "    # delete the first row for all frames except the first\n",
    "    # i.e. remove the header row -- assumes it's the first\n",
    "    frames[1:] = [df[1:] for df in frames[1:]]\n",
    "\n",
    "    # concatenate them..\n",
    "    combined = pd.concat(frames)\n",
    "    \n",
    "    return combined"
   ]
  },
  {
   "cell_type": "markdown",
   "metadata": {},
   "source": [
    "## Save the output of the combined dataset into bigger batches of excel"
   ]
  },
  {
   "cell_type": "code",
   "execution_count": 258,
   "metadata": {},
   "outputs": [],
   "source": [
    "# Batch 1\n",
    "excelBatch1 = excelCombiner(0,34)\n",
    "excelBatch1.to_excel(TEMP+\"excelBatch1.xlsx\", header=False, index=False)"
   ]
  },
  {
   "cell_type": "code",
   "execution_count": 259,
   "metadata": {},
   "outputs": [],
   "source": [
    "# Batch 2\n",
    "excelBatch2 = excelCombiner(34,len(fileList)+1)\n",
    "excelBatch2.to_excel(TEMP+\"excelBatch2.xlsx\", header=False, index=False)"
   ]
  },
  {
   "cell_type": "code",
   "execution_count": null,
   "metadata": {},
   "outputs": [],
   "source": []
  },
  {
   "cell_type": "code",
   "execution_count": null,
   "metadata": {},
   "outputs": [],
   "source": []
  },
  {
   "cell_type": "markdown",
   "metadata": {},
   "source": [
    "## Cleaning of Data"
   ]
  },
  {
   "cell_type": "code",
   "execution_count": 260,
   "metadata": {},
   "outputs": [],
   "source": [
    "# details of individual batches of .xlsx\n",
    "def xlsxBatchInfo(subFolder,xlsxBatchFile):\n",
    "    file = subFolder + xlsxBatchFile\n",
    "    workbook = xlrd.open_workbook(file)\n",
    "    sheet = workbook.sheet_by_index(0)\n",
    "    # check file directory\n",
    "    #print(file)\n",
    "    # check number of rows in the scraped text corpus in this batch\n",
    "    #print(sheet.nrows)\n",
    "    return file, sheet.nrows"
   ]
  },
  {
   "cell_type": "code",
   "execution_count": 261,
   "metadata": {
    "tags": []
   },
   "outputs": [
    {
     "output_type": "stream",
     "name": "stdout",
     "text": "./tempData/excelBatch1.xlsx\n64003\n"
    }
   ],
   "source": [
    "# call the details of batch1 excel file\n",
    "batch1, noOfRows1 = xlsxBatchInfo(TEMP,\"excelBatch1.xlsx\")\n",
    "print(batch1)\n",
    "print(noOfRows1)"
   ]
  },
  {
   "cell_type": "code",
   "execution_count": 262,
   "metadata": {
    "tags": []
   },
   "outputs": [
    {
     "output_type": "stream",
     "name": "stdout",
     "text": "./tempData/excelBatch2.xlsx\n18923\n"
    }
   ],
   "source": [
    "# call the details of batch2 excel file\n",
    "batch2, noOfRows2 = xlsxBatchInfo(TEMP,\"excelBatch2.xlsx\")\n",
    "print(batch2)\n",
    "print(noOfRows2)"
   ]
  },
  {
   "cell_type": "code",
   "execution_count": 263,
   "metadata": {},
   "outputs": [],
   "source": [
    "# Function to clean the .xlsx data and export as .txt files by batches \n",
    "# because printing the text log has a limit in jupyter notebook\n",
    "def cleanedData(file):\n",
    "    #Initialize some list\n",
    "    someList = list()\n",
    "\n",
    "    #Script to open data\n",
    "    workbook = xlrd.open_workbook(file)\n",
    "    sheet = workbook.sheet_by_index(0)\n",
    "    for x in range(sheet.nrows):\n",
    "        item = sheet.cell_value(x, 0)\n",
    "        print()\n",
    "        print(\"---After encoding/decoding at row \"+str(x))\n",
    "        \n",
    "        #Removed chinese characters and emojis\n",
    "        cleaned_item = str(item).encode(\"ascii\", errors = \"ignore\").decode()\n",
    "        \n",
    "        #Code to clean for #hastags\n",
    "        p = re.compile('#\\S+')\n",
    "        m = p.findall(cleaned_item)\n",
    "        if m:\n",
    "            cleaned_item = re.sub('#(\\S+)?','',cleaned_item)\n",
    "            \n",
    "        #Code to clean for websites www\n",
    "        regex = r\"(?i)\\b((?:https?://|www\\d{0,3}[.]|[a-z0-9.\\-]+[.][a-z]{2,4}/)(?:[^\\s()<>]+|\\(([^\\s()<>]+|(\\([^\\s()<>]+\\)))*\\))+(?:\\(([^\\s()<>]+|(\\([^\\s()<>]+\\)))*\\)|[^\\s`!()\\[\\]{};:'\\\".,<>?«»“”‘’]))\"\n",
    "        m2 = re.findall(regex,cleaned_item)\n",
    "        if m2:\n",
    "            cleaned_item = re.sub(regex,'',cleaned_item)\n",
    "            \n",
    "        #Code to clean for tags [  ]\n",
    "        p = re.compile('\\[.*?(\\S*)?\\]')\n",
    "        m = p.findall(cleaned_item)\n",
    "        if m:\n",
    "            cleaned_item = re.sub('\\[.*?(\\S*)?\\]','',cleaned_item)\n",
    "            \n",
    "        #Code to clean for angular brackets < >\n",
    "        p = re.compile('\\<.*?(\\S*)?\\>')\n",
    "        m = p.findall(cleaned_item)\n",
    "        if m:\n",
    "            cleaned_item = re.sub('\\<.*?(\\S*)?\\>','',cleaned_item)\n",
    "            \n",
    "        #Code to replace \\n with fullstop\n",
    "        p = re.compile('\\\\n')\n",
    "        m = p.findall(cleaned_item)\n",
    "        if m:\n",
    "            cleaned_item = re.sub('\\\\n','.',cleaned_item)\n",
    "            \n",
    "        #Code to replace date-time\n",
    "        p = re.compile('\\b[0-9]*(-|\\/|\\.|:)[0-9]*((-|\\/|\\.|:)[0-9]*)?\\b')\n",
    "        m = p.findall(cleaned_item)\n",
    "        if m:\n",
    "            cleaned_item = re.sub('\\b[0-9]*(-|\\/|\\.|:)[0-9]*((-|\\/|\\.|:)[0-9]*)?\\b','',cleaned_item)\n",
    "            \n",
    "        #Code to replace month\n",
    "        p = re.compile('([0-9]*(st|nd|rd|th)?\\s)?(January|Jan|Feburary|Feb|March|Mar|April|Apr|May|June|Jun|July|Jul|August|Aug|September|Sep|October|Oct|November|Nov|December|Dec)(\\s[0-9]*)?')\n",
    "        m = p.findall(cleaned_item)\n",
    "        if m:\n",
    "            cleaned_item = re.sub('([0-9]*(st|nd|rd|th)?\\s)?(January|Jan|Feburary|Feb|March|Mar|April|Apr|May|June|Jun|July|Jul|August|Aug|September|Sep|October|Oct|November|Nov|December|Dec)(\\s[0-9]*)?','',cleaned_item)\n",
    "        \n",
    "        #Code to remove parantheses ()\n",
    "        p = re.compile('\\(.*?(\\S*)?\\)')\n",
    "        m = p.findall(cleaned_item)\n",
    "        if m:\n",
    "            cleaned_item = re.sub('\\(.*?(\\S*)?\\)','',cleaned_item)\n",
    "\n",
    "        #Code to remove mentions @\n",
    "        p = re.compile('@(\\S+)?')\n",
    "        m = p.findall(cleaned_item)\n",
    "        if m:\n",
    "            cleaned_item = re.sub('@(\\S+)?','',cleaned_item)\n",
    "\n",
    "        #Code to remove equal signs =\n",
    "        regex = r\"\\=+\"\n",
    "        m = re.findall(regex,cleaned_item)\n",
    "        if m:\n",
    "            cleaned_item = re.sub(regex,'',cleaned_item)\n",
    "\n",
    "        #Code to replace trailing dots with a single dot\n",
    "        regex = r\"\\.\\.+\"\n",
    "        m = re.findall(regex,cleaned_item)\n",
    "        if m:\n",
    "            #print(\"Found trailing dots... Replacing with one.\")\n",
    "            cleaned_item = re.sub(regex,'.',cleaned_item)\n",
    "\n",
    "        #Code to replace forward slash / with a space\n",
    "        regex = r\"\\/+\"\n",
    "        m = re.findall(regex,cleaned_item)\n",
    "        if m:\n",
    "            #print(\"Found forward slash / , Replacing with a space .\")\n",
    "            cleaned_item = re.sub(regex,' ',cleaned_item)\n",
    "\n",
    "        #Code to reduce trailing characters\n",
    "        regex = r\"(s)\\1{0,}(?=\\1\\1)\"\n",
    "        m = re.findall(regex,cleaned_item)\n",
    "        if m:\n",
    "            #print(\"Found trailing alphabet. Removing excess.\")\n",
    "            cleaned_item = re.sub(regex,'',cleaned_item)\n",
    "\n",
    "        #Code to remove emoticons (basic)\n",
    "        regex = r\":-\\)|:\\)|:-\\]|:\\]|:-3|:3|:->|:>|8-\\)|8\\)|:-}|:}|:o\\)|:c\\)|:\\^\\)|=\\]|=\\)|:\\(|=\\(|:-D|:D|8-D|8D|x-D|xD|X-D|XD|=D|=3|B\\^D|:-\\)\\)|:-\\(|:-c|:c|:-<|:<|:-\\[|:\\[|>:\\[|:{|:@|;\\(|:'‑\\(|:'\\(|:'-\\)|:\\'\\)|D-':|D:<|D:|D8|D;|D=|DX|:‑O|:O|:‑o|:o|:-0|8-0|>:O|:-\\|:\\|:×|;-\\)|;\\)|;-]|;]|;\\^\\)|;D|:-P|:-P|:-P|:P|X-P|XP|x-p|xp|:-p|:p|:-b|:b|d:|=p|>:P|:-\\/|:\\/|>:\\\\|>:\\/|:\\\\|=\\/|=\\\\|:L|=L|:S|:‑\\||:\\||:\\$|:-X|:X|:‑#|:#|:&|:-&|>:‑\\)|>;\\)|>:3|<\\/3|<3|\\\\o\\/|\\\\\\0\\/\\|v.v|>.<|[Oo][.|][oO]|[uU]w[uU]|;:\\)|:-[Pp]|\\'[o|-]\\'|x[0|o|O]|\\-\\\\-|:\\||\\^[|.]\\^|\\*\\\\*|:\\*\"\n",
    "        m = re.findall(regex, cleaned_item)\n",
    "        if m:\n",
    "            cleaned_item = re.sub(regex,'',cleaned_item)\n",
    "\n",
    "        #Script to replace words\n",
    "        \n",
    "        ##Replace 'll to will\n",
    "        regex = r\"'ll\"\n",
    "        m = re.findall(regex, cleaned_item)\n",
    "        if m:\n",
    "            cleaned_item = re.sub(regex,' will',cleaned_item)\n",
    "            \n",
    "        ##Replace 've to have\n",
    "        regex = r\"'ve\"\n",
    "        m = re.findall(regex, cleaned_item)\n",
    "        if m:\n",
    "            cleaned_item = re.sub(regex,' have',cleaned_item)\n",
    "            \n",
    "        ##Replace don't to do not\n",
    "        regex = r\"[Dd]on'?t\"\n",
    "        m = re.findall(regex, cleaned_item)\n",
    "        if m:\n",
    "            cleaned_item = re.sub(regex,' do not',cleaned_item)\n",
    "            \n",
    "        ##Replace aren't to are not\n",
    "        regex = r\"[Aa]ren'?t\"\n",
    "        m = re.findall(regex, cleaned_item)\n",
    "        if m:\n",
    "            cleaned_item = re.sub(regex,' are not',cleaned_item)\n",
    "            \n",
    "        ##Replace won't to will not\n",
    "        regex = r\"[wW]on'?t\"\n",
    "        m = re.findall(regex, cleaned_item)\n",
    "        if m:\n",
    "            cleaned_item = re.sub(regex,' will not',cleaned_item)\n",
    "            \n",
    "        ##Replace can't to can not\n",
    "        regex = r\"[cC]an'?t\"\n",
    "        m = re.findall(regex, cleaned_item)\n",
    "        if m:\n",
    "            cleaned_item = re.sub(regex,' can not',cleaned_item)\n",
    "            \n",
    "        ##Replace shan't to shall not\n",
    "        regex = r\"[sS]han'?t\"\n",
    "        m = re.findall(regex, cleaned_item)\n",
    "        if m:\n",
    "            cleaned_item = re.sub(regex,' shall not',cleaned_item)\n",
    "            \n",
    "        ##Replace 'm to am\n",
    "        regex = r\"'m\"\n",
    "        m = re.findall(regex, cleaned_item)\n",
    "        if m:\n",
    "            cleaned_item = re.sub(regex,' am',cleaned_item)\n",
    "            \n",
    "        ##Replace doesn't to does not\n",
    "        regex = r\"[dD]oesn'?t\"\n",
    "        m = re.findall(regex, cleaned_item)\n",
    "        if m:\n",
    "            cleaned_item = re.sub(regex,' does not',cleaned_item)\n",
    "            \n",
    "        ##Replace didn't to did not\n",
    "        regex = r\"[dD]idn'?t\"\n",
    "        m = re.findall(regex, cleaned_item)\n",
    "        if m:\n",
    "            cleaned_item = re.sub(regex,' did not',cleaned_item)\n",
    "            \n",
    "        ##Replace hasn't to has not\n",
    "        regex = r\"[hH]asn'?t\"\n",
    "        m = re.findall(regex, cleaned_item)\n",
    "        if m:\n",
    "            cleaned_item = re.sub(regex,' has not',cleaned_item)\n",
    "            \n",
    "        ##Replace haven't to have not\n",
    "        regex = r\"[hH]aven'?t\"\n",
    "        m = re.findall(regex, cleaned_item)\n",
    "        if m:\n",
    "            cleaned_item = re.sub(regex,' have not',cleaned_item)\n",
    "            \n",
    "        ##Replace wouldn't to would not\n",
    "        regex = r\"[wW]ouldn'?t\"\n",
    "        m = re.findall(regex, cleaned_item)\n",
    "        if m:\n",
    "            cleaned_item = re.sub(regex,' would not',cleaned_item)\n",
    "            \n",
    "        ##Replace it's to it is\n",
    "        regex = r\"[iI]t's\"\n",
    "        m = re.findall(regex, cleaned_item)\n",
    "        if m:\n",
    "            cleaned_item = re.sub(regex,' it is',cleaned_item)\n",
    "            \n",
    "        ##Replace that's to that is\n",
    "        regex = r\"[tT]hat's\"\n",
    "        m = re.findall(regex, cleaned_item)\n",
    "        if m:\n",
    "            cleaned_item = re.sub(regex,' would not',cleaned_item)\n",
    "            \n",
    "        ##Replace weren't to were not\n",
    "        regex = r\"[wW]eren'?t\"\n",
    "        m = re.findall(regex, cleaned_item)\n",
    "        if m:\n",
    "            cleaned_item = re.sub(regex,' were not',cleaned_item)\n",
    "        \n",
    "        ##Remove \"\" from text\n",
    "        p = re.compile('\\\"')\n",
    "        m = p.findall(cleaned_item)\n",
    "        if m:\n",
    "            cleaned_item = re.sub('\\\"','',cleaned_item)\n",
    "        \n",
    "        #Code to compress white spaces into one\n",
    "        regex = r\"\\s\\s+\"\n",
    "        m = re.findall(regex,cleaned_item)\n",
    "        if m:\n",
    "            #print(\"Found trailing whitespaces... Replacing with one.\")\n",
    "            cleaned_item = re.sub(regex,' ',cleaned_item)\n",
    "\n",
    "        #display cleaned item\n",
    "        print()\n",
    "        print(cleaned_item.lower())\n",
    "        \n",
    "        #append to cleaned list if it contains something\n",
    "        if not (cleaned_item.isspace()):\n",
    "            someList.append(cleaned_item.lower())\n",
    "    \n",
    "    print()\n",
    "    print(\"Total len of List: \"+str(len(someList)))\n",
    "    return someList, len(someList)"
   ]
  },
  {
   "cell_type": "code",
   "execution_count": 264,
   "metadata": {},
   "outputs": [],
   "source": [
    "### Save batch data as .txt file\n",
    "def saveTxt(inputFile,outputFile,destFolder):\n",
    "    with open(destFolder+outputFile, 'w') as f:\n",
    "        for item in inputFile:\n",
    "            f.write(\"%s\\n\" % item)"
   ]
  },
  {
   "cell_type": "code",
   "execution_count": 265,
   "metadata": {},
   "outputs": [],
   "source": [
    "# initiate empty list to store number of lines of the cleaned .xlsx file\n",
    "noOfLinesList = list()"
   ]
  },
  {
   "cell_type": "code",
   "execution_count": 266,
   "metadata": {
    "tags": [
     "outputPrepend"
    ]
   },
   "outputs": [
    {
     "output_type": "stream",
     "name": "stdout",
     "text": " said no louder, it would not have happened. coping was even harder. the only thought in my mind was \\i am not a virgin anymore.confess at: \n\n---After encoding/decoding at row 63945\n\n.that rude idiot who tries to challenge the prof. try that in ethics class where majority of the profs are law profs and see whether u can get out 'alive'. disrespectful. think so smart already is it.be you are but when you do not even have basic manners, you are lower than those who are uneducated.confess at: \n\n---After encoding/decoding at row 63946\n\n.i am currently with a married man 2 decades my senior.confess at: \n\n---After encoding/decoding at row 63947\n\n.why are the so many crybabies lamenting about how low is their gpa when it is still above 3? i am in my 3-2 with cgpa 2.61 and i couldn't care less. most companies will not ask for your gpa anyway.confess at: \n\n---After encoding/decoding at row 63948\n\n.i have realised that sis is a dead end. you are more or less stuck with what you have. you can not transfer out of sis to another school if you feel that you do not like the mods you are doing. you do not have any form of moderation. instructors have no qualms about failing you and making you hate life even more. it is strange that the dean of sis is letting this happen. so this is a warning to people who want to apply to sis. unless you really have an interest in is, stay the hell away or you will end up miserable.confess at: \n\n---After encoding/decoding at row 63949\n\n.dnnis ag why are you so cute???.confess at: \n\n---After encoding/decoding at row 63950\n\n.to eric who has been commenting on all the posts so far. thanks for the laugh man.confess at: \n\n---After encoding/decoding at row 63951\n\n.i am essentially a defective unit in society and should be weeded out in life eventually. is this really the future for me?.confess at: \n\n---After encoding/decoding at row 63952\n\n.sometimes i envy students that have their p are nots to pay their school fees for them. i have to work 4 days a week and i do not have much time to study. thus affecting my gpa. it is currently standing at 3.29 and i really hope to graduate with at least a cum laude. just ended 2.1 and i really need some advice here on how to improve my gpa. i am currently on student loan and my part time salary is used to pay for my sibling's tuition fees. furthermore, i am now considering whether is it worth it to take on a 2nd major. as i can graduate in 3.5years without 2nd major and save a whole semester of tuition fees.confess at: \n\n---After encoding/decoding at row 63953\n\n.kr how are you so cute???.confess at: \n\n---After encoding/decoding at row 63954\n\n.graduated with 2.7 gpa, omg ryte?? thought my future career then may be in jeopardy. 5 years on after graduation, now i am earning 5 digit salary, most probably earning more than most of my uni peers who were cum laude graduates. grades do not dictate your career success, your work etiquette & attitude does. .confess at: \n\n---After encoding/decoding at row 63955\n\n.everytime i go admin building to swim, i silently hope to see someone hot.confess at: \n\n---After encoding/decoding at row 63956\n\n.i would like to take this opportunity to thank my ooad professor for giving me an eerience i will never forget. he is very knowledgeable and knows how to present us with opportunities to let our gpa slide. class participation is where the fun begins. questions asked are aimed at getting the class to have a good laugh every now and then while the person asked is left flipping through his or her notes. comedy at its best! all you need is to skip the online quiz so you do not have to turn up for class. did i mention, all the programs that you write will have you loving java more and more? that really works wonders when we attempt the past year lab tests and we're given a sense of hope that we will pull through during the actual lab test.confess at: \n\n---After encoding/decoding at row 63957\n\n.dropping from 3.4 to 3.2 in your final semester. words cannot describe my pain.confess at: \n\n---After encoding/decoding at row 63958\n\n.anybody here hates the new oasis or is it just me. its so hard to search for information in the system! like examination gradesexam venuesetc! good job on revamping the ui although its a tad colorful but it could be better smu!.confess at: \n\n---After encoding/decoding at row 63959\n\n.hear me out, i am scared as hell to what lies await me.now why do i say that? well i fucked up my first few years of smu which till this day i honestly still regret. my cumulative gpa as of today stands at 3.11 and honestly i am freaking out about it. to make matters worst i am already in 3-2, chances of me pulling up my gpa is at it is all time low. if would not not enough i have majored in finance - how the hell am i ever going to find a job?.i do not know man i am just really scared of what's to come and i honestly hope that someone could give me advice. am i resigned to be a scrub for life given my gpa?.confess at: \n\n---After encoding/decoding at row 63960\n\n.i think that guys who are attached or gay are much easier to talk to than those who are straight & single.as much as this isn't 100% true, i feel that generally when guys are single, they tend to 'select' the girls whom they want to talk to and filter those whom they do not want to give a wrong impression that they might like them. hence, it is harder to break the barrier of talking to them. however, those who are attached or gay are so open to conversations such that it becomes very enjoyable to talk to them. on that note, as much as i like talking to them, i will make sure that i still keep my distance from those attached coz i have 0 intention of breaking any relationships.this, is probably one of the main reasons why i am still a single coz all the guys that i can communicate with are all attached or gay. .- girl who just wanna rant about life.confess at: \n\n---After encoding/decoding at row 63961\n\n.since i am drunk now, i will have to be honest with myself. the girl i am asking out now is pretty, nice, but pretty boring. i can probably settle for her, since i am evergreen and no one at her league will probably want me anw. i have known her for quite awhile, though we have only recently started going out.unlike what i imagined, the dates with her were sweet, but lacked none of the uncontrollable passion i had imagined myself to have. logically, i should settle since i will have to stop being evergreen someday and stop being so picky. but my heart is telling me she's not the one. at almost 25, waiting for \\fate\\ to present the girl of my dreams does not seem to be a reasonable option.confess at: \n\n---After encoding/decoding at row 63962\n\n.just returned from exchange a few days ago. was in a library today for a bit to do insurance claims and could already feel the life draining out of me, as it had over the 6 semesters i'd spent there. it is a bit like how the necrophos aura in dota deducts a % of your hp per second.therefore i vow to live the life of a final semester student and spend as little time i am the library as possible, and urge you guys to join me. run away or pass away .confess at: \n\n---After encoding/decoding at row 63963\n\n.people who do not flush the toilet after taking a massive dump should have their asshole sealed.- disgruntled library user.confess at: \n\n---After encoding/decoding at row 63964\n\n.back in primary school, i always ranked last few in class. i did not really study. until when i came to secondary school, i always heard people saying that if i do not study hard, people will look down on me and will be seem as worthless being in society. so, i studied very hard and end up, being able to jump from na to eress class.after that, i went to study business information technology in temasek polytechnic. that period of time, my mom got first stage of cervical cancer and end up in hospital. that point of time, i felt very sad. as i did not want to let my mom worried about me, i mugged very hard and end up being a top 3 student in my poly course.singapore management university has always been my dream university in my mind when i studied in poly. so after coming this far, i will really cherish my education in smu and let my p are not proud. after which, i will work hard and support my family and give back to society.confess at: \n\n---After encoding/decoding at row 63965\n\n.hello i got 4.3 -anonymous.confess at: \n\n---After encoding/decoding at row 63966\n\n.legend has it, if you get 4.0 today you reincarnate as the cat on campus green.confess at: \n\n---After encoding/decoding at row 63967\n\n.my boyfriend does not agree with pre-maritial sex but sometimes i am curious of how it feels like. i do not want other people to touch me and neither will i be unfaithful to him but what should i do?.confess at: \n\n---After encoding/decoding at row 63968\n\n.does replying unsubscribe to school emails which you do not want to receive works? someone please enlighten me if there's anyway to stop the spam of the same email reaching my inbox daily, please.confess at: \n\n---After encoding/decoding at row 63969\n\n.am i your friend, or am i just your google? you initiate conversations with me only when you need help, forget to message me when i am waiting for your meeting to end, and all our conversations end up with you complaining about school. sometimes i hide my emotions. sometime i punch the walls. many times i just feel like walking away from everything.but i just can not. because it is you.confess at: \n\n---After encoding/decoding at row 63970\n\n.thinking of pursuing this girl but she's attached.any tips on how i should do it? her bf isn't from smu so i have an inherent advantage there.confess at: \n\n---After encoding/decoding at row 63971\n\n.my heart aches when someone else confessed to the guy i have silently loved for the past 15 months.confess at: \n\n---After encoding/decoding at row 63972\n\n.to the person who stole my starbucks tumbler from my table, may you rot when the results come out tomorrow.confess at: \n\n---After encoding/decoding at row 63973\n\n.quite happy that my crush is coming back to smu after 1 sem but also feeling sad that next sem is probably the last sem i am going to see my crush since he is one year older than me and i am probably going for exchange in 3.2 as well. gonna miss him so badly though. kinda thankful that he does not follow smu confessions, even if he does follow confessions, there're also sooo many guys out there.coming back from excange that he will probably not realise my true feelings for him. i am just afraid if he actually knows my true feelings, he will avoid me and we cannot even be friends anymore.-unsure girl.confess at: \n\n---After encoding/decoding at row 63974\n\nthose who got dirty secrets to confess, may do so now at our new smu confessions submissions page!.- admin 2.smuconfess.originally.us.confessing in smu confessions\n\n---After encoding/decoding at row 63975\n\n.i am a freshie who's about to end year one. and i can confidently say that the decision i made to come to smu was one or the worst decisions in my life.the people here are incredibly shallow, there is hardly anyone who makes an effort to help others, nobody at all who's willing to try and cultivate a semblance of a friendship. there is nobody that i can call a friend. nobody i can fall a peer. this is a toxic island in the middle of this sunny country we call home.confess at: \n\n---After encoding/decoding at row 63976\n\nwe are recruiting new administrators for our relaunch.please pm us why you deserve to be an administrator.please do not give me smu fluff. maximum 200 words.- admin2\n\n---After encoding/decoding at row 63977\n\nwho wants to see this page revived? -admin2\n\n---After encoding/decoding at row 63978\n\nit is friday. yay. 3 more days to monday blues.- admin2\n\n---After encoding/decoding at row 63979\n\nmacness needs to attend a course by google ambassadors.\n\n---After encoding/decoding at row 63980\n\nadmin confession:.sometimes i forget to switch between my personal account and admin role when i am liking commenting on a post. -admin8\n\n---After encoding/decoding at row 63981\n\nstraitstimes.com.mr lee's final journey: guide to the funeral procession\n\n---After encoding/decoding at row 63982\n\ncondolence books for the late mr. lee kuan yew are available at the library level 2 quiet area, as well as admin building level 3. they are free for signing at the following times.i) monday : 11am - 6pm.ii) tuesday - friday : 9am - 6pm.iii) saturday : 9am - 1pm.you may also submit a tribute at the following link: .rest in peace, mr. lee.tribute.smu.edu.sg.a tribute to mr lee kuan yew 1923 2015 | visionary statesman. respected leader. founding father.\n\n---After encoding/decoding at row 63983\n\nle admin3 is suddenly motivated to do something for the page: a revamp of the site. .this will take a while since the codebase is totally changed and many pending features are being put together only now.most of the time when you look back at the past projects you have done, you will realise this: what crappy code did i write? omg! what kind of hack is this?\n\n---After encoding/decoding at row 63984\n\n.wah i got to share this during this cny!.this website tells you if your ang bao is big or small compared to the rest in sg!.huat ah!!!.confess at: \n\n---After encoding/decoding at row 63985\n\nto everyone who's bored scrolling through their timelines now: happy cny! keep the posts coming!\n\n---After encoding/decoding at row 63986\n\n0.0\n\n---After encoding/decoding at row 63987\n\nsteal our business. -admin8\n\n---After encoding/decoding at row 63988\n\nnot a confession, but for those who thinks life is unfair, or that you deserved better, here is a good read.- admin2.oliveremberton.com.the problem isnt that life is unfair its your broken idea of fairness\n\n---After encoding/decoding at row 63989\n\nvote smu confessions for smusa. we are the only student body who has served you non-stop for 1.5 years, even through the summers.do the right thing and vote with your share!\n\n---After encoding/decoding at row 63990\n\nwah lao eh, continue to post on smu confessions ok?.smusa elections fever is with thiam pei shan. at 161 .to know more about pei shan, visit her facebook page.\n\n---After encoding/decoding at row 63991\n\njust noticed that the entire website is down at the moment. it will take awhile more as i am switching provider. before that i have to deal with my current coding project. eta: first light of monday. .admin3\n\n---After encoding/decoding at row 63992\n\n there was a major incident at little india and the police is handling it at the moment. prayers for safety goes out to those involved, the first responders, police and the injured.updates :.1. 10 officers injured.2. arrests have been made.3. spf is appealing for videos and images taken during the riot. do submit them to the police.4. hampshire road and race course road has reopened to traffic.spf fb: \n\n---After encoding/decoding at row 63993\n\nconfession: \n\n---After encoding/decoding at row 63994\n\nadmin3: here is a public service annoucement from the smu elections committee 2013:.------.the smu elections committee 2013 would like to invite all students to vote for this year's smusa elections 2013. you may cast your votes at: .while there are 8 candidates for the 8 positions, under article 14.6.7 of the smu student constitution, each candidate must amass the support of at least 5% of the entire student population to be voted in. as members of the student association, each of you have the right to cast 8 votes. you may choose to vote for less than 8 candidates if you wish. your vote or non-vote does matter, as it determines who will lead and govern the school in the year to come.you may visit each candidate's facebook page by clicking on his her picture in the voting portal. alternatively, for official interviews, videos and information on the candidates, please visit: .do vote carefully.voting is from thursday to saturday .intranet.smu.edu.sg.\n\n---After encoding/decoding at row 63995\n\nwhat we need is to get the successful to understand that they have a responsibility to help the less fortunate and less able with compassion, to give back to society through financial donations, sharing of their skills and knowledge and spending time to help others do better, and to serve the country.those of us who have benefited disproportionately from societys investment in us owe the most to society, particularly to those who may not have had access to the same opportunities. we owe a debt to make lives better for all, and not just for ourselves.when societys brightest and most able think that they made good because they are inherently superior and entitled to their success; when they do not credit their good fortune also to birth and circumstance; when economic inequality gives rise to social immobility and a growing social distance between the winners of meritocracy and the masses; and when the winners seek to cement their membership of a social class that is distinct from, exclusive, and not representative of singapore society that is elitism..by goh chok tong\n\n---After encoding/decoding at row 63996\n\n students love to hate. when they see something they do not like to see, they insult the admins.tell me where did we say that we are here to please you? we are not some mind readers who can determine if anyone will take offence at any of the confessions.does the fact that we approve certain confessions mean we support them? we merely remove confessions according to our guideline.\n\n---After encoding/decoding at row 63997\n\n.web monkey is pleased to announce that the form is fixed. app are notly, there was a database related issue which prevented the confessions from being stored for approval.technicalities aside, keep confessing!.image attribution: \n\n---After encoding/decoding at row 63998\n\n.web monkey took the day off without realising that there was something amiss with the confession form.now the web monkey pays for it with his sleep to fix the form.this web monkey also humbly apologises that whatever confessions that confessors had posted in for the day are perpetually lost.web monkey will also inform all confessors when the website is back up for more confessions.image attribution: \n\n---After encoding/decoding at row 63999\n\n.attn: professor arnoud de meyer, president of smu.title: urgent calling for immediate suspension of all outdoor cleaning works and distribution of n95 masks to all our cleaners.these two pictures were taken at 1pm on , on 3rd floor of school of accountancy school of law, next to the elevators. an old lady cleaner was mopping the floor on the third floor while the psi just exceeded 400, a fairly critical level.according to nea, once psi reaches 200 and above, sensitive group including senior citizens should remain indoors with low activities. once psi is above 300, it is hazardous to the general public.if the school continues to allow our cleaners working under such condition without any protection, the school is taking a huge risk of putting its employees in a highly susceptible position.to be honest, i do not mind the floor not being mopped for twice a day. but i do mind putting members of our campus community at stake.sincerely your,.shaun wong, juris doctor candidate, school of law.p.s.:.people who agree and or support the proposition please like this entry.faculty members who have better access to any person with decision making power please get them informed about this situation so that a quicker response could be sought.confess at: \n\n---After encoding/decoding at row 64000\n\n psi is now 218. via: .twitter.com.twitter neasg: 3-hour psi is 218. issued 12am. .\n\n---After encoding/decoding at row 64001\n\n some people just want to watch the world burn. enjoy while the post is still up at: .by the way, if you do not know, the poster is male.\n\n---After encoding/decoding at row 64002\n\n do not believe everything you read on this confession page, just like this picture.\n\nTotal len of List: 63936\n"
    }
   ],
   "source": [
    "# Save the text corpus in batches\n",
    "# batch 1\n",
    "dataBatch1, noOfLines1 = cleanedData(batch1)\n",
    "# append number of lines into the list\n",
    "noOfLinesList.append(noOfLines1)"
   ]
  },
  {
   "cell_type": "code",
   "execution_count": 267,
   "metadata": {},
   "outputs": [],
   "source": [
    "# Save batched corpus as .txt file\n",
    "saveTxt(dataBatch1,\"dataBatch1.txt\",TEMP)"
   ]
  },
  {
   "cell_type": "code",
   "execution_count": 268,
   "metadata": {},
   "outputs": [],
   "source": [
    "## NEXT BATCH"
   ]
  },
  {
   "cell_type": "code",
   "execution_count": 269,
   "metadata": {
    "tags": [
     "outputPrepend"
    ]
   },
   "outputs": [
    {
     "output_type": "stream",
     "name": "stdout",
     "text": "\nheres a quick guide on how to recoup your chinese new year losses!!! use this special deal here confirm can one!!!\n\n---After encoding/decoding at row 18804\n\nimagine this happening to you \n\n---After encoding/decoding at row 18805\n\nthe best cny excuse generator for all those annoying questions by your relatives.- by the sibeh cute wuba from monster hunt 2 thats in cinemas !!!.pause the video to generate your excuse!\n\n---After encoding/decoding at row 18806\n\nhahaha these chinese new year lame jokes confirm will make you go. huat did i just hear?\n\n---After encoding/decoding at row 18807\n\nyou guys asked for it, so here it is: how to be an insurance agent in singapore 101!! \n\n---After encoding/decoding at row 18808\n\nwhen someone tries to start a diet during chinese new year! .its always a lost cause with all the pineapple tarts. bak kwas. love letters. \n\n---After encoding/decoding at row 18809\n\npower lah big brother!\n\n---After encoding/decoding at row 18810\n\nwa wind liao lor! like that also can!.credit: joseph\n\n---After encoding/decoding at row 18811\n\nhahaha these are the types of people i confirm plus chop will see when i go to carnivals!! especially the super competitive one!!\n\n---After encoding/decoding at row 18812\n\ngeudae nuneul bol ttaemyeon\n\n---After encoding/decoding at row 18813\n\nevery. single. time.\n\n---After encoding/decoding at row 18814\n\ntampines mrt station users will know this feel\n\n---After encoding/decoding at row 18815\n\nbuy this car, they said.you will look so cool. they said.\n\n---After encoding/decoding at row 18816\n\nthese are the kinds of volunteers that you confirm plus chop see at events such as this !!! especially the last type, everyone confirm want on their team!!!. \n\n---After encoding/decoding at row 18817\n\nwho need enemies when you have this kind of annoying colleagues?\n\n---After encoding/decoding at row 18818\n\nwaaah! this one really taking it to the next level already sia .pgag. at 180 .i will do anything for oppa . \n\n---After encoding/decoding at row 18819\n\nbe gone heat\n\n---After encoding/decoding at row 18820\n\ndamn, that looks a little. wrong\n\n---After encoding/decoding at row 18821\n\nhahaha cnbcs video about singapore failed so bad that it made xiao ming laugh until he almost cry \n\n---After encoding/decoding at row 18822\n\nthese kind of super gross friends eat anything else nvm . but aint nobody touching my hong kong style nescaf smoovlatte!!\n\n---After encoding/decoding at row 18823\n\neh michelle chong, your video selling petrol for caltex singapore or selling lubri can not ah? \n\n---After encoding/decoding at row 18824\n\nsometimes i really wish i could reply what i really want to say!\n\n---After encoding/decoding at row 18825\n\never missed someone so badly youd go sleepless for them? presenting to you our first ever musical, lah lah land!.go on an emotional musical journey with melody and matt, as they pull your heartstrings and sing to the tunes of their hearts .\n\n---After encoding/decoding at row 18826\n\nlearn how to lessen your chinese new year preparations by using this cheat code!!! \n\n---After encoding/decoding at row 18827\n\nhow woman pack vs how man pack \n\n---After encoding/decoding at row 18828\n\nwhen other singaporeans were celebrating the 22c winter, i was just like.\n\n---After encoding/decoding at row 18829\n\nomgg i can not believe that we got ubereats to deliver our macs to this place!!! hahahahah \n\n---After encoding/decoding at row 18830\n\nwhen you see your bestfriend in public \n\n---After encoding/decoding at row 18831\n\nwah i cannot take it!!! this auntie sue ann really damnnnnn cheapo!!\n\n---After encoding/decoding at row 18832\n\ndrama mamas in the house! who else knows someone would not just super dramatic about everything?! \n\n---After encoding/decoding at row 18833\n\nthis guy really puts the pun in pun-jabi sia!\n\n---After encoding/decoding at row 18834\n\nwarming our hearts in this cold weather \n\n---After encoding/decoding at row 18835\n\ncan someone help sauce the culprit out?\n\n---After encoding/decoding at row 18836\n\nbecause chocolate-covered potato chips are soooo overated. \n\n---After encoding/decoding at row 18837\n\nwalao! just because i got you a gift does not mean we suddenly bff pls. anyone else kena before?\n\n---After encoding/decoding at row 18838\n\nwhy must you cheat my feelings until like this?\n\n---After encoding/decoding at row 18839\n\nwith temperature eected to drop to 22 deg c, this is probably the closest to winter singapore will ever get \n\n---After encoding/decoding at row 18840\n\nhow many of these shows can you name?\n\n---After encoding/decoding at row 18841\n\nfirst day back at school.\n\n---After encoding/decoding at row 18842\n\nkena scam before like this ??? meet the people behind them.\n\n---After encoding/decoding at row 18843\n\nthis su-purr cute fortune cat saving box is valid for a limited time only!\n\n---After encoding/decoding at row 18844\n\ni guess yesterday the auntie's head was a little flooded too.video credit: p.eiqi\n\n---After encoding/decoding at row 18845\n\nhow will the google assistant fare using your uniquely singaporean phrases and lingo. will it be steady or gg?! we try it out on the google pixel 2 xl! \n\n---After encoding/decoding at row 18846\n\nisnt it super annoying when people copy everything you do?! even the way you eat?! \n\n---After encoding/decoding at row 18847\n\nnew tourist attraction from this morning's heavy rain \n\n---After encoding/decoding at row 18848\n\nin movies:.rains heavily.theyll sing, dance, play in the rain with romantic background music.in real life:.rains heavily.fml lah, why must rain? walao water all go inside my shoes already & socks all wet! knn why no shelter here, how to walk like that sia???\n\n---After encoding/decoding at row 18849\n\nlearn how to cook chicken rice with chef ken! can ken cook chicken rice? or can not ken cook chicken rice?!\n\n---After encoding/decoding at row 18850\n\nahhhh i hate it when these happen!!!!\n\n---After encoding/decoding at row 18851\n\nthe leg cramps with the pin and needles sensation are the worst!!!! \n\n---After encoding/decoding at row 18852\n\ntrust lazy people to think of such an idea\n\n---After encoding/decoding at row 18853\n\nthis comic is dedicated to those who just loooooove to block the path. . \n\n---After encoding/decoding at row 18854\n\nsome teachers really pees me off! \n\n---After encoding/decoding at row 18855\n\nsingapore is small but not that small can?!!\n\n---After encoding/decoding at row 18856\n\nhuat ah!!!\n\n---After encoding/decoding at row 18857\n\nsome kinds of xtra are better than others!.visit ngee ann polys open house on 4-to see what xtra things you can get in the goodie bag!\n\n---After encoding/decoding at row 18858\n\ncaps off to this genius!\n\n---After encoding/decoding at row 18859\n\n do not you just hate it when all these happen to you!!\n\n---After encoding/decoding at row 18860\n\nwhen a small game becomes a never-ending nightmare of deception you can never escape\n\n---After encoding/decoding at row 18861\n\nwho else has that one friend that just die die cannot understand technology one?! \n\n---After encoding/decoding at row 18862\n\nwhen you're 8 years old and you're already done with life\n\n---After encoding/decoding at row 18863\n\nhave you ever wondered why some people spend so much time in the toilet? this is probably it.\n\n---After encoding/decoding at row 18864\n\nthis christmas, we pranked our colleagues into wishing everyone merry christmas without them even realising hahaha! watch till the end for a surprise!\n\n---After encoding/decoding at row 18865\n\nhow did a normal interview end up with namewee wanting to beat xiao ming up?!!!!\n\n---After encoding/decoding at row 18866\n\nwould you?!\n\n---After encoding/decoding at row 18867\n\ndayum this husband and wife really bring couple fights to a whole new level!!! what a brutal finisher at the end!! \n\n---After encoding/decoding at row 18868\n\nwatch kenny and ke yi fight it out in the huawei nova 2i photomarathon challenge! can not believe one of them got rejected so many times lolol \n\n---After encoding/decoding at row 18869\n\nwhos the king of the jungle? kenny & sue-ann take on thesmartlocal.com to see whos better at animal charades! \n\n---After encoding/decoding at row 18870\n\nif only we could do this to people with t h i c c make up!\n\n---After encoding/decoding at row 18871\n\nxiao ming returns to annoy others with even more of his lame jokes! looks like after watching the jumanji: welcome to thegle trailer he got some inspiration for some jokes that are a bit on the . wild side!\n\n---After encoding/decoding at row 18872\n\nare we the only ones who find it damn hard to buy christmas gifts for our girlfriends or boyfriends!?.if you have no idea what to get them yet, try here: \n\n---After encoding/decoding at row 18873\n\ntake a peek into the life and troubles of a domestic helper living in singapore! will she be successful? or will her employer's son give her a migraine?! \n\n---After encoding/decoding at row 18874\n\ncheck out how savour christmas wonderland patrons react to kenny and sue-ann spreading christmas joy with their angelic voices!\n\n---After encoding/decoding at row 18875\n\nthe types of people you confirm see during a secret santa session! the third one is damn annoying but totally me!\n\n---After encoding/decoding at row 18876\n\nhas science gone too far?\n\n---After encoding/decoding at row 18877\n\na phone that understands singlish?! whaaat?! which other uniquely singaporean phrases and lingo do you think it should know? \n\n---After encoding/decoding at row 18878\n\nfast forward to 05:00 whos the king of the jungle? kenny & sue-ann take on thesmartlocal.com to see whos better at animal charades! \n\n---After encoding/decoding at row 18879\n\nwe were soooo star-struck when we got to meet kellyie tran of star wars: the last jedi! see what went down when we played star wars or singapore trivia with her!\n\n---After encoding/decoding at row 18880\n\nafter last weeks meltdown. xiao ming decides to take on the with an easier opponent but will things really be as easy as he hopes? who do you think will win, xiao ming or lao zha bor?!\n\n---After encoding/decoding at row 18881\n\nwhat the pug!! thought my super cute new co-worker gave me good travel advice here , but turns out there was something up its sleeve!!!!. \n\n---After encoding/decoding at row 18882\n\nyou have heard of xiao ming's lame jokes, now here's the punjabi guy version!!\n\n---After encoding/decoding at row 18883\n\nhas cool technology like this really changed our friendships over time??? or have our friends always been this annoying? \n\n---After encoding/decoding at row 18884\n\nwho else can relate to these scenarios?! .and do not worry if this video makes you angry until hot, get the cony fan from mcd today!!\n\n---After encoding/decoding at row 18885\n\nhopefully this can satisfy the complain queen!\n\n---After encoding/decoding at row 18886\n\nlet's see who can spice up their life with the tag someone who you think can handle this challenge! \n\n---After encoding/decoding at row 18887\n\ncb la, i am not vulgar okay?.hahaha tag your friends who are walking ironies!\n\n---After encoding/decoding at row 18888\n\nher days are numbered. with surprises!\n\n---After encoding/decoding at row 18889\n\nanyone knows someone whos super kiasu and die die must try everything new like this ?! share this with them! remember to check out comments below for special promo code!\n\n---After encoding/decoding at row 18890\n\nhow many of the singlish phrases do you know?.mediacorp yes 933. at 21:25 .yeahsinglish .goodyfeed\n\n---After encoding/decoding at row 18891\n\ndie die must watch!.gov.sg. at 20:54 .from lah to lo to shiok: if you live and or work in singapore, here are some phrases you die die must know to blend in with the locals! .catch every tuesday at 8pm on mediacorp channel 5!.watch the latest episode at .\n\n---After encoding/decoding at row 18892\n\n[ has mutiple meanings, but most singaporeans use it when something bad is about to happen, or when one is in trouble. you can also use it to describe the weather.wa, the weather quite jialat nowadays hor. supposed to be sunny but keep raining. so sian..singlish 101. \n\n---After encoding/decoding at row 18893\n\n have you heard of this singlish phrase agar agar? no, we're not referring to the agar agar jellies.this phrase is usually used when we are counting or measuring something that does not have to be accurate or exact.in singlish:.a: aiya, just agar agar la. no one will go count one by one la.b: eh cannot leh. this one is month-end stock take, cannot use agaration. later i kena by the auditors how?.in english:.a: let's just do an estimate. nobody will count it anyway..b: no, of course we can not do that. we can not use estimation for the month-end stock take. are you going to take responsibility if the auditors questions us?.singlish 101. \n\n---After encoding/decoding at row 18894\n\nlooks like our shiok winner kathy woon tan is loving our prize! \n\n---After encoding/decoding at row 18895\n\n english vs singlish - efficient hor? .gregoryshampoo. at 19:00 .the difference between english vs singlish. which do you prefer?.like gregoryshampoo for more funny videos.follow me: \n\n---After encoding/decoding at row 18896\n\nhave you mastered the way of using the singlish phrase bo jio? here's a reply that we always give to those friends who always claim we bo jio them \n\n---After encoding/decoding at row 18897\n\nwe hope there will not be a bo jio tgif scenario today. happy friday everyone!.credit to: \n\n---After encoding/decoding at row 18898\n\nmissed your chance in winning that cute singlish token in our giveaway contest last week? do keep a lookout for singlish 101's future activities! do not say we .singlish 101. \n\n---After encoding/decoding at row 18899\n\n.thank you so much to all of you who participated in our mini campaign! our winner is kathy woon tan with the most number of 13 likes!.we will be mailing out the prize to her in early!\n\n---After encoding/decoding at row 18900\n\n:.what will happen if this classic tale is singlish dubbed?. .sgag.ruary 2016 at 20:00 .someone did a singlish verison of beauty and the beast hahahah!.credits to nerd's road to six pack.original video here: \n\n---After encoding/decoding at row 18901\n\nnever underestimate the power of singlish and how it helps you with daily conversations .sgag is with chee whee yeo. at 11:00 .singlish > english \n\n---After encoding/decoding at row 18902\n\nhow is your weekend so far? 'like' if you are having a shiok weekend like this cool cat! \n\n---After encoding/decoding at row 18903\n\nwe love seeing your posts on keep the comments coming!.p.s. remember to get your friends to like your comments on the giveaway post. the comment with most likes by 12pm on '17 will win!\n\n---After encoding/decoding at row 18904\n\n.post a photo of your shiok moment and stand to win a singlish token from us if you get the most number of likes!.steps to participate:.1) like our facebook page.2) leave a comment by posting a photo of your interpretation of shiok with a short caption to describe.3) hashtag and .4) get your friends to like your comment!.the post that earns the most number of likes by 12pm on will be our shiok winner!\n\n---After encoding/decoding at row 18905\n\nwe miss the series that macdonald's introduced sometime last year. the bo jio banana pie was awesome! have you got any to share with us? remember to post your photo under the comments of giveaway post!.everythinghapa.com.everythinghapa | mcdonalds confirm shiok\n\n---After encoding/decoding at row 18906\n\n[ when do you use the word shiok? for us, we usually use it in the following situations:.1) when eating something sinful yet delicious.2) when doing something relaxing like having a massage.3) when knocking off on time or going on holiday while the rest is still working.capture your and we will be calling out for you to share soon!.singlish 101. \n\n---After encoding/decoding at row 18907\n\n[ find out what's shiok in singapore! we will be giving the definition on wednesday and starting a mini campaign this week. stay tuned!.youtube.com.what's shiok in singapore - travel and fun activities\n\n---After encoding/decoding at row 18908\n\nsinglish 101 added 7 new photos from . at 138 \n\n---After encoding/decoding at row 18909\n\nsinglish is everywhere! not only can you hear but you see it too! tag us if you catch any singlish word while you are shopping. have a great weekend\n\n---After encoding/decoding at row 18910\n\n[ still not sure how to use it correctly? try saying cheem! when you feel you are in the following situations:.i feel so lost in the lecture because.i am unsure of the instructions given because.i am confused over his elanation because.it was so .\n\n---After encoding/decoding at row 18911\n\nour team just came across this decal sample. guess our upcoming singlish word for next week! enjoy your sunday! \n\n---After encoding/decoding at row 18912\n\n[ here's another lobang for buffet promotions if you hold a citibank credit card! let us know if you are going for any one this weekend!.singsaver.com.sg.citibank buffet promotions you shouldnt miss in 2017\n\n---After encoding/decoding at row 18913\n\nhow to get good when you are only learning the word from its definition? of course you must try to get useful information by following the right sources as such the cheap lobang!.hardwarezone.com.sg.m1 - page 2 brochures from it show 2017 singapore on tech show portal.cheap lobang. .today is the start of it show 2017 16 - level 3, 11am-9pm. level 4 & 6, 12pm-9pm suntec.m1 1gbps 2yr plan + nintendo switch bundle $59 mth - is this a good price?.\n\n---After encoding/decoding at row 18914\n\ncheap lobang. .today is the start of it show 2017 16 - level 3, 11am-9pm. level 4 & 6, 12pm-9pm suntec.m1 1gbps 2yr plan + nintendo switch bundle $59 mth - is this a good price?.\n\n---After encoding/decoding at row 18915\n\ncatch no ball in a conversation between singaporeans? join our page to learn useful singlish words for your daily survival!\n\n---After encoding/decoding at row 18916\n\nstart your day on a good note by having a good laugh! check out for hints on the upcoming singlish word that we are going to introduce. .youtube.com.10 types of people in the hawker centre\n\n---After encoding/decoding at row 18917\n\ndo you have what it takes to be better than them at a singlish test? give this a try now!.youtube.com.les misrables cast take singlish test\n\n---After encoding/decoding at row 18918\n\nan article on for your ride on the way home. tgif!.singlish is awesome. its efficient in two ways. first, it cuts down on unnecessary words and platitudes. second, one singlish word can have multiple meanings and it takes a full sentence in english to eress the same thing..17 singlish words that offer so much more than their english equivalents | mothership.sg.17 singlish words that offer so much more than their english equivalents | mothership.sg.17 singlish words that offer so much more than their english equivalents | mothership.sg.see more at.mothership.sg\n\n---After encoding/decoding at row 18919\n\nsinglish 101. at 08:10 .do you think singlish is very cheem? then you are on the right page literally because we will elain the meaning of different singlish words followed by examples!. \n\n---After encoding/decoding at row 18920\n\n[ still not sure how to use it correctly? try saying cheem! when you feel you are in the following situations:.i feel so lost in the lecture because.i am unsure of the instructions given because.i am confused over his elanation because.it was so .\n\n---After encoding/decoding at row 18921\n\ncatch no ball in a conversation between singaporeans? join our page to learn useful singlish words for your daily survival!\n\n---After encoding/decoding at row 18922\n\nhi there! are you new to singapore, or simply looking for a laugh? here at singlish 101, we want to share with you how powerful singlish is. it is even recognized by oxford! watch this space for more tips and tricks to learn this unique language!.straitstimes.com.shiok! 19 singlish items added to the oxford english dictionary\n\nTotal len of List: 18905\n"
    }
   ],
   "source": [
    "# Save the text corpus in batches\n",
    "# batch 2\n",
    "dataBatch2, noOfLines2 = cleanedData(batch2)\n",
    "# append number of lines into the list\n",
    "noOfLinesList.append(noOfLines2)"
   ]
  },
  {
   "cell_type": "code",
   "execution_count": 270,
   "metadata": {},
   "outputs": [],
   "source": [
    "# Save batched corpus as .txt file\n",
    "saveTxt(dataBatch2,\"dataBatch2.txt\",TEMP)"
   ]
  },
  {
   "cell_type": "code",
   "execution_count": null,
   "metadata": {},
   "outputs": [],
   "source": []
  },
  {
   "cell_type": "code",
   "execution_count": 271,
   "metadata": {},
   "outputs": [],
   "source": [
    "# Save batched corpus as .txt file\n",
    "#saveTxt(dataBatch3,\"dataBatch3.txt\",TEMP)"
   ]
  },
  {
   "cell_type": "code",
   "execution_count": null,
   "metadata": {},
   "outputs": [],
   "source": []
  },
  {
   "cell_type": "code",
   "execution_count": 272,
   "metadata": {},
   "outputs": [
    {
     "output_type": "execute_result",
     "data": {
      "text/plain": "82841"
     },
     "metadata": {},
     "execution_count": 272
    }
   ],
   "source": [
    "# get total number of lines of text in the corpus\n",
    "sum(noOfLinesList)"
   ]
  },
  {
   "cell_type": "markdown",
   "metadata": {},
   "source": [
    "## Merge all .txt batches into one big corpus"
   ]
  },
  {
   "cell_type": "code",
   "execution_count": 273,
   "metadata": {},
   "outputs": [],
   "source": [
    "import glob\n",
    "\n",
    "read_files = glob.glob(\"./tempData/*.txt\")\n",
    "\n",
    "with open(\"./finalData/SgCorpus.txt\", \"wb\") as outfile:\n",
    "    for f in read_files:\n",
    "        with open(f, \"rb\") as infile:\n",
    "            outfile.write(infile.read())"
   ]
  },
  {
   "cell_type": "code",
   "execution_count": null,
   "metadata": {},
   "outputs": [],
   "source": []
  },
  {
   "cell_type": "code",
   "execution_count": null,
   "metadata": {},
   "outputs": [],
   "source": []
  },
  {
   "cell_type": "code",
   "execution_count": null,
   "metadata": {},
   "outputs": [],
   "source": []
  }
 ],
 "metadata": {
  "kernelspec": {
   "display_name": "Python 3",
   "language": "python",
   "name": "python3"
  },
  "language_info": {
   "codemirror_mode": {
    "name": "ipython",
    "version": 3
   },
   "file_extension": ".py",
   "mimetype": "text/x-python",
   "name": "python",
   "nbconvert_exporter": "python",
   "pygments_lexer": "ipython3",
   "version": "3.8.5-final"
  }
 },
 "nbformat": 4,
 "nbformat_minor": 4
}