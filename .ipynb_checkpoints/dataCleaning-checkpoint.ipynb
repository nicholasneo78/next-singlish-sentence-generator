{
 "cells": [
  {
   "cell_type": "code",
   "execution_count": null,
   "metadata": {},
   "outputs": [],
   "source": [
    "import requests\n",
    "import urllib\n",
    "import xlrd\n",
    "import os\n",
    "import re"
   ]
  },
  {
   "cell_type": "markdown",
   "metadata": {},
   "source": [
    "## Test Code"
   ]
  },
  {
   "cell_type": "code",
   "execution_count": null,
   "metadata": {},
   "outputs": [],
   "source": [
    "# base directory\n",
    "base = \"./scrapedData/\""
   ]
  },
  {
   "cell_type": "code",
   "execution_count": null,
   "metadata": {},
   "outputs": [],
   "source": [
    "file = base + \"scrapingData_andiechen_FULL.xlsx\""
   ]
  },
  {
   "cell_type": "code",
   "execution_count": null,
   "metadata": {},
   "outputs": [],
   "source": [
    "workbook = xlrd.open_workbook(file)"
   ]
  },
  {
   "cell_type": "code",
   "execution_count": null,
   "metadata": {},
   "outputs": [],
   "source": [
    "sheet = workbook.sheet_by_index(0)"
   ]
  },
  {
   "cell_type": "code",
   "execution_count": null,
   "metadata": {},
   "outputs": [],
   "source": [
    "sheet"
   ]
  },
  {
   "cell_type": "code",
   "execution_count": null,
   "metadata": {},
   "outputs": [],
   "source": [
    "sheet.nrows"
   ]
  },
  {
   "cell_type": "markdown",
   "metadata": {},
   "source": [
    "## Actual Code"
   ]
  },
  {
   "cell_type": "code",
   "execution_count": null,
   "metadata": {},
   "outputs": [],
   "source": [
    "os.getcwd()"
   ]
  },
  {
   "cell_type": "code",
   "execution_count": null,
   "metadata": {},
   "outputs": [],
   "source": [
    "os.listdir()"
   ]
  },
  {
   "cell_type": "code",
   "execution_count": null,
   "metadata": {},
   "outputs": [],
   "source": [
    "# inside the Scraper-Codes folder\n",
    "os.listdir('scrapedData')"
   ]
  },
  {
   "cell_type": "code",
   "execution_count": null,
   "metadata": {},
   "outputs": [],
   "source": [
    "# Append the directory in the Scraper-Codes folder\n",
    "appendDir = './scrapedData/'\n",
    "tempList = os.listdir('scrapedData')\n",
    "finalList = list()\n",
    "for k in tempList:\n",
    "    finalList += [appendDir + k]\n",
    "    \n",
    "finalList"
   ]
  },
  {
   "cell_type": "code",
   "execution_count": null,
   "metadata": {},
   "outputs": [],
   "source": [
    "# Copy the above .xlsx files and paste into fileList\n",
    "fileList = ['./scrapedData/scrapingData_ACJC-Confessions-365341810240423_FULL.xlsx',\n",
    "             './scrapedData/scrapingData_andiechen_FULL.xlsx',\n",
    "             './scrapedData/scrapingData_asrjcconfessions_FULL.xlsx',\n",
    "             './scrapedData/scrapingData_bellywellyjelly_FULL.xlsx',\n",
    "             './scrapedData/scrapingData_benjamin.kheng_FULL.xlsx',\n",
    "             './scrapedData/scrapingData_bossyflossie_FULL.xlsx',\n",
    "             './scrapedData/scrapingData_cjcroxx_FULL.xlsx',\n",
    "             './scrapedData/scrapingData_DanielFoodDiary_FULL.xlsx',\n",
    "             './scrapedData/scrapingData_DHS-Confessions-103690209814932_FULL.xlsx',\n",
    "             './scrapedData/scrapingData_DollarsAndSenseSG_FULL.xlsx',\n",
    "             './scrapedData/scrapingData_dreachongofficial_FULL.xlsx',\n",
    "             './scrapedData/scrapingData_HwaChongConfessions_FULL.xlsx',\n",
    "             './scrapedData/scrapingData_ieatishootipost_FULL.xlsx',\n",
    "             './scrapedData/scrapingData_InnovaConfessions_FULL.xlsx',\n",
    "             './scrapedData/scrapingData_ITE-College-Central-Confessions-102332676616681_FULL.xlsx',\n",
    "             './scrapedData/scrapingData_ITE-College-West-Confessions-123845157793064_FULL.xlsx',\n",
    "             './scrapedData/scrapingData_JjcConfessions_FULL.xlsx',\n",
    "             './scrapedData/scrapingData_ladyironchef_FULL.xlsx',\n",
    "             './scrapedData/scrapingData_moneysmartsg_FULL.xlsx',\n",
    "             './scrapedData/scrapingData_mongabong_FULL.xlsx',\n",
    "             './scrapedData/scrapingData_mrbrownlah_FULL.xlsx',\n",
    "             './scrapedData/scrapingData_mykxii_FULL.xlsx',\n",
    "             './scrapedData/scrapingData_NJC-Confessions-414721038609037_FULL.xlsx',\n",
    "             './scrapedData/scrapingData_npconfession_FULL.xlsx',\n",
    "             './scrapedData/scrapingData_NTUConfess_PART.xlsx',\n",
    "             './scrapedData/scrapingData_nuswhispers_FULL.xlsx',\n",
    "             './scrapedData/scrapingData_NYP-Confessions-118332335013023_FULL.xlsx',\n",
    "             './scrapedData/scrapingData_RepublicPolyConfessions_FULL.xlsx',\n",
    "             './scrapedData/scrapingData_RJConfessions_FULL.xlsx',\n",
    "             './scrapedData/scrapingData_SajcConfessions_FULL.xlsx',\n",
    "             './scrapedData/scrapingData_sethluimarketing_FULL.xlsx',\n",
    "             './scrapedData/scrapingData_SGAG_FULL.xlsx',\n",
    "             './scrapedData/scrapingData_simconfessions_FULL.xlsx',\n",
    "             './scrapedData/scrapingData_SMUConfessionsPage_FULL.xlsx',\n",
    "             './scrapedData/scrapingData_sophiewillocq_FULL.xlsx',\n",
    "             './scrapedData/scrapingData_SP-Confessions-329564370479100_FULL.xlsx',\n",
    "             './scrapedData/scrapingData_SUSSConfessions_FULL.xlsx',\n",
    "             './scrapedData/scrapingData_therealnaomineo_FULL.xlsx',\n",
    "             './scrapedData/scrapingData_TheSmartLocal_FULL.xlsx',\n",
    "             './scrapedData/scrapingData_TJC-Confessions-133149643521172_FULL.xlsx',\n",
    "             './scrapedData/scrapingData_tpconfession_FULL.xlsx',\n",
    "             './scrapedData/scrapingData_yoyokulala_FULL.xlsx',\n",
    "             './scrapedData/scrappingData_MemedefSG_FULL.xlsx',\n",
    "             './scrapedData/scrappingData_SGAG.xlsx',\n",
    "             './scrapedData/scrappingData_SGAG_FULL.xlsx',\n",
    "             './scrapedData/scrappingData_singlish101_FULL.xlsx']"
   ]
  },
  {
   "cell_type": "code",
   "execution_count": null,
   "metadata": {},
   "outputs": [],
   "source": [
    "# testing set\n",
    "fileList = ['./scrapedData/scrapingData_ACJC-Confessions-365341810240423_FULL.xlsx']"
   ]
  },
  {
   "cell_type": "code",
   "execution_count": null,
   "metadata": {},
   "outputs": [],
   "source": [
    "fileList = [\"combinedScrapedData.xlsx\"]"
   ]
  },
  {
   "cell_type": "code",
   "execution_count": null,
   "metadata": {},
   "outputs": [],
   "source": [
    "# initialise line count\n",
    "count = 0"
   ]
  },
  {
   "cell_type": "code",
   "execution_count": null,
   "metadata": {
    "tags": []
   },
   "outputs": [],
   "source": [
    "#Initialize some list\n",
    "someList = []\n",
    "\n",
    "#Script to open data\n",
    "for file in fileList:\n",
    "    workbook = xlrd.open_workbook(file)\n",
    "    sheet = workbook.sheet_by_index(0)\n",
    "    rows = sheet.nrows\n",
    "    count += rows\n",
    "    for x in range(rows):\n",
    "        item = sheet.cell_value(x, 0)\n",
    "        # Prints the value of element at row x\n",
    "        print()\n",
    "        print(\"---Before encode/decode at row \"+str(x))\n",
    "        #print(item)\n",
    "        #print()\n",
    "        #Cleaning Codes\n",
    "        #print(\"---After encoding/decoding\")\n",
    "        #Removed chinese characters and emojis\n",
    "        cleaned_item = str(item).encode(\"ascii\", errors = \"ignore\").decode()\n",
    "        #Code to clean for #hastags\n",
    "        #print()\n",
    "        p = re.compile('#\\S+')\n",
    "        m = p.findall(cleaned_item)\n",
    "        if m:\n",
    "         #   print('-> Found #: ', m)\n",
    "            cleaned_item = re.sub('#(\\S+)?','',cleaned_item)\n",
    "        #else:\n",
    "         #   print('-> No # found')\n",
    "        #Code to clean for websites www\n",
    "        #print()\n",
    "        regex = r\"(?i)\\b((?:https?://|www\\d{0,3}[.]|[a-z0-9.\\-]+[.][a-z]{2,4}/)(?:[^\\s()<>]+|\\(([^\\s()<>]+|(\\([^\\s()<>]+\\)))*\\))+(?:\\(([^\\s()<>]+|(\\([^\\s()<>]+\\)))*\\)|[^\\s`!()\\[\\]{};:'\\\".,<>?«»“”‘’]))\"\n",
    "        m2 = re.findall(regex,cleaned_item)\n",
    "        if m2:\n",
    "            #print('-> Found websites: ', m2)\n",
    "            cleaned_item = re.sub(regex,'',cleaned_item)\n",
    "        #else:\n",
    "         #   print('-> No websites found')\n",
    "        #Code to clean for tags [  ]\n",
    "        #print()\n",
    "        p = re.compile('\\[\\S*\\]')\n",
    "        m = p.findall(cleaned_item)\n",
    "        if m:\n",
    "         #   print('-> Found [tag]: ', m)\n",
    "            cleaned_item = re.sub('\\[\\S*\\]','',cleaned_item)\n",
    "        #else:\n",
    "         #   print('-> No [tag] found')\n",
    "        #Code to clean for diamong tags < >\n",
    "        #print()\n",
    "        p = re.compile('\\<\\S*\\>')\n",
    "        m = p.findall(cleaned_item)\n",
    "        if m:\n",
    "            #print('-> Found <tag>: ', m)\n",
    "            cleaned_item = re.sub('\\<\\S*\\>','',cleaned_item)\n",
    "        #else:\n",
    "         #   print('-> No <tag> found')\n",
    "        #Code to replace \\n with fullstop\n",
    "        #print()\n",
    "        p = re.compile('\\\\n')\n",
    "        m = p.findall(cleaned_item)\n",
    "        if m:\n",
    "         #   print('-> Found \\\\n: ', m)\n",
    "            cleaned_item = re.sub('\\\\n','.',cleaned_item)\n",
    "        #else:\n",
    "          #  print('-> No \\\\n found')\n",
    "        #Code to replace date-time\n",
    "        #print()\n",
    "        p = re.compile('\\b[0-9]*(-|\\/|\\.|:)[0-9]*((-|\\/|\\.|:)[0-9]*)?\\b')\n",
    "        m = p.findall(cleaned_item)\n",
    "        if m:\n",
    "        #    print('-> Found date/time: ', m)\n",
    "            cleaned_item = re.sub('\\b[0-9]*(-|\\/|\\.|:)[0-9]*((-|\\/|\\.|:)[0-9]*)?\\b','',cleaned_item)\n",
    "        #else:\n",
    "         #   print('-> No date/time found')\n",
    "        #Code to replace month\n",
    "        #print()\n",
    "        p = re.compile('([0-9]*(st|nd|rd|th)?\\s)?(January|Jan|Feburary|Feb|March|Mar|April|Apr|May|June|Jun|July|Jul|August|Aug|September|Sep|October|Oct|November|Nov|December|Dec)(\\s[0-9]*)?')\n",
    "        m = p.findall(cleaned_item)\n",
    "        if m:\n",
    "         #   print('-> Found month: ', m)\n",
    "            cleaned_item = re.sub('([0-9]*(st|nd|rd|th)?\\s)?(January|Jan|Feburary|Feb|March|Mar|April|Apr|May|June|Jun|July|Jul|August|Aug|September|Sep|October|Oct|November|Nov|December|Dec)(\\s[0-9]*)?','',cleaned_item)\n",
    "        #else:\n",
    "         #   print('-> No month found')\n",
    "        #Code to remove circle bracket ()\n",
    "        #print()\n",
    "        p = re.compile('\\(\\S*\\)')\n",
    "        m = p.findall(cleaned_item)\n",
    "        if m:\n",
    "         #   print('-> Found (brackets): ', m)\n",
    "            cleaned_item = re.sub('\\(\\S*\\)','',cleaned_item)\n",
    "        #else:\n",
    "         #   print('-> No (brackets) found')\n",
    "        #Code to remove mentions @\n",
    "        #print()\n",
    "        p = re.compile('@(\\S+)?')\n",
    "        m = p.findall(cleaned_item)\n",
    "        if m:\n",
    "         #   print('-> Found @mentions: ', m)\n",
    "            cleaned_item = re.sub('@(\\S+)?','',cleaned_item)\n",
    "        #else:\n",
    "         #   print('-> No @ found')\n",
    "        #Code to remove emoticons\n",
    "        #print()\n",
    "        regex = r\":-\\)|:\\)|:-\\]|:\\]|:-3|:3|:->|:>|8-\\)|8\\)|:-}|:}|:o\\)|:c\\)|:\\^\\)|=\\]|=\\)|:\\(|=\\(|:-D|:D|8-D|8D|x-D|xD|X-D|XD|=D|=3|B\\^D|:-\\)\\)|:-\\(|:-c|:c|:-<|:<|:-\\[|:\\[|>:\\[|:{|:@|;\\(|:'‑\\(|:'\\(|:'-\\)|:\\'\\)|D-':|D:<|D:|D8|D;|D=|DX|:‑O|:O|:‑o|:o|:-0|8-0|>:O|:-\\|:\\|:×|;-\\)|;\\)|;-]|;]|;\\^\\)|;D|:-P|:-P|:-P|:P|X-P|XP|x-p|xp|:-p|:p|:-b|:b|d:|=p|>:P|:-\\/|:\\/|>:\\\\|>:\\/|:\\\\|=\\/|=\\\\|:L|=L|:S|:‑\\||:\\||:\\$|:-X|:X|:‑#|:#|:&|:-&|>:‑\\)|>;\\)|>:3|<\\/3|<3|\\\\o\\/|\\\\\\0\\/\\|v.v|>.<|[Oo][.|][oO]|[uU]w[uU]|;:\\)|:-[Pp]|\\'[o|-]\\'|x[0|o|O]|\\-\\\\-|:\\||\\^[|.]\\^|\\*\\\\*|:\\*\"\n",
    "        m = re.findall(regex, cleaned_item)\n",
    "        if m:\n",
    "        #    print('-> Found emoticons :) : ', m)\n",
    "            cleaned_item = re.sub(regex,'',cleaned_item)\n",
    "        #else:\n",
    "         #   print('-> No emoticons D: found')\n",
    "\n",
    "        #Script to replace words\n",
    "        ##Replace 'll to will\n",
    "        regex = r\"'ll\"\n",
    "        m = re.findall(regex, cleaned_item)\n",
    "        if m:\n",
    "            #print(\"Replacing 'll to will\")\n",
    "            cleaned_item = re.sub(regex,' will',cleaned_item)\n",
    "        ##Replace 've to have\n",
    "        regex = r\"'ve\"\n",
    "        m = re.findall(regex, cleaned_item)\n",
    "        if m:\n",
    "            #print(\"Replacing 've to have\")\n",
    "            cleaned_item = re.sub(regex,' have',cleaned_item)\n",
    "        ##Replace don't to do not\n",
    "        regex = r\"[Dd]on'?t\"\n",
    "        m = re.findall(regex, cleaned_item)\n",
    "        if m:\n",
    "            #print(\"Replacing don't to do not\")\n",
    "            cleaned_item = re.sub(regex,' do not',cleaned_item)\n",
    "        ##Replace aren't to are not\n",
    "        regex = r\"[Aa]ren'?t\"\n",
    "        m = re.findall(regex, cleaned_item)\n",
    "        if m:\n",
    "            #print(\"Replacing aren't to are not\")\n",
    "            cleaned_item = re.sub(regex,' are not',cleaned_item)\n",
    "        ##Replace won't to will not\n",
    "        regex = r\"[wW]on'?t\"\n",
    "        m = re.findall(regex, cleaned_item)\n",
    "        if m:\n",
    "            #print(\"Replacing won't to will not\")\n",
    "            cleaned_item = re.sub(regex,' will not',cleaned_item)\n",
    "        ##Replace can't to can not\n",
    "        regex = r\"[cC]an'?t\"\n",
    "        m = re.findall(regex, cleaned_item)\n",
    "        if m:\n",
    "            #print(\"Replacing can't to can not\")\n",
    "            cleaned_item = re.sub(regex,' can not',cleaned_item)\n",
    "        ##Replace shan't to shall not\n",
    "        regex = r\"[sS]han'?t\"\n",
    "        m = re.findall(regex, cleaned_item)\n",
    "        if m:\n",
    "            #print(\"Replacing shan't to shall not\")\n",
    "            cleaned_item = re.sub(regex,' shall not',cleaned_item)\n",
    "        ##Replace 'm to am\n",
    "        regex = r\"'m\"\n",
    "        m = re.findall(regex, cleaned_item)\n",
    "        if m:\n",
    "            #print(\"Replacing 'm to am'\")\n",
    "            cleaned_item = re.sub(regex,' am',cleaned_item)\n",
    "        ##Replace doesn't to does not\n",
    "        regex = r\"[dD]oesn'?t\"\n",
    "        m = re.findall(regex, cleaned_item)\n",
    "        if m:\n",
    "            #print(\"Replacing doesn't to does not\")\n",
    "            cleaned_item = re.sub(regex,' does not',cleaned_item)\n",
    "        ##Replace didn't to did not\n",
    "        regex = r\"[dD]idn'?t\"\n",
    "        m = re.findall(regex, cleaned_item)\n",
    "        if m:\n",
    "            #print(\"Replacing didn't to did not'\")\n",
    "            cleaned_item = re.sub(regex,' did not',cleaned_item)\n",
    "        ##Replace hasn't to has not\n",
    "        regex = r\"[hH]asn'?t\"\n",
    "        m = re.findall(regex, cleaned_item)\n",
    "        if m:\n",
    "            #print(\"Replacing hasn't to has not\")\n",
    "            cleaned_item = re.sub(regex,' has not',cleaned_item)\n",
    "        ##Replace haven't to have not\n",
    "        regex = r\"[hH]aven'?t\"\n",
    "        m = re.findall(regex, cleaned_item)\n",
    "        if m:\n",
    "            #print(\"Replacing haven't to have not'\")\n",
    "            cleaned_item = re.sub(regex,' have not',cleaned_item)\n",
    "        ##Replace wouldn't to would not\n",
    "        regex = r\"[wW]ouldn'?t\"\n",
    "        m = re.findall(regex, cleaned_item)\n",
    "        if m:\n",
    "            #print(\"Replacing wouldn't to would not\")\n",
    "            cleaned_item = re.sub(regex,' would not',cleaned_item)\n",
    "        ##Replace it's to it is\n",
    "        regex = r\"[iI]t's\"\n",
    "        m = re.findall(regex, cleaned_item)\n",
    "        if m:\n",
    "            #print(\"Replacing it's to it is\")\n",
    "            cleaned_item = re.sub(regex,' it is',cleaned_item)\n",
    "        ##Replace that's to that is\n",
    "        regex = r\"[tT]hat's\"\n",
    "        m = re.findall(regex, cleaned_item)\n",
    "        if m:\n",
    "            #print(\"Replacing wouldn't to would not\")\n",
    "            cleaned_item = re.sub(regex,' would not',cleaned_item)\n",
    "        ##Replace weren't to were not\n",
    "        regex = r\"[wW]eren'?t\"\n",
    "        m = re.findall(regex, cleaned_item)\n",
    "        if m:\n",
    "            #print(\"Replacing weren't to were not\")\n",
    "            cleaned_item = re.sub(regex,' were not',cleaned_item)\n",
    "        #display cleaned item\n",
    "        print()\n",
    "        print(cleaned_item.lower())\n",
    "        #append to cleaned list if it contains something\n",
    "        if not (cleaned_item.isspace()):\n",
    "            someList.append(cleaned_item.lower())\n",
    "    \n",
    "    print()\n",
    "    print(\"Total len of List: \"+str(len(someList)))"
   ]
  },
  {
   "cell_type": "code",
   "execution_count": null,
   "metadata": {},
   "outputs": [],
   "source": [
    "#Display output of the cleaned data\n",
    "someList"
   ]
  },
  {
   "cell_type": "code",
   "execution_count": null,
   "metadata": {},
   "outputs": [],
   "source": [
    "#Display the total count of rows in the data\n",
    "count"
   ]
  },
  {
   "cell_type": "code",
   "execution_count": null,
   "metadata": {},
   "outputs": [],
   "source": [
    "#Code to save cleaned data as txt files\n",
    "with open(\"FULL CLEANED DATA.txt\", \"w\") as output:\n",
    "    output.write(str(someList))"
   ]
  },
  {
   "cell_type": "code",
   "execution_count": 9,
   "metadata": {
    "scrolled": true
   },
   "outputs": [
    {
     "name": "stdout",
     "output_type": "stream",
     "text": [
      "s\n"
     ]
    }
   ],
   "source": [
    "data = open(\"FULL CLEANED DATA.txt\", \"r\")\n",
    "print(data.read())"
   ]
  },
  {
   "cell_type": "code",
   "execution_count": null,
   "metadata": {},
   "outputs": [],
   "source": []
  }
 ],
 "metadata": {
  "kernelspec": {
   "display_name": "Python 3",
   "language": "python",
   "name": "python3"
  },
  "language_info": {
   "codemirror_mode": {
    "name": "ipython",
    "version": 3
   },
   "file_extension": ".py",
   "mimetype": "text/x-python",
   "name": "python",
   "nbconvert_exporter": "python",
   "pygments_lexer": "ipython3",
   "version": "3.7.7"
  }
 },
 "nbformat": 4,
 "nbformat_minor": 4
}
