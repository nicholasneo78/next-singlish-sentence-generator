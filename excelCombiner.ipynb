{
 "metadata": {
  "language_info": {
   "codemirror_mode": {
    "name": "ipython",
    "version": 3
   },
   "file_extension": ".py",
   "mimetype": "text/x-python",
   "name": "python",
   "nbconvert_exporter": "python",
   "pygments_lexer": "ipython3",
   "version": "3.8.5-final"
  },
  "orig_nbformat": 2,
  "kernelspec": {
   "name": "python_defaultSpec_1598692021663",
   "display_name": "Python 3.8.5 64-bit"
  }
 },
 "nbformat": 4,
 "nbformat_minor": 2,
 "cells": [
  {
   "cell_type": "code",
   "execution_count": 47,
   "metadata": {},
   "outputs": [],
   "source": [
    "#Import necessary stuff\n",
    "import pandas as pd"
   ]
  },
  {
   "cell_type": "code",
   "execution_count": 48,
   "metadata": {},
   "outputs": [
    {
     "output_type": "execute_result",
     "data": {
      "text/plain": "['./scrapedData/scrapingData_ACJC-Confessions-365341810240423_FULL.xlsx',\n './scrapedData/scrapingData_andiechen_FULL.xlsx',\n './scrapedData/scrapingData_asrjcconfessions_FULL.xlsx',\n './scrapedData/scrapingData_bellywellyjelly_FULL.xlsx',\n './scrapedData/scrapingData_benjamin.kheng_FULL.xlsx',\n './scrapedData/scrapingData_bossyflossie_FULL.xlsx',\n './scrapedData/scrapingData_cjcroxx_FULL.xlsx',\n './scrapedData/scrapingData_DanielFoodDiary_FULL.xlsx',\n './scrapedData/scrapingData_DHS-Confessions-103690209814932_FULL.xlsx',\n './scrapedData/scrapingData_DollarsAndSenseSG_FULL.xlsx',\n './scrapedData/scrapingData_dreachongofficial_FULL.xlsx',\n './scrapedData/scrapingData_HwaChongConfessions_FULL.xlsx',\n './scrapedData/scrapingData_ieatishootipost_FULL.xlsx',\n './scrapedData/scrapingData_InnovaConfessions_FULL.xlsx',\n './scrapedData/scrapingData_ITE-College-Central-Confessions-102332676616681_FULL.xlsx',\n './scrapedData/scrapingData_ITE-College-West-Confessions-123845157793064_FULL.xlsx',\n './scrapedData/scrapingData_JjcConfessions_FULL.xlsx',\n './scrapedData/scrapingData_ladyironchef_FULL.xlsx',\n './scrapedData/scrapingData_moneysmartsg_FULL.xlsx',\n './scrapedData/scrapingData_mongabong_FULL.xlsx',\n './scrapedData/scrapingData_mrbrownlah_FULL.xlsx',\n './scrapedData/scrapingData_mykxii_FULL.xlsx',\n './scrapedData/scrapingData_NJC-Confessions-414721038609037_FULL.xlsx',\n './scrapedData/scrapingData_npconfession_FULL.xlsx',\n './scrapedData/scrapingData_NTUConfess_PART.xlsx',\n './scrapedData/scrapingData_nuswhispers_FULL.xlsx',\n './scrapedData/scrapingData_NYP-Confessions-118332335013023_FULL.xlsx',\n './scrapedData/scrapingData_RepublicPolyConfessions_FULL.xlsx',\n './scrapedData/scrapingData_RJConfessions_FULL.xlsx',\n './scrapedData/scrapingData_SajcConfessions_FULL.xlsx',\n './scrapedData/scrapingData_sethluimarketing_FULL.xlsx',\n './scrapedData/scrapingData_SGAG_FULL.xlsx',\n './scrapedData/scrapingData_simconfessions_FULL.xlsx',\n './scrapedData/scrapingData_SMUConfessionsPage_FULL.xlsx',\n './scrapedData/scrapingData_sophiewillocq_FULL.xlsx',\n './scrapedData/scrapingData_SP-Confessions-329564370479100_FULL.xlsx',\n './scrapedData/scrapingData_SUSSConfessions_FULL.xlsx',\n './scrapedData/scrapingData_therealnaomineo_FULL.xlsx',\n './scrapedData/scrapingData_TheSmartLocal_FULL.xlsx',\n './scrapedData/scrapingData_TJC-Confessions-133149643521172_FULL.xlsx',\n './scrapedData/scrapingData_tpconfession_FULL.xlsx',\n './scrapedData/scrapingData_yoyokulala_FULL.xlsx',\n './scrapedData/scrappingData_MemedefSG_FULL.xlsx',\n './scrapedData/scrappingData_SGAG.xlsx',\n './scrapedData/scrappingData_SGAG_FULL.xlsx',\n './scrapedData/scrappingData_singlish101_FULL.xlsx']"
     },
     "metadata": {},
     "execution_count": 48
    }
   ],
   "source": [
    "# Append the directory in the Scraper-Codes folder\n",
    "appendDir = './scrapedData/'\n",
    "tempList = os.listdir('scrapedData')\n",
    "finalList = list()\n",
    "for k in tempList:\n",
    "    finalList += [appendDir + k]\n",
    "    \n",
    "finalList"
   ]
  },
  {
   "cell_type": "code",
   "execution_count": 49,
   "metadata": {},
   "outputs": [],
   "source": [
    "fileList = ['./scrapedData/scrapingData_ACJC-Confessions-365341810240423_FULL.xlsx',\n",
    " './scrapedData/scrapingData_andiechen_FULL.xlsx',\n",
    " './scrapedData/scrapingData_asrjcconfessions_FULL.xlsx',\n",
    " './scrapedData/scrapingData_bellywellyjelly_FULL.xlsx',\n",
    " './scrapedData/scrapingData_benjamin.kheng_FULL.xlsx',\n",
    " './scrapedData/scrapingData_bossyflossie_FULL.xlsx',\n",
    " './scrapedData/scrapingData_cjcroxx_FULL.xlsx',\n",
    " './scrapedData/scrapingData_DanielFoodDiary_FULL.xlsx',\n",
    " './scrapedData/scrapingData_DHS-Confessions-103690209814932_FULL.xlsx',\n",
    " './scrapedData/scrapingData_DollarsAndSenseSG_FULL.xlsx',\n",
    " './scrapedData/scrapingData_dreachongofficial_FULL.xlsx',\n",
    " './scrapedData/scrapingData_HwaChongConfessions_FULL.xlsx',\n",
    " './scrapedData/scrapingData_ieatishootipost_FULL.xlsx',\n",
    " './scrapedData/scrapingData_InnovaConfessions_FULL.xlsx',\n",
    " './scrapedData/scrapingData_ITE-College-Central-Confessions-102332676616681_FULL.xlsx',\n",
    " './scrapedData/scrapingData_ITE-College-West-Confessions-123845157793064_FULL.xlsx',\n",
    " './scrapedData/scrapingData_JjcConfessions_FULL.xlsx',\n",
    " './scrapedData/scrapingData_ladyironchef_FULL.xlsx',\n",
    " './scrapedData/scrapingData_moneysmartsg_FULL.xlsx',\n",
    " './scrapedData/scrapingData_mongabong_FULL.xlsx',\n",
    " './scrapedData/scrapingData_mrbrownlah_FULL.xlsx',\n",
    " './scrapedData/scrapingData_mykxii_FULL.xlsx',\n",
    " './scrapedData/scrapingData_NJC-Confessions-414721038609037_FULL.xlsx',\n",
    " './scrapedData/scrapingData_npconfession_FULL.xlsx',\n",
    " './scrapedData/scrapingData_NTUConfess_PART.xlsx',\n",
    " './scrapedData/scrapingData_nuswhispers_FULL.xlsx',\n",
    " './scrapedData/scrapingData_NYP-Confessions-118332335013023_FULL.xlsx',\n",
    " './scrapedData/scrapingData_RepublicPolyConfessions_FULL.xlsx',\n",
    " './scrapedData/scrapingData_RJConfessions_FULL.xlsx',\n",
    " './scrapedData/scrapingData_SajcConfessions_FULL.xlsx',\n",
    " './scrapedData/scrapingData_sethluimarketing_FULL.xlsx',\n",
    " './scrapedData/scrapingData_SGAG_FULL.xlsx',\n",
    " './scrapedData/scrapingData_simconfessions_FULL.xlsx',\n",
    " './scrapedData/scrapingData_SMUConfessionsPage_FULL.xlsx']"
   ]
  },
  {
   "cell_type": "code",
   "execution_count": 50,
   "metadata": {},
   "outputs": [],
   "source": [
    "#Create a dataframe\n",
    "df = pd.DataFrame()\n",
    "\n",
    "# read them in\n",
    "excels = [pd.ExcelFile(item) for item in fileList]\n",
    "\n",
    "# turn them into dataframes\n",
    "frames = [x.parse(x.sheet_names[0], header=None,index_col=None) for x in excels]\n",
    "\n",
    "# delete the first row for all frames except the first\n",
    "# i.e. remove the header row -- assumes it's the first\n",
    "frames[1:] = [df[1:] for df in frames[1:]]\n",
    "\n",
    "# concatenate them..\n",
    "combined = pd.concat(frames)\n"
   ]
  },
  {
   "cell_type": "code",
   "execution_count": 51,
   "metadata": {},
   "outputs": [
    {
     "output_type": "error",
     "ename": "FileCreateError",
     "evalue": "[Errno 13] Permission denied: 'combinedScrapedData.xlsx'",
     "traceback": [
      "\u001b[1;31m---------------------------------------------------------------------------\u001b[0m",
      "\u001b[1;31mPermissionError\u001b[0m                           Traceback (most recent call last)",
      "\u001b[1;32mC:\\Python38\\lib\\site-packages\\xlsxwriter\\workbook.py\u001b[0m in \u001b[0;36mclose\u001b[1;34m(self)\u001b[0m\n\u001b[0;32m    315\u001b[0m             \u001b[1;32mtry\u001b[0m\u001b[1;33m:\u001b[0m\u001b[1;33m\u001b[0m\u001b[1;33m\u001b[0m\u001b[0m\n\u001b[1;32m--> 316\u001b[1;33m                 \u001b[0mself\u001b[0m\u001b[1;33m.\u001b[0m\u001b[0m_store_workbook\u001b[0m\u001b[1;33m(\u001b[0m\u001b[1;33m)\u001b[0m\u001b[1;33m\u001b[0m\u001b[1;33m\u001b[0m\u001b[0m\n\u001b[0m\u001b[0;32m    317\u001b[0m             \u001b[1;32mexcept\u001b[0m \u001b[0mIOError\u001b[0m \u001b[1;32mas\u001b[0m \u001b[0me\u001b[0m\u001b[1;33m:\u001b[0m\u001b[1;33m\u001b[0m\u001b[1;33m\u001b[0m\u001b[0m\n",
      "\u001b[1;32mC:\\Python38\\lib\\site-packages\\xlsxwriter\\workbook.py\u001b[0m in \u001b[0;36m_store_workbook\u001b[1;34m(self)\u001b[0m\n\u001b[0;32m    633\u001b[0m         \u001b[1;32mexcept\u001b[0m \u001b[0mIOError\u001b[0m \u001b[1;32mas\u001b[0m \u001b[0me\u001b[0m\u001b[1;33m:\u001b[0m\u001b[1;33m\u001b[0m\u001b[1;33m\u001b[0m\u001b[0m\n\u001b[1;32m--> 634\u001b[1;33m             \u001b[1;32mraise\u001b[0m \u001b[0me\u001b[0m\u001b[1;33m\u001b[0m\u001b[1;33m\u001b[0m\u001b[0m\n\u001b[0m\u001b[0;32m    635\u001b[0m \u001b[1;33m\u001b[0m\u001b[0m\n",
      "\u001b[1;32mC:\\Python38\\lib\\site-packages\\xlsxwriter\\workbook.py\u001b[0m in \u001b[0;36m_store_workbook\u001b[1;34m(self)\u001b[0m\n\u001b[0;32m    630\u001b[0m         \u001b[1;32mtry\u001b[0m\u001b[1;33m:\u001b[0m\u001b[1;33m\u001b[0m\u001b[1;33m\u001b[0m\u001b[0m\n\u001b[1;32m--> 631\u001b[1;33m             xlsx_file = ZipFile(self.filename, \"w\", compression=ZIP_DEFLATED,\n\u001b[0m\u001b[0;32m    632\u001b[0m                                 allowZip64=self.allow_zip64)\n",
      "\u001b[1;32mC:\\Python38\\lib\\zipfile.py\u001b[0m in \u001b[0;36m__init__\u001b[1;34m(self, file, mode, compression, allowZip64, compresslevel, strict_timestamps)\u001b[0m\n\u001b[0;32m   1250\u001b[0m                 \u001b[1;32mtry\u001b[0m\u001b[1;33m:\u001b[0m\u001b[1;33m\u001b[0m\u001b[1;33m\u001b[0m\u001b[0m\n\u001b[1;32m-> 1251\u001b[1;33m                     \u001b[0mself\u001b[0m\u001b[1;33m.\u001b[0m\u001b[0mfp\u001b[0m \u001b[1;33m=\u001b[0m \u001b[0mio\u001b[0m\u001b[1;33m.\u001b[0m\u001b[0mopen\u001b[0m\u001b[1;33m(\u001b[0m\u001b[0mfile\u001b[0m\u001b[1;33m,\u001b[0m \u001b[0mfilemode\u001b[0m\u001b[1;33m)\u001b[0m\u001b[1;33m\u001b[0m\u001b[1;33m\u001b[0m\u001b[0m\n\u001b[0m\u001b[0;32m   1252\u001b[0m                 \u001b[1;32mexcept\u001b[0m \u001b[0mOSError\u001b[0m\u001b[1;33m:\u001b[0m\u001b[1;33m\u001b[0m\u001b[1;33m\u001b[0m\u001b[0m\n",
      "\u001b[1;31mPermissionError\u001b[0m: [Errno 13] Permission denied: 'combinedScrapedData.xlsx'",
      "\nDuring handling of the above exception, another exception occurred:\n",
      "\u001b[1;31mFileCreateError\u001b[0m                           Traceback (most recent call last)",
      "\u001b[1;32m<ipython-input-51-d8a2efd10171>\u001b[0m in \u001b[0;36m<module>\u001b[1;34m\u001b[0m\n\u001b[0;32m      1\u001b[0m \u001b[1;31m#Save the output of the combined dataset into one excel\u001b[0m\u001b[1;33m\u001b[0m\u001b[1;33m\u001b[0m\u001b[1;33m\u001b[0m\u001b[0m\n\u001b[1;32m----> 2\u001b[1;33m \u001b[0mcombined\u001b[0m\u001b[1;33m.\u001b[0m\u001b[0mto_excel\u001b[0m\u001b[1;33m(\u001b[0m\u001b[1;34m\"combinedScrapedData.xlsx\"\u001b[0m\u001b[1;33m,\u001b[0m \u001b[0mheader\u001b[0m\u001b[1;33m=\u001b[0m\u001b[1;32mFalse\u001b[0m\u001b[1;33m,\u001b[0m \u001b[0mindex\u001b[0m\u001b[1;33m=\u001b[0m\u001b[1;32mFalse\u001b[0m\u001b[1;33m)\u001b[0m\u001b[1;33m\u001b[0m\u001b[1;33m\u001b[0m\u001b[0m\n\u001b[0m",
      "\u001b[1;32mC:\\Python38\\lib\\site-packages\\pandas\\core\\generic.py\u001b[0m in \u001b[0;36mto_excel\u001b[1;34m(self, excel_writer, sheet_name, na_rep, float_format, columns, header, index, index_label, startrow, startcol, engine, merge_cells, encoding, inf_rep, verbose, freeze_panes)\u001b[0m\n\u001b[0;32m   2021\u001b[0m             \u001b[0minf_rep\u001b[0m\u001b[1;33m=\u001b[0m\u001b[0minf_rep\u001b[0m\u001b[1;33m,\u001b[0m\u001b[1;33m\u001b[0m\u001b[1;33m\u001b[0m\u001b[0m\n\u001b[0;32m   2022\u001b[0m         )\n\u001b[1;32m-> 2023\u001b[1;33m         formatter.write(\n\u001b[0m\u001b[0;32m   2024\u001b[0m             \u001b[0mexcel_writer\u001b[0m\u001b[1;33m,\u001b[0m\u001b[1;33m\u001b[0m\u001b[1;33m\u001b[0m\u001b[0m\n\u001b[0;32m   2025\u001b[0m             \u001b[0msheet_name\u001b[0m\u001b[1;33m=\u001b[0m\u001b[0msheet_name\u001b[0m\u001b[1;33m,\u001b[0m\u001b[1;33m\u001b[0m\u001b[1;33m\u001b[0m\u001b[0m\n",
      "\u001b[1;32mC:\\Python38\\lib\\site-packages\\pandas\\io\\formats\\excel.py\u001b[0m in \u001b[0;36mwrite\u001b[1;34m(self, writer, sheet_name, startrow, startcol, freeze_panes, engine)\u001b[0m\n\u001b[0;32m    740\u001b[0m         )\n\u001b[0;32m    741\u001b[0m         \u001b[1;32mif\u001b[0m \u001b[0mneed_save\u001b[0m\u001b[1;33m:\u001b[0m\u001b[1;33m\u001b[0m\u001b[1;33m\u001b[0m\u001b[0m\n\u001b[1;32m--> 742\u001b[1;33m             \u001b[0mwriter\u001b[0m\u001b[1;33m.\u001b[0m\u001b[0msave\u001b[0m\u001b[1;33m(\u001b[0m\u001b[1;33m)\u001b[0m\u001b[1;33m\u001b[0m\u001b[1;33m\u001b[0m\u001b[0m\n\u001b[0m",
      "\u001b[1;32mC:\\Python38\\lib\\site-packages\\pandas\\io\\excel\\_xlsxwriter.py\u001b[0m in \u001b[0;36msave\u001b[1;34m(self)\u001b[0m\n\u001b[0;32m    191\u001b[0m         \u001b[0mSave\u001b[0m \u001b[0mworkbook\u001b[0m \u001b[0mto\u001b[0m \u001b[0mdisk\u001b[0m\u001b[1;33m.\u001b[0m\u001b[1;33m\u001b[0m\u001b[1;33m\u001b[0m\u001b[0m\n\u001b[0;32m    192\u001b[0m         \"\"\"\n\u001b[1;32m--> 193\u001b[1;33m         \u001b[1;32mreturn\u001b[0m \u001b[0mself\u001b[0m\u001b[1;33m.\u001b[0m\u001b[0mbook\u001b[0m\u001b[1;33m.\u001b[0m\u001b[0mclose\u001b[0m\u001b[1;33m(\u001b[0m\u001b[1;33m)\u001b[0m\u001b[1;33m\u001b[0m\u001b[1;33m\u001b[0m\u001b[0m\n\u001b[0m\u001b[0;32m    194\u001b[0m \u001b[1;33m\u001b[0m\u001b[0m\n\u001b[0;32m    195\u001b[0m     def write_cells(\n",
      "\u001b[1;32mC:\\Python38\\lib\\site-packages\\xlsxwriter\\workbook.py\u001b[0m in \u001b[0;36mclose\u001b[1;34m(self)\u001b[0m\n\u001b[0;32m    316\u001b[0m                 \u001b[0mself\u001b[0m\u001b[1;33m.\u001b[0m\u001b[0m_store_workbook\u001b[0m\u001b[1;33m(\u001b[0m\u001b[1;33m)\u001b[0m\u001b[1;33m\u001b[0m\u001b[1;33m\u001b[0m\u001b[0m\n\u001b[0;32m    317\u001b[0m             \u001b[1;32mexcept\u001b[0m \u001b[0mIOError\u001b[0m \u001b[1;32mas\u001b[0m \u001b[0me\u001b[0m\u001b[1;33m:\u001b[0m\u001b[1;33m\u001b[0m\u001b[1;33m\u001b[0m\u001b[0m\n\u001b[1;32m--> 318\u001b[1;33m                 \u001b[1;32mraise\u001b[0m \u001b[0mFileCreateError\u001b[0m\u001b[1;33m(\u001b[0m\u001b[0me\u001b[0m\u001b[1;33m)\u001b[0m\u001b[1;33m\u001b[0m\u001b[1;33m\u001b[0m\u001b[0m\n\u001b[0m\u001b[0;32m    319\u001b[0m             \u001b[1;32mexcept\u001b[0m \u001b[0mLargeZipFile\u001b[0m \u001b[1;32mas\u001b[0m \u001b[0me\u001b[0m\u001b[1;33m:\u001b[0m\u001b[1;33m\u001b[0m\u001b[1;33m\u001b[0m\u001b[0m\n\u001b[0;32m    320\u001b[0m                 raise FileSizeError(\"Filesize would require ZIP64 extensions. \"\n",
      "\u001b[1;31mFileCreateError\u001b[0m: [Errno 13] Permission denied: 'combinedScrapedData.xlsx'"
     ]
    }
   ],
   "source": [
    "#Save the output of the combined dataset into one excel\n",
    "combined.to_excel(\"combinedScrapedData.xlsx\", header=False, index=False)"
   ]
  },
  {
   "cell_type": "code",
   "execution_count": null,
   "metadata": {},
   "outputs": [],
   "source": []
  }
 ]
}