{
 "cells": [
  {
   "cell_type": "code",
   "execution_count": 19,
   "metadata": {},
   "outputs": [],
   "source": [
    "import requests\n",
    "import urllib\n",
    "import xlrd\n",
    "import os"
   ]
  },
  {
   "cell_type": "markdown",
   "metadata": {},
   "source": [
    "## Test Code"
   ]
  },
  {
   "cell_type": "code",
   "execution_count": 7,
   "metadata": {},
   "outputs": [],
   "source": [
    "file = \"scrapingData_andiechen_FULL.xlsx\""
   ]
  },
  {
   "cell_type": "code",
   "execution_count": 8,
   "metadata": {},
   "outputs": [],
   "source": [
    "workbook = xlrd.open_workbook(file)"
   ]
  },
  {
   "cell_type": "code",
   "execution_count": 10,
   "metadata": {},
   "outputs": [],
   "source": [
    "sheet = workbook.sheet_by_index(0)"
   ]
  },
  {
   "cell_type": "code",
   "execution_count": 11,
   "metadata": {},
   "outputs": [
    {
     "data": {
      "text/plain": [
       "<xlrd.sheet.Sheet at 0x2787fade7c8>"
      ]
     },
     "execution_count": 11,
     "metadata": {},
     "output_type": "execute_result"
    }
   ],
   "source": [
    "sheet"
   ]
  },
  {
   "cell_type": "code",
   "execution_count": 12,
   "metadata": {},
   "outputs": [
    {
     "data": {
      "text/plain": [
       "1699"
      ]
     },
     "execution_count": 12,
     "metadata": {},
     "output_type": "execute_result"
    }
   ],
   "source": [
    "sheet.nrows"
   ]
  },
  {
   "cell_type": "markdown",
   "metadata": {},
   "source": [
    "## Actual Code"
   ]
  },
  {
   "cell_type": "code",
   "execution_count": 21,
   "metadata": {},
   "outputs": [
    {
     "data": {
      "text/plain": [
       "'D:\\\\next-sentence-predictor'"
      ]
     },
     "execution_count": 21,
     "metadata": {},
     "output_type": "execute_result"
    }
   ],
   "source": [
    "os.getcwd()"
   ]
  },
  {
   "cell_type": "code",
   "execution_count": 23,
   "metadata": {},
   "outputs": [
    {
     "data": {
      "text/plain": [
       "['.git',\n",
       " '.ipynb_checkpoints',\n",
       " 'countNoOfLines.ipynb',\n",
       " 'LICENSE',\n",
       " 'README.md',\n",
       " 'Scraper-Codes',\n",
       " 'scrapingData_andiechen_FULL.xlsx',\n",
       " 'scrapingData_bellywellyjelly_FULL.xlsx',\n",
       " 'scrapingData_benjamin.kheng_FULL.xlsx',\n",
       " 'scrapingData_bossyflossie_FULL.xlsx',\n",
       " 'scrapingData_DanielFoodDiary_FULL.xlsx',\n",
       " 'scrapingData_DollarsAndSenseSG_FULL.xlsx',\n",
       " 'scrapingData_dreachongofficial_FULL.xlsx',\n",
       " 'scrapingData_ieatishootipost_FULL.xlsx',\n",
       " 'scrapingData_ladyironchef_FULL.xlsx',\n",
       " 'scrapingData_moneysmartsg_FULL.xlsx',\n",
       " 'scrapingData_mongabong_FULL.xlsx',\n",
       " 'scrapingData_mrbrownlah_FULL.xlsx',\n",
       " 'scrapingData_mykxii_FULL.xlsx',\n",
       " 'scrapingData_sethluimarketing_FULL.xlsx',\n",
       " 'scrapingData_sophiewillocq_FULL.xlsx',\n",
       " 'scrapingData_therealnaomineo_FULL.xlsx',\n",
       " 'scrapingData_TheSmartLocal_FULL.xlsx',\n",
       " 'scrapingData_yoyokulala_FULL.xlsx']"
      ]
     },
     "execution_count": 23,
     "metadata": {},
     "output_type": "execute_result"
    }
   ],
   "source": [
    "os.listdir()"
   ]
  },
  {
   "cell_type": "code",
   "execution_count": 24,
   "metadata": {},
   "outputs": [
    {
     "data": {
      "text/plain": [
       "['FBScraper.py',\n",
       " 'scrapingData_ACJC-Confessions-365341810240423_FULL.xlsx',\n",
       " 'scrapingData_asrjcconfessions_FULL.xlsx',\n",
       " 'scrapingData_cjcroxx_FULL.xlsx',\n",
       " 'scrapingData_DHS-Confessions-103690209814932_FULL.xlsx',\n",
       " 'scrapingData_HwaChongConfessions_FULL.xlsx',\n",
       " 'scrapingData_InnovaConfessions_FULL.xlsx',\n",
       " 'scrapingData_ITE-College-Central-Confessions-102332676616681_FULL.xlsx',\n",
       " 'scrapingData_ITE-College-West-Confessions-123845157793064_FULL.xlsx',\n",
       " 'scrapingData_JjcConfessions_FULL.xlsx',\n",
       " 'scrapingData_NJC-Confessions-414721038609037_FULL.xlsx',\n",
       " 'scrapingData_npconfession_FULL.xlsx',\n",
       " 'scrapingData_NTUConfess_PART.xlsx',\n",
       " 'scrapingData_nuswhispers_FULL.xlsx',\n",
       " 'scrapingData_NYP-Confessions-118332335013023_FULL.xlsx',\n",
       " 'scrapingData_RepublicPolyConfessions_FULL.xlsx',\n",
       " 'scrapingData_RJConfessions_FULL.xlsx',\n",
       " 'scrapingData_SajcConfessions_FULL.xlsx',\n",
       " 'scrapingData_SGAG_FULL.xlsx',\n",
       " 'scrapingData_simconfessions_FULL.xlsx',\n",
       " 'scrapingData_SMUConfessionsPage_FULL.xlsx',\n",
       " 'scrapingData_SP-Confessions-329564370479100_FULL.xlsx',\n",
       " 'scrapingData_SUSSConfessions_FULL.xlsx',\n",
       " 'scrapingData_TJC-Confessions-133149643521172_FULL.xlsx',\n",
       " 'scrapingData_tpconfession_FULL.xlsx']"
      ]
     },
     "execution_count": 24,
     "metadata": {},
     "output_type": "execute_result"
    }
   ],
   "source": [
    "# inside the Scraper-Codes folder\n",
    "os.listdir('Scraper-Codes')"
   ]
  },
  {
   "cell_type": "code",
   "execution_count": 41,
   "metadata": {},
   "outputs": [
    {
     "data": {
      "text/plain": [
       "['./Scraper-Codes/FBScraper.py',\n",
       " './Scraper-Codes/scrapingData_ACJC-Confessions-365341810240423_FULL.xlsx',\n",
       " './Scraper-Codes/scrapingData_asrjcconfessions_FULL.xlsx',\n",
       " './Scraper-Codes/scrapingData_cjcroxx_FULL.xlsx',\n",
       " './Scraper-Codes/scrapingData_DHS-Confessions-103690209814932_FULL.xlsx',\n",
       " './Scraper-Codes/scrapingData_HwaChongConfessions_FULL.xlsx',\n",
       " './Scraper-Codes/scrapingData_InnovaConfessions_FULL.xlsx',\n",
       " './Scraper-Codes/scrapingData_ITE-College-Central-Confessions-102332676616681_FULL.xlsx',\n",
       " './Scraper-Codes/scrapingData_ITE-College-West-Confessions-123845157793064_FULL.xlsx',\n",
       " './Scraper-Codes/scrapingData_JjcConfessions_FULL.xlsx',\n",
       " './Scraper-Codes/scrapingData_NJC-Confessions-414721038609037_FULL.xlsx',\n",
       " './Scraper-Codes/scrapingData_npconfession_FULL.xlsx',\n",
       " './Scraper-Codes/scrapingData_NTUConfess_PART.xlsx',\n",
       " './Scraper-Codes/scrapingData_nuswhispers_FULL.xlsx',\n",
       " './Scraper-Codes/scrapingData_NYP-Confessions-118332335013023_FULL.xlsx',\n",
       " './Scraper-Codes/scrapingData_RepublicPolyConfessions_FULL.xlsx',\n",
       " './Scraper-Codes/scrapingData_RJConfessions_FULL.xlsx',\n",
       " './Scraper-Codes/scrapingData_SajcConfessions_FULL.xlsx',\n",
       " './Scraper-Codes/scrapingData_SGAG_FULL.xlsx',\n",
       " './Scraper-Codes/scrapingData_simconfessions_FULL.xlsx',\n",
       " './Scraper-Codes/scrapingData_SMUConfessionsPage_FULL.xlsx',\n",
       " './Scraper-Codes/scrapingData_SP-Confessions-329564370479100_FULL.xlsx',\n",
       " './Scraper-Codes/scrapingData_SUSSConfessions_FULL.xlsx',\n",
       " './Scraper-Codes/scrapingData_TJC-Confessions-133149643521172_FULL.xlsx',\n",
       " './Scraper-Codes/scrapingData_tpconfession_FULL.xlsx']"
      ]
     },
     "execution_count": 41,
     "metadata": {},
     "output_type": "execute_result"
    }
   ],
   "source": [
    "# Append the directory in the Scraper-Codes folder\n",
    "appendDir = './Scraper-Codes/'\n",
    "tempList = os.listdir('Scraper-Codes')\n",
    "finalList = list()\n",
    "for k in tempList:\n",
    "    finalList += [appendDir + k]\n",
    "    \n",
    "finalList"
   ]
  },
  {
   "cell_type": "code",
   "execution_count": 42,
   "metadata": {},
   "outputs": [],
   "source": [
    "# Copy the above .xlsx files and paste into fileList\n",
    "fileList = ['./Scraper-Codes/scrapingData_ACJC-Confessions-365341810240423_FULL.xlsx',\n",
    "             './Scraper-Codes/scrapingData_asrjcconfessions_FULL.xlsx',\n",
    "             './Scraper-Codes/scrapingData_cjcroxx_FULL.xlsx',\n",
    "             './Scraper-Codes/scrapingData_DHS-Confessions-103690209814932_FULL.xlsx',\n",
    "             './Scraper-Codes/scrapingData_HwaChongConfessions_FULL.xlsx',\n",
    "             './Scraper-Codes/scrapingData_InnovaConfessions_FULL.xlsx',\n",
    "             './Scraper-Codes/scrapingData_ITE-College-Central-Confessions-102332676616681_FULL.xlsx',\n",
    "             './Scraper-Codes/scrapingData_ITE-College-West-Confessions-123845157793064_FULL.xlsx',\n",
    "             './Scraper-Codes/scrapingData_JjcConfessions_FULL.xlsx',\n",
    "             './Scraper-Codes/scrapingData_NJC-Confessions-414721038609037_FULL.xlsx',\n",
    "             './Scraper-Codes/scrapingData_npconfession_FULL.xlsx',\n",
    "             './Scraper-Codes/scrapingData_NTUConfess_PART.xlsx',\n",
    "             './Scraper-Codes/scrapingData_nuswhispers_FULL.xlsx',\n",
    "             './Scraper-Codes/scrapingData_NYP-Confessions-118332335013023_FULL.xlsx',\n",
    "             './Scraper-Codes/scrapingData_RepublicPolyConfessions_FULL.xlsx',\n",
    "             './Scraper-Codes/scrapingData_RJConfessions_FULL.xlsx',\n",
    "             './Scraper-Codes/scrapingData_SajcConfessions_FULL.xlsx',\n",
    "             './Scraper-Codes/scrapingData_SGAG_FULL.xlsx',\n",
    "             './Scraper-Codes/scrapingData_simconfessions_FULL.xlsx',\n",
    "             './Scraper-Codes/scrapingData_SMUConfessionsPage_FULL.xlsx',\n",
    "             './Scraper-Codes/scrapingData_SP-Confessions-329564370479100_FULL.xlsx',\n",
    "             './Scraper-Codes/scrapingData_SUSSConfessions_FULL.xlsx',\n",
    "             './Scraper-Codes/scrapingData_TJC-Confessions-133149643521172_FULL.xlsx',\n",
    "             './Scraper-Codes/scrapingData_tpconfession_FULL.xlsx']"
   ]
  },
  {
   "cell_type": "code",
   "execution_count": 43,
   "metadata": {},
   "outputs": [],
   "source": [
    "# initialise line count\n",
    "count = 0"
   ]
  },
  {
   "cell_type": "code",
   "execution_count": 44,
   "metadata": {},
   "outputs": [],
   "source": [
    "for file in fileList:\n",
    "    workbook = xlrd.open_workbook(file)\n",
    "    sheet = workbook.sheet_by_index(0)\n",
    "    count += sheet.nrows"
   ]
  },
  {
   "cell_type": "code",
   "execution_count": 45,
   "metadata": {},
   "outputs": [
    {
     "data": {
      "text/plain": [
       "40455"
      ]
     },
     "execution_count": 45,
     "metadata": {},
     "output_type": "execute_result"
    }
   ],
   "source": [
    "count"
   ]
  },
  {
   "cell_type": "code",
   "execution_count": null,
   "metadata": {},
   "outputs": [],
   "source": []
  }
 ],
 "metadata": {
  "kernelspec": {
   "display_name": "Python 3",
   "language": "python",
   "name": "python3"
  },
  "language_info": {
   "codemirror_mode": {
    "name": "ipython",
    "version": 3
   },
   "file_extension": ".py",
   "mimetype": "text/x-python",
   "name": "python",
   "nbconvert_exporter": "python",
   "pygments_lexer": "ipython3",
   "version": "3.7.7"
  }
 },
 "nbformat": 4,
 "nbformat_minor": 4
}
