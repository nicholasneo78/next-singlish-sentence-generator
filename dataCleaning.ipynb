{
 "cells": [
  {
   "cell_type": "code",
   "execution_count": 25,
   "metadata": {},
   "outputs": [],
   "source": [
    "import requests\n",
    "import urllib\n",
    "import xlrd\n",
    "import os\n",
    "#Code to import Regex\n",
    "import re"
   ]
  },
  {
   "cell_type": "markdown",
   "metadata": {},
   "source": [
    "## Test Code"
   ]
  },
  {
   "cell_type": "code",
   "execution_count": 2,
   "metadata": {},
   "outputs": [],
   "source": [
    "file = \"scrapingData_andiechen_FULL.xlsx\""
   ]
  },
  {
   "cell_type": "code",
   "execution_count": 3,
   "metadata": {},
   "outputs": [],
   "source": [
    "workbook = xlrd.open_workbook(file)"
   ]
  },
  {
   "cell_type": "code",
   "execution_count": 4,
   "metadata": {},
   "outputs": [],
   "source": [
    "sheet = workbook.sheet_by_index(0)"
   ]
  },
  {
   "cell_type": "code",
   "execution_count": 5,
   "metadata": {},
   "outputs": [
    {
     "output_type": "execute_result",
     "data": {
      "text/plain": "<xlrd.sheet.Sheet at 0x1f002a03d00>"
     },
     "metadata": {},
     "execution_count": 5
    }
   ],
   "source": [
    "sheet"
   ]
  },
  {
   "cell_type": "code",
   "execution_count": 6,
   "metadata": {},
   "outputs": [
    {
     "output_type": "execute_result",
     "data": {
      "text/plain": "1699"
     },
     "metadata": {},
     "execution_count": 6
    }
   ],
   "source": [
    "sheet.nrows"
   ]
  },
  {
   "cell_type": "markdown",
   "metadata": {},
   "source": [
    "## Actual Code"
   ]
  },
  {
   "cell_type": "code",
   "execution_count": 7,
   "metadata": {},
   "outputs": [
    {
     "output_type": "execute_result",
     "data": {
      "text/plain": "'c:\\\\Users\\\\65866\\\\Documents\\\\RandomCodes\\\\next-sentence-predictor'"
     },
     "metadata": {},
     "execution_count": 7
    }
   ],
   "source": [
    "os.getcwd()"
   ]
  },
  {
   "cell_type": "code",
   "execution_count": 8,
   "metadata": {},
   "outputs": [
    {
     "output_type": "execute_result",
     "data": {
      "text/plain": "['.git',\n '.ipynb_checkpoints',\n 'countNoOfLines.ipynb',\n 'dataCleaning.ipynb',\n 'LICENSE',\n 'README.md',\n 'Scraper-Codes',\n 'scrapingData_andiechen_FULL.xlsx',\n 'scrapingData_bellywellyjelly_FULL.xlsx',\n 'scrapingData_benjamin.kheng_FULL.xlsx',\n 'scrapingData_bossyflossie_FULL.xlsx',\n 'scrapingData_DanielFoodDiary_FULL.xlsx',\n 'scrapingData_DollarsAndSenseSG_FULL.xlsx',\n 'scrapingData_dreachongofficial_FULL.xlsx',\n 'scrapingData_ieatishootipost_FULL.xlsx',\n 'scrapingData_ladyironchef_FULL.xlsx',\n 'scrapingData_moneysmartsg_FULL.xlsx',\n 'scrapingData_mongabong_FULL.xlsx',\n 'scrapingData_mrbrownlah_FULL.xlsx',\n 'scrapingData_mykxii_FULL.xlsx',\n 'scrapingData_sethluimarketing_FULL.xlsx',\n 'scrapingData_sophiewillocq_FULL.xlsx',\n 'scrapingData_therealnaomineo_FULL.xlsx',\n 'scrapingData_TheSmartLocal_FULL.xlsx',\n 'scrapingData_yoyokulala_FULL.xlsx']"
     },
     "metadata": {},
     "execution_count": 8
    }
   ],
   "source": [
    "os.listdir()"
   ]
  },
  {
   "cell_type": "code",
   "execution_count": 9,
   "metadata": {},
   "outputs": [
    {
     "output_type": "execute_result",
     "data": {
      "text/plain": "['FBScraper.py',\n 'scrapingData_ACJC-Confessions-365341810240423_FULL.xlsx',\n 'scrapingData_asrjcconfessions_FULL.xlsx',\n 'scrapingData_cjcroxx_FULL.xlsx',\n 'scrapingData_DHS-Confessions-103690209814932_FULL.xlsx',\n 'scrapingData_HwaChongConfessions_FULL.xlsx',\n 'scrapingData_InnovaConfessions_FULL.xlsx',\n 'scrapingData_ITE-College-Central-Confessions-102332676616681_FULL.xlsx',\n 'scrapingData_ITE-College-West-Confessions-123845157793064_FULL.xlsx',\n 'scrapingData_JjcConfessions_FULL.xlsx',\n 'scrapingData_NJC-Confessions-414721038609037_FULL.xlsx',\n 'scrapingData_npconfession_FULL.xlsx',\n 'scrapingData_NTUConfess_PART.xlsx',\n 'scrapingData_nuswhispers_FULL.xlsx',\n 'scrapingData_NYP-Confessions-118332335013023_FULL.xlsx',\n 'scrapingData_RepublicPolyConfessions_FULL.xlsx',\n 'scrapingData_RJConfessions_FULL.xlsx',\n 'scrapingData_SajcConfessions_FULL.xlsx',\n 'scrapingData_SGAG_FULL.xlsx',\n 'scrapingData_simconfessions_FULL.xlsx',\n 'scrapingData_SMUConfessionsPage_FULL.xlsx',\n 'scrapingData_SP-Confessions-329564370479100_FULL.xlsx',\n 'scrapingData_SUSSConfessions_FULL.xlsx',\n 'scrapingData_TJC-Confessions-133149643521172_FULL.xlsx',\n 'scrapingData_tpconfession_FULL.xlsx']"
     },
     "metadata": {},
     "execution_count": 9
    }
   ],
   "source": [
    "# inside the Scraper-Codes folder\n",
    "os.listdir('Scraper-Codes')"
   ]
  },
  {
   "cell_type": "code",
   "execution_count": 10,
   "metadata": {},
   "outputs": [
    {
     "output_type": "execute_result",
     "data": {
      "text/plain": "['./Scraper-Codes/FBScraper.py',\n './Scraper-Codes/scrapingData_ACJC-Confessions-365341810240423_FULL.xlsx',\n './Scraper-Codes/scrapingData_asrjcconfessions_FULL.xlsx',\n './Scraper-Codes/scrapingData_cjcroxx_FULL.xlsx',\n './Scraper-Codes/scrapingData_DHS-Confessions-103690209814932_FULL.xlsx',\n './Scraper-Codes/scrapingData_HwaChongConfessions_FULL.xlsx',\n './Scraper-Codes/scrapingData_InnovaConfessions_FULL.xlsx',\n './Scraper-Codes/scrapingData_ITE-College-Central-Confessions-102332676616681_FULL.xlsx',\n './Scraper-Codes/scrapingData_ITE-College-West-Confessions-123845157793064_FULL.xlsx',\n './Scraper-Codes/scrapingData_JjcConfessions_FULL.xlsx',\n './Scraper-Codes/scrapingData_NJC-Confessions-414721038609037_FULL.xlsx',\n './Scraper-Codes/scrapingData_npconfession_FULL.xlsx',\n './Scraper-Codes/scrapingData_NTUConfess_PART.xlsx',\n './Scraper-Codes/scrapingData_nuswhispers_FULL.xlsx',\n './Scraper-Codes/scrapingData_NYP-Confessions-118332335013023_FULL.xlsx',\n './Scraper-Codes/scrapingData_RepublicPolyConfessions_FULL.xlsx',\n './Scraper-Codes/scrapingData_RJConfessions_FULL.xlsx',\n './Scraper-Codes/scrapingData_SajcConfessions_FULL.xlsx',\n './Scraper-Codes/scrapingData_SGAG_FULL.xlsx',\n './Scraper-Codes/scrapingData_simconfessions_FULL.xlsx',\n './Scraper-Codes/scrapingData_SMUConfessionsPage_FULL.xlsx',\n './Scraper-Codes/scrapingData_SP-Confessions-329564370479100_FULL.xlsx',\n './Scraper-Codes/scrapingData_SUSSConfessions_FULL.xlsx',\n './Scraper-Codes/scrapingData_TJC-Confessions-133149643521172_FULL.xlsx',\n './Scraper-Codes/scrapingData_tpconfession_FULL.xlsx']"
     },
     "metadata": {},
     "execution_count": 10
    }
   ],
   "source": [
    "# Append the directory in the Scraper-Codes folder\n",
    "appendDir = './Scraper-Codes/'\n",
    "tempList = os.listdir('Scraper-Codes')\n",
    "finalList = list()\n",
    "for k in tempList:\n",
    "    finalList += [appendDir + k]\n",
    "    \n",
    "finalList"
   ]
  },
  {
   "cell_type": "code",
   "execution_count": 21,
   "metadata": {},
   "outputs": [],
   "source": [
    "# Copy the above .xlsx files and paste into fileList\n",
    "fileList = ['./Scraper-Codes/scrapingData_ACJC-Confessions-365341810240423_FULL.xlsx',\n",
    "             './Scraper-Codes/scrapingData_asrjcconfessions_FULL.xlsx',\n",
    "             './Scraper-Codes/scrapingData_cjcroxx_FULL.xlsx',\n",
    "             './Scraper-Codes/scrapingData_DHS-Confessions-103690209814932_FULL.xlsx',\n",
    "             './Scraper-Codes/scrapingData_HwaChongConfessions_FULL.xlsx',\n",
    "             './Scraper-Codes/scrapingData_InnovaConfessions_FULL.xlsx',\n",
    "             './Scraper-Codes/scrapingData_ITE-College-Central-Confessions-102332676616681_FULL.xlsx',\n",
    "             './Scraper-Codes/scrapingData_ITE-College-West-Confessions-123845157793064_FULL.xlsx',\n",
    "             './Scraper-Codes/scrapingData_JjcConfessions_FULL.xlsx',\n",
    "             './Scraper-Codes/scrapingData_NJC-Confessions-414721038609037_FULL.xlsx',\n",
    "             './Scraper-Codes/scrapingData_npconfession_FULL.xlsx',\n",
    "             './Scraper-Codes/scrapingData_NTUConfess_PART.xlsx',\n",
    "             './Scraper-Codes/scrapingData_nuswhispers_FULL.xlsx',\n",
    "             './Scraper-Codes/scrapingData_NYP-Confessions-118332335013023_FULL.xlsx',\n",
    "             './Scraper-Codes/scrapingData_RepublicPolyConfessions_FULL.xlsx',\n",
    "             './Scraper-Codes/scrapingData_RJConfessions_FULL.xlsx',\n",
    "             './Scraper-Codes/scrapingData_SajcConfessions_FULL.xlsx',\n",
    "             './Scraper-Codes/scrapingData_SGAG_FULL.xlsx',\n",
    "             './Scraper-Codes/scrapingData_simconfessions_FULL.xlsx',\n",
    "             './Scraper-Codes/scrapingData_SMUConfessionsPage_FULL.xlsx',\n",
    "             './Scraper-Codes/scrapingData_SP-Confessions-329564370479100_FULL.xlsx',\n",
    "             './Scraper-Codes/scrapingData_SUSSConfessions_FULL.xlsx',\n",
    "             './Scraper-Codes/scrapingData_TJC-Confessions-133149643521172_FULL.xlsx',\n",
    "             './Scraper-Codes/scrapingData_tpconfession_FULL.xlsx']"
   ]
  },
  {
   "cell_type": "code",
   "execution_count": 12,
   "metadata": {},
   "outputs": [],
   "source": [
    "# initialise line count\n",
    "count = 0"
   ]
  },
  {
   "cell_type": "code",
   "execution_count": 30,
   "metadata": {},
   "outputs": [],
   "source": [
    "fileList = ['./Scraper-Codes/scrapingData_nuswhispers_FULL.xlsx']\n"
   ]
  },
  {
   "cell_type": "code",
   "execution_count": 42,
   "metadata": {
    "tags": [
     "outputPrepend"
    ]
   },
   "outputs": [
    {
     "output_type": "stream",
     "name": "stdout",
     "text": "llcurvegodplssave\n-\n#1889: http://www.nuswhispers.com/confession/1889\n\n---After encoding/decoding\n\n-> Found #:  ['#bellcurvegodplssave', '#1889:']\n\n-> No websites found\n\nWhen your lecturer sends out an e-mail apologising for the difficulty of a final exam.\n\n-\n http://www.nuswhispers.com/confession/1889\n\n---Before encode/decode at row 3820\nTL;DR: Sorry, my summary skill no good.\n\n#1839: It's funny how an anonymous page is taken so seriously; can't my friend and I troll together through both false confessions and commenting sardonically on some of the posts? We're all adults; can't we have some good fun mocking the elitist or the troll who deserves to be trolled?\n-\n#1847: http://nuswhispers.com/confession/1847\n\n---After encoding/decoding\n\n-> Found #:  ['#1839:', '#1847:']\n\n-> No websites found\n\nTL;DR: Sorry, my summary skill no good.\n\n It's funny how an anonymous page is taken so seriously; can't my friend and I troll together through both false confessions and commenting sardonically on some of the posts? We're all adults; can't we have some good fun mocking the elitist or the troll who deserves to be trolled?\n-\n http://nuswhispers.com/confession/1847\n\n---Before encode/decode at row 3821\n#1833\nwe're really similar, im also a yr 2 FOS student with cap below 3 and not sure which industry to go into in future, so youre not alone :)\nAs for internships, some companies do not hire based on cap (unless banks and all then is different), but rather based on your interview skills and if they see that you are suitable for the job. I recommend emailing the company HR directly instead of through talentconnect cos ive heard that talentconnect tends to recruit based on results and competition is steeper..\nWell, since youve considered going into the media industry means you have some interest in it right? You can consider doing internships or trying out jobs around that. Some of them dont require a specific major and if they see that you have the passion and capability, thn why not. It can be a stepping stone to your future career.\nThere's still time to figure out what you want to do in the future, find what your interests are and what you are good at and start from there :) A good cap doesnt determine everything. good luck!\n-\n#1843: http://nuswhispers.com/confession/1843\n\n---After encoding/decoding\n\n-> Found #:  ['#1833', '#1843:']\n\n-> No websites found\n\n\nwe're really similar, im also a yr 2 FOS student with cap below 3 and not sure which industry to go into in future, so youre not alone :)\nAs for internships, some companies do not hire based on cap (unless banks and all then is different), but rather based on your interview skills and if they see that you are suitable for the job. I recommend emailing the company HR directly instead of through talentconnect cos ive heard that talentconnect tends to recruit based on results and competition is steeper..\nWell, since youve considered going into the media industry means you have some interest in it right? You can consider doing internships or trying out jobs around that. Some of them dont require a specific major and if they see that you have the passion and capability, thn why not. It can be a stepping stone to your future career.\nThere's still time to figure out what you want to do in the future, find what your interests are and what you are good at and start from there :) A good cap doesnt determine everything. good luck!\n-\n http://nuswhispers.com/confession/1843\n\n---Before encode/decode at row 3822\nWith the recent memes mocking how \"engin\" girls are ugly compared to the pretty babes from biz and hipster chicks from sde; i would like to prove you guys wrong:\n-\n#1841: http://nuswhispers.com/confession/1841\n\n---After encoding/decoding\n\n-> Found #:  ['#1841:']\n\n-> No websites found\n\nWith the recent memes mocking how \"engin\" girls are ugly compared to the pretty babes from biz and hipster chicks from sde; i would like to prove you guys wrong:\n-\n http://nuswhispers.com/confession/1841\n\n---Before encode/decode at row 3823\ni like squeezing on the bus knowing that it's full just so that i get a chance to stand next to a cute girl.\n-\n#1816: http://nuswhispers.com/confession/1816\n\n---After encoding/decoding\n\n-> Found #:  ['#1816:']\n\n-> No websites found\n\ni like squeezing on the bus knowing that it's full just so that i get a chance to stand next to a cute girl.\n-\n http://nuswhispers.com/confession/1816\n\n---Before encode/decode at row 3824\n#1533: Taken note. Thanks. There's still time to find out more from his friends, I guess. Looking at the confessions and his recent posts, I'll think twice.\n-\n#1807: http://nuswhispers.com/confession/1807\n\n---After encoding/decoding\n\n-> Found #:  ['#1533:', '#1807:']\n\n-> No websites found\n\n Taken note. Thanks. There's still time to find out more from his friends, I guess. Looking at the confessions and his recent posts, I'll think twice.\n-\n http://nuswhispers.com/confession/1807\n\n---Before encode/decode at row 3825\nHi NUSwhisper,\n\nIt was the wrong color combination, it was supposed to be pink and then blue, not the other way round! could you please help amend! thanks for your help!\n-\n#1805: http://nuswhispers.com/confession/1805\n\n---After encoding/decoding\n\n-> Found #:  ['#1805:']\n\n-> No websites found\n\nHi NUSwhisper,\n\nIt was the wrong color combination, it was supposed to be pink and then blue, not the other way round! could you please help amend! thanks for your help!\n-\n http://nuswhispers.com/confession/1805\n\n---Before encode/decode at row 3826\nIt's the exam period and everyone is studying. So my close buddy, my gf and I were having lunch at YIH food junction. We were catching up and all when this douchebag in a black shirt came over to our table and told my close buddy \"can you please don't talk so loud.\"\n\nMy big question to him is \"If you need peace and quiet, WHY ARE YOU STUDYING IN A PLACE FOR EATING?!?!\"\n-\n#1794: http://nuswhispers.com/confession/1794\n\n---After encoding/decoding\n\n-> Found #:  ['#1794:']\n\n-> No websites found\n\nIt's the exam period and everyone is studying. So my close buddy, my gf and I were having lunch at YIH food junction. We were catching up and all when this douchebag in a black shirt came over to our table and told my close buddy \"can you please don't talk so loud.\"\n\nMy big question to him is \"If you need peace and quiet, WHY ARE YOU STUDYING IN A PLACE FOR EATING?!?!\"\n-\n http://nuswhispers.com/confession/1794\n\n---Before encode/decode at row 3827\nCouples in the library really need to learn how to shut up omg\n-\n#1791: http://nuswhispers.com/confession/1791\n\n---After encoding/decoding\n\n-> Found #:  ['#1791:']\n\n-> No websites found\n\nCouples in the library really need to learn how to shut up omg\n-\n http://nuswhispers.com/confession/1791\n\n---Before encode/decode at row 3828\nEvery exam since the beginning of time, my mum would encourage me all the way; grades were never as important as whether or not I tried my best. Since year 1, she would always text me words of encouragement and prayers and it became a staple for all my exams. This sem, she's fallen ill and is in hospital, can no longer be coherent in her thoughts, and not allowed a phone. Before my first paper, I was feeling strangely uncomfortable, and I realised it was because I was missing the pre-exam boost from her. I couldn't call her or text her, so I scrolled back to Nov 2014 (sem 1's exam) and tried to pretend that those words were said to me now.\n-\n#1775: http://nuswhispers.com/confession/1775\n\n---After encoding/decoding\n\n-> Found #:  ['#1775:']\n\n-> No websites found\n\nEvery exam since the beginning of time, my mum would encourage me all the way; grades were never as important as whether or not I tried my best. Since year 1, she would always text me words of encouragement and prayers and it became a staple for all my exams. This sem, she's fallen ill and is in hospital, can no longer be coherent in her thoughts, and not allowed a phone. Before my first paper, I was feeling strangely uncomfortable, and I realised it was because I was missing the pre-exam boost from her. I couldn't call her or text her, so I scrolled back to Nov 2014 (sem 1's exam) and tried to pretend that those words were said to me now.\n-\n http://nuswhispers.com/confession/1775\n\n---Before encode/decode at row 3829\nanyone in year 1 EC? haven't encountered many so far(none at all) and looking for course buddies!\n-\n#1770: http://nuswhispers.com/confession/1770\n\n---After encoding/decoding\n\n-> Found #:  ['#1770:']\n\n-> No websites found\n\nanyone in year 1 EC? haven't encountered many so far(none at all) and looking for course buddies!\n-\n http://nuswhispers.com/confession/1770\n\n---Before encode/decode at row 3830\nI hear advices about falling with a second person when you are still in relationship with the first one and deciding which one is the one you should follow. They quote Johnny Depp “If you love two people at the same time, choose the second. Because if you really loved the first one, you wouldn't have fallen for the second.”\n\nIt really kills me when I think back. I was in LDR with a guy back home and then kind of fell for a freshie in my 2nd year. I treated my bf really bad, never answer his sms or Facebook message and eventually we broke up. Things went on with the freshie for around 1-2 months and we realised we were not meant to be together.\n\nWell they say in love, follow your heart, and yeah I did, but then the important thing is know what you are doing, what is the thing that worth doing.\n\nNow I'm a single happy guy taking a break in this stressful exam period and wondering what I should do next for my love life.\n\n#getthingsoffmychest\n#2amAtSOC\n-\n#1738: http://nuswhispers.com/confession/1738\n\n---After encoding/decoding\n\n-> Found #:  ['#getthingsoffmychest', '#2amAtSOC', '#1738:']\n\n-> No websites found\n\nI hear advices about falling with a second person when you are still in relationship with the first one and deciding which one is the one you should follow. They quote Johnny Depp If you love two people at the same time, choose the second. Because if you really loved the first one, you wouldn't have fallen for the second.\n\nIt really kills me when I think back. I was in LDR with a guy back home and then kind of fell for a freshie in my 2nd year. I treated my bf really bad, never answer his sms or Facebook message and eventually we broke up. Things went on with the freshie for around 1-2 months and we realised we were not meant to be together.\n\nWell they say in love, follow your heart, and yeah I did, but then the important thing is know what you are doing, what is the thing that worth doing.\n\nNow I'm a single happy guy taking a break in this stressful exam period and wondering what I should do next for my love life.\n\n\n\n-\n http://nuswhispers.com/confession/1738\n\n---Before encode/decode at row 3831\nto #1684: at least in your case religion was the genuine reason (i hope). imagine getting rejected supposedly because of religion only to later on find out she got attached to someone else not of her religion.\n-\n#1734: http://nuswhispers.com/confession/1734\n\n---After encoding/decoding\n\n-> Found #:  ['#1684:', '#1734:']\n\n-> No websites found\n\nto  at least in your case religion was the genuine reason (i hope). imagine getting rejected supposedly because of religion only to later on find out she got attached to someone else not of her religion.\n-\n http://nuswhispers.com/confession/1734\n\n---Before encode/decode at row 3832\nYour advice please!\nI'm a girl crushing hard on a senior. He already graduated from NUS and our social circle is very different, so I didn't know how can I get closer to him. In the end, I asked a mutual friend to set us up.\nI was stupid to ask this particular friend because apparently he has no clue how to carry conversations and create a comfy atmosphere -___- . Still thankful that he at least tried tho LOL.\nAnyway I chat him some days after and he seems quite disinterested. He responded politely but not very enthusiastically. Also, he did not really ask anything back? So I thought to myself to just forget about it (wasn't very successful but I tried, ok?)\nOut of nowhere, a few weeks after, he suddenly messaged me, and his messages were sending a big flashing 'interested' signal. I was super excited obviously. We chatted quite a bit and I think we can probably hit it off? That was a couple weeks ago tho and we haven't contacted at all since then.\nSo my question is how can I proceed from this? Do you think I have a chance? Please be sincere, your response is very much appreciated!\n-\n#1728: http://nuswhispers.com/confession/1728\n\n---After encoding/decoding\n\n-> Found #:  ['#1728:']\n\n-> No websites found\n\nYour advice please!\nI'm a girl crushing hard on a senior. He already graduated from NUS and our social circle is very different, so I didn't know how can I get closer to him. In the end, I asked a mutual friend to set us up.\nI was stupid to ask this particular friend because apparently he has no clue how to carry conversations and create a comfy atmosphere -___- . Still thankful that he at least tried tho LOL.\nAnyway I chat him some days after and he seems quite disinterested. He responded politely but not very enthusiastically. Also, he did not really ask anything back? So I thought to myself to just forget about it (wasn't very successful but I tried, ok?)\nOut of nowhere, a few weeks after, he suddenly messaged me, and his messages were sending a big flashing 'interested' signal. I was super excited obviously. We chatted quite a bit and I think we can probably hit it off? That was a couple weeks ago tho and we haven't contacted at all since then.\nSo my question is how can I proceed from this? Do you think I have a chance? Please be sincere, your response is very much appreciated!\n-\n http://nuswhispers.com/confession/1728\n\n---Before encode/decode at row 3833\nTo #1685:\n\nHey, I don't know how competitive your batch is, but what I do know is that I can resonate with what you are feeling right now. The burgeoning amount of foreign scholars is really rendering us apprehensive. But, what I would like to share is that, I got into math, with A level results of only BBC/C. I am currently a Year 1, I too know the amount of competition we are plagued with. I did reasonably well, with CAP 4.3 in the first sem, I think that it is really about practicing the right questions. Don't do questions which are similar, so as to save time, instead, what I can suggest is that look at a range of different questions, asking for different things. It is really not about the quantity, but the quality of your revision, going by the old adage. Good luck for finals, and don't give up! Cheers!\n-\n#1717: http://nuswhispers.com/confession/1717\n\n---After encoding/decoding\n\n-> Found #:  ['#1685:', '#1717:']\n\n-> No websites found\n\nTo \n\nHey, I don't know how competitive your batch is, but what I do know is that I can resonate with what you are feeling right now. The burgeoning amount of foreign scholars is really rendering us apprehensive. But, what I would like to share is that, I got into math, with A level results of only BBC/C. I am currently a Year 1, I too know the amount of competition we are plagued with. I did reasonably well, with CAP 4.3 in the first sem, I think that it is really about practicing the right questions. Don't do questions which are similar, so as to save time, instead, what I can suggest is that look at a range of different questions, asking for different things. It is really not about the quantity, but the quality of your revision, going by the old adage. Good luck for finals, and don't give up! Cheers!\n-\n http://nuswhispers.com/confession/1717\n\n---Before encode/decode at row 3834\nThe run for internships is so stressful. Banks and finance companies only hire top class students, not to mention that they hire a lot of their client's relatives. Without being rich yourself, with only slightly above average grades are not enough. This past year after writing 80+ tailored letters and resumes, with each at least 30mins each, the amount of interview is just so little. How am I going to get a banking job when I can't even have the opportunity to get internship? Even with multiple networking mentors it's also not working, it so hard when u don't come from a rich family. Even hardworking also just can't beat top class. I just want to get out of poverty.\n-\n#1707: http://nuswhispers.com/confession/1707\n\n---After encoding/decoding\n\n-> Found #:  ['#1707:']\n\n-> No websites found\n\nThe run for internships is so stressful. Banks and finance companies only hire top class students, not to mention that they hire a lot of their client's relatives. Without being rich yourself, with only slightly above average grades are not enough. This past year after writing 80+ tailored letters and resumes, with each at least 30mins each, the amount of interview is just so little. How am I going to get a banking job when I can't even have the opportunity to get internship? Even with multiple networking mentors it's also not working, it so hard when u don't come from a rich family. Even hardworking also just can't beat top class. I just want to get out of poverty.\n-\n http://nuswhispers.com/confession/1707\n\n---Before encode/decode at row 3835\nMy mum makes birdnest for me for every exam ever since I can remember.\n\nFor those who are dishearten or just cannot find the strive to finish this exam. Keep going, as your parents and love ones have not given up on you yet. Exam isn't everything.\n世界未末日\n-\n#1705: http://nuswhispers.com/confession/1705\n\n---After encoding/decoding\n\n-> Found #:  ['#1705:']\n\n-> No websites found\n\nMy mum makes birdnest for me for every exam ever since I can remember.\n\nFor those who are dishearten or just cannot find the strive to finish this exam. Keep going, as your parents and love ones have not given up on you yet. Exam isn't everything.\n\n-\n http://nuswhispers.com/confession/1705\n\n---Before encode/decode at row 3836\nWhy the NUS internet seems to be frequently down ESPECIALLY at this period. Its not funny to press 'troubleshoot problems' in network settings 10 times an hour in a middle of webcasting.\n-\n#1704: http://nuswhispers.com/confession/1704\n\n---After encoding/decoding\n\n-> Found #:  ['#1704:']\n\n-> No websites found\n\nWhy the NUS internet seems to be frequently down ESPECIALLY at this period. Its not funny to press 'troubleshoot problems' in network settings 10 times an hour in a middle of webcasting.\n-\n http://nuswhispers.com/confession/1704\n\n---Before encode/decode at row 3837\nIt is the exam period, so here's a cute kitten photo for all!\n\nP.S. Cat lovers unite!\n-\n#1703: http://nuswhispers.com/confession/1703\n\n---After encoding/decoding\n\n-> Found #:  ['#1703:']\n\n-> No websites found\n\nIt is the exam period, so here's a cute kitten photo for all!\n\nP.S. Cat lovers unite!\n-\n http://nuswhispers.com/confession/1703\n\n---Before encode/decode at row 3838\nI unfollowed NUSWhispers because there were too many posts flooding my FB feed. Keeping it liked to support the page though. Anyone else? :)\n-\n#1696: http://nuswhispers.com/confession/1696\n\n---After encoding/decoding\n\n-> Found #:  ['#1696:']\n\n-> No websites found\n\nI unfollowed NUSWhispers because there were too many posts flooding my FB feed. Keeping it liked to support the page though. Anyone else? :)\n-\n http://nuswhispers.com/confession/1696\n\n---Before encode/decode at row 3839\nI need some advice. I just finished a freelance project and I want to make it open source as I believe the community could benefit from it. However, my client want to keep the source closed.\n\nWhat should I do?\n-\n#1688: http://nuswhispers.com/confession/1688\n\n---After encoding/decoding\n\n-> Found #:  ['#1688:']\n\n-> No websites found\n\nI need some advice. I just finished a freelance project and I want to make it open source as I believe the community could benefit from it. However, my client want to keep the source closed.\n\nWhat should I do?\n-\n http://nuswhispers.com/confession/1688\n\nTotal len of List: 3840\n"
    }
   ],
   "source": [
    "#Initialize some list\n",
    "someList = []\n",
    "\n",
    "#Script to open data\n",
    "for file in fileList:\n",
    "    workbook = xlrd.open_workbook(file)\n",
    "    sheet = workbook.sheet_by_index(0)\n",
    "    rows = sheet.nrows\n",
    "    for x in range(rows):\n",
    "        item = sheet.cell_value(x, 0)\n",
    "        # Prints the value of element at row x\n",
    "        print()\n",
    "        print(\"---Before encode/decode at row \"+str(x))\n",
    "        print(item)\n",
    "        print()\n",
    "        #Cleaning Codes\n",
    "        print(\"---After encoding/decoding\")\n",
    "        #Removed chinese characters and emojis\n",
    "        cleaned_item = str(item).encode(\"ascii\", errors = \"ignore\").decode()\n",
    "        #Code to clean for #hastags\n",
    "        print()\n",
    "        p = re.compile('#\\S+')\n",
    "        m = p.findall(cleaned_item)\n",
    "        if m:\n",
    "            print('-> Found #: ', m)\n",
    "            cleaned_item = re.sub('#\\S+','',cleaned_item)\n",
    "        else:\n",
    "            print('-> No # found')\n",
    "        #Code to clean for websites www\n",
    "        print()\n",
    "        regex = r\"(?i)\\b((?:https?://|www\\d{0,3}[.]|[a-z0-9.\\-]+[.][a-z]{2,4}/)(?:[^\\s()<>]+|\\(([^\\s()<>]+|(\\([^\\s()<>]+\\)))*\\))+(?:\\(([^\\s()<>]+|(\\([^\\s()<>]+\\)))*\\)|[^\\s`!()\\[\\]{};:'\\\".,<>?«»“”‘’]))\"\n",
    "        m2 = re.findall(regex,cleaned_item)\n",
    "        if m2:\n",
    "            print('-> Found websites: ', m2)\n",
    "            cleaned_item = re.sub(regex,'',cleaned_item)\n",
    "        else:\n",
    "            print('-> No websites found')\n",
    "        #Code to clean for tags [  ]\n",
    "\n",
    "        #Code to replace \\n with fullstop\n",
    "\n",
    "        #Code to replace date format\n",
    "\n",
    "        #Code to remove time\n",
    "\n",
    "        #Code to remove text emojis\n",
    "\n",
    "        #Code to remove circle bracket ()\n",
    "\n",
    "        #Code to remove mentions @\n",
    "\n",
    "        #display cleaned item\n",
    "        print()\n",
    "        print(cleaned_item)\n",
    "        #append to cleaned list\n",
    "        someList.append(cleaned_item)\n",
    "    \n",
    "    print()\n",
    "    print(\"Total len of List: \"+str(len(someList)))"
   ]
  },
  {
   "cell_type": "code",
   "execution_count": 24,
   "metadata": {},
   "outputs": [
    {
     "output_type": "execute_result",
     "data": {
      "text/plain": "all the best :):)\\n\\nOf course, as a proud AJCian, I would like to invite you to join the family!\",\n 'I still have an AJ blazer in my closet. Still in its pristine smurf-blue condition~',\n 'Hi! This is not a confession but I was just wondering if there is a prayer room for Muslim students?',\n 'to the person who said he/she was demoralised by exams set in ajc.. i would like to rebut that. i personally think that with an average brain (like mine) and consistent revision with of course completion of all homework (ok maybe not all, just 80%?), it would suffice. i didnt get exactly excellent grades but Bs were good enough for me to continue working hard towards As (both the grade and the exam). so please do not discourage sec sch students to not enter AJ or JCs in general just because of that. :)\\nto all juniors out there, do your homework conscientiously, pay attention in lectures and tutorials, sleep early if you know you will nod off in your lectures the next day, make use of breaks to do your homework instead of sleeping in nexus and all will be fine. :) good results do not come without any commitment. goodluck!',\n \"AJ is awesome, fantastic, & fabulous.\\n\\nReasons to join AJ\\n1) Academically strong\\n- 2011/2012 set best results in school history of average rank points 80.9\\n- Top 5 school in terms of A Level Results\\n\\n2) Good teachers & school leaders\\n- Caring, approachable, dedicated\\n- A significant number of teachers are ex-AJCians themselves\\n- Where can you find a principal that will stand in front of the general office every morning to greet students regardless if rain or shine\\n\\n3) Good classmates & schoolmates\\n- They are like your family\\n- Students here are genuine and care for fellow school mates\\n- If you go the elite IP schools, you may face discrimination from those smart IP students, and the elite schools may only invest heavily on IP students, but not other non-IP students.\\n- You will be able the feel the warmth of a big family in AJ\\n\\n4) Strong alumni support\\n- AJ Alumni Volunteer Tutoring programme every year has helped numerous JC2 students in their studies\\n\\n5) Vibrant school life & CCA\\n- AJ idol, AJ reignite, AJ Family day, AJ International Service Learning Trip etc are just some of the exciting programmes available for you to choose from.\\n\\nWith so many compelling reasons to join AJ, why hesitate? If someone were to tell u not AJ just because of our facilities not as new as other schools, just tell him that would u rather prefer to have a school with nice and great physical appearance and facilities but with uncaring classmates that don't bond well, OR would you rather to have a not so new facilities but great classmates to create an enjoyable and fun-filled experience of JC life?\\n\\nNot so new facilities should NOT in anyway affect the final decision in choosing a school.\\n\\nEvery school also mug. Is just AJ mug openly, thus we are given the title of mugger school. And mugger school doesn't mean a school with no life. AJ make mugging and enjoy school life coexist together.\\n\\nI am confident that choosing AJ will give you no regrets.\",\n '\"i dont really like sg unis because of its rigid ed system but dont have the money to study abroad. please advise!\"\\n\\nAnon here giving you some advice, hope it helps!\\nThe notion of SG Unis being rigid is not entirely accurate. I tend to think schools teach sudents to think rigidly, especially from JC level downwards, however you yourself can choose not to think rigidly! In fact, in Uni, the ability to think out of the box will actually reward you, as opposed to JC, where you\\'re forced to give model Cambridge answers to excel. Therefore, it\\'s all up to you!\\n\\nIf you\\'re still not convinced and wish to study overseas, here\\'s another set of advice: first, think of the course you desire to study.\\n\\n1) Is it available in local Unis + your scores are high enough for you to enter? Then study at undergraduate level in Local Unis, at the same time work part-time. After you graduate, you\\'ll be able to afford to study overseas at GRADUATE level. After all, many professions like Medicine and Architecture only allow you to enter the professional workforce after earning your graduate degree.\\n\\n2) If the course is NOT available locally, or your scores are not high enough for you to enter, then undergraduate overseas study becomes a viable option. If you\\'re really keen on studying overseas but have no money, there is no way out. Either a) take a bank loan b) try your best to get a scholarship c) take a few years off to actually work full time and earn the money to study overseas. Warning: if your parents don\\'t earn a lot, you can\\'t take a large bank loan due to banks\\' regulations. Most probably, the loan can only cover ~1 year of your overseas degree. Also don\\'t forget accomodation fees and costs of living! No easy path kiddo.\\n\\nAll the best to you regardless!',\n 'to all the secondary school graduates who are considering AJC, heres some advice for you all.\\n\\nAs most of you all might have heard, Anderson JC is a mugger school. That is generally true. But its not because the cohort consists of those natural muggers. Rather, normal students are turned to into muggers. the secret lie in the educators. the teachers who set crazy-difficult exams making us fail and fail and fail. it works two ways I guess. Either it pushes you to study harder, or it just demoralises you. clearly for me, it has been the latter. so if you guys need motivation and encouragement to get through JC life, AJ is definitely not the place for you and please consider elsewhere.\\n\\nj3',\n 'Hi, J6 here following the trend of seniors giving advices (if you guys actually need them).\\n\\nI encourage everyone to follow their passions in any field of study that you might be interested in, and it\\'s okay to be different, and the MOST IMPORTANT thing you have to bear in mind is never go on a path that you have zero interest in. NEVER ever think of enrolling for that particular course just because \"oh it\\'s the course with the highest cutoff that I can make it to\".\\n\\nI have friends around me who are enrolled in courses just because it\\'s the highest cutoff they can make it to and yup, like how you can demystify the plot of a movie, most of them are unhappy where they are now. Some of them even went to the extent of appealing entry to the courses via non-academic achievements but they now regret their decisions.\\n\\nThere is almost nothing impossible to achieve in this world as long as you set your mind into doing it and choosing the right course to study at the undergraduate level is a vital step you\\'ll have to decide FOR YOURSELF and not let any other people sway you.\\n\\nAnd anyway, if you need help in Economics at the JC level, just grab some introductory textbooks in the bookshops and most of them are conclusive enough for you to grasp the fundamentals of the subject. Otherwise, use Google and download the e-textbooks and they will work the same.\\n\\nNo one is more talented than anyone at studying. It takes effort it takes time.\\n\\nHappy new year!',\n 'J3 here. I would like to encourage taking economics instead (as if you have much choice in the first place).\\n\\nAlthough it will be harsh on your rank points for all the exams by AJC (just like other popular Arts subjects), it is pretty enlightening. You get to see how the economy works - and especially how Singapore is able to survive despite not having much natural resources. You will also make sense of the economic policies the government makes. You can also see the links between the different economic concepts and apply them (though unfortunately this makes the questions difficult).\\n\\nHere is a legit advice - H1 and H2 econs cover almost the same content. The questions and for H1 is easier in general I feel, but your grade depends on the bell curve mechanics.\\n\\nThere are some ways that economics that can be better learnt and taught. It is up to you to figure out.\\n\\nNevertheless, economics is good education. Definitely more relevant that 2,4-DNPH.',\n \"Reply to 'To the j5 who is enrolling in the accounting course ... related courses would be very intense. do you then think that you can excel in uni ?'\\n\\nI believe that I can compete with foreign competition in maths. I have some singapore maths olympiad awards and consistently top 2 percent in AJ Maths. Not trying to boast anything. But just want to point out that if u like maths and have the passion in it, just go for it. Same goes for other subject lovers. And foreign competition in engineering and accounting is also strong. In fact our local unis any course have strong foreign competitors. So go pursue your passion and you will definitely be able to compete with those foreign competition since you are motivated to do well in the subject u like.\",\n \"No doubt that the competition with the foreign scholars will be stiff in Math but I don't think that the competition in Accountancy will be any easier.\\nTruth be told, whichever course you go you'll face competition so just choose the course that you're interested in so you don't regret in the future.\\n\\n- a J4 who's currently studying Math in uni now\",\n 'to the j5 who is enrolling in the accounting course, although you may have performed well in math when you were younger, the competition with the (mostly china) scholars in math related courses would be very intense. do you then think that you can excel in uni ?',\n \"Hi fellow J5 here. After seeing the fellow J4's confession regarding choosing uni course, I would like to add on. I am going to ord from army in 2 months time. But I haven't completely decided of what uni course to undertake. I strongly advise juniors to start thinking of their desired course before the results of A level release.\\n\\nFor me, I took A Level results slip in 2013. With my result, I can enter almost all single degree courses except for those course that needs extra interviews (medicine). I chose between accounting and pharmacy that time as I think that the prospect is good, professional degree, and having high cut off points. I went for NUS scholarship interview & Health science scholarship interview for pharmacy. I failed terribly in the interview as I am not sure what i want to achieve in the future. I chose NTU accounting eventually in 2013.\\n\\nAfter this 2 years of NS gap years to think and after hearing from undergrad students in accounting that the amount of maths in accounting is very minimal, I am considering to change to study a maths degree in NTU or NUS. I have always like and did very well in maths since young. Though people may say maths degree may end up just become a teacher and not as 'useful' as an accounting degree, I feel that most importantly u must have passion in what u study. No point go into accounting for the good money and prospect if u don't like it. Going into a course that u have passion in will mean higher probability to score well in uni.\\n\\nFor those who have deep passion in maths, should consider pursue maths. Same goes for other subjects. A maths degree based on uni website can open doors to finance sector, research sector, teaching sector, etc. Thus, it is false to say that maths degree only lead to becoming a teacher.\\n\\nWhen you get your result slip and if you score well, it is common for students to tend to choose courses that have high cut off points which mean they are popular. My advice is don't follow the crowd. Don't apply medicine just because other friends all applied to medicine. Follow your passion is of utmost important. Passion will bring you further than what you can imagine.\\n\\nThe best choice of course is the one that suits your passion most, not the one that gives you the best money. Choose your course wisely. Do what you like in the future, and you will never have to drag yourself to go to work everyday.\",\n 'i dont really like sg unis because of its rigid ed system but dont have the money to study abroad. please advise!',\n \"Your fellow J4 here:\\n\\nHello J3s that just graduated! So A levels had ended one month ago and you guys probably had the best time of your life partying. Sorry for being a wet blanket but it's time to return to reality.\\n\\nI strongly urge all of you to start thinking about your future. Do not wait till the last minute to figure out what you are going to do with your life. The scariest thing about the A levels is you not being able to fufil your dream(of entering whichever uni or course). BUT the next most scariest thing that ALOT of people face is NOT KNOWING what you want after you get your results.\\n\\nI admit i was one of them. My A level results were actually good enough to enter any course i wanted but the problem was i didnt know what i wanted. This resulted in bad planning and applying for scholarahips i ended up rejecting but being left with none in the end.\\n( sorry not trying to brag but demonstrating the severity of the situation)\\n\\nNow is the best time to find out what you are interested in. Take on jobs that are somewhat related to the kind of job you want in the future. Read up about the course, research about unis AND DO NOT WAIT TILL THE LAST MINUTE\\n\\nFinally, do not just restrict yourself to the 3 top unis in Singapore. Keep your options open. Be flexible. A university education may not be everything. It's more important to do sometime you want that you find meaningful. At the end of the day, money and status will fail to motivate you to work hard. Only passion and a strong interest would. So look into your heart and ask yourself what you want to do and can do( in the most realistic way possible) You probably already knew the answer all along\",\n 'Potential juniors, just a word of advice. Do not take economics whether H1 or H2, just because half of the cohort takes it / it is a popular contrasting subject etc etc. Only take it if you have a certain passion or if you simply detest or really fail very badly at any other humanities subject. Econs is just not as easy as it looks or sounds.',\n \"You say FML for the smallest things like your life is over. But do you know what the girl next to you is going through? She has been doing well all her life. Until she entered JC. Thrown into a world she never felt belonged to. And that one exam she failed put all those years of hard work to waste. It's her fault you may say. If only you knew what she went through. She shed blood, sweat and tears. Literally. Late into the nights. Trying so hard to get her facts right. Suffering through migraines, excruciating back pains. Pain she never complained about. Never told anyone about. Her father whom she adores, never understands her. Constantly reminds her of that exam she failed. Compares her to her friends and cousins. She respects him and refuses to talk back when he scolds her. But little does he know silence doesn't mean consent all the time. He embarrasses her, insults her. But she doesn't say a word. The story of her life.\",\n 'Admin: Happy new year AJCians, past and present!',\n \"You truly only cherish something when it's gone.\\n\\nBack in AJ, I remember sailing past every day burying myself in schoolwork and not taking the time to stop for awhile and actually immerse myself in the people and the environment. If I had known that I would miss AJ so much, I would've spent more of my time and energy in the people and place rather than schoolwork.\\n\\nNote to soon-to-be J2s: Enjoy every day of your journey in AJ. It is short but it packs more of a punch than you would ever imagine. Sure, the A Levels is important, but the 2 years is, I assure you, something you will not want to blow and later, realise and regret.\",\n \"I really miss this school. The 2 years spent here, though wasn't too smooth, taught me a lot and really made me feel like home.\\n\\nWhereas Army is ****ed up... :(\",\n 'I miss my times in AJ. It was the best years of my life...',\n 'Hi, will the school bookshop or photocopy shop be opened during holiday :)?',\n 'Hi, does anyone know where to get good SAT books? Another question: do many AJ seniors take the SAT?',\n '\"It\\'s scary he quickly things dies. In just a couple of months confessions become no more.\\n-A J3\"',\n \"It's scary how quickly time flies. In just a couple of days we'll become J4s.\\n\\n-A J3\",\n \"Got a confession here :\\nGotta crush on Kelly Ng [ unsure of the class cause I'm not in AJ , sadly ]\\nJust wanna say i got a crush on you for quite long already , and hopefully you aren't attached :)\",\n \"Your fellow J3 here:\\n\\nI've just entered University in August and it's close to the end of sem 1. I just wanted to say most AJCians I have encountered are warm and friendly people. The year they graduated from AJ doesn't make a difference. We treat each other like one big family. AJCians are also very humble people, we don't brag but work hard to achieve. This did not occur to me until I entered university and witnessed for myself how differently students from the other JCs or schools behaved.\\n\\nTo the J2s that just graduated: keep that up and make us proud :)\",\n 'To the girl that was on the bus with me, you looked really cute :) wish i had the balls to say hi.',\n 'We now have an OFFICIAL AJC Facebook Page (https://www.facebook.com/andersonjuniorcollege)!! AJCians past and present, do like this page and spread word of its existence! Non Mihi Solum!',\n \"Our paths have crossed umpteen times, even before I fell for you. Thinking back on those days, I can't believe it took me so long. To notice you. To realise how much I actually admired you. Your smile, your glistening eyes, everything about you. Things are tough for me at the moment and you're the only one, only thing that brings a smile to my face.\\n\\nI'll miss you very very much. You're leaving and I just hope that your last week of A's are manageable for you. I'm not sure if these feelings will die down, but what I'm sure of, is that you've had a profound impact on my life. We have spoken once and till today, I replay the 2 mins over and over in my head again. I just can't get over it, or you, and I don't want to even try.\\n\\nMy Prince Charming, have a fruitful 2 years at NS and remember that life is much more that studies. You've got a beautiful family I wish to be a part of one day. You're a wonderful brother, son, friend and leader and I hope you find success in everything you do.\\n\\nWe might cross paths again one day, and we'll see where we end up. You've left me with beautiful memories, especially at the Ohana, where I started falling for you. It'll always be an important place to me.\\nYou indeed are the most valuable player. I value you. So much, words can't describe. My #9 hero.\\n\\nHAKUNA MATATA.\\nDON'T WORRY, BE HAPPY.\",\n 'super miss AJ :( had the best memories here...',\n 'So we have snakes in AJ everyday I learn something new',\n 'Finally I understand why AJC Math Department needs to set such paintaking papers :3',\n \"I can't believe Qn 10 n Q 11 totals to 27marks...\",\n \"Tip for the juniors doing 'A's now. Don't let your previous papers affect your upcoming ones. Leave the past behind and focus on what you still have to achieve.\",\n 'No matter what result you got, your life goes on. - E.H.',\n 'Can we use ezlink card instead of NRIC?',\n 'This night two years ago was the first time in my life i literally could not sleep at all for the entire night haha. How time flies. Cheers for all those taking A Levels tomorrow.',\n 'May I know the name of the couple which was from AJC I think they both graduated 1 or 2 years ago. And they have tattoo! I think the girl is currently in NUS',\n 'To the ajcians who saw me at the mummy ride at uss on friday night. Thanks for saying hi haha. Always nice to meet fellow ajcians. All the best for your promo results.',\n '\"Hey J2s! If you guys need help for GP, here\\'s a website that helps u with a myriad of GP skills. Gambatte guys!! All the way!\\nhttp://h1-gp-words-words.blogspot.sg/\"\\n\\nH1-GP-WORDS-WORDS.BLOGSPOT.COM\\nA Level H1 General Paper 8806',\n ...]"
     },
     "metadata": {},
     "execution_count": 24
    }
   ],
   "source": [
    "someList"
   ]
  },
  {
   "cell_type": "code",
   "execution_count": 15,
   "metadata": {},
   "outputs": [
    {
     "output_type": "execute_result",
     "data": {
      "text/plain": "40455"
     },
     "metadata": {},
     "execution_count": 15
    }
   ],
   "source": [
    "count"
   ]
  },
  {
   "cell_type": "code",
   "execution_count": null,
   "metadata": {},
   "outputs": [],
   "source": []
  }
 ],
 "metadata": {
  "kernelspec": {
   "display_name": "Python 3",
   "language": "python",
   "name": "python3"
  },
  "language_info": {
   "codemirror_mode": {
    "name": "ipython",
    "version": 3
   },
   "file_extension": ".py",
   "mimetype": "text/x-python",
   "name": "python",
   "nbconvert_exporter": "python",
   "pygments_lexer": "ipython3",
   "version": "3.8.5-final"
  }
 },
 "nbformat": 4,
 "nbformat_minor": 4
}