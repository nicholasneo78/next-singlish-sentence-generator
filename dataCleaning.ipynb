{
 "cells": [
  {
   "cell_type": "code",
   "execution_count": 25,
   "metadata": {},
   "outputs": [],
   "source": [
    "import requests\n",
    "import urllib\n",
    "import xlrd\n",
    "import os\n",
    "#Code to import Regex\n",
    "import re"
   ]
  },
  {
   "cell_type": "markdown",
   "metadata": {},
   "source": [
    "## Test Code"
   ]
  },
  {
   "cell_type": "code",
   "execution_count": 2,
   "metadata": {},
   "outputs": [],
   "source": [
    "file = \"scrapingData_andiechen_FULL.xlsx\""
   ]
  },
  {
   "cell_type": "code",
   "execution_count": 3,
   "metadata": {},
   "outputs": [],
   "source": [
    "workbook = xlrd.open_workbook(file)"
   ]
  },
  {
   "cell_type": "code",
   "execution_count": 4,
   "metadata": {},
   "outputs": [],
   "source": [
    "sheet = workbook.sheet_by_index(0)"
   ]
  },
  {
   "cell_type": "code",
   "execution_count": 5,
   "metadata": {},
   "outputs": [
    {
     "output_type": "execute_result",
     "data": {
      "text/plain": "<xlrd.sheet.Sheet at 0x1f002a03d00>"
     },
     "metadata": {},
     "execution_count": 5
    }
   ],
   "source": [
    "sheet"
   ]
  },
  {
   "cell_type": "code",
   "execution_count": 6,
   "metadata": {},
   "outputs": [
    {
     "output_type": "execute_result",
     "data": {
      "text/plain": "1699"
     },
     "metadata": {},
     "execution_count": 6
    }
   ],
   "source": [
    "sheet.nrows"
   ]
  },
  {
   "cell_type": "markdown",
   "metadata": {},
   "source": [
    "## Actual Code"
   ]
  },
  {
   "cell_type": "code",
   "execution_count": 7,
   "metadata": {},
   "outputs": [
    {
     "output_type": "execute_result",
     "data": {
      "text/plain": "'c:\\\\Users\\\\65866\\\\Documents\\\\RandomCodes\\\\next-sentence-predictor'"
     },
     "metadata": {},
     "execution_count": 7
    }
   ],
   "source": [
    "os.getcwd()"
   ]
  },
  {
   "cell_type": "code",
   "execution_count": 8,
   "metadata": {},
   "outputs": [
    {
     "output_type": "execute_result",
     "data": {
      "text/plain": "['.git',\n '.ipynb_checkpoints',\n 'countNoOfLines.ipynb',\n 'dataCleaning.ipynb',\n 'LICENSE',\n 'README.md',\n 'Scraper-Codes',\n 'scrapingData_andiechen_FULL.xlsx',\n 'scrapingData_bellywellyjelly_FULL.xlsx',\n 'scrapingData_benjamin.kheng_FULL.xlsx',\n 'scrapingData_bossyflossie_FULL.xlsx',\n 'scrapingData_DanielFoodDiary_FULL.xlsx',\n 'scrapingData_DollarsAndSenseSG_FULL.xlsx',\n 'scrapingData_dreachongofficial_FULL.xlsx',\n 'scrapingData_ieatishootipost_FULL.xlsx',\n 'scrapingData_ladyironchef_FULL.xlsx',\n 'scrapingData_moneysmartsg_FULL.xlsx',\n 'scrapingData_mongabong_FULL.xlsx',\n 'scrapingData_mrbrownlah_FULL.xlsx',\n 'scrapingData_mykxii_FULL.xlsx',\n 'scrapingData_sethluimarketing_FULL.xlsx',\n 'scrapingData_sophiewillocq_FULL.xlsx',\n 'scrapingData_therealnaomineo_FULL.xlsx',\n 'scrapingData_TheSmartLocal_FULL.xlsx',\n 'scrapingData_yoyokulala_FULL.xlsx']"
     },
     "metadata": {},
     "execution_count": 8
    }
   ],
   "source": [
    "os.listdir()"
   ]
  },
  {
   "cell_type": "code",
   "execution_count": 9,
   "metadata": {},
   "outputs": [
    {
     "output_type": "execute_result",
     "data": {
      "text/plain": "['FBScraper.py',\n 'scrapingData_ACJC-Confessions-365341810240423_FULL.xlsx',\n 'scrapingData_asrjcconfessions_FULL.xlsx',\n 'scrapingData_cjcroxx_FULL.xlsx',\n 'scrapingData_DHS-Confessions-103690209814932_FULL.xlsx',\n 'scrapingData_HwaChongConfessions_FULL.xlsx',\n 'scrapingData_InnovaConfessions_FULL.xlsx',\n 'scrapingData_ITE-College-Central-Confessions-102332676616681_FULL.xlsx',\n 'scrapingData_ITE-College-West-Confessions-123845157793064_FULL.xlsx',\n 'scrapingData_JjcConfessions_FULL.xlsx',\n 'scrapingData_NJC-Confessions-414721038609037_FULL.xlsx',\n 'scrapingData_npconfession_FULL.xlsx',\n 'scrapingData_NTUConfess_PART.xlsx',\n 'scrapingData_nuswhispers_FULL.xlsx',\n 'scrapingData_NYP-Confessions-118332335013023_FULL.xlsx',\n 'scrapingData_RepublicPolyConfessions_FULL.xlsx',\n 'scrapingData_RJConfessions_FULL.xlsx',\n 'scrapingData_SajcConfessions_FULL.xlsx',\n 'scrapingData_SGAG_FULL.xlsx',\n 'scrapingData_simconfessions_FULL.xlsx',\n 'scrapingData_SMUConfessionsPage_FULL.xlsx',\n 'scrapingData_SP-Confessions-329564370479100_FULL.xlsx',\n 'scrapingData_SUSSConfessions_FULL.xlsx',\n 'scrapingData_TJC-Confessions-133149643521172_FULL.xlsx',\n 'scrapingData_tpconfession_FULL.xlsx']"
     },
     "metadata": {},
     "execution_count": 9
    }
   ],
   "source": [
    "# inside the Scraper-Codes folder\n",
    "os.listdir('Scraper-Codes')"
   ]
  },
  {
   "cell_type": "code",
   "execution_count": 10,
   "metadata": {},
   "outputs": [
    {
     "output_type": "execute_result",
     "data": {
      "text/plain": "['./Scraper-Codes/FBScraper.py',\n './Scraper-Codes/scrapingData_ACJC-Confessions-365341810240423_FULL.xlsx',\n './Scraper-Codes/scrapingData_asrjcconfessions_FULL.xlsx',\n './Scraper-Codes/scrapingData_cjcroxx_FULL.xlsx',\n './Scraper-Codes/scrapingData_DHS-Confessions-103690209814932_FULL.xlsx',\n './Scraper-Codes/scrapingData_HwaChongConfessions_FULL.xlsx',\n './Scraper-Codes/scrapingData_InnovaConfessions_FULL.xlsx',\n './Scraper-Codes/scrapingData_ITE-College-Central-Confessions-102332676616681_FULL.xlsx',\n './Scraper-Codes/scrapingData_ITE-College-West-Confessions-123845157793064_FULL.xlsx',\n './Scraper-Codes/scrapingData_JjcConfessions_FULL.xlsx',\n './Scraper-Codes/scrapingData_NJC-Confessions-414721038609037_FULL.xlsx',\n './Scraper-Codes/scrapingData_npconfession_FULL.xlsx',\n './Scraper-Codes/scrapingData_NTUConfess_PART.xlsx',\n './Scraper-Codes/scrapingData_nuswhispers_FULL.xlsx',\n './Scraper-Codes/scrapingData_NYP-Confessions-118332335013023_FULL.xlsx',\n './Scraper-Codes/scrapingData_RepublicPolyConfessions_FULL.xlsx',\n './Scraper-Codes/scrapingData_RJConfessions_FULL.xlsx',\n './Scraper-Codes/scrapingData_SajcConfessions_FULL.xlsx',\n './Scraper-Codes/scrapingData_SGAG_FULL.xlsx',\n './Scraper-Codes/scrapingData_simconfessions_FULL.xlsx',\n './Scraper-Codes/scrapingData_SMUConfessionsPage_FULL.xlsx',\n './Scraper-Codes/scrapingData_SP-Confessions-329564370479100_FULL.xlsx',\n './Scraper-Codes/scrapingData_SUSSConfessions_FULL.xlsx',\n './Scraper-Codes/scrapingData_TJC-Confessions-133149643521172_FULL.xlsx',\n './Scraper-Codes/scrapingData_tpconfession_FULL.xlsx']"
     },
     "metadata": {},
     "execution_count": 10
    }
   ],
   "source": [
    "# Append the directory in the Scraper-Codes folder\n",
    "appendDir = './Scraper-Codes/'\n",
    "tempList = os.listdir('Scraper-Codes')\n",
    "finalList = list()\n",
    "for k in tempList:\n",
    "    finalList += [appendDir + k]\n",
    "    \n",
    "finalList"
   ]
  },
  {
   "cell_type": "code",
   "execution_count": 21,
   "metadata": {},
   "outputs": [],
   "source": [
    "# Copy the above .xlsx files and paste into fileList\n",
    "fileList = ['./Scraper-Codes/scrapingData_ACJC-Confessions-365341810240423_FULL.xlsx',\n",
    "             './Scraper-Codes/scrapingData_asrjcconfessions_FULL.xlsx',\n",
    "             './Scraper-Codes/scrapingData_cjcroxx_FULL.xlsx',\n",
    "             './Scraper-Codes/scrapingData_DHS-Confessions-103690209814932_FULL.xlsx',\n",
    "             './Scraper-Codes/scrapingData_HwaChongConfessions_FULL.xlsx',\n",
    "             './Scraper-Codes/scrapingData_InnovaConfessions_FULL.xlsx',\n",
    "             './Scraper-Codes/scrapingData_ITE-College-Central-Confessions-102332676616681_FULL.xlsx',\n",
    "             './Scraper-Codes/scrapingData_ITE-College-West-Confessions-123845157793064_FULL.xlsx',\n",
    "             './Scraper-Codes/scrapingData_JjcConfessions_FULL.xlsx',\n",
    "             './Scraper-Codes/scrapingData_NJC-Confessions-414721038609037_FULL.xlsx',\n",
    "             './Scraper-Codes/scrapingData_npconfession_FULL.xlsx',\n",
    "             './Scraper-Codes/scrapingData_NTUConfess_PART.xlsx',\n",
    "             './Scraper-Codes/scrapingData_nuswhispers_FULL.xlsx',\n",
    "             './Scraper-Codes/scrapingData_NYP-Confessions-118332335013023_FULL.xlsx',\n",
    "             './Scraper-Codes/scrapingData_RepublicPolyConfessions_FULL.xlsx',\n",
    "             './Scraper-Codes/scrapingData_RJConfessions_FULL.xlsx',\n",
    "             './Scraper-Codes/scrapingData_SajcConfessions_FULL.xlsx',\n",
    "             './Scraper-Codes/scrapingData_SGAG_FULL.xlsx',\n",
    "             './Scraper-Codes/scrapingData_simconfessions_FULL.xlsx',\n",
    "             './Scraper-Codes/scrapingData_SMUConfessionsPage_FULL.xlsx',\n",
    "             './Scraper-Codes/scrapingData_SP-Confessions-329564370479100_FULL.xlsx',\n",
    "             './Scraper-Codes/scrapingData_SUSSConfessions_FULL.xlsx',\n",
    "             './Scraper-Codes/scrapingData_TJC-Confessions-133149643521172_FULL.xlsx',\n",
    "             './Scraper-Codes/scrapingData_tpconfession_FULL.xlsx']"
   ]
  },
  {
   "cell_type": "code",
   "execution_count": 12,
   "metadata": {},
   "outputs": [],
   "source": [
    "# initialise line count\n",
    "count = 0"
   ]
  },
  {
   "cell_type": "code",
   "execution_count": 30,
   "metadata": {},
   "outputs": [],
   "source": [
    "fileList = ['./Scraper-Codes/scrapingData_ladyironchef_FULL.xlsx']\n"
   ]
  },
  {
   "cell_type": "code",
   "execution_count": 45,
   "metadata": {
    "tags": [
     "outputPrepend"
    ]
   },
   "outputs": [
    {
     "output_type": "stream",
     "name": "stdout",
     "text": "ers.com/confession/1847', '', '', '', '')]\n\n-> No [tag] found\n\nTL;DR: Sorry, my summary skill no good.\n\n It's funny how an anonymous page is taken so seriously; can't my friend and I troll together through both false confessions and commenting sardonically on some of the posts? We're all adults; can't we have some good fun mocking the elitist or the troll who deserves to be trolled?\n-\n \n\n---Before encode/decode at row 3821\n#1833\nwe're really similar, im also a yr 2 FOS student with cap below 3 and not sure which industry to go into in future, so youre not alone :)\nAs for internships, some companies do not hire based on cap (unless banks and all then is different), but rather based on your interview skills and if they see that you are suitable for the job. I recommend emailing the company HR directly instead of through talentconnect cos ive heard that talentconnect tends to recruit based on results and competition is steeper..\nWell, since youve considered going into the media industry means you have some interest in it right? You can consider doing internships or trying out jobs around that. Some of them dont require a specific major and if they see that you have the passion and capability, thn why not. It can be a stepping stone to your future career.\nThere's still time to figure out what you want to do in the future, find what your interests are and what you are good at and start from there :) A good cap doesnt determine everything. good luck!\n-\n#1843: http://nuswhispers.com/confession/1843\n\n---After encoding/decoding\n\n-> Found #:  ['#1833', '#1843:']\n\n-> Found websites:  [('http://nuswhispers.com/confession/1843', '', '', '', '')]\n\n-> No [tag] found\n\n\nwe're really similar, im also a yr 2 FOS student with cap below 3 and not sure which industry to go into in future, so youre not alone :)\nAs for internships, some companies do not hire based on cap (unless banks and all then is different), but rather based on your interview skills and if they see that you are suitable for the job. I recommend emailing the company HR directly instead of through talentconnect cos ive heard that talentconnect tends to recruit based on results and competition is steeper..\nWell, since youve considered going into the media industry means you have some interest in it right? You can consider doing internships or trying out jobs around that. Some of them dont require a specific major and if they see that you have the passion and capability, thn why not. It can be a stepping stone to your future career.\nThere's still time to figure out what you want to do in the future, find what your interests are and what you are good at and start from there :) A good cap doesnt determine everything. good luck!\n-\n \n\n---Before encode/decode at row 3822\nWith the recent memes mocking how \"engin\" girls are ugly compared to the pretty babes from biz and hipster chicks from sde; i would like to prove you guys wrong:\n-\n#1841: http://nuswhispers.com/confession/1841\n\n---After encoding/decoding\n\n-> Found #:  ['#1841:']\n\n-> Found websites:  [('http://nuswhispers.com/confession/1841', '', '', '', '')]\n\n-> No [tag] found\n\nWith the recent memes mocking how \"engin\" girls are ugly compared to the pretty babes from biz and hipster chicks from sde; i would like to prove you guys wrong:\n-\n \n\n---Before encode/decode at row 3823\ni like squeezing on the bus knowing that it's full just so that i get a chance to stand next to a cute girl.\n-\n#1816: http://nuswhispers.com/confession/1816\n\n---After encoding/decoding\n\n-> Found #:  ['#1816:']\n\n-> Found websites:  [('http://nuswhispers.com/confession/1816', '', '', '', '')]\n\n-> No [tag] found\n\ni like squeezing on the bus knowing that it's full just so that i get a chance to stand next to a cute girl.\n-\n \n\n---Before encode/decode at row 3824\n#1533: Taken note. Thanks. There's still time to find out more from his friends, I guess. Looking at the confessions and his recent posts, I'll think twice.\n-\n#1807: http://nuswhispers.com/confession/1807\n\n---After encoding/decoding\n\n-> Found #:  ['#1533:', '#1807:']\n\n-> Found websites:  [('http://nuswhispers.com/confession/1807', '', '', '', '')]\n\n-> No [tag] found\n\n Taken note. Thanks. There's still time to find out more from his friends, I guess. Looking at the confessions and his recent posts, I'll think twice.\n-\n \n\n---Before encode/decode at row 3825\nHi NUSwhisper,\n\nIt was the wrong color combination, it was supposed to be pink and then blue, not the other way round! could you please help amend! thanks for your help!\n-\n#1805: http://nuswhispers.com/confession/1805\n\n---After encoding/decoding\n\n-> Found #:  ['#1805:']\n\n-> Found websites:  [('http://nuswhispers.com/confession/1805', '', '', '', '')]\n\n-> No [tag] found\n\nHi NUSwhisper,\n\nIt was the wrong color combination, it was supposed to be pink and then blue, not the other way round! could you please help amend! thanks for your help!\n-\n \n\n---Before encode/decode at row 3826\nIt's the exam period and everyone is studying. So my close buddy, my gf and I were having lunch at YIH food junction. We were catching up and all when this douchebag in a black shirt came over to our table and told my close buddy \"can you please don't talk so loud.\"\n\nMy big question to him is \"If you need peace and quiet, WHY ARE YOU STUDYING IN A PLACE FOR EATING?!?!\"\n-\n#1794: http://nuswhispers.com/confession/1794\n\n---After encoding/decoding\n\n-> Found #:  ['#1794:']\n\n-> Found websites:  [('http://nuswhispers.com/confession/1794', '', '', '', '')]\n\n-> No [tag] found\n\nIt's the exam period and everyone is studying. So my close buddy, my gf and I were having lunch at YIH food junction. We were catching up and all when this douchebag in a black shirt came over to our table and told my close buddy \"can you please don't talk so loud.\"\n\nMy big question to him is \"If you need peace and quiet, WHY ARE YOU STUDYING IN A PLACE FOR EATING?!?!\"\n-\n \n\n---Before encode/decode at row 3827\nCouples in the library really need to learn how to shut up omg\n-\n#1791: http://nuswhispers.com/confession/1791\n\n---After encoding/decoding\n\n-> Found #:  ['#1791:']\n\n-> Found websites:  [('http://nuswhispers.com/confession/1791', '', '', '', '')]\n\n-> No [tag] found\n\nCouples in the library really need to learn how to shut up omg\n-\n \n\n---Before encode/decode at row 3828\nEvery exam since the beginning of time, my mum would encourage me all the way; grades were never as important as whether or not I tried my best. Since year 1, she would always text me words of encouragement and prayers and it became a staple for all my exams. This sem, she's fallen ill and is in hospital, can no longer be coherent in her thoughts, and not allowed a phone. Before my first paper, I was feeling strangely uncomfortable, and I realised it was because I was missing the pre-exam boost from her. I couldn't call her or text her, so I scrolled back to Nov 2014 (sem 1's exam) and tried to pretend that those words were said to me now.\n-\n#1775: http://nuswhispers.com/confession/1775\n\n---After encoding/decoding\n\n-> Found #:  ['#1775:']\n\n-> Found websites:  [('http://nuswhispers.com/confession/1775', '', '', '', '')]\n\n-> No [tag] found\n\nEvery exam since the beginning of time, my mum would encourage me all the way; grades were never as important as whether or not I tried my best. Since year 1, she would always text me words of encouragement and prayers and it became a staple for all my exams. This sem, she's fallen ill and is in hospital, can no longer be coherent in her thoughts, and not allowed a phone. Before my first paper, I was feeling strangely uncomfortable, and I realised it was because I was missing the pre-exam boost from her. I couldn't call her or text her, so I scrolled back to Nov 2014 (sem 1's exam) and tried to pretend that those words were said to me now.\n-\n \n\n---Before encode/decode at row 3829\nanyone in year 1 EC? haven't encountered many so far(none at all) and looking for course buddies!\n-\n#1770: http://nuswhispers.com/confession/1770\n\n---After encoding/decoding\n\n-> Found #:  ['#1770:']\n\n-> Found websites:  [('http://nuswhispers.com/confession/1770', '', '', '', '')]\n\n-> No [tag] found\n\nanyone in year 1 EC? haven't encountered many so far(none at all) and looking for course buddies!\n-\n \n\n---Before encode/decode at row 3830\nI hear advices about falling with a second person when you are still in relationship with the first one and deciding which one is the one you should follow. They quote Johnny Depp “If you love two people at the same time, choose the second. Because if you really loved the first one, you wouldn't have fallen for the second.”\n\nIt really kills me when I think back. I was in LDR with a guy back home and then kind of fell for a freshie in my 2nd year. I treated my bf really bad, never answer his sms or Facebook message and eventually we broke up. Things went on with the freshie for around 1-2 months and we realised we were not meant to be together.\n\nWell they say in love, follow your heart, and yeah I did, but then the important thing is know what you are doing, what is the thing that worth doing.\n\nNow I'm a single happy guy taking a break in this stressful exam period and wondering what I should do next for my love life.\n\n#getthingsoffmychest\n#2amAtSOC\n-\n#1738: http://nuswhispers.com/confession/1738\n\n---After encoding/decoding\n\n-> Found #:  ['#getthingsoffmychest', '#2amAtSOC', '#1738:']\n\n-> Found websites:  [('http://nuswhispers.com/confession/1738', '', '', '', '')]\n\n-> No [tag] found\n\nI hear advices about falling with a second person when you are still in relationship with the first one and deciding which one is the one you should follow. They quote Johnny Depp If you love two people at the same time, choose the second. Because if you really loved the first one, you wouldn't have fallen for the second.\n\nIt really kills me when I think back. I was in LDR with a guy back home and then kind of fell for a freshie in my 2nd year. I treated my bf really bad, never answer his sms or Facebook message and eventually we broke up. Things went on with the freshie for around 1-2 months and we realised we were not meant to be together.\n\nWell they say in love, follow your heart, and yeah I did, but then the important thing is know what you are doing, what is the thing that worth doing.\n\nNow I'm a single happy guy taking a break in this stressful exam period and wondering what I should do next for my love life.\n\n\n\n-\n \n\n---Before encode/decode at row 3831\nto #1684: at least in your case religion was the genuine reason (i hope). imagine getting rejected supposedly because of religion only to later on find out she got attached to someone else not of her religion.\n-\n#1734: http://nuswhispers.com/confession/1734\n\n---After encoding/decoding\n\n-> Found #:  ['#1684:', '#1734:']\n\n-> Found websites:  [('http://nuswhispers.com/confession/1734', '', '', '', '')]\n\n-> No [tag] found\n\nto  at least in your case religion was the genuine reason (i hope). imagine getting rejected supposedly because of religion only to later on find out she got attached to someone else not of her religion.\n-\n \n\n---Before encode/decode at row 3832\nYour advice please!\nI'm a girl crushing hard on a senior. He already graduated from NUS and our social circle is very different, so I didn't know how can I get closer to him. In the end, I asked a mutual friend to set us up.\nI was stupid to ask this particular friend because apparently he has no clue how to carry conversations and create a comfy atmosphere -___- . Still thankful that he at least tried tho LOL.\nAnyway I chat him some days after and he seems quite disinterested. He responded politely but not very enthusiastically. Also, he did not really ask anything back? So I thought to myself to just forget about it (wasn't very successful but I tried, ok?)\nOut of nowhere, a few weeks after, he suddenly messaged me, and his messages were sending a big flashing 'interested' signal. I was super excited obviously. We chatted quite a bit and I think we can probably hit it off? That was a couple weeks ago tho and we haven't contacted at all since then.\nSo my question is how can I proceed from this? Do you think I have a chance? Please be sincere, your response is very much appreciated!\n-\n#1728: http://nuswhispers.com/confession/1728\n\n---After encoding/decoding\n\n-> Found #:  ['#1728:']\n\n-> Found websites:  [('http://nuswhispers.com/confession/1728', '', '', '', '')]\n\n-> No [tag] found\n\nYour advice please!\nI'm a girl crushing hard on a senior. He already graduated from NUS and our social circle is very different, so I didn't know how can I get closer to him. In the end, I asked a mutual friend to set us up.\nI was stupid to ask this particular friend because apparently he has no clue how to carry conversations and create a comfy atmosphere -___- . Still thankful that he at least tried tho LOL.\nAnyway I chat him some days after and he seems quite disinterested. He responded politely but not very enthusiastically. Also, he did not really ask anything back? So I thought to myself to just forget about it (wasn't very successful but I tried, ok?)\nOut of nowhere, a few weeks after, he suddenly messaged me, and his messages were sending a big flashing 'interested' signal. I was super excited obviously. We chatted quite a bit and I think we can probably hit it off? That was a couple weeks ago tho and we haven't contacted at all since then.\nSo my question is how can I proceed from this? Do you think I have a chance? Please be sincere, your response is very much appreciated!\n-\n \n\n---Before encode/decode at row 3833\nTo #1685:\n\nHey, I don't know how competitive your batch is, but what I do know is that I can resonate with what you are feeling right now. The burgeoning amount of foreign scholars is really rendering us apprehensive. But, what I would like to share is that, I got into math, with A level results of only BBC/C. I am currently a Year 1, I too know the amount of competition we are plagued with. I did reasonably well, with CAP 4.3 in the first sem, I think that it is really about practicing the right questions. Don't do questions which are similar, so as to save time, instead, what I can suggest is that look at a range of different questions, asking for different things. It is really not about the quantity, but the quality of your revision, going by the old adage. Good luck for finals, and don't give up! Cheers!\n-\n#1717: http://nuswhispers.com/confession/1717\n\n---After encoding/decoding\n\n-> Found #:  ['#1685:', '#1717:']\n\n-> Found websites:  [('http://nuswhispers.com/confession/1717', '', '', '', '')]\n\n-> No [tag] found\n\nTo \n\nHey, I don't know how competitive your batch is, but what I do know is that I can resonate with what you are feeling right now. The burgeoning amount of foreign scholars is really rendering us apprehensive. But, what I would like to share is that, I got into math, with A level results of only BBC/C. I am currently a Year 1, I too know the amount of competition we are plagued with. I did reasonably well, with CAP 4.3 in the first sem, I think that it is really about practicing the right questions. Don't do questions which are similar, so as to save time, instead, what I can suggest is that look at a range of different questions, asking for different things. It is really not about the quantity, but the quality of your revision, going by the old adage. Good luck for finals, and don't give up! Cheers!\n-\n \n\n---Before encode/decode at row 3834\nThe run for internships is so stressful. Banks and finance companies only hire top class students, not to mention that they hire a lot of their client's relatives. Without being rich yourself, with only slightly above average grades are not enough. This past year after writing 80+ tailored letters and resumes, with each at least 30mins each, the amount of interview is just so little. How am I going to get a banking job when I can't even have the opportunity to get internship? Even with multiple networking mentors it's also not working, it so hard when u don't come from a rich family. Even hardworking also just can't beat top class. I just want to get out of poverty.\n-\n#1707: http://nuswhispers.com/confession/1707\n\n---After encoding/decoding\n\n-> Found #:  ['#1707:']\n\n-> Found websites:  [('http://nuswhispers.com/confession/1707', '', '', '', '')]\n\n-> No [tag] found\n\nThe run for internships is so stressful. Banks and finance companies only hire top class students, not to mention that they hire a lot of their client's relatives. Without being rich yourself, with only slightly above average grades are not enough. This past year after writing 80+ tailored letters and resumes, with each at least 30mins each, the amount of interview is just so little. How am I going to get a banking job when I can't even have the opportunity to get internship? Even with multiple networking mentors it's also not working, it so hard when u don't come from a rich family. Even hardworking also just can't beat top class. I just want to get out of poverty.\n-\n \n\n---Before encode/decode at row 3835\nMy mum makes birdnest for me for every exam ever since I can remember.\n\nFor those who are dishearten or just cannot find the strive to finish this exam. Keep going, as your parents and love ones have not given up on you yet. Exam isn't everything.\n世界未末日\n-\n#1705: http://nuswhispers.com/confession/1705\n\n---After encoding/decoding\n\n-> Found #:  ['#1705:']\n\n-> Found websites:  [('http://nuswhispers.com/confession/1705', '', '', '', '')]\n\n-> No [tag] found\n\nMy mum makes birdnest for me for every exam ever since I can remember.\n\nFor those who are dishearten or just cannot find the strive to finish this exam. Keep going, as your parents and love ones have not given up on you yet. Exam isn't everything.\n\n-\n \n\n---Before encode/decode at row 3836\nWhy the NUS internet seems to be frequently down ESPECIALLY at this period. Its not funny to press 'troubleshoot problems' in network settings 10 times an hour in a middle of webcasting.\n-\n#1704: http://nuswhispers.com/confession/1704\n\n---After encoding/decoding\n\n-> Found #:  ['#1704:']\n\n-> Found websites:  [('http://nuswhispers.com/confession/1704', '', '', '', '')]\n\n-> No [tag] found\n\nWhy the NUS internet seems to be frequently down ESPECIALLY at this period. Its not funny to press 'troubleshoot problems' in network settings 10 times an hour in a middle of webcasting.\n-\n \n\n---Before encode/decode at row 3837\nIt is the exam period, so here's a cute kitten photo for all!\n\nP.S. Cat lovers unite!\n-\n#1703: http://nuswhispers.com/confession/1703\n\n---After encoding/decoding\n\n-> Found #:  ['#1703:']\n\n-> Found websites:  [('http://nuswhispers.com/confession/1703', '', '', '', '')]\n\n-> No [tag] found\n\nIt is the exam period, so here's a cute kitten photo for all!\n\nP.S. Cat lovers unite!\n-\n \n\n---Before encode/decode at row 3838\nI unfollowed NUSWhispers because there were too many posts flooding my FB feed. Keeping it liked to support the page though. Anyone else? :)\n-\n#1696: http://nuswhispers.com/confession/1696\n\n---After encoding/decoding\n\n-> Found #:  ['#1696:']\n\n-> Found websites:  [('http://nuswhispers.com/confession/1696', '', '', '', '')]\n\n-> No [tag] found\n\nI unfollowed NUSWhispers because there were too many posts flooding my FB feed. Keeping it liked to support the page though. Anyone else? :)\n-\n \n\n---Before encode/decode at row 3839\nI need some advice. I just finished a freelance project and I want to make it open source as I believe the community could benefit from it. However, my client want to keep the source closed.\n\nWhat should I do?\n-\n#1688: http://nuswhispers.com/confession/1688\n\n---After encoding/decoding\n\n-> Found #:  ['#1688:']\n\n-> Found websites:  [('http://nuswhispers.com/confession/1688', '', '', '', '')]\n\n-> No [tag] found\n\nI need some advice. I just finished a freelance project and I want to make it open source as I believe the community could benefit from it. However, my client want to keep the source closed.\n\nWhat should I do?\n-\n \n\nTotal len of List: 3840\n"
    }
   ],
   "source": [
    "#Initialize some list\n",
    "someList = []\n",
    "\n",
    "#Script to open data\n",
    "for file in fileList:\n",
    "    workbook = xlrd.open_workbook(file)\n",
    "    sheet = workbook.sheet_by_index(0)\n",
    "    rows = sheet.nrows\n",
    "    for x in range(rows):\n",
    "        item = sheet.cell_value(x, 0)\n",
    "        # Prints the value of element at row x\n",
    "        print()\n",
    "        print(\"---Before encode/decode at row \"+str(x))\n",
    "        print(item)\n",
    "        print()\n",
    "        #Cleaning Codes\n",
    "        print(\"---After encoding/decoding\")\n",
    "        #Removed chinese characters and emojis\n",
    "        cleaned_item = str(item).encode(\"ascii\", errors = \"ignore\").decode()\n",
    "        #Code to clean for #hastags\n",
    "        print()\n",
    "        p = re.compile('#\\S+')\n",
    "        m = p.findall(cleaned_item)\n",
    "        if m:\n",
    "            print('-> Found #: ', m)\n",
    "            cleaned_item = re.sub('#\\S+','',cleaned_item)\n",
    "        else:\n",
    "            print('-> No # found')\n",
    "        #Code to clean for websites www\n",
    "        print()\n",
    "        regex = r\"(?i)\\b((?:https?://|www\\d{0,3}[.]|[a-z0-9.\\-]+[.][a-z]{2,4}/)(?:[^\\s()<>]+|\\(([^\\s()<>]+|(\\([^\\s()<>]+\\)))*\\))+(?:\\(([^\\s()<>]+|(\\([^\\s()<>]+\\)))*\\)|[^\\s`!()\\[\\]{};:'\\\".,<>?«»“”‘’]))\"\n",
    "        m2 = re.findall(regex,cleaned_item)\n",
    "        if m2:\n",
    "            print('-> Found websites: ', m2)\n",
    "            cleaned_item = re.sub(regex,'',cleaned_item)\n",
    "        else:\n",
    "            print('-> No websites found')\n",
    "        #Code to clean for tags [  ]\n",
    "        print()\n",
    "        p = re.compile('\\[\\S*\\]')\n",
    "        m = p.findall(cleaned_item)\n",
    "        if m:\n",
    "            print('-> Found [tag]: ', m)\n",
    "            cleaned_item = re.sub('\\[\\S*\\]','',cleaned_item)\n",
    "        else:\n",
    "            print('-> No [tag] found')\n",
    "        #Code to replace \\n with fullstop\n",
    "\n",
    "        #Code to replace date format\n",
    "\n",
    "        #Code to remove time\n",
    "\n",
    "        #Code to remove text emojis\n",
    "\n",
    "        #Code to remove circle bracket ()\n",
    "\n",
    "        #Code to remove mentions @\n",
    "\n",
    "        #display cleaned item\n",
    "        print()\n",
    "        print(cleaned_item)\n",
    "        #append to cleaned list\n",
    "        someList.append(cleaned_item)\n",
    "    \n",
    "    print()\n",
    "    print(\"Total len of List: \"+str(len(someList)))"
   ]
  },
  {
   "cell_type": "code",
   "execution_count": 44,
   "metadata": {},
   "outputs": [
    {
     "output_type": "execute_result",
     "data": {
      "text/plain": " cry?\\n\\nI really never cried at a single song or movie before. What can I do about this?\\n-\\n ',\n 'How important is it to keep friendships outside of your relationship? I have been attached for 2 years and during this time, Ive put all my friendships in the freezer. Now if I want to talk to my former friends, it has become difficult and awkward. I have spend a lot of time as a couple and my social skills have rusted during this time. Im also introverted and its very hard for me to make new friends. If my girlfriend were to leave me for whatever reason, Ill really be all alone and scared.\\n-\\n ',\n 'Mr H YD. Guy from dating app. Want you to be his gf but in fact, he got a few already ????\\nGot caught cheating but still trying to save his ass\\n-\\n ',\n 'This has nothing to do with NUS life in general, but I still hope that this will be posted on NUSWhispers.\\n\\nI was working part-time at a bubble tea store when this incident happened.\\n\\nThere was this customer who ordered bubble tea and requested for lesser sugar for his bubble tea. I made him a cup of bubble tea with 80% sugar.\\n\\nAfter taking a sip, he complaint to the senior staff that he requested for lesser sugar, but I didn\\'t reduce the sugar level enough. His definition of lesser is 50%\\n\\nFortunately, the senior staff didn\\'t blame me for it. It could be possible that that senior staff was a nice guy(definitely one of the reasons) or my senior staff felt that it wasn\\'t my fault.\\n\\nDo you all think it was my fault? I felt that the customer was partially at fault for using the vague word \"lesser\" instead telling me more clearly that he actually wanted 50% or half sugar.\\n-\\n ',\n 'Do the engineering faculties practice direct honours for undergraduate degrees? Or do they also follow the CAP 3 margin to attain an honours degree?\\n-\\n ',\n 'Freshie wont understand this\\n-\\n ',\n 'Anybody can teach me how to earn money and get wealthy? Really want my parents to enjoy lives when they are old instead of still having to worry about our family finances. Probably can teach about investments or like stocks? Really need some advice because none of my family members know much about finances.\\n-\\n ',\n \"I have this dear friend who was diagnosed with a deadly illness since young. Besides that, she has always been battling with extreme life stressors that include severe anxiety issues. Regardless, she always faced difficult life challenges bravely and up till today I still look up to her so much because I don't know anyone else who is as strong as her. In the past, she never complains much, never whines about having to work night shifts to make financial ends meet. It was super difficult to see her in school, because she was always busy with work or had to stay at home to recover from her frequent sickness. Every time we meet up, she will always have a smile on her face as she gently encourage me to look on the brighter side whenever i rant to her about my trivial problems. Now as I look back as these memories, I feel regretful as I realised I have never really done my part as her one of her closer friends whom she trusts more that the others. My friend, if you are reading this, I really miss you and I hope you will be able to defeat this monster that has been torturing you since forever. And I know you will be able to survive this ordeal and come back even stronger.\\n-\\n \",\n \"This sounds more beautiful in Chinese, but here's the rough translation: it's not easy to meet someone who is compatible and who touches your heart. If both sides put in a bit more effort, things will work out eventually\\n\\nHopefully this post reaches you\\n\\nFrom:\\nsomeone hoping for a miracle :]\\n-\\n \",\n 'A few months ago, one of my friend confessed to me. I rejected him cos, school work and i just broken up with my ex. I did not want to lead him on so cause he was genuinely a good guy. But now i sort of regret it now:(. i started develop feelings for him... but i suspects he has move on.\\nSometimes timing matters, should I pursue him if he is single?\\n-\\n ',\n \"I am an evergreen, average looking, skinny guy (I would say that looks 5/10) who is single, but I am quite ashamed to say that I am single by my own requirements. I would appreciate if you guys can help to advise me on the following.\\n\\nI have know this girl, A, since university days, and besides her less than ideal (would say around 4/10) face and figure, she has a great personality.\\n\\nWhen we go out for dinner, she doesn't mind eating at the same place even though we have eaten at the same place just a couple of weeks ago. She knew that I fancied a K-Pop girl group and when she went overseas for vacation, she helped to purchase a merchandise of that girl group, and I was very surprised and touched by her action.\\n\\nShe had a carefree outlook towards things in general, and shares characteristics as me (sharing about books that we read, learning new things together, visiting libraries and bookstores, travel etc).\\nDespite her busy work schedule and colleagues who are not that good, she doesn't complain too much about work and takes things in her stride.\\n\\nRecently, I have even picked up a new sport (tennis) that was foreign to me, and she was so patient in teaching me the basics of it. I truly enjoyed the time spent with her, and can't wait to see her again soon for more tennis. The thing is, when I went home, many different thoughts linger in my mind, and one of it was to advancing the friendship to a further relationship with her, while another opposing thought was that since she looked like what people would called as 'dinobu' , I myself have qualms about going further with her.\\n\\nSad to say, when I looked at the female friends around me who are single, I am ashamed to say that because of the high requirements that I have, (skinny and tall, great personality, caring etc), I am still single. It's going to be the end of 2019, and my mum would harp on the fact that people of my age (25)are already becoming parents. I would not want to get into a relationship just because of peer pressure, but seeing people around me are in relationships made me felt worse, and social media made it worse.\\n\\nI am thankful that A is there to provide a supportive ear for me when I need it, such as career choice, assignment support back in university and so on. She would be someone whom I would say fits the bill of someone worth marrying because of her values and personality, but I am still having doubts about myself.\\n-\\n \",\n 'Just by still beng around today, you have accomplished something. No matter what you are going through, hang in there!\\n-\\n ',\n 'RING of FIRE!\\nif you miss the annular solar eclipse today :)\\n-\\n ',\n \"So I need some advice:\\nI met this guy, really nice. He was from NTU, currently working too.\\nWe talked quite a bit and hence I fancy him - really nice guy. Kinda confessed to which he said he has this other girl, whom rejected him 3x. But he's still not giving up on this girl cos he felt that the girl needs someone.\\nNow we're not talking. What am I supposed to do ???? i really do quite like him and would love to get to know him even more but the convo died\\n-\\n \",\n 'In a nutshell, just S/U any mod that you think is below your expected CAP.\\n\\nNow go do something better with your lives so we have better things to read on this page. Thanks.\\n-\\n ',\n 'Me as a year 4 whose CAP is no longer relevant, looking at all the posts about exam results. Finally can retire in peace before getting thrown into the sad adult life\\n-\\n ',\n 'Anyone knows of good location in NUS to see the solar eclipse on 26 Dec?\\n-\\n ',\n 'So I came to Singapore to do my national service and university although I wasn\\'t really into studying. I\\'ve been told I look quite good so over the years I hooked up with a few pretty girls and we\\'ve been friends with benefits, meeting up every week or so. They are always so eager to show affection and to be honest I find them a little too clingy. I always treat them very well and since my family is pretty well-off, I pay for most of our outings and even the hotels when we didn\\'t have any place.\\n\\nAnyway, I try to show them that we are just casual friends (when they ask me about serious topics like what we are, I reply saying that we are still young and should discuss this in the future). But now, most of them are graduating and I feel like they are pressuring me to marry or propose to them. Two of them even asked me to meet their family during the next Chinese New Year and there\\'s a real crazy one. Initially she started stalking me, but recently she even claimed that she\\'s pregnant and wants me to go to the doctor with her. Obviously I ignored and blocked her number.\\n\\nI\\'m genuinely perplexed, I understand that Chinese girls are more traditional in \"that\" aspect, but what are they even expecting from me?? To me it\\'s just about mutual enjoyment, having a good time but apparently they don\\'t feel the same way. I guess you can\\'t even treat a girl nice without them catching some sort of feelings.\\n\\nI\\'m not saying I am not open to a serious relationship, but I don\\'t think they are worth spending more time on anymore.\\n\\nHelp. I\\'m confused?\\n-\\n ',\n 'I realised after a relationship, that the question we should also be asking our other halves is, \"do you love yourself despite your problems\".\\n\\nI was wrong to only ask this - \"do you love me despite my problems\". Because when shit hits the fan, u can deal with yourself but you don\\'t know about others, right?\\n\\nIt\\'s a painful lesson to learn, because I wasn\\'t able to be there for him in a way he\\'d have appreciated, but he was always here for me when I was bad.\\n\\nAh, things that could\\'ve been done better x\\n-\\n ',\n \"A warning to those who took CS2040/C and received an email regarding taking CS3233: read the review on NUSMods and think VERY carefully about whether you want to take the module.\\n\\nIf you don't already know everything that the module teaches, you'll be in for a B+, B, B- or even an F. Be warned!\\n-\\n \",\n 'If you aren\\'t straight, would you come out at the workplace or keep it a secret?\\n\\nI\\'m a masculine lesbian. I have short hair and I always dress in pants and shirts. My professional capability has saved me so far. No one has bullied me or given me a hard time. However, as time goes by and I got closer to the colleagues, they recently started to ask more personal questions like \"Why don\\'t you wear skirts? Why don\\'t you try long hair? You should spend more time on your personal relationship, find a boyfriend lah, don\\'t work so hard.... etc\", which made me feel very uncomfortable. So far, I just laughed it off and say \"wear like this comfy, nobody sees also lol\". I was thinking sometimes whether I should just tell them then I\\'m lesbian. Will coming out badly affect my career prospects? Any thoughts? No troll please.\\n-\\n ',\n 'Im feeling a bit confused. My crush will ask me to have lunch but then nearing the lunch time he will ask me do you want to ask another mutual friend A to join, because he always happen to be eating alone.\\nI am open to having lunches together as a group with other people. Although obviously deep down I would like to have lunch alone just the two of us...\\n\\nBut I feel especially annoyed whenever he ask A... because A is really noisy always talking about his life etc. when the three of us eat together, A is always going on and on about himself and there is no chance for me to talk to my crush.\\n\\nIt is okay for me to tell my crush no I do not want A to join us please stop asking him along.? I feel that by doing so it is very mean to A also.\\n\\nDamn it maybe I will have the guts to just be direct and tell my crush why dont we have dinner instead, the two of us without A....\\n-\\n ',\n 'Is it appropriate for me to be telling my boyfriend to cut off contacts with his ex? His ex is still pestering him and texting flirty with him despite splitting up awhile back, he replies to her text platonically and when I question him why he does that he says it was out of past habit to reply her.\\n\\nIs it normal for guys to still be talking to their ex after splitting? Or am I just being too sensitive.\\n-\\n ',\n '\"What do we do when our hearts hurt,\" asked the boy.\\n\\n\"We wrap them with friendship, shared tears, and time, till they wake hopeful and happy again.\"\\n\\n\"Do you have any other advice,\" asked the boy.\\n\\n\"Don\\'t measure how valuable you are by the way you are treated. Always remember you matter, you\\'re important, and you are loved. You bring to the world things no one else can.\"\\n\\n- Charlie Mackesy\\n-\\n ',\n \"It's 2 a.m. and I can't fall asleep. It's been around 3 months since we stopped talking. Everyday I ask myself why things had to turn out this way, and what could I have done differently. But there's no redo.\\n\\nIt pains me even today because even today, against the advices of my close friends I'm still holding on to the memories and feelings. I'm choosing to hold them tight and alive even today because I just know that if I were to stop doing so, then none those moments that were shared, feelings that still burns would mean anything.\\n\\nThe past is not some worthless thing that is supposed to be trashed. It is a part of me. It is a part of our history. I'm somehow supposed to move on, that we're all suppose to move on when something didn't go right. Yet, precisely because time is a commodity, that every single moment in our life is so precious and worth preserving. And everyone that walked into our lives matter, especially, especially those that made your heart flutter because they are the ones that made you feel most alive.\\n\\nStruggling a little more everyday.\\n-\\n \",\n 'Hi fellow virtual friends, would appreciate for some advice on my current situation. Used to be a formal student in NUS :D\\n\\nI have a close colleague turned friend whom I have been talking to rather frequently since early this year. We have been out on a few occasions for dinner/meet up as well and also been overseas together for short trips.\\n\\nInitially, I did not have any feelings for; but overtime, I have started to realise that I might have developed some feelings (although Im not entirely certain)- as I do find myself upset when he doesnt text me for the day and missing him being around me. I myself would not really initiate any conversation as its just not me. We are no longer colleagues now but still keep in close contact.\\n\\nHe has otherwise yet to show any signs that he would like to progress this friendship further. On the other hand, we dont really talk about relationship issues. However on one occasion, I had briefly mentioned that I did not feel ready for one.\\n\\nDo you think it is right if I talked to him about this issue? Im afraid that it might ruin our friendship and that I might just be the one overthinking? Is it normal for a guy to be so close to a girl? I feel like it is causing me to fall deeper by being so close to me. Im afraid and confused. I have not told anyone of my friends or family regarding this yet...\\n-\\n ',\n 'If Life == happy\\nPrint: read this poster\\nElse\\nPrint: post on NUSWhispers\\n-\\n ',\n 'John Elliott, former psychology professor in NUS has passed. Although I personally only had limited interactions with Prof Elliott, I felt that he was a kind and caring man. Rest in peace :(\\n-\\n ',\n 'NUSWhispers APB\\n-\\n ',\n '29, F, evergreen\\nDecent looks, above average fashion style, pleasant personality, stable job, social butterfly, good grades, (not that it matters intrinsically, but just trying to say that I walked a path many Asian parents would be proud of)\\n\\nSaw a guy (stranger) that caught my fancy. Gave him my number. He contacted me. We started talking. We met up. Sounds like a fairy tale. Except that theres no happy ending.. after the first meet up, we spoke for a few more days before I initiated another meetup. Then he just ghosted me :( should I give it another go? Its been a month. Everything seem to be going well until I asked him to meet for the 2nd time.\\n\\nI have seen many posts here encouraging girls to go for it, its 2020 soon, girls can confess too. I have done everything and anything that I could. I joined clubs, participated in activities, used ALL the dating apps out there and even went on blind dates. Heck I even gave my number and still hit a wall. Yet I m still alone. Makes me wonder if I m just incapable of loving and being loved.\\n-\\n ',\n \"I wanted to ask why you were not around for the previous lesson. I wanted to ask why you were sighing. I wanted to ask whether you were ok when you had flu. I wanted to... but I didn't.\\n-\\n \",\n \"I am amongst the first batch of students who moved in Residential College 4 after it was built in 2012 (I have now graduated). However, for me, RC4 will always be known as Khaya Residential College, its initial name, and CAPT will always be known as Angsana Residential College, also its initial name.\\n\\nI understand Angsana's name change to College of Alice and Peter Tan, but why did NUS chose to change Khaya RC's name to RC4 ? I mean just like Cinnamon, Angsana, and Tembusu, Khaya tree is beautiful and can be found around Singapore, but RC4 is just a dull name without any poetry or imagination in my opinion lor.\\n-\\n \",\n \"Thought SEP will be fun and good, but when you have to live with a toxic roommate, you just want it so badly to end soon. Company does matter, isn't it? Thank God, at least I get to see a person so clearly through this.\\n-\\n \",\n 'Continuous from \\n\\n-\\n ',\n 'Hello!\\n\\nJust wanted to know the opinions from ppl about this haha doesnt matter if troll or not\\n\\nSo my friends and I were chatting about people in our course and we got reminded of this girl (G) in our course\\n\\nDuring orientation, one of the nights our OG was staying up to chat. Our ogl asked what we wanted to do and G said we should share our traffic light colour and stories and she was so excited. So we went in a circle and everyone shared. She was the last in the circle and when it got to her, she went \"huhhh...\" and looked reluctant. Then she proceeded to tell us green and how the prev guy was not a good guy.\\n\\nI was totally judging lol. Want to play and suggest somemore, then still act reluctant to share. Idk if I was the only one to think like that the whole time\\n-\\n ',\n 'Hello dearest juniors, I have a few chemistry textbooks that I will like to donate cos knowledge is priceless!\\nCollection will be at my place (Sengkang) If you are interested, please drop a comment and I will PM you!\\n-\\n ',\n 'I am an evergreen girl with high libido. I never had a boyfriend and am not actively looking for one as I am satisfied with the life i have now. However, to curb my sexual desires i have turned to countless of sex toys, but i am never fully satisfied. I am also not interested in ONS / FWBs due to the fear of sexually transmitted disease and being seen as a loose girl by society. What should I do? Any advice from girls on how to achieve a bigger O?\\n-\\n ',\n 'I am having a serious dilemma, please help! \\n-\\n ',\n 'After 6 weeks of hard work, 100 hours of coding, 3 rounds of usability testing, my friend and I are very proud to launch our webapp analyzing 44,438 confessions on NUSWhispers over the past 5 years: nuswhispersapp.appspot.com\\n\\nDo have a read and let us know what you think! :)\\n-\\n ',\n 'Halp\\n-\\n ',\n 'How I view the NUS vs non-NUS commenters war as a NUS alumni\\n-\\n ',\n 'I am an international student in Singapore, and I find this \"how much money do you give your parents?\" topic super bizzare. Why are you giving money to your parents? Don\\'t people save up for retirement and have their CPF accounts? How come the least financially independent adults (i.e. new grads) are being forced to subsidize the most financially independent people of all (i.e. retirees). Am I missing something? Are you guys paying rent or literally just sending home pocket money for your folks? Why not just move out then?\\n-\\n ',\n ...]"
     },
     "metadata": {},
     "execution_count": 44
    }
   ],
   "source": [
    "someList"
   ]
  },
  {
   "cell_type": "code",
   "execution_count": 15,
   "metadata": {},
   "outputs": [
    {
     "output_type": "execute_result",
     "data": {
      "text/plain": "40455"
     },
     "metadata": {},
     "execution_count": 15
    }
   ],
   "source": [
    "count"
   ]
  },
  {
   "cell_type": "code",
   "execution_count": null,
   "metadata": {},
   "outputs": [],
   "source": []
  }
 ],
 "metadata": {
  "kernelspec": {
   "display_name": "Python 3",
   "language": "python",
   "name": "python3"
  },
  "language_info": {
   "codemirror_mode": {
    "name": "ipython",
    "version": 3
   },
   "file_extension": ".py",
   "mimetype": "text/x-python",
   "name": "python",
   "nbconvert_exporter": "python",
   "pygments_lexer": "ipython3",
   "version": "3.8.5-final"
  }
 },
 "nbformat": 4,
 "nbformat_minor": 4
}