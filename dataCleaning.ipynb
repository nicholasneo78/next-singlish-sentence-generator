{
 "cells": [
  {
   "cell_type": "code",
   "execution_count": 1,
   "metadata": {},
   "outputs": [],
   "source": [
    "import requests\n",
    "import urllib\n",
    "import xlrd\n",
    "import os\n",
    "#Code to import Regex\n",
    "import re"
   ]
  },
  {
   "cell_type": "markdown",
   "metadata": {},
   "source": [
    "## Test Code"
   ]
  },
  {
   "cell_type": "code",
   "execution_count": 2,
   "metadata": {},
   "outputs": [],
   "source": [
    "file = \"scrapingData_andiechen_FULL.xlsx\""
   ]
  },
  {
   "cell_type": "code",
   "execution_count": 3,
   "metadata": {},
   "outputs": [],
   "source": [
    "workbook = xlrd.open_workbook(file)"
   ]
  },
  {
   "cell_type": "code",
   "execution_count": 4,
   "metadata": {},
   "outputs": [],
   "source": [
    "sheet = workbook.sheet_by_index(0)"
   ]
  },
  {
   "cell_type": "code",
   "execution_count": 5,
   "metadata": {},
   "outputs": [
    {
     "output_type": "execute_result",
     "data": {
      "text/plain": "<xlrd.sheet.Sheet at 0x286a9ad4dc0>"
     },
     "metadata": {},
     "execution_count": 5
    }
   ],
   "source": [
    "sheet"
   ]
  },
  {
   "cell_type": "code",
   "execution_count": 6,
   "metadata": {},
   "outputs": [
    {
     "output_type": "execute_result",
     "data": {
      "text/plain": "1699"
     },
     "metadata": {},
     "execution_count": 6
    }
   ],
   "source": [
    "sheet.nrows"
   ]
  },
  {
   "cell_type": "markdown",
   "metadata": {},
   "source": [
    "## Actual Code"
   ]
  },
  {
   "cell_type": "code",
   "execution_count": 7,
   "metadata": {},
   "outputs": [
    {
     "output_type": "execute_result",
     "data": {
      "text/plain": "'c:\\\\Users\\\\65866\\\\Documents\\\\RandomCodes\\\\next-sentence-predictor'"
     },
     "metadata": {},
     "execution_count": 7
    }
   ],
   "source": [
    "os.getcwd()"
   ]
  },
  {
   "cell_type": "code",
   "execution_count": 8,
   "metadata": {},
   "outputs": [
    {
     "output_type": "execute_result",
     "data": {
      "text/plain": "['.git',\n '.ipynb_checkpoints',\n 'countNoOfLines.ipynb',\n 'dataCleaning.ipynb',\n 'LICENSE',\n 'README.md',\n 'Scraper-Codes',\n 'scrapingData_andiechen_FULL.xlsx',\n 'scrapingData_bellywellyjelly_FULL.xlsx',\n 'scrapingData_benjamin.kheng_FULL.xlsx',\n 'scrapingData_bossyflossie_FULL.xlsx',\n 'scrapingData_DanielFoodDiary_FULL.xlsx',\n 'scrapingData_DollarsAndSenseSG_FULL.xlsx',\n 'scrapingData_dreachongofficial_FULL.xlsx',\n 'scrapingData_ieatishootipost_FULL.xlsx',\n 'scrapingData_ladyironchef_FULL.xlsx',\n 'scrapingData_moneysmartsg_FULL.xlsx',\n 'scrapingData_mongabong_FULL.xlsx',\n 'scrapingData_mrbrownlah_FULL.xlsx',\n 'scrapingData_mykxii_FULL.xlsx',\n 'scrapingData_sethluimarketing_FULL.xlsx',\n 'scrapingData_sophiewillocq_FULL.xlsx',\n 'scrapingData_therealnaomineo_FULL.xlsx',\n 'scrapingData_TheSmartLocal_FULL.xlsx',\n 'scrapingData_yoyokulala_FULL.xlsx']"
     },
     "metadata": {},
     "execution_count": 8
    }
   ],
   "source": [
    "os.listdir()"
   ]
  },
  {
   "cell_type": "code",
   "execution_count": 9,
   "metadata": {},
   "outputs": [
    {
     "output_type": "execute_result",
     "data": {
      "text/plain": "['FBScraper.py',\n 'scrapingData_ACJC-Confessions-365341810240423_FULL.xlsx',\n 'scrapingData_asrjcconfessions_FULL.xlsx',\n 'scrapingData_cjcroxx_FULL.xlsx',\n 'scrapingData_DHS-Confessions-103690209814932_FULL.xlsx',\n 'scrapingData_HwaChongConfessions_FULL.xlsx',\n 'scrapingData_InnovaConfessions_FULL.xlsx',\n 'scrapingData_ITE-College-Central-Confessions-102332676616681_FULL.xlsx',\n 'scrapingData_ITE-College-West-Confessions-123845157793064_FULL.xlsx',\n 'scrapingData_JjcConfessions_FULL.xlsx',\n 'scrapingData_NJC-Confessions-414721038609037_FULL.xlsx',\n 'scrapingData_npconfession_FULL.xlsx',\n 'scrapingData_NTUConfess_PART.xlsx',\n 'scrapingData_nuswhispers_FULL.xlsx',\n 'scrapingData_NYP-Confessions-118332335013023_FULL.xlsx',\n 'scrapingData_RepublicPolyConfessions_FULL.xlsx',\n 'scrapingData_RJConfessions_FULL.xlsx',\n 'scrapingData_SajcConfessions_FULL.xlsx',\n 'scrapingData_SGAG_FULL.xlsx',\n 'scrapingData_simconfessions_FULL.xlsx',\n 'scrapingData_SMUConfessionsPage_FULL.xlsx',\n 'scrapingData_SP-Confessions-329564370479100_FULL.xlsx',\n 'scrapingData_SUSSConfessions_FULL.xlsx',\n 'scrapingData_TJC-Confessions-133149643521172_FULL.xlsx',\n 'scrapingData_tpconfession_FULL.xlsx']"
     },
     "metadata": {},
     "execution_count": 9
    }
   ],
   "source": [
    "# inside the Scraper-Codes folder\n",
    "os.listdir('Scraper-Codes')"
   ]
  },
  {
   "cell_type": "code",
   "execution_count": 10,
   "metadata": {},
   "outputs": [
    {
     "output_type": "execute_result",
     "data": {
      "text/plain": "['./Scraper-Codes/FBScraper.py',\n './Scraper-Codes/scrapingData_ACJC-Confessions-365341810240423_FULL.xlsx',\n './Scraper-Codes/scrapingData_asrjcconfessions_FULL.xlsx',\n './Scraper-Codes/scrapingData_cjcroxx_FULL.xlsx',\n './Scraper-Codes/scrapingData_DHS-Confessions-103690209814932_FULL.xlsx',\n './Scraper-Codes/scrapingData_HwaChongConfessions_FULL.xlsx',\n './Scraper-Codes/scrapingData_InnovaConfessions_FULL.xlsx',\n './Scraper-Codes/scrapingData_ITE-College-Central-Confessions-102332676616681_FULL.xlsx',\n './Scraper-Codes/scrapingData_ITE-College-West-Confessions-123845157793064_FULL.xlsx',\n './Scraper-Codes/scrapingData_JjcConfessions_FULL.xlsx',\n './Scraper-Codes/scrapingData_NJC-Confessions-414721038609037_FULL.xlsx',\n './Scraper-Codes/scrapingData_npconfession_FULL.xlsx',\n './Scraper-Codes/scrapingData_NTUConfess_PART.xlsx',\n './Scraper-Codes/scrapingData_nuswhispers_FULL.xlsx',\n './Scraper-Codes/scrapingData_NYP-Confessions-118332335013023_FULL.xlsx',\n './Scraper-Codes/scrapingData_RepublicPolyConfessions_FULL.xlsx',\n './Scraper-Codes/scrapingData_RJConfessions_FULL.xlsx',\n './Scraper-Codes/scrapingData_SajcConfessions_FULL.xlsx',\n './Scraper-Codes/scrapingData_SGAG_FULL.xlsx',\n './Scraper-Codes/scrapingData_simconfessions_FULL.xlsx',\n './Scraper-Codes/scrapingData_SMUConfessionsPage_FULL.xlsx',\n './Scraper-Codes/scrapingData_SP-Confessions-329564370479100_FULL.xlsx',\n './Scraper-Codes/scrapingData_SUSSConfessions_FULL.xlsx',\n './Scraper-Codes/scrapingData_TJC-Confessions-133149643521172_FULL.xlsx',\n './Scraper-Codes/scrapingData_tpconfession_FULL.xlsx']"
     },
     "metadata": {},
     "execution_count": 10
    }
   ],
   "source": [
    "# Append the directory in the Scraper-Codes folder\n",
    "appendDir = './Scraper-Codes/'\n",
    "tempList = os.listdir('Scraper-Codes')\n",
    "finalList = list()\n",
    "for k in tempList:\n",
    "    finalList += [appendDir + k]\n",
    "    \n",
    "finalList"
   ]
  },
  {
   "cell_type": "code",
   "execution_count": 11,
   "metadata": {},
   "outputs": [],
   "source": [
    "# Copy the above .xlsx files and paste into fileList\n",
    "fileList = ['./Scraper-Codes/scrapingData_ACJC-Confessions-365341810240423_FULL.xlsx',\n",
    "             './Scraper-Codes/scrapingData_asrjcconfessions_FULL.xlsx',\n",
    "             './Scraper-Codes/scrapingData_cjcroxx_FULL.xlsx',\n",
    "             './Scraper-Codes/scrapingData_DHS-Confessions-103690209814932_FULL.xlsx',\n",
    "             './Scraper-Codes/scrapingData_HwaChongConfessions_FULL.xlsx',\n",
    "             './Scraper-Codes/scrapingData_InnovaConfessions_FULL.xlsx',\n",
    "             './Scraper-Codes/scrapingData_ITE-College-Central-Confessions-102332676616681_FULL.xlsx',\n",
    "             './Scraper-Codes/scrapingData_ITE-College-West-Confessions-123845157793064_FULL.xlsx',\n",
    "             './Scraper-Codes/scrapingData_JjcConfessions_FULL.xlsx',\n",
    "             './Scraper-Codes/scrapingData_NJC-Confessions-414721038609037_FULL.xlsx',\n",
    "             './Scraper-Codes/scrapingData_npconfession_FULL.xlsx',\n",
    "             './Scraper-Codes/scrapingData_NTUConfess_PART.xlsx',\n",
    "             './Scraper-Codes/scrapingData_nuswhispers_FULL.xlsx',\n",
    "             './Scraper-Codes/scrapingData_NYP-Confessions-118332335013023_FULL.xlsx',\n",
    "             './Scraper-Codes/scrapingData_RepublicPolyConfessions_FULL.xlsx',\n",
    "             './Scraper-Codes/scrapingData_RJConfessions_FULL.xlsx',\n",
    "             './Scraper-Codes/scrapingData_SajcConfessions_FULL.xlsx',\n",
    "             './Scraper-Codes/scrapingData_SGAG_FULL.xlsx',\n",
    "             './Scraper-Codes/scrapingData_simconfessions_FULL.xlsx',\n",
    "             './Scraper-Codes/scrapingData_SMUConfessionsPage_FULL.xlsx',\n",
    "             './Scraper-Codes/scrapingData_SP-Confessions-329564370479100_FULL.xlsx',\n",
    "             './Scraper-Codes/scrapingData_SUSSConfessions_FULL.xlsx',\n",
    "             './Scraper-Codes/scrapingData_TJC-Confessions-133149643521172_FULL.xlsx',\n",
    "             './Scraper-Codes/scrapingData_tpconfession_FULL.xlsx',\n",
    "              'scrapingData_andiechen_FULL.xlsx',\n",
    " 'scrapingData_bellywellyjelly_FULL.xlsx',\n",
    " 'scrapingData_benjamin.kheng_FULL.xlsx',\n",
    " 'scrapingData_bossyflossie_FULL.xlsx',\n",
    " 'scrapingData_DanielFoodDiary_FULL.xlsx',\n",
    " 'scrapingData_DollarsAndSenseSG_FULL.xlsx',\n",
    " 'scrapingData_dreachongofficial_FULL.xlsx',\n",
    " 'scrapingData_ieatishootipost_FULL.xlsx',\n",
    " 'scrapingData_ladyironchef_FULL.xlsx',\n",
    " 'scrapingData_moneysmartsg_FULL.xlsx',\n",
    " 'scrapingData_mongabong_FULL.xlsx',\n",
    " 'scrapingData_mrbrownlah_FULL.xlsx',\n",
    " 'scrapingData_mykxii_FULL.xlsx',\n",
    " 'scrapingData_sethluimarketing_FULL.xlsx',\n",
    " 'scrapingData_sophiewillocq_FULL.xlsx',\n",
    " 'scrapingData_therealnaomineo_FULL.xlsx',\n",
    " 'scrapingData_TheSmartLocal_FULL.xlsx',\n",
    " 'scrapingData_yoyokulala_FULL.xlsx']"
   ]
  },
  {
   "cell_type": "code",
   "execution_count": 12,
   "metadata": {},
   "outputs": [],
   "source": [
    "# initialise line count\n",
    "count = 0"
   ]
  },
  {
   "cell_type": "code",
   "execution_count": 107,
   "metadata": {
    "tags": []
   },
   "outputs": [
    {
     "output_type": "stream",
     "name": "stdout",
     "text": "encode/decode at row 602\nTo all the posts relating to crushes and couples, PLEASE stop. Grow balls and admit it to the person you like! Btw, I'm SH2, but still sexy and SINGLE! You jelly?\n\n---After encoding/decoding\n\n-> No # found\n\n-> No websites found\n\n-> No [tag] found\n\n-> No \\n found\n\n-> No date/time found\n\n-> No month found\n\n-> No (brackets) found\n\n-> No @ found\n\n-> No emoticons D: found\n\nTo all the posts relating to crushes and couples, PLEASE stop. Grow balls and admit it to the person you like! Btw, I'm SH2, but still sexy and SINGLE! You jelly?\n\n---Before encode/decode at row 603\nDerp. Am i the only one AGAINST the new western stall? I WANT THE OLD ONE BACK!!!\n\n---After encoding/decoding\n\n-> No # found\n\n-> No websites found\n\n-> No [tag] found\n\n-> No \\n found\n\n-> No date/time found\n\n-> No month found\n\n-> No (brackets) found\n\n-> No @ found\n\n-> No emoticons D: found\n\nDerp. Am i the only one AGAINST the new western stall? I WANT THE OLD ONE BACK!!!\n\n---Before encode/decode at row 604\nI'm in love with my senior from CAFE... HELP!!!\n\n---After encoding/decoding\n\n-> No # found\n\n-> No websites found\n\n-> No [tag] found\n\n-> No \\n found\n\n-> No date/time found\n\n-> No month found\n\n-> No (brackets) found\n\n-> No @ found\n\n-> No emoticons D: found\n\nI'm in love with my senior from CAFE... HELP!!!\n\n---Before encode/decode at row 605\n\"I am an LA teacher... Guess who?\n\n\"\"INNER VOICE!!!\"\"\"\n\n---After encoding/decoding\n\n-> No # found\n\n-> No websites found\n\n-> No [tag] found\n\n-> Found \\n:  ['\\n', '\\n']\n\n-> No date/time found\n\n-> No month found\n\n-> No (brackets) found\n\n-> No @ found\n\n-> No emoticons D: found\n\n\"I am an LA teacher... Guess who?..\"\"INNER VOICE!!!\"\"\"\n\n---Before encode/decode at row 606\nMore and more teachers know about this page. Well, we are SCREWED.\n\nAdmin: The next post is for you all :)\n\n---After encoding/decoding\n\n-> No # found\n\n-> No websites found\n\n-> No [tag] found\n\n-> Found \\n:  ['\\n', '\\n']\n\n-> No date/time found\n\n-> No month found\n\n-> No (brackets) found\n\n-> No @ found\n\n-> Found emoticons :) :  [':)']\n\nMore and more teachers know about this page. Well, we are SCREWED...Admin: The next post is for you all \n\n---Before encode/decode at row 607\nMegan from JH201 has such an amazing voice~ Lovin it XD\n\n---After encoding/decoding\n\n-> No # found\n\n-> No websites found\n\n-> No [tag] found\n\n-> No \\n found\n\n-> No date/time found\n\n-> No month found\n\n-> No (brackets) found\n\n-> No @ found\n\n-> Found emoticons :) :  ['XD']\n\nMegan from JH201 has such an amazing voice~ Lovin it \n\n---Before encode/decode at row 608\nomgggg 204's phyllis lim should be a kpop star\n\n---After encoding/decoding\n\n-> No # found\n\n-> No websites found\n\n-> No [tag] found\n\n-> No \\n found\n\n-> No date/time found\n\n-> No month found\n\n-> No (brackets) found\n\n-> No @ found\n\n-> No emoticons D: found\n\nomgggg 204's phyllis lim should be a kpop star\n\n---Before encode/decode at row 609\nConfessions on this page get more serious as time passes.\n\n---After encoding/decoding\n\n-> No # found\n\n-> No websites found\n\n-> No [tag] found\n\n-> No \\n found\n\n-> No date/time found\n\n-> No month found\n\n-> No (brackets) found\n\n-> No @ found\n\n-> No emoticons D: found\n\nConfessions on this page get more serious as time passes.\n\n---Before encode/decode at row 610\n\"Dear all SH1 science students,\nI would strongly, strongly recommend you NOT to take the Science Research Programme mentioned in the announcements this morning, in particular H3 research. I was personally under the programme last year, and I absolutely regretted it. It is a total waste of your whole SH1 year in my opinion, and all you achieve in the end is a grade on your cert, which you can achieve MUCH more easily by taking a H3 subject in SH2. Furthermore, if you take H3 research, you will miss a lot of lessons, not to mention Common Test, which may seem attractive at first, but eventually it will lag you a lot in terms of academics. There are a few of the research mentors who would treat you like his/her servants, expecting you to produce results for him/her and use the results for his/her own phD thesis without giving you any credit at all. For your info, my mentor last year at a research facility in NUS was like that. So if you are going for the experience, feel free to take it (by the way you can experience research in uni too) but if you are going for the portfolio, you might not want to consider it as there are much more opportunities to enhance your portfolio other than research which are much better.\"\n\n---After encoding/decoding\n\n-> No # found\n\n-> No websites found\n\n-> No [tag] found\n\n-> Found \\n:  ['\\n']\n\n-> No date/time found\n\n-> No month found\n\n-> No (brackets) found\n\n-> No @ found\n\n-> Found emoticons :) :  ['xp', 'xp', 'xp']\n\n\"Dear all SH1 science students,.I would strongly, strongly recommend you NOT to take the Science Research Programme mentioned in the announcements this morning, in particular H3 research. I was personally under the programme last year, and I absolutely regretted it. It is a total waste of your whole SH1 year in my opinion, and all you achieve in the end is a grade on your cert, which you can achieve MUCH more easily by taking a H3 subject in SH2. Furthermore, if you take H3 research, you will miss a lot of lessons, not to mention Common Test, which may seem attractive at first, but eventually it will lag you a lot in terms of academics. There are a few of the research mentors who would treat you like his/her servants, eecting you to produce results for him/her and use the results for his/her own phD thesis without giving you any credit at all. For your info, my mentor last year at a research facility in NUS was like that. So if you are going for the eerience, feel free to take it (by the way you can eerience research in uni too) but if you are going for the portfolio, you might not want to consider it as there are much more opportunities to enhance your portfolio other than research which are much better.\"\n\n---Before encode/decode at row 611\n\"This was an old email joke created by some TJC students in 1999. But its outdated because 3 new jcs have come up and there have been lots been- like how RJC doesn't have that 4 faculties system anymore. So here's a modified one [=\n\nThis joke plays on the stereotypes of all the jcs but of course its all crap, its just in the name of fun so no offense to people of any of these JCs.\n\nQ: How Many Raffles JC students does it take to change a lightbulb?\nA: 0.0000001. Each student is too busy topping the A Levels, sports, performing arts and partying at the same time\n\nQ: How Many HwaChong JC students does it take to change a lightbulb?\nA: The whole school, to compete with RJ\n\nQ: How Many Victoria JC students does it take to change a lightbulb?\nA: The whole school.. one to screw it in and the rest to cheer and wave flags and banners to give him/her support\n\nQ: How Many National JC students does it take to change a lightbulb?\nA: NO LIGHT STILL CAN STUDY!!!\n\nQ: How Many Anderson JC students does it take to change a lightbulb?\nA: They're too busy trying to be one of the Top 5 JCs\n\nQ: How Many Anglo-Chinese JC students does it take to change a lightbulb?\nA: None.. they use all their money to employ Yishun JC to do it for them\n\nQ: How Many Yishun JC students does it take to change a lightbulb?\nA: None... only one teacher to tell them what a lightbulb is in the first place and to demonstrate (how do you think they're able to change it for Anglo-Chinese JC?)\n\nQ: How Many Catholic JC students does it take to change a lightbulb?\nA: They prefer it darker *raise eyebrows*\n\nQ: How Many Jurong JC students does it take to change a lightbulb?\nA: None.. their Physics is so bad their male teachers cry...\n\nQ: How Many Tampines JC students does it take to change a lightbulb?\nA: would they bother??\n\nQ: How Many Meridian JC students does it take to change a lightbulb?\nA: None. They're too busy keeping themselves from being retained\n\nQ: How Many Saint Andrew's JC students does it take to change a lightbulb?\nA: None. They believe in praying for it\n\nQ: How Many Nanyang JC students does it take to change a lightbulb?\nA:None. They're still using oil lamps.\n\nQ: How Many Serangoon JC students does it take to change a lightbulb?\nA: Huh, wat lighttbarb?\n\nQ: How Many Innova JC students does it take to change a lightbulb?\nA: School too new, no electricity yet\n\nQ: How Many Pioneer JC students does it take to change a lightbulb?\nA: Heck care about that- lets all do 300 jumping jacks as punishment for improper attire\n\nQ: Dont you guys wonder who wrote this list?\nA: Temasek JC\n\nQ: How Many Temasek JC students does it take to change a lightbulb?\nA:None. They think they are very bright already\"\n\n---After encoding/decoding\n\n-> No # found\n\n-> No websites found\n\n-> No [tag] found\n\n-> Found \\n:  ['\\n', '\\n', '\\n', '\\n', '\\n', '\\n', '\\n', '\\n', '\\n', '\\n', '\\n', '\\n', '\\n', '\\n', '\\n', '\\n', '\\n', '\\n', '\\n', '\\n', '\\n', '\\n', '\\n', '\\n', '\\n', '\\n', '\\n', '\\n', '\\n', '\\n', '\\n', '\\n', '\\n', '\\n', '\\n', '\\n', '\\n', '\\n', '\\n', '\\n', '\\n', '\\n', '\\n', '\\n', '\\n', '\\n', '\\n', '\\n', '\\n', '\\n', '\\n', '\\n', '\\n', '\\n', '\\n', '\\n']\n\n-> No date/time found\n\n-> No month found\n\n-> No (brackets) found\n\n-> No @ found\n\n-> Found emoticons :) :  ['*', '*']\n\n\"This was an old email joke created by some TJC students in 1999. But its outdated because 3 new jcs have come up and there have been lots been- like how RJC doesn't have that 4 faculties system anymore. So here's a modified one [=..This joke plays on the stereotypes of all the jcs but of course its all crap, its just in the name of fun so no offense to people of any of these JCs...Q: How Many Raffles JC students does it take to change a lightbulb?.A: 0.0000001. Each student is too busy topping the A Levels, sports, performing arts and partying at the same time..Q: How Many HwaChong JC students does it take to change a lightbulb?.A: The whole school, to compete with RJ..Q: How Many Victoria JC students does it take to change a lightbulb?.A: The whole school.. one to screw it in and the rest to cheer and wave flags and banners to give him/her support..Q: How Many National JC students does it take to change a lightbulb?.A: NO LIGHT STILL CAN STUDY!!!..Q: How Many Anderson JC students does it take to change a lightbulb?.A: They're too busy trying to be one of the Top 5 JCs..Q: How Many Anglo-Chinese JC students does it take to change a lightbulb?.A: None.. they use all their money to employ Yishun JC to do it for them..Q: How Many Yishun JC students does it take to change a lightbulb?.A: None... only one teacher to tell them what a lightbulb is in the first place and to demonstrate (how do you think they're able to change it for Anglo-Chinese JC?)..Q: How Many Catholic JC students does it take to change a lightbulb?.A: They prefer it darker raise eyebrows..Q: How Many Jurong JC students does it take to change a lightbulb?.A: None.. their Physics is so bad their male teachers cry.....Q: How Many Tampines JC students does it take to change a lightbulb?.A: would they bother??..Q: How Many Meridian JC students does it take to change a lightbulb?.A: None. They're too busy keeping themselves from being retained..Q: How Many Saint Andrew's JC students does it take to change a lightbulb?.A: None. They believe in praying for it..Q: How Many Nanyang JC students does it take to change a lightbulb?.A:None. They're still using oil lamps...Q: How Many Serangoon JC students does it take to change a lightbulb?.A: Huh, wat lighttbarb?..Q: How Many Innova JC students does it take to change a lightbulb?.A: School too new, no electricity yet..Q: How Many Pioneer JC students does it take to change a lightbulb?.A: Heck care about that- lets all do 300 jumping jacks as punishment for improper attire..Q: Dont you guys wonder who wrote this list?.A: Temasek JC..Q: How Many Temasek JC students does it take to change a lightbulb?.A:None. They think they are very bright already\"\n\n---Before encode/decode at row 612\nThere's this guy from SH1 ... Lignum I think ... He always does funny things like swinging his arms around or kicking invisible stuff. And every time he does that I was like omg so cuteeeee! XD Sometimes I would go to the canteen just to see him eating with his friends. ^_^ Although my friends told me that he seems to be weird, I think he is so cute and handsome! :X Oh ya, I heard people calling him \"sern\" or something like that... Can someone please tell me his name and phone no? <3\n\n---After encoding/decoding\n\n-> No # found\n\n-> No websites found\n\n-> No [tag] found\n\n-> No \\n found\n\n-> No date/time found\n\n-> No month found\n\n-> No (brackets) found\n\n-> No @ found\n\n-> Found emoticons :) :  ['XD', ':X', '<3']\n\nThere's this guy from SH1 ... Lignum I think ... He always does funny things like swinging his arms around or kicking invisible stuff. And every time he does that I was like omg so cuteeeee!  Sometimes I would go to the canteen just to see him eating with his friends. ^_^ Although my friends told me that he seems to be weird, I think he is so cute and handsome!  Oh ya, I heard people calling him \"sern\" or something like that... Can someone please tell me his name and phone no? \n\n---Before encode/decode at row 613\n\"With regards to all the posts about using good English , I am not really against people using Internet slang, as long as I can still read it. However, I myself prefer using proper English and I respect people who use proper English even when you're texting, Facebook-ing, etc.\n\nGrammar is the difference between knowing your shit and knowing you're shit :)\"\n\n---After encoding/decoding\n\n-> No # found\n\n-> No websites found\n\n-> No [tag] found\n\n-> Found \\n:  ['\\n', '\\n']\n\n-> No date/time found\n\n-> No month found\n\n-> No (brackets) found\n\n-> No @ found\n\n-> Found emoticons :) :  [':)']\n\n\"With regards to all the posts about using good English , I am not really against people using Internet slang, as long as I can still read it. However, I myself prefer using proper English and I respect people who use proper English even when you're texting, Facebook-ing, etc...Grammar is the difference between knowing your shit and knowing you're shit \"\n\n---Before encode/decode at row 614\n\"\"\" I confess I'm gay and want to set up an unofficial nj lgbt soc or chat group for the lgbts in nj to know each other, but I don't know if there's anyone who is interested and how to start it\"\"\nPretty sure there will be a bunch of people interested, a support group would be really nice. Don't know how to start though\"\n\n---After encoding/decoding\n\n-> No # found\n\n-> No websites found\n\n-> No [tag] found\n\n-> Found \\n:  ['\\n']\n\n-> No date/time found\n\n-> No month found\n\n-> No (brackets) found\n\n-> No @ found\n\n-> No emoticons D: found\n\n\"\"\" I confess I'm gay and want to set up an unofficial nj lgbt soc or chat group for the lgbts in nj to know each other, but I don't know if there's anyone who is interested and how to start it\"\".Pretty sure there will be a bunch of people interested, a support group would be really nice. Don't know how to start though\"\n\n---Before encode/decode at row 615\n\"If i didnt read this confession page, i wouldnt have noticed that the western delight stall changed owner.\nP.S. Im a njc student\nP.P.S. THX ADMIN FOR MANAGING THIS PAGE!!! U R AWESOME\"\n\nAdmin: You're welcome :) as always :)\n\n---After encoding/decoding\n\n-> No # found\n\n-> No websites found\n\n-> No [tag] found\n\n-> Found \\n:  ['\\n', '\\n', '\\n', '\\n']\n\n-> No date/time found\n\n-> No month found\n\n-> No (brackets) found\n\n-> No @ found\n\n-> Found emoticons :) :  [':)', ':)']\n\n\"If i didnt read this confession page, i wouldnt have noticed that the western delight stall changed owner..P.S. Im a njc student.P.P.S. THX ADMIN FOR MANAGING THIS PAGE!!! U R AWESOME\"..Admin: You're welcome  as always \n\n---Before encode/decode at row 616\nI have a crush on Phyllis Lim's voice. Sounds amazing. Go and listen on SoundCloud if u have an account! :3 You will fall in love :D\n\n---After encoding/decoding\n\n-> No # found\n\n-> No websites found\n\n-> No [tag] found\n\n-> No \\n found\n\n-> No date/time found\n\n-> No month found\n\n-> No (brackets) found\n\n-> No @ found\n\n-> Found emoticons :) :  [':3', ':D']\n\nI have a crush on Phyllis Lim's voice. Sounds amazing. Go and listen on SoundCloud if u have an account!  You will fall in love \n\n---Before encode/decode at row 617\nI like this boy in sh1. he is cute. i call him my hamtaro.\n\n---After encoding/decoding\n\n-> No # found\n\n-> No websites found\n\n-> No [tag] found\n\n-> No \\n found\n\n-> No date/time found\n\n-> No month found\n\n-> No (brackets) found\n\n-> No @ found\n\n-> No emoticons D: found\n\nI like this boy in sh1. he is cute. i call him my hamtaro.\n\n---Before encode/decode at row 618\nI find it stupid that we can spend hundreds of thousands of dollars on a synthetic field and ISH but we can't get a full time in-school dentist\n\n---After encoding/decoding\n\n-> No # found\n\n-> No websites found\n\n-> No [tag] found\n\n-> No \\n found\n\n-> No date/time found\n\n-> No month found\n\n-> No (brackets) found\n\n-> No @ found\n\n-> No emoticons D: found\n\nI find it stupid that we can spend hundreds of thousands of dollars on a synthetic field and ISH but we can't get a full time in-school dentist\n\n---Before encode/decode at row 619\nAdmin, RAWR SURPRISE :D\n\nAdmin: Meow?\n\n---After encoding/decoding\n\n-> No # found\n\n-> No websites found\n\n-> No [tag] found\n\n-> Found \\n:  ['\\n', '\\n']\n\n-> No date/time found\n\n-> No month found\n\n-> No (brackets) found\n\n-> No @ found\n\n-> Found emoticons :) :  [':D']\n\nAdmin, RAWR SURPRISE ..Admin: Meow?\n\n---Before encode/decode at row 620\nHey everyone. This isn't a confession. But. Can everyone please learn and use proper English? I can't stand it when people say \"u're\", \"y\" or \"dat\". What the heck is \"u're\" -.- the worst thing is that when you use \"u're\" to represent both \"your\" and \"you're\". -dafuq face- seriously. Get your English right. You're not in just any school, you're in NJC. What's wrong with you people?-.- I'm sure I'm not the only irritated one here.\n\n---After encoding/decoding\n\n-> No # found\n\n-> No websites found\n\n-> No [tag] found\n\n-> No \\n found\n\n-> No date/time found\n\n-> No month found\n\n-> No (brackets) found\n\n-> No @ found\n\n-> No emoticons D: found\n\nHey everyone. This isn't a confession. But. Can everyone please learn and use proper English? I can't stand it when people say \"u're\", \"y\" or \"dat\". What the heck is \"u're\" -.- the worst thing is that when you use \"u're\" to represent both \"your\" and \"you're\". -dafuq face- seriously. Get your English right. You're not in just any school, you're in NJC. What's wrong with you people?-.- I'm sure I'm not the only irritated one here.\n\n---Before encode/decode at row 621\n\"To the certain person in 105:\nI like you:) <3 \"\n\n---After encoding/decoding\n\n-> No # found\n\n-> No websites found\n\n-> No [tag] found\n\n-> Found \\n:  ['\\n']\n\n-> No date/time found\n\n-> No month found\n\n-> No (brackets) found\n\n-> No @ found\n\n-> Found emoticons :) :  [':)', '<3']\n\n\"To the certain person in 105:.I like you  \"\n\n---Before encode/decode at row 622\nThe previous western stall owner Mr Richard should totally come back.\n\n---After encoding/decoding\n\n-> No # found\n\n-> No websites found\n\n-> No [tag] found\n\n-> No \\n found\n\n-> No date/time found\n\n-> No month found\n\n-> No (brackets) found\n\n-> No @ found\n\n-> No emoticons D: found\n\nThe previous western stall owner Mr Richard should totally come back.\n\n---Before encode/decode at row 623\nI CAN'T WAIT FOR TMR's HOUSE SESSION!! :)) AAILST LEGGO!\n\n---After encoding/decoding\n\n-> No # found\n\n-> No websites found\n\n-> No [tag] found\n\n-> No \\n found\n\n-> No date/time found\n\n-> No month found\n\n-> No (brackets) found\n\n-> No @ found\n\n-> Found emoticons :) :  [':)']\n\nI CAN'T WAIT FOR TMR's HOUSE SESSION!! ) AAILST LEGGO!\n\n---Before encode/decode at row 624\n\"Dear Mr.Speaker, are u omnipresent? You were still posting while we have classes. I hope to hear from u soon.\n\nBest Regards\n\nSushi Maker From Hawaii )W'0'W(\"\n\n---After encoding/decoding\n\n-> No # found\n\n-> No websites found\n\n-> No [tag] found\n\n"
    }
   ],
   "source": [
    "#Initialize some list\n",
    "someList = []\n",
    "\n",
    "#Script to open data\n",
    "for file in fileList:\n",
    "    workbook = xlrd.open_workbook(file)\n",
    "    sheet = workbook.sheet_by_index(0)\n",
    "    rows = sheet.nrows\n",
    "    count += rows\n",
    "    for x in range(rows):\n",
    "        item = sheet.cell_value(x, 0)\n",
    "        # Prints the value of element at row x\n",
    "        print()\n",
    "        print(\"---Before encode/decode at row \"+str(x))\n",
    "        print(item)\n",
    "        print()\n",
    "        #Cleaning Codes\n",
    "        print(\"---After encoding/decoding\")\n",
    "        #Removed chinese characters and emojis\n",
    "        cleaned_item = str(item).encode(\"ascii\", errors = \"ignore\").decode()\n",
    "        #Code to clean for #hastags\n",
    "        print()\n",
    "        p = re.compile('#(\\S+)?')\n",
    "        m = p.findall(cleaned_item)\n",
    "        if m:\n",
    "            print('-> Found #: ', m)\n",
    "            cleaned_item = re.sub('#(\\S+)?','',cleaned_item)\n",
    "        else:\n",
    "            print('-> No # found')\n",
    "        #Code to clean for websites www\n",
    "        print()\n",
    "        regex = r\"(?i)\\b((?:https?://|www\\d{0,3}[.]|[a-z0-9.\\-]+[.][a-z]{2,4}/)(?:[^\\s()<>]+|\\(([^\\s()<>]+|(\\([^\\s()<>]+\\)))*\\))+(?:\\(([^\\s()<>]+|(\\([^\\s()<>]+\\)))*\\)|[^\\s`!()\\[\\]{};:'\\\".,<>?«»“”‘’]))\"\n",
    "        m2 = re.findall(regex,cleaned_item)\n",
    "        if m2:\n",
    "            print('-> Found websites: ', m2)\n",
    "            cleaned_item = re.sub(regex,'',cleaned_item)\n",
    "        else:\n",
    "            print('-> No websites found')\n",
    "        #Code to clean for tags [  ]\n",
    "        print()\n",
    "        p = re.compile('\\[\\S*\\]')\n",
    "        m = p.findall(cleaned_item)\n",
    "        if m:\n",
    "            print('-> Found [tag]: ', m)\n",
    "            cleaned_item = re.sub('\\[\\S*\\]','',cleaned_item)\n",
    "        else:\n",
    "            print('-> No [tag] found')\n",
    "        #Code to replace \\n with fullstop\n",
    "        print()\n",
    "        p = re.compile('\\\\n')\n",
    "        m = p.findall(cleaned_item)\n",
    "        if m:\n",
    "            print('-> Found \\\\n: ', m)\n",
    "            cleaned_item = re.sub('\\\\n','.',cleaned_item)\n",
    "        else:\n",
    "            print('-> No \\\\n found')\n",
    "        #Code to replace date-time\n",
    "        print()\n",
    "        p = re.compile('\\b[0-9]*(-|\\/|\\.|:)[0-9]*((-|\\/|\\.|:)[0-9]*)?\\b')\n",
    "        m = p.findall(cleaned_item)\n",
    "        if m:\n",
    "            print('-> Found date/time: ', m)\n",
    "            cleaned_item = re.sub('\\b[0-9]*(-|\\/|\\.|:)[0-9]*((-|\\/|\\.|:)[0-9]*)?\\b','',cleaned_item)\n",
    "        else:\n",
    "            print('-> No date/time found')\n",
    "        #Code to replace month\n",
    "        print()\n",
    "        p = re.compile('([0-9]*(st|nd|rd|th)?\\s)?(January|Jan|Feburary|Feb|March|Mar|April|Apr|May|June|Jun|July|Jul|August|Aug|September|Sep|October|Oct|November|Nov|December|Dec)(\\s[0-9]*)?')\n",
    "        m = p.findall(cleaned_item)\n",
    "        if m:\n",
    "            print('-> Found month: ', m)\n",
    "            cleaned_item = re.sub('([0-9]*(st|nd|rd|th)?\\s)?(January|Jan|Feburary|Feb|March|Mar|April|Apr|May|June|Jun|July|Jul|August|Aug|September|Sep|October|Oct|November|Nov|December|Dec)(\\s[0-9]*)?','',cleaned_item)\n",
    "        else:\n",
    "            print('-> No month found')\n",
    "        #Code to remove circle bracket ()\n",
    "        print()\n",
    "        p = re.compile('\\(\\S*\\)')\n",
    "        m = p.findall(cleaned_item)\n",
    "        if m:\n",
    "            print('-> Found (brackets): ', m)\n",
    "            cleaned_item = re.sub('\\(\\S*\\)','',cleaned_item)\n",
    "        else:\n",
    "            print('-> No (brackets) found')\n",
    "        #Code to remove mentions @\n",
    "        print()\n",
    "        p = re.compile('@(\\S+)?')\n",
    "        m = p.findall(cleaned_item)\n",
    "        if m:\n",
    "            print('-> Found @mentions: ', m)\n",
    "            cleaned_item = re.sub('@(\\S+)?','',cleaned_item)\n",
    "        else:\n",
    "            print('-> No @ found')\n",
    "        #Code to remove emoticons\n",
    "        print()\n",
    "        regex = r\":-\\)|:\\)|:-\\]|:\\]|:-3|:3|:->|:>|8-\\)|8\\)|:-}|:}|:o\\)|:c\\)|:\\^\\)|=\\]|=\\)|:\\(|=\\(|:-D|:D|8-D|8D|x-D|xD|X-D|XD|=D|=3|B\\^D|:-\\)\\)|:-\\(|:-c|:c|:-<|:<|:-\\[|:\\[|>:\\[|:{|:@|;\\(|:'‑\\(|:'\\(|:'-\\)|:\\'\\)|D-':|D:<|D:|D8|D;|D=|DX|:‑O|:O|:‑o|:o|:-0|8-0|>:O|:-\\|:\\|:×|;-\\)|;\\)|;-]|;]|;\\^\\)|;D|:-P|:-P|:-P|:P|X-P|XP|x-p|xp|:-p|:p|:-b|:b|d:|=p|>:P|:-\\/|:\\/|>:\\\\|>:\\/|:\\\\|=\\/|=\\\\|:L|=L|:S|:‑\\||:\\||:\\$|:-X|:X|:‑#|:#|:&|:-&|>:‑\\)|>;\\)|>:3|<\\/3|<3|\\\\o\\/|\\\\\\0\\/\\|v.v|>.<|[Oo][.|][oO]|[uU]w[uU]|;:\\)|:-[Pp]|\\'[o|-]\\'|x[0|o|O]|\\-\\\\-|:\\||\\^[|.]\\^|\\*\\\\*|:\\*\"\n",
    "        m = re.findall(regex, cleaned_item)\n",
    "        if m:\n",
    "            print('-> Found emoticons :) : ', m)\n",
    "            cleaned_item = re.sub(regex,'',cleaned_item)\n",
    "        else:\n",
    "            print('-> No emoticons D: found')\n",
    "        #display cleaned item\n",
    "        print()\n",
    "        print(cleaned_item)\n",
    "        #append to cleaned list if it contains something\n",
    "        if not (cleaned_item.isspace()):\n",
    "            someList.append(cleaned_item)\n",
    "    \n",
    "    print()\n",
    "    print(\"Total len of List: \"+str(len(someList)))"
   ]
  },
  {
   "cell_type": "code",
   "execution_count": 93,
   "metadata": {},
   "outputs": [
    {
     "output_type": "execute_result",
     "data": {
      "text/plain": "side... ...thought you would comment on my post about it  can you spend a day with me at the food court or just bake???please?????.Admin : tag..tag..\",\n 'Confession .Achintha Sarapalli frm hepp ur dam tooo hot sexy n awesome hope ur single ..',\n 'Confession .Does Shreya Kamat like Anshul?Shayan Khan?Ashwin Ramesh?Vishal Rangwani?orrr...Shiham Souhan?? Cause it looks like she likes em all! So confused. ...',\n 'Confession .I have a teeny-weeny crush on Kiren sir(science teacher)!!!!    year..',\n 'Confession .Siimra ,I heard u r jealous ,of bhavishya ??,!!!!???? curious junior',\n 'Confession .awww abhishek !!!!!! you are sooo cute !!!!!!! really like you  ',\n \"confession  149..[ From the confessor of  135 to Aman ]..that's how I created myself , not too much drama and girlishness yet decent but i'm a NOT a lesbian .\",\n \"Confession .We should coordinate and wear the same color once..Admin: it'll be a big chameflouge...\",\n 'Confession .Avisha of arts....!!.can I get u r mobile no........',\n 'Confession .Melwyn Hubert from HESP ur an awesome guy..I like de way u talk to everyone ..Ur so plumpy and fluffy..I wanna pinch ur checks once. ...Admin: which part do you mean by \"CHECKS\"????',\n \"Confession.Meher, it's a request, please stop being an ass! Someone is gonna bitchslap you very soon! Grow up and stop running behind guys. Don't be so desperate!.PS: Ashish beware of meher! Stay away from her!\",\n 'Confession .1 pcmb.Pcmb e shud be given the title \"the most halli class of cjc\"  they can\\'t even read English properly!! The only thing left is to start farms in that class , is there any way to change the class at this point of the year?.Admin: bro chill!!.... The Oly way to change ur class is to leave colg.... ',\n 'Confession .This senior from science..she always wears this bun.... She is such a cute thing .. I love how her bangles nd earings ...make noise.. Someone please tag her ? love you!!',\n 'Confession .Seriously ..... Christ has the best crowd ever, no matter what anyone says.Admin: ....15 k ppl ....big shit..',\n \"Confession .Geo Thomas. You are one of the nicest and funniest people I know. You're also pretty hot.  You try and act all tough and macho, but really...you're just too sweet. ..\",\n 'Confession .Sr from ppes o why did you stop talking with me??Did i do something wrong?... o',\n \"Confession .How can someone be exactly like me?..I'v seen this guy in my class who has the same exact style like me for example the way he sits in class, the way he holds something ...even our likes and socializing way are the same how is it possible ?? how can he be exactly like me ??..\",\n 'Confession .Shayan Khan... u rock i love de way u talk n laugh how sweet u r  i love u Shayan but im nt yet ready to cme front of u       .. ',\n \"Confession .Y do most of the guys in my class talk to only those girls who arent a part of their own class? 'h' girl\",\n 'Confession .Shreya Arora! u have a damn good voice! its awesome! [just an appreciation/no crush] it irritates when u sing, but awesome when u speak!!!!!!',\n \"Confession . Dylan Noronha... u r bro's hawwwtttt he single????? \",\n 'Confession .I wish I was in 2nd pu now! God all pretty, hot chicks are there in 2nd pu  Guyz tag every 2nd pu hot chick in comments, Please!! .. HESP.Admin: aww...man!!... Me too...',\n 'Confession .Confessor of  Moin Khan looks like Ranbir Kapoor  Fuck. Insult to RK -_-. Kill yourself Confessor. Thank you ',\n 'Confession .The day I saw u I found a reason to smile.....\"chasin kaveri\"  .1 Pcmb..',\n 'Confession .WTF!!.....we jus had our unit tests and all of the sudden terms startin from aug 12.......Admin : Lolz...',\n 'Confession .i was reading confessions bout moin everywhere and i was like who the fcu is he,today when he came to talk to kamran i felt he is actually cute,very stylish and luks like ranbir kapoor:-',\n 'Confession .all the girls wanting to know if moin is single,i think he is dating anakha or malini,i saw him bunk the xite event and flirting with them in the quadrangle.  ',\n 'Confession .Are there any Lesbos, Gays in our college?? We r plannin to start a LGBT support club ',\n 'Confession .I met akansha  in cjc and spoke to her only twice ..Akansha you are damn sweet and think about others a lot and would never hurt anyone . .U have a beautiful heart and thats what i love in u . .I LOVE YOU  but i dont have gutts to approach u ..arts.boy',\n \"Confession .Y the fk do u christite's need 2 confessions page?? Can't manage all ur puppy loves in one page?? Guess even this page needs the treatment. Whoever got the balls come with ur pull at wateva time u want...Admin : y do u even bother to post on this page??\",\n 'Confession .who were the two girls playin with the heart shaped balloons, and clippin it on their heads at the balcony today??',\n 'Confession .Chandrat from ist ppes o, you. are. a . bitch.',\n 'Confession .Yashwanth..from  i heard you have great pull and shit....',\n \"Confession .Kevin...ur chem jokes are so-dium funny  nd you're so cute when u get hyper .\",\n 'Confession ...saw a cute guy wearing a superman pull-over, any idea who he is??',\n 'Confession .Omg!!! Ronith!!!!! Today you blew me off my feet!!!!Soo charming!!!',\n \"The girls made me go 'DAAAYUM' !!\",\n 'Confession .Okay so there were these 2 gals sitting in front of me and they were throwin paper balls at the guys in front. So cutee!..One girl was in blue I think n the other was in black and green!... PU',\n 'Confession .TROLLED YOU GUYS!!! iT WAS HILARIOUS TO WATCH THAT SHIT GET PUBLISHED! Talking about confessions 107 and 104. DD.I am in CJC. .Admin : OMG!! we soooo believed u -_-',\n 'Group Dance !!! ',\n 'Confession .In reply to confession .ok admins i really did not knw it will sound awkward ...just wanna let u guys knw that u guys r really awesum and u people rock. ..girl.Admin : I love u too random citizen ',\n 'Confession .Uhmmm. Is it weird to have a crush on a (pretty young) teacher..I PCMB..Admin : O.0 creepiest confession till now',\n \"Confession .Lol awesome page where impossible things are made possible........Admin : thanks, it's these posts tat make being an admin worthwhile \",\n 'Confession .These confessions are amazing..just love reading them..good time pass ',\n 'Confession .M madly in lov wit Kishore! Ur the best :-.',\n 'Confession .CaMe L..The way Aisha gave that one minute speech was actually cute !',\n 'Confession .I soo badly wanna know who the admins are ..I feel they are the most coolest people of cjc . .I think i am gonna fall in love with them ( boy only  ).please tell me who you are ..girl.1ppes.Admin : Hawkward, and if this is a cheap trick to know who we r, we r not gonna fall for it ',\n 'Confession .This page totally rocks!!!.I like this page cos u dont post perverted confessions!! .Although some of ur memes r really lame .Admin : Thanks for ur support bob, and yes we r tryin to improve on our meme section ',\n \"Confession .Still wondering- Why its named CJC Confessions but posts memes! . 'H'.Admin : To entertain u guys  \",\n 'Confession .Aditya Tambre is hot as hell!! Please come announce in my class more often!!  ',\n 'Confession .I CAME L...Divya Raghav. ..please tell me that your coming to college tomorrow...please. ',\n 'Confession .munish would you dance if i asked u 2 dance )',\n 'Confession .Deejesh manay!! I c u  many parties. I think u luk really nice ',\n 'Confession .Abhiram Reddy. .u r such a hottie. I c u in colege at gormet. U r too hott',\n \"Confession .Lovin tis girl frm 4 years sunk'n feelin ! .Hav got no idea she s single or not bt i gravely luv and miss her ! .I thought you'd be here in christ col bt you arent ! .I rarely speak to girls !.Cant take you outta my head no matter how much i try to ! .Single!.depressed !.Broken hearted ! .Some girl come and heal me please ! ..\",\n \"Confession .i came across a confession in whch sum1 askd if moin was single.fyi moin is always surrounded by girls,anam,akanksha,usma,vinisha,saniya,aishwarya and me r just sum examples frm moin's past.moin has always been a heartbreaker.\",\n \"Confession . 1 CAME 'L'.Aisha....... I do realise how disturbing these confessions have been for you.... but this is the only way I can let you know how I feel ! I'll never ever have the guts to tell anyone how much I love you....... just too scared ! I'll try to keep away and all I want to say is I love you  I'll always want you to be mine but I know that won't happen !! All I want is you to be happy ! You are adorable and I love you again  \",\n 'Confession .confession.i am in love with moin of pcmb,he is ne of the hottest guy in christ and most wel dressed,1st saw him in pierien debate,i get jealous when i c him spkin to alvina frm my class,hope he is single..girl.',\n \"Confession .i see a guy in the quadrangle everyday...he's from 1 PCMB B...i sit in his french class....he's so cuttte...but i dont think he's single...saw him in the bird park on saturday,with a girl...i hope ur single!!.Admin : Finally!!The science confessions r flowin in!! \",\n 'Confession .Kishooree...I wana talk to yu bt m vei shy 2 do so.! .thnq fo confessing dat ua single :- .fingers cross! I wana talk to u monday bt really nervous ',\n 'Confession . l.Naren.. (noodle hair).you are so cute and adorable.. .i just keep looking at your hair..!!.I wanna talk to you but in dont have guts...Im there in your french class.. ',\n 'Confession .Manish d so cald \"wannabe stud\".u r a dumbf.Growup! try 2 b a guy wit rite attitude if possible..... U suck. ua class!  cams k!',\n 'Confession .Rhea from 1 PPES O does this epic head shake and hand clap thing. .You guys should go ask her to show it to you and do it along with her...Rhea! You are bomb',\n 'Confession .Ninnngggg ru single?.',\n 'Confession .Hav a huuuuuuuge crush on a guy frm 2nd ppes! Hez really really cute, n swtest guy in college!.Jus hope he talks 2 me on monday!  ly :- ',\n 'Confession .1 pcmb.Just came to know tat this girls name is komal!!.I think shes cute!!.Is she single??.Admin : Someone tag her!!',\n 'Confession .hey shika i luv u... ',\n 'Confession .Divya Raghav! The sweetest bitch that ever lived!  .-Sitcomkie',\n 'A christites true friend!!  Check it out if u didnt noe about it!!..BunkMate',\n 'Detention room of cjc!!   !!',\n 'Confession . CAME L..Where was Divya Ragav today (((..I love u ',\n 'Confession .Srishti Amitash is so stupid. he doesnt even know you hes supporting the wrong person. i met u in 2010 i know how terrible u r. everyone is crazyyy.... O.',\n 'Confession .Srishti i cant believe even Amitash is supporting you.. i though hes the first person to dislike you  dont hit on him also.. O.',\n \"Confession . 1 CAME'L'.wonder where aisha was all day long....... atleast saw her by the end of the day wearing all black  btw if people think it's a prank sorry guys you are WRONG....... its what I actually feel but I'm to scared to own up coz I don't want to loose her..........PS: I've spoke to you only once\",\n '',\n \"Confession .I guess Confession Pages are Stupid! Why cant People just Go and tell it on their Face??.Admin : y didn't u just post this on our wall?  same frickin reason.\",\n 'Confession .malini, still lov you.. confess that i stare  u all the time !! wen is a gud time to ask you out?',\n 'Confession .saw this guy today in the quadrangle ... black sweatshirt ... wid a white print on the back .... and a lil grey jeans ... dint seem like a first year sstudent ...... gawddddd so cute .....any guesses who he is .....very fair and tall .... looks sweet and smile is to die for .... ',\n \"Confession .Rakhi maheswari enough k? Stop plying arund with everyone's feelings . Yr just hittin on evry guy so dat 1 of them will date yu. U wer my bst fren n I no you in and out. Bt aftr all that yu did I cnt stand 2 see yr face..Stop hittng on every gy. N stop btchn abt ppl\",\n \"Confession ..I sincerely think that these people should get to know each other so that there's some chemistry in commerce as well !!!.Naomi and mayuk.Tanya and naren bhatt.Divya and Chidambharam.Movina and Ali/hari.Aisha and vishesh/atharv.sai prasanti and arjuna.ria and naren (noodle head)/arjuna.Shubangi and atharv/vishesh/mayuk.\",\n '95%!!?? Are u fukin kidding me?!!',\n \"Confession .I have a huge crush on Anish Pinto  .Ps. I'm not female.Admin : \",\n 'Confession .Srishti from 1PPES O you have so much of attitude.. your such a mean person.. even Shreya Arora hates you.. get a life. and btw you suck. honey... o.',\n \"Confession . CAME L.. Mathew, you are hilarious! Keep goin .. you fat chick. Look at how u keep rollin around in the class.. its cute how u talk  you spoke to me only once till now!.. or howeva you spell her name, happy bday. Didn't wish u today!\",\n 'Confession .Aman Mihir from 1-HESP is soooo damn cuteee!! .I really like you!.I am in your hindi class!',\n \"Confession .Today a teacher asked for the no. Of mallus and only a few hands went up  I thought the whole college was filled with them ..Admin : tag all ur mallu friends!!.Let's make a head count .\",\n \"Confession .I don't know why you people hate Rhea so much. She is amazing. Whats that about the rumor?.You guys have to stop hating her, what wrong did she do to you? Non of you know her, it's only been a month. You are no one to judge her..Rhea i love you, i hope you'll be mine someday. But with the number of people falling for you, i know i don't have a chance. I'l always have your back ..\",\n 'Credits : Pavan Bhat once more !! This guys on a roll ',\n 'Confession .akansha of 1 ppes u r damn cute.ur smile is wow . a smile i will die for .i saw u today in hindi class  and u r toooo cute .ARE U SINGLE ?... pcmb',\n 'Credits : Pavan again!!',\n 'Confession .im crazy about malini from ppes, today it got confirmed when i saw her in formals that i cant do without her as my girl _.is she single?..',\n 'Confession .I have a big big really big crush on this cute girl from 2Hepp n......any guesses....shes a big DIRECTIONER!!!!.yes yes....i am talking about Seema...shes cute and funny.....Are you single???.',\n \"Confession .Zain, from I-PPES O, I wish you didn't leave..I never got to tell you I like you \",\n 'Credits  Bhat Kundapur ',\n 'Confession .in LOVE with Vishal Rangwani from 1PPES O... ur too cute.. the way u talk to people.. ur smile. EVERYTHING... O',\n 'Confession .Zubin II PPES. WOW. One of the hottest guys in college. You are the best dressed for sure .I wish I just had the guts to come and talk to you and see you smile, hotty..Admin : tag him ',\n 'Confession .Omg. Pranav Shivram from CAMS K!..I saw you all suited up today. You looked so good! ..- I PPES',\n \"Confession .to naren bhat.from I came 'L'.my cutie.. i luv ur simplicity and innocence .and ur SMILE ^_^.i wish to have long convos wid u .plz wear white always... u look lyk an angel in white \",\n 'credits: pavan again',\n '300 yeahhhhhhhhh',\n 'Confession .Kishore u my MJ!!!  .Admin : I think we all know who this is !!   Padmaji ur being too obvious!!',\n 'Confession .Well.. its been almost three weeks in college and I am loving my class... I find Naman from 1HESP cute .. O',\n \"Confession .There's this cute girl from.1st ppes o who says Haaloo instead of hello in a cute voice..its really sqeeky . i dont know her name but shes tall and fair .\",\n 'Any guesses abt..... who the admins are ppl??  ',\n 'Confession .Alwyn Raj from 1st year science.. are you single?. 1 ppes ',\n \"250 likes omg I can't believe it!!!.Can we reach 300 today??!.Thanks for all ur likes!!.Spread the message about this page!!\",\n 'Confession .1CAME-L.Naomi, you are so selfish. All u care about it yourself, your marks and your repo. With this attitude, you are gonna go no where girl!.You never want to help anybody..You might pretend to be sweet but you are such a snob.',\n 'Confession .Sanket dylan noronha please sing for me....... please !!!!!! I love you and your awesome !!!!! R you single ?!?!? Be mine please......',\n 'Confession . pcmb.OMG  3/4th of the class failed in physics!!!.I dont wanna go to remedials!! .',\n \"Confession . 1 CAME 'L'.Aisha I loved the way you were singing when we stayed back for apparent class cultural practise....... I wanted to hear you sing today as well but you went off for the theatre workshop  and thanks to your friend for taking away that clip, you had to let your hair loose today as well...... you .Admin: Where the fuck are all the science confessions??\",\n 'Come on second years!!',\n \"Confession .there's this girl in HEPP I thnk. shes very very cute and pretty and I love her cute accent. . . I saw her first time in French class and can't stop thinking of her...please talk to me sometime I know ur shy.\",\n 'Confession .I PPES-O,.RNR i want to see you dancing for xite..U R JUST AWESOME...from, first year arts french class.',\n \"Seriously guys >.How many can sing our 'College Anthem' ? ^_^..>How many realy luv  it ? \",\n '200 likes awwwww yeaahhhh',\n \"Confession .Amanniqqa you're such a cutie  ..\",\n \"Confession .There r realy lame nerds in 1st pcmb's they seem to ask more doubts to the teacher and r in a hurry to get a seat in the first benches. . . . . . Bt the fact is 'still' tat back benchers get the grade!!  \",\n 'Confession .Aditya Jossen........Just go out with Kathelene already????!?!??!!?',\n 'Confession .I have been seeing a girl from arts she is so fucking damn cute! Heard her being called some name from sa.am from 1 pcme',\n \"Are you guys 'xite'd yet?!!\",\n 'Confession .This is a reply to the confession number 15 on this page..This is Dominoes for you, you wanted them because you were so jealous.',\n \"Just as a warning never google the word Mallu. You'll have nightmares trust me x_x :shudders:\",\n \"Confession .im freakd dat amulya kam is in our college, she'll start dating guys like dominos!.. PCMB.Admin : curious to know who this is\",\n 'Confession ..We hav this really hopeless physics teacher...he says likyud fr liquid.And ya sisty fr 60!!plus he suks at teaching',\n 'Confession .1 pcmb.kishore u r an awsum singer...!! ur voice is relly \"to die for\" hope ur single!',\n \"Confession .I pcmb..To all the icse people. CALM YOUR TITS DOWN. We know tat u noe the answers. Just don't show off in front of the class. Give the others a chance.Admin : Seconded\",\n 'Confession .ashritha, sahana and ranjithaa are really sweet .. HESP',\n 'Confession .sawfan frm 1 pcmb c... ur so not cool dude.... loose it .Admin : someone tag him',\n 'Confession .1 HEPP -.I think Rhea frm ppes is cute.',\n 'Confession .in love with a girl from I PPES, she is from kums, i think. chillls ....Admin: I was waiting for these crush confessions!! ',\n '69 likes reached!! :ifyouknowwhatimean:',\n 'Seriously!!',\n 'Confession .First day of clg... Every ones most special n awaited moment... had the same feeling wen I entered cjc.. but it was such a disaster.. my very first step into classroom... made me realise.. oh shit... im a person out place here. .. no one seemed like my types. .. all I could seee is a bunched girls. . Wid oiled hair. . N brigth white jasmine flowers... whic made feel extra gross... just wondered if I was in modern bangalore or some out of sight village... dint knw wat to do whom to talk to.. how to share something with some one.... as time passed by.. I got adjusted to the atmosphere of the class room. . I hav no choice. .. I still regret to hav joined cjc... missing those days.. wen we use to wear extra short skirt n walk around brigade road.. n now cjc dress code makes me feel like a person who im not. .. no other goo cjc ur ruling my life .Admin : Dont noe from which schul uve come, but here at CJC we respect our culture.Go with the flow !!',\n 'Confession . I PUC.So as our first tests were happening, I mistook the timings and came 45 minutes late to college!!  Just when i thought about the sinking feelin of failing, the principal arrived and gave me a chance to write the test !!  And even the invigilator was helpful !1  Good to know such people exist.',\n \"We'll also be making memes!!!\",\n 'Heres the link to confess!! Start confessing people !!..DOCS.GOOGLE.COM.CJC Confessions']"
     },
     "metadata": {},
     "execution_count": 93
    }
   ],
   "source": [
    "someList"
   ]
  },
  {
   "cell_type": "code",
   "execution_count": 94,
   "metadata": {},
   "outputs": [
    {
     "output_type": "execute_result",
     "data": {
      "text/plain": "680"
     },
     "metadata": {},
     "execution_count": 94
    }
   ],
   "source": [
    "count"
   ]
  },
  {
   "cell_type": "code",
   "execution_count": null,
   "metadata": {},
   "outputs": [],
   "source": []
  }
 ],
 "metadata": {
  "kernelspec": {
   "display_name": "Python 3",
   "language": "python",
   "name": "python3"
  },
  "language_info": {
   "codemirror_mode": {
    "name": "ipython",
    "version": 3
   },
   "file_extension": ".py",
   "mimetype": "text/x-python",
   "name": "python",
   "nbconvert_exporter": "python",
   "pygments_lexer": "ipython3",
   "version": "3.8.5-final"
  }
 },
 "nbformat": 4,
 "nbformat_minor": 4
}