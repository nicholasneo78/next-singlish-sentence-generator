{
 "cells": [
  {
   "cell_type": "code",
   "execution_count": 1,
   "metadata": {},
   "outputs": [],
   "source": [
    "import requests\n",
    "import urllib\n",
    "import xlrd\n",
    "import os\n",
    "#Code to import Regex\n",
    "import re"
   ]
  },
  {
   "cell_type": "markdown",
   "metadata": {},
   "source": [
    "## Test Code"
   ]
  },
  {
   "cell_type": "code",
   "execution_count": 2,
   "metadata": {},
   "outputs": [],
   "source": [
    "file = \"scrapingData_andiechen_FULL.xlsx\""
   ]
  },
  {
   "cell_type": "code",
   "execution_count": 3,
   "metadata": {},
   "outputs": [],
   "source": [
    "workbook = xlrd.open_workbook(file)"
   ]
  },
  {
   "cell_type": "code",
   "execution_count": 4,
   "metadata": {},
   "outputs": [],
   "source": [
    "sheet = workbook.sheet_by_index(0)"
   ]
  },
  {
   "cell_type": "code",
   "execution_count": 5,
   "metadata": {},
   "outputs": [
    {
     "output_type": "execute_result",
     "data": {
      "text/plain": "<xlrd.sheet.Sheet at 0x1e6d0293d90>"
     },
     "metadata": {},
     "execution_count": 5
    }
   ],
   "source": [
    "sheet"
   ]
  },
  {
   "cell_type": "code",
   "execution_count": 6,
   "metadata": {},
   "outputs": [
    {
     "output_type": "execute_result",
     "data": {
      "text/plain": "1699"
     },
     "metadata": {},
     "execution_count": 6
    }
   ],
   "source": [
    "sheet.nrows"
   ]
  },
  {
   "cell_type": "markdown",
   "metadata": {},
   "source": [
    "## Actual Code"
   ]
  },
  {
   "cell_type": "code",
   "execution_count": 7,
   "metadata": {},
   "outputs": [
    {
     "output_type": "execute_result",
     "data": {
      "text/plain": "'c:\\\\Users\\\\65866\\\\Documents\\\\RandomCodes\\\\next-sentence-predictor'"
     },
     "metadata": {},
     "execution_count": 7
    }
   ],
   "source": [
    "os.getcwd()"
   ]
  },
  {
   "cell_type": "code",
   "execution_count": 8,
   "metadata": {},
   "outputs": [
    {
     "output_type": "execute_result",
     "data": {
      "text/plain": "['.git',\n '.ipynb_checkpoints',\n 'countNoOfLines.ipynb',\n 'dataCleaning.ipynb',\n 'LICENSE',\n 'README.md',\n 'Scraper-Codes',\n 'scrapingData_andiechen_FULL.xlsx',\n 'scrapingData_bellywellyjelly_FULL.xlsx',\n 'scrapingData_benjamin.kheng_FULL.xlsx',\n 'scrapingData_bossyflossie_FULL.xlsx',\n 'scrapingData_DanielFoodDiary_FULL.xlsx',\n 'scrapingData_DollarsAndSenseSG_FULL.xlsx',\n 'scrapingData_dreachongofficial_FULL.xlsx',\n 'scrapingData_ieatishootipost_FULL.xlsx',\n 'scrapingData_ladyironchef_FULL.xlsx',\n 'scrapingData_moneysmartsg_FULL.xlsx',\n 'scrapingData_mongabong_FULL.xlsx',\n 'scrapingData_mrbrownlah_FULL.xlsx',\n 'scrapingData_mykxii_FULL.xlsx',\n 'scrapingData_sethluimarketing_FULL.xlsx',\n 'scrapingData_sophiewillocq_FULL.xlsx',\n 'scrapingData_therealnaomineo_FULL.xlsx',\n 'scrapingData_TheSmartLocal_FULL.xlsx',\n 'scrapingData_yoyokulala_FULL.xlsx']"
     },
     "metadata": {},
     "execution_count": 8
    }
   ],
   "source": [
    "os.listdir()"
   ]
  },
  {
   "cell_type": "code",
   "execution_count": 9,
   "metadata": {},
   "outputs": [
    {
     "output_type": "execute_result",
     "data": {
      "text/plain": "['FBScraper.py',\n 'scrapingData_ACJC-Confessions-365341810240423_FULL.xlsx',\n 'scrapingData_asrjcconfessions_FULL.xlsx',\n 'scrapingData_cjcroxx_FULL.xlsx',\n 'scrapingData_DHS-Confessions-103690209814932_FULL.xlsx',\n 'scrapingData_HwaChongConfessions_FULL.xlsx',\n 'scrapingData_InnovaConfessions_FULL.xlsx',\n 'scrapingData_ITE-College-Central-Confessions-102332676616681_FULL.xlsx',\n 'scrapingData_ITE-College-West-Confessions-123845157793064_FULL.xlsx',\n 'scrapingData_JjcConfessions_FULL.xlsx',\n 'scrapingData_NJC-Confessions-414721038609037_FULL.xlsx',\n 'scrapingData_npconfession_FULL.xlsx',\n 'scrapingData_NTUConfess_PART.xlsx',\n 'scrapingData_nuswhispers_FULL.xlsx',\n 'scrapingData_NYP-Confessions-118332335013023_FULL.xlsx',\n 'scrapingData_RepublicPolyConfessions_FULL.xlsx',\n 'scrapingData_RJConfessions_FULL.xlsx',\n 'scrapingData_SajcConfessions_FULL.xlsx',\n 'scrapingData_SGAG_FULL.xlsx',\n 'scrapingData_simconfessions_FULL.xlsx',\n 'scrapingData_SMUConfessionsPage_FULL.xlsx',\n 'scrapingData_SP-Confessions-329564370479100_FULL.xlsx',\n 'scrapingData_SUSSConfessions_FULL.xlsx',\n 'scrapingData_TJC-Confessions-133149643521172_FULL.xlsx',\n 'scrapingData_tpconfession_FULL.xlsx']"
     },
     "metadata": {},
     "execution_count": 9
    }
   ],
   "source": [
    "# inside the Scraper-Codes folder\n",
    "os.listdir('Scraper-Codes')"
   ]
  },
  {
   "cell_type": "code",
   "execution_count": 10,
   "metadata": {},
   "outputs": [
    {
     "output_type": "execute_result",
     "data": {
      "text/plain": "['./Scraper-Codes/FBScraper.py',\n './Scraper-Codes/scrapingData_ACJC-Confessions-365341810240423_FULL.xlsx',\n './Scraper-Codes/scrapingData_asrjcconfessions_FULL.xlsx',\n './Scraper-Codes/scrapingData_cjcroxx_FULL.xlsx',\n './Scraper-Codes/scrapingData_DHS-Confessions-103690209814932_FULL.xlsx',\n './Scraper-Codes/scrapingData_HwaChongConfessions_FULL.xlsx',\n './Scraper-Codes/scrapingData_InnovaConfessions_FULL.xlsx',\n './Scraper-Codes/scrapingData_ITE-College-Central-Confessions-102332676616681_FULL.xlsx',\n './Scraper-Codes/scrapingData_ITE-College-West-Confessions-123845157793064_FULL.xlsx',\n './Scraper-Codes/scrapingData_JjcConfessions_FULL.xlsx',\n './Scraper-Codes/scrapingData_NJC-Confessions-414721038609037_FULL.xlsx',\n './Scraper-Codes/scrapingData_npconfession_FULL.xlsx',\n './Scraper-Codes/scrapingData_NTUConfess_PART.xlsx',\n './Scraper-Codes/scrapingData_nuswhispers_FULL.xlsx',\n './Scraper-Codes/scrapingData_NYP-Confessions-118332335013023_FULL.xlsx',\n './Scraper-Codes/scrapingData_RepublicPolyConfessions_FULL.xlsx',\n './Scraper-Codes/scrapingData_RJConfessions_FULL.xlsx',\n './Scraper-Codes/scrapingData_SajcConfessions_FULL.xlsx',\n './Scraper-Codes/scrapingData_SGAG_FULL.xlsx',\n './Scraper-Codes/scrapingData_simconfessions_FULL.xlsx',\n './Scraper-Codes/scrapingData_SMUConfessionsPage_FULL.xlsx',\n './Scraper-Codes/scrapingData_SP-Confessions-329564370479100_FULL.xlsx',\n './Scraper-Codes/scrapingData_SUSSConfessions_FULL.xlsx',\n './Scraper-Codes/scrapingData_TJC-Confessions-133149643521172_FULL.xlsx',\n './Scraper-Codes/scrapingData_tpconfession_FULL.xlsx']"
     },
     "metadata": {},
     "execution_count": 10
    }
   ],
   "source": [
    "# Append the directory in the Scraper-Codes folder\n",
    "appendDir = './Scraper-Codes/'\n",
    "tempList = os.listdir('Scraper-Codes')\n",
    "finalList = list()\n",
    "for k in tempList:\n",
    "    finalList += [appendDir + k]\n",
    "    \n",
    "finalList"
   ]
  },
  {
   "cell_type": "code",
   "execution_count": 11,
   "metadata": {},
   "outputs": [],
   "source": [
    "# Copy the above .xlsx files and paste into fileList\n",
    "fileList = ['./Scraper-Codes/scrapingData_ACJC-Confessions-365341810240423_FULL.xlsx',\n",
    "             './Scraper-Codes/scrapingData_asrjcconfessions_FULL.xlsx',\n",
    "             './Scraper-Codes/scrapingData_cjcroxx_FULL.xlsx',\n",
    "             './Scraper-Codes/scrapingData_DHS-Confessions-103690209814932_FULL.xlsx',\n",
    "             './Scraper-Codes/scrapingData_HwaChongConfessions_FULL.xlsx',\n",
    "             './Scraper-Codes/scrapingData_InnovaConfessions_FULL.xlsx',\n",
    "             './Scraper-Codes/scrapingData_ITE-College-Central-Confessions-102332676616681_FULL.xlsx',\n",
    "             './Scraper-Codes/scrapingData_ITE-College-West-Confessions-123845157793064_FULL.xlsx',\n",
    "             './Scraper-Codes/scrapingData_JjcConfessions_FULL.xlsx',\n",
    "             './Scraper-Codes/scrapingData_NJC-Confessions-414721038609037_FULL.xlsx',\n",
    "             './Scraper-Codes/scrapingData_npconfession_FULL.xlsx',\n",
    "             './Scraper-Codes/scrapingData_NTUConfess_PART.xlsx',\n",
    "             './Scraper-Codes/scrapingData_nuswhispers_FULL.xlsx',\n",
    "             './Scraper-Codes/scrapingData_NYP-Confessions-118332335013023_FULL.xlsx',\n",
    "             './Scraper-Codes/scrapingData_RepublicPolyConfessions_FULL.xlsx',\n",
    "             './Scraper-Codes/scrapingData_RJConfessions_FULL.xlsx',\n",
    "             './Scraper-Codes/scrapingData_SajcConfessions_FULL.xlsx',\n",
    "             './Scraper-Codes/scrapingData_SGAG_FULL.xlsx',\n",
    "             './Scraper-Codes/scrapingData_simconfessions_FULL.xlsx',\n",
    "             './Scraper-Codes/scrapingData_SMUConfessionsPage_FULL.xlsx',\n",
    "             './Scraper-Codes/scrapingData_SP-Confessions-329564370479100_FULL.xlsx',\n",
    "             './Scraper-Codes/scrapingData_SUSSConfessions_FULL.xlsx',\n",
    "             './Scraper-Codes/scrapingData_TJC-Confessions-133149643521172_FULL.xlsx',\n",
    "             './Scraper-Codes/scrapingData_tpconfession_FULL.xlsx',\n",
    "              'scrapingData_andiechen_FULL.xlsx',\n",
    " 'scrapingData_bellywellyjelly_FULL.xlsx',\n",
    " 'scrapingData_benjamin.kheng_FULL.xlsx',\n",
    " 'scrapingData_bossyflossie_FULL.xlsx',\n",
    " 'scrapingData_DanielFoodDiary_FULL.xlsx',\n",
    " 'scrapingData_DollarsAndSenseSG_FULL.xlsx',\n",
    " 'scrapingData_dreachongofficial_FULL.xlsx',\n",
    " 'scrapingData_ieatishootipost_FULL.xlsx',\n",
    " 'scrapingData_ladyironchef_FULL.xlsx',\n",
    " 'scrapingData_moneysmartsg_FULL.xlsx',\n",
    " 'scrapingData_mongabong_FULL.xlsx',\n",
    " 'scrapingData_mrbrownlah_FULL.xlsx',\n",
    " 'scrapingData_mykxii_FULL.xlsx',\n",
    " 'scrapingData_sethluimarketing_FULL.xlsx',\n",
    " 'scrapingData_sophiewillocq_FULL.xlsx',\n",
    " 'scrapingData_therealnaomineo_FULL.xlsx',\n",
    " 'scrapingData_TheSmartLocal_FULL.xlsx',\n",
    " 'scrapingData_yoyokulala_FULL.xlsx']"
   ]
  },
  {
   "cell_type": "code",
   "execution_count": 12,
   "metadata": {},
   "outputs": [],
   "source": [
    "# initialise line count\n",
    "count = 0"
   ]
  },
  {
   "cell_type": "code",
   "execution_count": 19,
   "metadata": {
    "tags": []
   },
   "outputs": [
    {
     "output_type": "stream",
     "name": "stdout",
     "text": "ly/299eUgq #YOYOKULALA\n\nYOYOKULALA.COM\nHow To Dress This Week According To Sydney's Best - YOYOKULALA\n\n---After encoding/decoding\n\n-> Found #:  ['YOYOKULALA']\n\n-> Found websites:  [('http://bit.ly/299eUgq', '', '', '', '')]\n\n-> No [tag] found\n\n-> Found \\n:  ['\\n', '\\n', '\\n']\n\n-> No date/time found\n\n-> No month found\n\n-> No (brackets) found\n\n-> No @ found\n\n-> No emoticons D: found\nReplacing don't to do not\n\n do not know what the hell you're going to wear this week? The Australians are here to help:  ..YOYOKULALA.COM.How To Dress This Week According To Sydney's Best - YOYOKULALA\n\n---Before encode/decode at row 862\nTssssssst. That's the sound of holes being burnt into our wallets, thanks to Day 3 & 4 of Mercedes-Benz Fashion Week Australia: http://bit.ly/29d5jHe #YOYOKULALA\n\nYOYOKULALA.COM\nThe MBFWA Digest: Day 3 & 4 - YOYOKULALA\n\n---After encoding/decoding\n\n-> Found #:  ['YOYOKULALA']\n\n-> Found websites:  [('http://bit.ly/29d5jHe', '', '', '', '')]\n\n-> No [tag] found\n\n-> Found \\n:  ['\\n', '\\n', '\\n']\n\n-> No date/time found\n\n-> No month found\n\n-> No (brackets) found\n\n-> No @ found\n\n-> No emoticons D: found\nReplacing wouldn't to would not\n\nTssssssst.  would not the sound of holes being burnt into our wallets, thanks to Day 3 & 4 of Mercedes-Benz Fashion Week Australia:  ..YOYOKULALA.COM.The MBFWA Digest: Day 3 & 4 - YOYOKULALA\n\n---Before encode/decode at row 863\nCynthia Rowley had the FUNNEST show at Mercedes-Benz Fashion Week Australia: http://bit.ly/29j2dmK #YOYOKULALA\n\n---After encoding/decoding\n\n-> Found #:  ['YOYOKULALA']\n\n-> Found websites:  [('http://bit.ly/29j2dmK', '', '', '', '')]\n\n-> No [tag] found\n\n-> No \\n found\n\n-> No date/time found\n\n-> No month found\n\n-> No (brackets) found\n\n-> No @ found\n\n-> No emoticons D: found\n\nCynthia Rowley had the FUNNEST show at Mercedes-Benz Fashion Week Australia:  \n\n---Before encode/decode at row 864\nThe secret to international success? Just ask C/MEO Collective: http://bit.ly/299b0Uz #YOYOKULALA\n\nYOYOKULALA.COM\nThe Reason Behind C/MEO Collective's Success - YOYOKULALA\n\n---After encoding/decoding\n\n-> Found #:  ['YOYOKULALA']\n\n-> Found websites:  [('http://bit.ly/299b0Uz', '', '', '', '')]\n\n-> No [tag] found\n\n-> Found \\n:  ['\\n', '\\n', '\\n']\n\n-> No date/time found\n\n-> No month found\n\n-> No (brackets) found\n\n-> No @ found\n\n-> No emoticons D: found\n\nThe secret to international success? Just ask C/MEO Collective:  ..YOYOKULALA.COM.The Reason Behind C/MEO Collective's Success - YOYOKULALA\n\n---Before encode/decode at row 865\nBianca Spender's show at Mercedes-Benz Fashion Week Australia was full of pretty clothes that gave plenty of back: http://bit.ly/29AaCjH #YOYOKULALA\n\nYOYOKULALA.COM\nFor Bianca Spender, The Party Is Always At The Back - YOYOKULALA\n\n---After encoding/decoding\n\n-> Found #:  ['YOYOKULALA']\n\n-> Found websites:  [('http://bit.ly/29AaCjH', '', '', '', '')]\n\n-> No [tag] found\n\n-> Found \\n:  ['\\n', '\\n', '\\n']\n\n-> No date/time found\n\n-> No month found\n\n-> No (brackets) found\n\n-> No @ found\n\n-> No emoticons D: found\n\nBianca Spender's show at Mercedes-Benz Fashion Week Australia was full of pretty clothes that gave plenty of back:  ..YOYOKULALA.COM.For Bianca Spender, The Party Is Always At The Back - YOYOKULALA\n\n---Before encode/decode at row 866\nCHRISTOPHER ESBER held his Cruise 2017 presentation in a HEATED yoga studio. We heard some models actually fainted: http://bit.ly/299iMCD #YOYOKULALA\n\n---After encoding/decoding\n\n-> Found #:  ['YOYOKULALA']\n\n-> Found websites:  [('http://bit.ly/299iMCD', '', '', '', '')]\n\n-> No [tag] found\n\n-> No \\n found\n\n-> No date/time found\n\n-> No month found\n\n-> No (brackets) found\n\n-> No @ found\n\n-> Found emoticons :) :  ['d:']\n\nCHRISTOPHER ESBER held his Cruise 2017 presentation in a HEATED yoga studio. We heard some models actually fainte  \n\n---Before encode/decode at row 867\nBec and Bridge taught us a thing or two about hippie living at Mercedes-Benz Fashion Week Australia: http://bit.ly/29cXd1u #YOYOKULALA\n\n---After encoding/decoding\n\n-> Found #:  ['YOYOKULALA']\n\n-> Found websites:  [('http://bit.ly/29cXd1u', '', '', '', '')]\n\n-> No [tag] found\n\n-> No \\n found\n\n-> No date/time found\n\n-> No month found\n\n-> No (brackets) found\n\n-> No @ found\n\n-> No emoticons D: found\n\nBec and Bridge taught us a thing or two about hippie living at Mercedes-Benz Fashion Week Australia:  \n\n---Before encode/decode at row 868\nThe first two days of Mercedes-Benz Fashion Week Australia were all about being easy-breezy with a dash of party and a shot of drama: http://bit.ly/29cXaTq #YOYOKULALA\n\nYOYOKULALA.COM\nThe MBFWA Digest: Day 1 & 2 - YOYOKULALA\n\n---After encoding/decoding\n\n-> Found #:  ['YOYOKULALA']\n\n-> Found websites:  [('http://bit.ly/29cXaTq', '', '', '', '')]\n\n-> No [tag] found\n\n-> Found \\n:  ['\\n', '\\n', '\\n']\n\n-> No date/time found\n\n-> No month found\n\n-> No (brackets) found\n\n-> No @ found\n\n-> No emoticons D: found\n\nThe first two days of Mercedes-Benz Fashion Week Australia were all about being easy-breezy with a dash of party and a shot of drama:  ..YOYOKULALA.COM.The MBFWA Digest: Day 1 & 2 - YOYOKULALA\n\n---Before encode/decode at row 869\nAt Mercedes-Benz Fashion Week Australia, we caught up with the season's star opening act, Toni Matičevski: http://bit.ly/29a34W5 #YOYOKULALA\n\n---After encoding/decoding\n\n-> Found #:  ['YOYOKULALA']\n\n-> Found websites:  [('http://bit.ly/29a34W5', '', '', '', '')]\n\n-> No [tag] found\n\n-> No \\n found\n\n-> No date/time found\n\n-> No month found\n\n-> No (brackets) found\n\n-> No @ found\n\n-> No emoticons D: found\n\nAt Mercedes-Benz Fashion Week Australia, we caught up with the season's star opening act, Toni Matievski:  \n\n---Before encode/decode at row 870\nGuess what? You can now shop along with me without ever having to change out of your PJs! http://bit.ly/297Lnnf NET-A-PORTER The NET SET, powered by NET-A-PORTER #YOYOKULALA\n\nYOYOKULALA.COM\nGuess Who Just Joined The Net Set's Style Council? - YOYOKULALA\n\n---After encoding/decoding\n\n-> Found #:  ['YOYOKULALA']\n\n-> Found websites:  [('http://bit.ly/297Lnnf', '', '', '', '')]\n\n-> No [tag] found\n\n-> Found \\n:  ['\\n', '\\n', '\\n']\n\n-> No date/time found\n\n-> No month found\n\n-> No (brackets) found\n\n-> No @ found\n\n-> No emoticons D: found\n\nGuess what? You can now shop along with me without ever having to change out of your PJs!  NET-A-PORTER The NET SET, powered by NET-A-PORTER ..YOYOKULALA.COM.Guess Who Just Joined The Net Set's Style Council? - YOYOKULALA\n\n---Before encode/decode at row 871\nLOEWE made a dress entirely out of rubber bands. RUBBER BANDS, PEOPLE: http://bit.ly/29c6FSn #YOYOKULALA\n\nYOYOKULALA.COM\nBackstage Access: Loewe Fall/Winter 2016 - YOYOKULALA\n\n---After encoding/decoding\n\n-> Found #:  ['YOYOKULALA']\n\n-> Found websites:  [('http://bit.ly/29c6FSn', '', '', '', '')]\n\n-> No [tag] found\n\n-> Found \\n:  ['\\n', '\\n', '\\n']\n\n-> No date/time found\n\n-> No month found\n\n-> No (brackets) found\n\n-> No @ found\n\n-> No emoticons D: found\n\nLOEWE made a dress entirely out of rubber bands. RUBBER BANDS, PEOPLE:  ..YOYOKULALA.COM.Backstage Access: Loewe Fall/Winter 2016 - YOYOKULALA\n\n---Before encode/decode at row 872\nAt Valentino, we saw Lorde's Met Gala dress and it was magnificent: http://bit.ly/29h8Ead #YOYOKULALA\n\nYOYOKULALA.COM\nBackstage Access: Valentino Fall/Winter 2016 - YOYOKULALA\n\n---After encoding/decoding\n\n-> Found #:  ['YOYOKULALA']\n\n-> Found websites:  [('http://bit.ly/29h8Ead', '', '', '', '')]\n\n-> No [tag] found\n\n-> Found \\n:  ['\\n', '\\n', '\\n']\n\n-> No date/time found\n\n-> No month found\n\n-> No (brackets) found\n\n-> No @ found\n\n-> No emoticons D: found\n\nAt Valentino, we saw Lorde's Met Gala dress and it was magnificent:  ..YOYOKULALA.COM.Backstage Access: Valentino Fall/Winter 2016 - YOYOKULALA\n\n---Before encode/decode at row 873\nHow many ways can you do denim-on-denim without turning into Justin Timberlake and Britney Spears circa 2001? http://bit.ly/295IHpH #YOYOKULALA\n\nYOYOKULALA.COM\nRethinking The Denim-on-Denim Situation - YOYOKULALA\n\n---After encoding/decoding\n\n-> Found #:  ['YOYOKULALA']\n\n-> Found websites:  [('http://bit.ly/295IHpH', '', '', '', '')]\n\n-> No [tag] found\n\n-> Found \\n:  ['\\n', '\\n', '\\n']\n\n-> No date/time found\n\n-> No month found\n\n-> No (brackets) found\n\n-> No @ found\n\n-> No emoticons D: found\n\nHow many ways can you do denim-on-denim without turning into Justin Timberlake and Britney Spears circa 2001?  ..YOYOKULALA.COM.Rethinking The Denim-on-Denim Situation - YOYOKULALA\n\n---Before encode/decode at row 874\nThe new BALENCIAGA, yay or nay? http://bit.ly/28ZyRtj #YOYOKULALA\n\nYOYOKULALA.COM\nSo, What Do You Think of The New Balenciaga? - YOYOKULALA\n\n---After encoding/decoding\n\n-> Found #:  ['YOYOKULALA']\n\n-> Found websites:  [('http://bit.ly/28ZyRtj', '', '', '', '')]\n\n-> No [tag] found\n\n-> Found \\n:  ['\\n', '\\n', '\\n']\n\n-> No date/time found\n\n-> No month found\n\n-> No (brackets) found\n\n-> No @ found\n\n-> No emoticons D: found\n\nThe new BALENCIAGA, yay or nay?  ..YOYOKULALA.COM.So, What Do You Think of The New Balenciaga? - YOYOKULALA\n\n---Before encode/decode at row 875\nFendi's #FW16's collection is so KAWAII-NE: http://bit.ly/299ZH1h #YOYOKULALA\n\nYOYOKULALA.COM\nBackstage Access: Fendi Fall/Winter 2016 - YOYOKULALA\n\n---After encoding/decoding\n\n-> Found #:  [\"FW16's\", 'YOYOKULALA']\n\n-> Found websites:  [('http://bit.ly/299ZH1h', '', '', '', '')]\n\n-> No [tag] found\n\n-> Found \\n:  ['\\n', '\\n', '\\n']\n\n-> No date/time found\n\n-> No month found\n\n-> No (brackets) found\n\n-> No @ found\n\n-> No emoticons D: found\n\nFendi's  collection is so KAWAII-NE:  ..YOYOKULALA.COM.Backstage Access: Fendi Fall/Winter 2016 - YOYOKULALA\n\n---Before encode/decode at row 876\nGucci's capsule collection for NET-A-PORTER is as Gucci as it gets: http://bit.ly/29lxRz9 #YOYOKULALA\n\nYOYOKULALA.COM\nGucci x Net-a-Porter is Here...and We Got First Dibs - YOYOKULALA\n\n---After encoding/decoding\n\n-> Found #:  ['YOYOKULALA']\n\n-> Found websites:  [('http://bit.ly/29lxRz9', '', '', '', '')]\n\n-> No [tag] found\n\n-> Found \\n:  ['\\n', '\\n', '\\n']\n\n-> No date/time found\n\n-> No month found\n\n-> No (brackets) found\n\n-> No @ found\n\n-> No emoticons D: found\n\nGucci's capsule collection for NET-A-PORTER is as Gucci as it gets:  ..YOYOKULALA.COM.Gucci x Net-a-Porter is Here...and We Got First Dibs - YOYOKULALA\n\n---Before encode/decode at row 877\nMermaids, spell books and brocade – Prada's #FW16 collection is even more interesting up-close: http://bit.ly/29gsYcQ #YOYOKULALA\n\n---After encoding/decoding\n\n-> Found #:  ['FW16', 'YOYOKULALA']\n\n-> Found websites:  [('http://bit.ly/29gsYcQ', '', '', '', '')]\n\n-> No [tag] found\n\n-> No \\n found\n\n-> No date/time found\n\n-> No month found\n\n-> No (brackets) found\n\n-> No @ found\n\n-> No emoticons D: found\n\nMermaids, spell books and brocade  Prada's  collection is even more interesting up-close:  \n\n---Before encode/decode at row 878\nWe think the cropped flare deserves the same status as LBDs: http://bit.ly/29xzvMO #YOYOKULALA\n\nYOYOKULALA.COM\nWhy The Cropped Flare is Your New Go-To - YOYOKULALA\n\n---After encoding/decoding\n\n-> Found #:  ['YOYOKULALA']\n\n-> Found websites:  [('http://bit.ly/29xzvMO', '', '', '', '')]\n\n-> No [tag] found\n\n-> Found \\n:  ['\\n', '\\n', '\\n']\n\n-> No date/time found\n\n-> No month found\n\n-> No (brackets) found\n\n-> No @ found\n\n-> No emoticons D: found\n\nWe think the cropped flare deserves the same status as LBDs:  ..YOYOKULALA.COM.Why The Cropped Flare is Your New Go-To - YOYOKULALA\n\n---Before encode/decode at row 879\nCall it what you want – slippers, slides, mules, backless loafers. We're calling them the \"sliced loaf\", because they're the best thing since sliced bread: http://bit.ly/29bTHE8 #YOYOKULALA\n\nYOYOKULALA.COM\nLet's Talk About The \"Sliced Loaf\" - YOYOKULALA\n\n---After encoding/decoding\n\n-> Found #:  ['YOYOKULALA']\n\n-> Found websites:  [('http://bit.ly/29bTHE8', '', '', '', '')]\n\n-> No [tag] found\n\n-> Found \\n:  ['\\n', '\\n', '\\n']\n\n-> No date/time found\n\n-> No month found\n\n-> No (brackets) found\n\n-> No @ found\n\n-> Found emoticons :) :  ['d:']\n\nCall it what you want  slippers, slides, mules, backless loafers. We're calling them the \"sliced loaf\", because they're the best thing since sliced brea  ..YOYOKULALA.COM.Let's Talk About The \"Sliced Loaf\" - YOYOKULALA\n\n---Before encode/decode at row 880\nCHANEL took its Cruise 2017 show to Cuba. Here's everything you need to know about it: http://bit.ly/295xMwu #YOYOKULALA\n\nYOYOKULALA.COM\n15 Things You May Have Missed About Chanel in Cuba - YOYOKULALA\n\n---After encoding/decoding\n\n-> Found #:  ['YOYOKULALA']\n\n-> Found websites:  [('http://bit.ly/295xMwu', '', '', '', '')]\n\n-> No [tag] found\n\n-> Found \\n:  ['\\n', '\\n', '\\n']\n\n-> No date/time found\n\n-> Found month:  [(' ', '', 'May', ' ')]\n\n-> No (brackets) found\n\n-> No @ found\n\n-> No emoticons D: found\n\nCHANEL took its Cruise 2017 show to Cuba. Here's everything you need to know about it:  ..YOYOKULALA.COM.15 Things YouHave Missed About Chanel in Cuba - YOYOKULALA\n\n---Before encode/decode at row 881\nEven the bad weather couldn't hold these top shows at #PFW down. DAAAA SUN WILL COME OUT TUH-MORROW: http://bit.ly/29go93e #YOYOKULALA\n\nYOYOKULALA.COM\nFashion Week Round-Up: Paris - YOYOKULALA\n\n---After encoding/decoding\n\n-> Found #:  ['PFW', 'YOYOKULALA']\n\n-> Found websites:  [('http://bit.ly/29go93e', '', '', '', '')]\n\n-> No [tag] found\n\n-> Found \\n:  ['\\n', '\\n', '\\n']\n\n-> No date/time found\n\n-> No month found\n\n-> No (brackets) found\n\n-> No @ found\n\n-> No emoticons D: found\n\nEven the bad weather couldn't hold these top shows at  down. DAAAA SUN WILL COME OUT TUH-MORROW:  ..YOYOKULALA.COM.Fashion Week Round-Up: Paris - YOYOKULALA\n\n---Before encode/decode at row 882\nFrom Gucci to Prada, we talk about our favourite shows at #MFW: http://bit.ly/29gRjho #YOYOKULALA\n\nYOYOKULALA.COM\nFashion Week Round-Up: Milan - YOYOKULALA\n\n---After encoding/decoding\n\n-> Found #:  ['MFW:', 'YOYOKULALA']\n\n-> Found websites:  [('http://bit.ly/29gRjho', '', '', '', '')]\n\n-> No [tag] found\n\n-> Found \\n:  ['\\n', '\\n', '\\n']\n\n-> No date/time found\n\n-> No month found\n\n-> No (brackets) found\n\n-> No @ found\n\n-> No emoticons D: found\n\nFrom Gucci to Prada, we talk about our favourite shows at   ..YOYOKULALA.COM.Fashion Week Round-Up: Milan - YOYOKULALA\n\n---Before encode/decode at row 883\nWhich one of these #PFW looks do you like best? http://bit.ly/29gi7je #YOYOKULALA #STREESTYLE\n\nYOYOKULALA.COM\nAll My Fashion Week Looks – The #PFW Edition - YOYOKULALA\n\n---After encoding/decoding\n\n-> Found #:  ['PFW', 'YOYOKULALA', 'STREESTYLE', 'PFW']\n\n-> Found websites:  [('http://bit.ly/29gi7je', '', '', '', '')]\n\n-> No [tag] found\n\n-> Found \\n:  ['\\n', '\\n', '\\n']\n\n-> No date/time found\n\n-> No month found\n\n-> No (brackets) found\n\n-> No @ found\n\n-> No emoticons D: found\n\nWhich one of these  looks do you like best?   ..YOYOKULALA.COM.All My Fashion Week Looks  The  Edition - YOYOKULALA\n\n---Before encode/decode at row 884\nGiven the chaos of the day, Carven's backstage scene was surprisingly calm: http://bit.ly/29dUfuY #YOYOKULALA\n\nYOYOKULALA.COM\nBackstage Access: Carven Fall/Winter 2016 - YOYOKULALA\n\n---After encoding/decoding\n\n-> Found #:  ['YOYOKULALA']\n\n-> Found websites:  [('http://bit.ly/29dUfuY', '', '', '', '')]\n\n-> No [tag] found\n\n-> Found \\n:  ['\\n', '\\n', '\\n']\n\n-> No date/time found\n\n-> No month found\n\n-> No (brackets) found\n\n-> No @ found\n\n-> No emoticons D: found\n\nGiven the chaos of the day, Carven's backstage scene was surprisingly calm:  ..YOYOKULALA.COM.Backstage Access: Carven Fall/Winter 2016 - YOYOKULALA\n\n---Before encode/decode at row 885\nJust because it's cold outside doesn't mean you have to dress like it is: http://bit.ly/29ljx9w #YOYOKULALA\n\nYOYOKULALA.COM\nA Guide To Refusing To Dress Like It’s Winter - YOYOKULALA\n\n---After encoding/decoding\n\n-> Found #:  ['YOYOKULALA']\n\n-> Found websites:  [('http://bit.ly/29ljx9w', '', '', '', '')]\n\n-> No [tag] found\n\n-> Found \\n:  ['\\n', '\\n', '\\n']\n\n-> No date/time found\n\n-> No month found\n\n-> No (brackets) found\n\n-> No @ found\n\n-> No emoticons D: found\nReplacing doesn't to does not\nReplacing it's to it is\n\nJust because  it is cold outside  does not mean you have to dress like it is:  ..YOYOKULALA.COM.A Guide To Refusing To Dress Like Its Winter - YOYOKULALA\n\n---Before encode/decode at row 886\nOh, you know just typical backstage mayhem at ETRO Official – enormous bouncers, dancing models and plenty of embroidery: http://bit.ly/29xkA5n #YOYOKULALA\n\nYOYOKULALA.COM\nBackstage Access: Etro Fall/Winter 2016 - YOYOKULALA\n\n---After encoding/decoding\n\n-> Found #:  ['YOYOKULALA']\n\n-> Found websites:  [('http://bit.ly/29xkA5n', '', '', '', '')]\n\n-> No [tag] found\n\n-> Found \\n:  ['\\n', '\\n', '\\n']\n\n-> No date/time found\n\n-> No month found\n\n-> No (brackets) found\n\n-> No @ found\n\n-> No emoticons D: found\n\nOh, you know just typical backstage mayhem at ETRO Official  enormous bouncers, dancing models and plenty of embroidery:  ..YOYOKULALA.COM.Backstage Access: Etro Fall/Winter 2016 - YOYOKULALA\n\n---Before encode/decode at row 887\n6 Days + 12 Looks = ? http://bit.ly/29aPCme #YOYOKULALA #STREETSTYLE #MFW\n\nYOYOKULALA.COM\nAll My Fashion Week Looks – The #MFW Edition - YOYOKULALA\n\n---After encoding/decoding\n\n-> Found #:  ['YOYOKULALA', 'STREETSTYLE', 'MFW', 'MFW']\n\n-> Found websites:  [('http://bit.ly/29aPCme', '', '', '', '')]\n\n-> No [tag] found\n\n-> Found \\n:  ['\\n', '\\n', '\\n']\n\n-> No date/time found\n\n-> No month found\n\n-> No (brackets) found\n\n-> No @ found\n\n-> No emoticons D: found\n\n6 Days + 12 Looks = ?    ..YOYOKULALA.COM.All My Fashion Week Looks  The  Edition - YOYOKULALA\n\n---Before encode/decode at row 888\nWe tried the fashion week diet. Trust us, it's a thing: http://bit.ly/29iW63z #YOYOKULALA\n\nYOYOKULALA.COM\nThe Real Fashion Week Diet - YOYOKULALA\n\n---After encoding/decoding\n\n-> Found #:  ['YOYOKULALA']\n\n-> Found websites:  [('http://bit.ly/29iW63z', '', '', '', '')]\n\n-> No [tag] found\n\n-> Found \\n:  ['\\n', '\\n', '\\n']\n\n-> No date/time found\n\n-> No month found\n\n-> No (brackets) found\n\n-> No @ found\n\n-> No emoticons D: found\nReplacing it's to it is\n\nWe tried the fashion week diet. Trust us,  it is a thing:  ..YOYOKULALA.COM.The Real Fashion Week Diet - YOYOKULALA\n\n---Before encode/decode at row 889\nHey Bulgari, we'll have the top handle #Serpenti minis in every colour, please! http://bit.ly/29gcxNP #YOYOKULALA\n\nYOYOKULALA.COM\nBackstage Access: BVLGARI Fall/Winter 2016 - YOYOKULALA\n\n---After encoding/decoding\n\n-> Found #:  ['Serpenti', 'YOYOKULALA']\n\n-> Found websites:  [('http://bit.ly/29gcxNP', '', '', '', '')]\n\n-> No [tag] found\n\n-> Found \\n:  ['\\n', '\\n', '\\n']\n\n-> No date/time found\n\n-> No month found\n\n-> No (brackets) found\n\n-> No @ found\n\n-> No emoticons D: found\nReplacing 'll to will\n\nHey Bulgari, we will have the top handle  minis in every colour, please!  ..YOYOKULALA.COM.Backstage Access: BVLGARI Fall/Winter 2016 - YOYOKULALA\n\n---Before encode/decode at row 890\nWhat even is a \"Kulala\"? I answer your burning questions in YOYOKULALA.com's inaugural post: http://bit.ly/29lhuSY #YOYOKULALA\n\nYOYOKULALA.COM\nYou Asked, I Answered - YOYOKULALA\n\n---After encoding/decoding\n\n-> Found #:  ['YOYOKULALA']\n\n-> Found websites:  [('http://bit.ly/29lhuSY', '', '', '', '')]\n\n-> No [tag] found\n\n-> Found \\n:  ['\\n', '\\n', '\\n']\n\n-> No date/time found\n\n-> No month found\n\n-> No (brackets) found\n\n-> No @ found\n\n-> No emoticons D: found\n\nWhat even is a \"Kulala\"? I answer your burning questions in YOYOKULALA.com's inaugural post:  ..YOYOKULALA.COM.You Asked, I Answered - YOYOKULALA\n\n---Before encode/decode at row 891\nPhotographed by Joel Low\n\n---After encoding/decoding\n\n-> No # found\n\n-> No websites found\n\n-> No [tag] found\n\n-> No \\n found\n\n-> No date/time found\n\n-> No month found\n\n-> No (brackets) found\n\n-> No @ found\n\n-> No emoticons D: found\n\nPhotographed by Joel Low\n\n---Before encode/decode at row 892\nPhotographed By Joel Low\n\n---After encoding/decoding\n\n-> No # found\n\n-> No websites found\n\n-> No [tag] found\n\n-> No \\n found\n\n-> No date/time found\n\n-> No month found\n\n-> No (brackets) found\n\n-> No @ found\n\n-> No emoticons D: found\n\nPhotographed By Joel Low\n\nTotal len of List: 893\n"
    }
   ],
   "source": [
    "#Initialize some list\n",
    "someList = []\n",
    "\n",
    "#Script to open data\n",
    "for file in fileList:\n",
    "    workbook = xlrd.open_workbook(file)\n",
    "    sheet = workbook.sheet_by_index(0)\n",
    "    rows = sheet.nrows\n",
    "    count += rows\n",
    "    for x in range(rows):\n",
    "        item = sheet.cell_value(x, 0)\n",
    "        # Prints the value of element at row x\n",
    "        print()\n",
    "        print(\"---Before encode/decode at row \"+str(x))\n",
    "        print(item)\n",
    "        print()\n",
    "        #Cleaning Codes\n",
    "        print(\"---After encoding/decoding\")\n",
    "        #Removed chinese characters and emojis\n",
    "        cleaned_item = str(item).encode(\"ascii\", errors = \"ignore\").decode()\n",
    "        #Code to clean for #hastags\n",
    "        print()\n",
    "        p = re.compile('#\\S+')\n",
    "        m = p.findall(cleaned_item)\n",
    "        if m:\n",
    "            print('-> Found #: ', m)\n",
    "            cleaned_item = re.sub('#(\\S+)?','',cleaned_item)\n",
    "        else:\n",
    "            print('-> No # found')\n",
    "        #Code to clean for websites www\n",
    "        print()\n",
    "        regex = r\"(?i)\\b((?:https?://|www\\d{0,3}[.]|[a-z0-9.\\-]+[.][a-z]{2,4}/)(?:[^\\s()<>]+|\\(([^\\s()<>]+|(\\([^\\s()<>]+\\)))*\\))+(?:\\(([^\\s()<>]+|(\\([^\\s()<>]+\\)))*\\)|[^\\s`!()\\[\\]{};:'\\\".,<>?«»“”‘’]))\"\n",
    "        m2 = re.findall(regex,cleaned_item)\n",
    "        if m2:\n",
    "            print('-> Found websites: ', m2)\n",
    "            cleaned_item = re.sub(regex,'',cleaned_item)\n",
    "        else:\n",
    "            print('-> No websites found')\n",
    "        #Code to clean for tags [  ]\n",
    "        print()\n",
    "        p = re.compile('\\[\\S*\\]')\n",
    "        m = p.findall(cleaned_item)\n",
    "        if m:\n",
    "            print('-> Found [tag]: ', m)\n",
    "            cleaned_item = re.sub('\\[\\S*\\]','',cleaned_item)\n",
    "        else:\n",
    "            print('-> No [tag] found')\n",
    "        #Code to replace \\n with fullstop\n",
    "        print()\n",
    "        p = re.compile('\\\\n')\n",
    "        m = p.findall(cleaned_item)\n",
    "        if m:\n",
    "            print('-> Found \\\\n: ', m)\n",
    "            cleaned_item = re.sub('\\\\n','.',cleaned_item)\n",
    "        else:\n",
    "            print('-> No \\\\n found')\n",
    "        #Code to replace date-time\n",
    "        print()\n",
    "        p = re.compile('\\b[0-9]*(-|\\/|\\.|:)[0-9]*((-|\\/|\\.|:)[0-9]*)?\\b')\n",
    "        m = p.findall(cleaned_item)\n",
    "        if m:\n",
    "            print('-> Found date/time: ', m)\n",
    "            cleaned_item = re.sub('\\b[0-9]*(-|\\/|\\.|:)[0-9]*((-|\\/|\\.|:)[0-9]*)?\\b','',cleaned_item)\n",
    "        else:\n",
    "            print('-> No date/time found')\n",
    "        #Code to replace month\n",
    "        print()\n",
    "        p = re.compile('([0-9]*(st|nd|rd|th)?\\s)?(January|Jan|Feburary|Feb|March|Mar|April|Apr|May|June|Jun|July|Jul|August|Aug|September|Sep|October|Oct|November|Nov|December|Dec)(\\s[0-9]*)?')\n",
    "        m = p.findall(cleaned_item)\n",
    "        if m:\n",
    "            print('-> Found month: ', m)\n",
    "            cleaned_item = re.sub('([0-9]*(st|nd|rd|th)?\\s)?(January|Jan|Feburary|Feb|March|Mar|April|Apr|May|June|Jun|July|Jul|August|Aug|September|Sep|October|Oct|November|Nov|December|Dec)(\\s[0-9]*)?','',cleaned_item)\n",
    "        else:\n",
    "            print('-> No month found')\n",
    "        #Code to remove circle bracket ()\n",
    "        print()\n",
    "        p = re.compile('\\(\\S*\\)')\n",
    "        m = p.findall(cleaned_item)\n",
    "        if m:\n",
    "            print('-> Found (brackets): ', m)\n",
    "            cleaned_item = re.sub('\\(\\S*\\)','',cleaned_item)\n",
    "        else:\n",
    "            print('-> No (brackets) found')\n",
    "        #Code to remove mentions @\n",
    "        print()\n",
    "        p = re.compile('@(\\S+)?')\n",
    "        m = p.findall(cleaned_item)\n",
    "        if m:\n",
    "            print('-> Found @mentions: ', m)\n",
    "            cleaned_item = re.sub('@(\\S+)?','',cleaned_item)\n",
    "        else:\n",
    "            print('-> No @ found')\n",
    "        #Code to remove emoticons\n",
    "        print()\n",
    "        regex = r\":-\\)|:\\)|:-\\]|:\\]|:-3|:3|:->|:>|8-\\)|8\\)|:-}|:}|:o\\)|:c\\)|:\\^\\)|=\\]|=\\)|:\\(|=\\(|:-D|:D|8-D|8D|x-D|xD|X-D|XD|=D|=3|B\\^D|:-\\)\\)|:-\\(|:-c|:c|:-<|:<|:-\\[|:\\[|>:\\[|:{|:@|;\\(|:'‑\\(|:'\\(|:'-\\)|:\\'\\)|D-':|D:<|D:|D8|D;|D=|DX|:‑O|:O|:‑o|:o|:-0|8-0|>:O|:-\\|:\\|:×|;-\\)|;\\)|;-]|;]|;\\^\\)|;D|:-P|:-P|:-P|:P|X-P|XP|x-p|xp|:-p|:p|:-b|:b|d:|=p|>:P|:-\\/|:\\/|>:\\\\|>:\\/|:\\\\|=\\/|=\\\\|:L|=L|:S|:‑\\||:\\||:\\$|:-X|:X|:‑#|:#|:&|:-&|>:‑\\)|>;\\)|>:3|<\\/3|<3|\\\\o\\/|\\\\\\0\\/\\|v.v|>.<|[Oo][.|][oO]|[uU]w[uU]|;:\\)|:-[Pp]|\\'[o|-]\\'|x[0|o|O]|\\-\\\\-|:\\||\\^[|.]\\^|\\*\\\\*|:\\*\"\n",
    "        m = re.findall(regex, cleaned_item)\n",
    "        if m:\n",
    "            print('-> Found emoticons :) : ', m)\n",
    "            cleaned_item = re.sub(regex,'',cleaned_item)\n",
    "        else:\n",
    "            print('-> No emoticons D: found')\n",
    "\n",
    "        #Script to replace words\n",
    "        ##Replace 'll to will\n",
    "        regex = r\"'ll\"\n",
    "        m = re.findall(regex, cleaned_item)\n",
    "        if m:\n",
    "            print(\"Replacing 'll to will\")\n",
    "            cleaned_item = re.sub(regex,' will',cleaned_item)\n",
    "        ##Replace 've to have\n",
    "        regex = r\"'ve\"\n",
    "        m = re.findall(regex, cleaned_item)\n",
    "        if m:\n",
    "            print(\"Replacing 've to have\")\n",
    "            cleaned_item = re.sub(regex,' have',cleaned_item)\n",
    "        ##Replace don't to do not\n",
    "        regex = r\"[Dd]on'?t\"\n",
    "        m = re.findall(regex, cleaned_item)\n",
    "        if m:\n",
    "            print(\"Replacing don't to do not\")\n",
    "            cleaned_item = re.sub(regex,' do not',cleaned_item)\n",
    "        ##Replace aren't to are not\n",
    "        regex = r\"[Aa]ren'?t\"\n",
    "        m = re.findall(regex, cleaned_item)\n",
    "        if m:\n",
    "            print(\"Replacing aren't to are not\")\n",
    "            cleaned_item = re.sub(regex,' are not',cleaned_item)\n",
    "        ##Replace won't to will not\n",
    "        regex = r\"[wW]on'?t\"\n",
    "        m = re.findall(regex, cleaned_item)\n",
    "        if m:\n",
    "            print(\"Replacing won't to will not\")\n",
    "            cleaned_item = re.sub(regex,' will not',cleaned_item)\n",
    "        ##Replace can't to can not\n",
    "        regex = r\"[cC]an'?t\"\n",
    "        m = re.findall(regex, cleaned_item)\n",
    "        if m:\n",
    "            print(\"Replacing can't to can not\")\n",
    "            cleaned_item = re.sub(regex,' can not',cleaned_item)\n",
    "        ##Replace shan't to shall not\n",
    "        regex = r\"[sS]han'?t\"\n",
    "        m = re.findall(regex, cleaned_item)\n",
    "        if m:\n",
    "            print(\"Replacing shan't to shall not\")\n",
    "            cleaned_item = re.sub(regex,' shall not',cleaned_item)\n",
    "        ##Replace 'm to am\n",
    "        regex = r\"'m\"\n",
    "        m = re.findall(regex, cleaned_item)\n",
    "        if m:\n",
    "            print(\"Replacing 'm to am'\")\n",
    "            cleaned_item = re.sub(regex,' am',cleaned_item)\n",
    "        ##Replace doesn't to does not\n",
    "        regex = r\"[dD]oesn'?t\"\n",
    "        m = re.findall(regex, cleaned_item)\n",
    "        if m:\n",
    "            print(\"Replacing doesn't to does not\")\n",
    "            cleaned_item = re.sub(regex,' does not',cleaned_item)\n",
    "        ##Replace didn't to did not\n",
    "        regex = r\"[dD]idn'?t\"\n",
    "        m = re.findall(regex, cleaned_item)\n",
    "        if m:\n",
    "            print(\"Replacing didn't to did not'\")\n",
    "            cleaned_item = re.sub(regex,' did not',cleaned_item)\n",
    "        ##Replace hasn't to has not\n",
    "        regex = r\"[hH]asn'?t\"\n",
    "        m = re.findall(regex, cleaned_item)\n",
    "        if m:\n",
    "            print(\"Replacing hasn't to has not\")\n",
    "            cleaned_item = re.sub(regex,' has not',cleaned_item)\n",
    "        ##Replace haven't to have not\n",
    "        regex = r\"[hH]aven'?t\"\n",
    "        m = re.findall(regex, cleaned_item)\n",
    "        if m:\n",
    "            print(\"Replacing haven't to have not'\")\n",
    "            cleaned_item = re.sub(regex,' have not',cleaned_item)\n",
    "        ##Replace wouldn't to would not\n",
    "        regex = r\"[wW]ouldn'?t\"\n",
    "        m = re.findall(regex, cleaned_item)\n",
    "        if m:\n",
    "            print(\"Replacing wouldn't to would not\")\n",
    "            cleaned_item = re.sub(regex,' would not',cleaned_item)\n",
    "        ##Replace it's to it is\n",
    "        regex = r\"[iI]t's\"\n",
    "        m = re.findall(regex, cleaned_item)\n",
    "        if m:\n",
    "            print(\"Replacing it's to it is\")\n",
    "            cleaned_item = re.sub(regex,' it is',cleaned_item)\n",
    "        ##Replace that's to that is\n",
    "        regex = r\"[tT]hat's\"\n",
    "        m = re.findall(regex, cleaned_item)\n",
    "        if m:\n",
    "            print(\"Replacing wouldn't to would not\")\n",
    "            cleaned_item = re.sub(regex,' would not',cleaned_item)\n",
    "        ##Replace weren't to were not\n",
    "        regex = r\"[wW]eren'?t\"\n",
    "        m = re.findall(regex, cleaned_item)\n",
    "        if m:\n",
    "            print(\"Replacing weren't to were not\")\n",
    "            cleaned_item = re.sub(regex,' were not',cleaned_item)\n",
    "        #display cleaned item\n",
    "        print()\n",
    "        print(cleaned_item)\n",
    "        #append to cleaned list if it contains something\n",
    "        if not (cleaned_item.isspace()):\n",
    "            someList.append(cleaned_item)\n",
    "    \n",
    "    print()\n",
    "    print(\"Total len of List: \"+str(len(someList)))"
   ]
  },
  {
   "cell_type": "code",
   "execution_count": 15,
   "metadata": {},
   "outputs": [
    {
     "output_type": "execute_result",
     "data": {
      "text/plain": "[]"
     },
     "metadata": {},
     "execution_count": 15
    }
   ],
   "source": [
    "someList"
   ]
  },
  {
   "cell_type": "code",
   "execution_count": 16,
   "metadata": {},
   "outputs": [
    {
     "output_type": "execute_result",
     "data": {
      "text/plain": "893"
     },
     "metadata": {},
     "execution_count": 16
    }
   ],
   "source": [
    "count"
   ]
  },
  {
   "cell_type": "code",
   "execution_count": null,
   "metadata": {},
   "outputs": [],
   "source": [
    "#Code to save the txt files\n",
    "with open(\"FULL CLEANED DATA.txt\", \"w\") as output:\n",
    "    output.write(str(someList))"
   ]
  },
  {
   "cell_type": "code",
   "execution_count": null,
   "metadata": {},
   "outputs": [],
   "source": []
  }
 ],
 "metadata": {
  "kernelspec": {
   "display_name": "Python 3",
   "language": "python",
   "name": "python3"
  },
  "language_info": {
   "codemirror_mode": {
    "name": "ipython",
    "version": 3
   },
   "file_extension": ".py",
   "mimetype": "text/x-python",
   "name": "python",
   "nbconvert_exporter": "python",
   "pygments_lexer": "ipython3",
   "version": "3.8.5-final"
  }
 },
 "nbformat": 4,
 "nbformat_minor": 4
}