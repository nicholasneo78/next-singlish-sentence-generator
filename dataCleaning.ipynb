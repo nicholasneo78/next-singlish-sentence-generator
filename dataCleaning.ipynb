{
 "cells": [
  {
   "cell_type": "code",
   "execution_count": 1,
   "metadata": {},
   "outputs": [],
   "source": [
    "import requests\n",
    "import urllib\n",
    "import xlrd\n",
    "import os\n",
    "#Code to import Regex\n",
    "import re"
   ]
  },
  {
   "cell_type": "markdown",
   "metadata": {},
   "source": [
    "## Test Code"
   ]
  },
  {
   "cell_type": "code",
   "execution_count": 2,
   "metadata": {},
   "outputs": [],
   "source": [
    "file = \"scrapingData_andiechen_FULL.xlsx\""
   ]
  },
  {
   "cell_type": "code",
   "execution_count": 3,
   "metadata": {},
   "outputs": [],
   "source": [
    "workbook = xlrd.open_workbook(file)"
   ]
  },
  {
   "cell_type": "code",
   "execution_count": 4,
   "metadata": {},
   "outputs": [],
   "source": [
    "sheet = workbook.sheet_by_index(0)"
   ]
  },
  {
   "cell_type": "code",
   "execution_count": 5,
   "metadata": {},
   "outputs": [
    {
     "output_type": "execute_result",
     "data": {
      "text/plain": "<xlrd.sheet.Sheet at 0x1b838ee3dc0>"
     },
     "metadata": {},
     "execution_count": 5
    }
   ],
   "source": [
    "sheet"
   ]
  },
  {
   "cell_type": "code",
   "execution_count": 6,
   "metadata": {},
   "outputs": [
    {
     "output_type": "execute_result",
     "data": {
      "text/plain": "1699"
     },
     "metadata": {},
     "execution_count": 6
    }
   ],
   "source": [
    "sheet.nrows"
   ]
  },
  {
   "cell_type": "markdown",
   "metadata": {},
   "source": [
    "## Actual Code"
   ]
  },
  {
   "cell_type": "code",
   "execution_count": 7,
   "metadata": {},
   "outputs": [
    {
     "output_type": "execute_result",
     "data": {
      "text/plain": "'c:\\\\Users\\\\65866\\\\Documents\\\\RandomCodes\\\\next-sentence-predictor'"
     },
     "metadata": {},
     "execution_count": 7
    }
   ],
   "source": [
    "os.getcwd()"
   ]
  },
  {
   "cell_type": "code",
   "execution_count": 8,
   "metadata": {},
   "outputs": [
    {
     "output_type": "execute_result",
     "data": {
      "text/plain": "['.git',\n '.ipynb_checkpoints',\n 'countNoOfLines.ipynb',\n 'dataCleaning.ipynb',\n 'LICENSE',\n 'README.md',\n 'Scraper-Codes',\n 'scrapingData_andiechen_FULL.xlsx',\n 'scrapingData_bellywellyjelly_FULL.xlsx',\n 'scrapingData_benjamin.kheng_FULL.xlsx',\n 'scrapingData_bossyflossie_FULL.xlsx',\n 'scrapingData_DanielFoodDiary_FULL.xlsx',\n 'scrapingData_DollarsAndSenseSG_FULL.xlsx',\n 'scrapingData_dreachongofficial_FULL.xlsx',\n 'scrapingData_ieatishootipost_FULL.xlsx',\n 'scrapingData_ladyironchef_FULL.xlsx',\n 'scrapingData_moneysmartsg_FULL.xlsx',\n 'scrapingData_mongabong_FULL.xlsx',\n 'scrapingData_mrbrownlah_FULL.xlsx',\n 'scrapingData_mykxii_FULL.xlsx',\n 'scrapingData_sethluimarketing_FULL.xlsx',\n 'scrapingData_sophiewillocq_FULL.xlsx',\n 'scrapingData_therealnaomineo_FULL.xlsx',\n 'scrapingData_TheSmartLocal_FULL.xlsx',\n 'scrapingData_yoyokulala_FULL.xlsx']"
     },
     "metadata": {},
     "execution_count": 8
    }
   ],
   "source": [
    "os.listdir()"
   ]
  },
  {
   "cell_type": "code",
   "execution_count": 9,
   "metadata": {},
   "outputs": [
    {
     "output_type": "execute_result",
     "data": {
      "text/plain": "['FBScraper.py',\n 'scrapingData_ACJC-Confessions-365341810240423_FULL.xlsx',\n 'scrapingData_asrjcconfessions_FULL.xlsx',\n 'scrapingData_cjcroxx_FULL.xlsx',\n 'scrapingData_DHS-Confessions-103690209814932_FULL.xlsx',\n 'scrapingData_HwaChongConfessions_FULL.xlsx',\n 'scrapingData_InnovaConfessions_FULL.xlsx',\n 'scrapingData_ITE-College-Central-Confessions-102332676616681_FULL.xlsx',\n 'scrapingData_ITE-College-West-Confessions-123845157793064_FULL.xlsx',\n 'scrapingData_JjcConfessions_FULL.xlsx',\n 'scrapingData_NJC-Confessions-414721038609037_FULL.xlsx',\n 'scrapingData_npconfession_FULL.xlsx',\n 'scrapingData_NTUConfess_PART.xlsx',\n 'scrapingData_nuswhispers_FULL.xlsx',\n 'scrapingData_NYP-Confessions-118332335013023_FULL.xlsx',\n 'scrapingData_RepublicPolyConfessions_FULL.xlsx',\n 'scrapingData_RJConfessions_FULL.xlsx',\n 'scrapingData_SajcConfessions_FULL.xlsx',\n 'scrapingData_SGAG_FULL.xlsx',\n 'scrapingData_simconfessions_FULL.xlsx',\n 'scrapingData_SMUConfessionsPage_FULL.xlsx',\n 'scrapingData_SP-Confessions-329564370479100_FULL.xlsx',\n 'scrapingData_SUSSConfessions_FULL.xlsx',\n 'scrapingData_TJC-Confessions-133149643521172_FULL.xlsx',\n 'scrapingData_tpconfession_FULL.xlsx']"
     },
     "metadata": {},
     "execution_count": 9
    }
   ],
   "source": [
    "# inside the Scraper-Codes folder\n",
    "os.listdir('Scraper-Codes')"
   ]
  },
  {
   "cell_type": "code",
   "execution_count": 10,
   "metadata": {},
   "outputs": [
    {
     "output_type": "execute_result",
     "data": {
      "text/plain": "['./Scraper-Codes/FBScraper.py',\n './Scraper-Codes/scrapingData_ACJC-Confessions-365341810240423_FULL.xlsx',\n './Scraper-Codes/scrapingData_asrjcconfessions_FULL.xlsx',\n './Scraper-Codes/scrapingData_cjcroxx_FULL.xlsx',\n './Scraper-Codes/scrapingData_DHS-Confessions-103690209814932_FULL.xlsx',\n './Scraper-Codes/scrapingData_HwaChongConfessions_FULL.xlsx',\n './Scraper-Codes/scrapingData_InnovaConfessions_FULL.xlsx',\n './Scraper-Codes/scrapingData_ITE-College-Central-Confessions-102332676616681_FULL.xlsx',\n './Scraper-Codes/scrapingData_ITE-College-West-Confessions-123845157793064_FULL.xlsx',\n './Scraper-Codes/scrapingData_JjcConfessions_FULL.xlsx',\n './Scraper-Codes/scrapingData_NJC-Confessions-414721038609037_FULL.xlsx',\n './Scraper-Codes/scrapingData_npconfession_FULL.xlsx',\n './Scraper-Codes/scrapingData_NTUConfess_PART.xlsx',\n './Scraper-Codes/scrapingData_nuswhispers_FULL.xlsx',\n './Scraper-Codes/scrapingData_NYP-Confessions-118332335013023_FULL.xlsx',\n './Scraper-Codes/scrapingData_RepublicPolyConfessions_FULL.xlsx',\n './Scraper-Codes/scrapingData_RJConfessions_FULL.xlsx',\n './Scraper-Codes/scrapingData_SajcConfessions_FULL.xlsx',\n './Scraper-Codes/scrapingData_SGAG_FULL.xlsx',\n './Scraper-Codes/scrapingData_simconfessions_FULL.xlsx',\n './Scraper-Codes/scrapingData_SMUConfessionsPage_FULL.xlsx',\n './Scraper-Codes/scrapingData_SP-Confessions-329564370479100_FULL.xlsx',\n './Scraper-Codes/scrapingData_SUSSConfessions_FULL.xlsx',\n './Scraper-Codes/scrapingData_TJC-Confessions-133149643521172_FULL.xlsx',\n './Scraper-Codes/scrapingData_tpconfession_FULL.xlsx']"
     },
     "metadata": {},
     "execution_count": 10
    }
   ],
   "source": [
    "# Append the directory in the Scraper-Codes folder\n",
    "appendDir = './Scraper-Codes/'\n",
    "tempList = os.listdir('Scraper-Codes')\n",
    "finalList = list()\n",
    "for k in tempList:\n",
    "    finalList += [appendDir + k]\n",
    "    \n",
    "finalList"
   ]
  },
  {
   "cell_type": "code",
   "execution_count": 11,
   "metadata": {},
   "outputs": [],
   "source": [
    "# Copy the above .xlsx files and paste into fileList\n",
    "fileList = ['./Scraper-Codes/scrapingData_ACJC-Confessions-365341810240423_FULL.xlsx',\n",
    "             './Scraper-Codes/scrapingData_asrjcconfessions_FULL.xlsx',\n",
    "             './Scraper-Codes/scrapingData_cjcroxx_FULL.xlsx',\n",
    "             './Scraper-Codes/scrapingData_DHS-Confessions-103690209814932_FULL.xlsx',\n",
    "             './Scraper-Codes/scrapingData_HwaChongConfessions_FULL.xlsx',\n",
    "             './Scraper-Codes/scrapingData_InnovaConfessions_FULL.xlsx',\n",
    "             './Scraper-Codes/scrapingData_ITE-College-Central-Confessions-102332676616681_FULL.xlsx',\n",
    "             './Scraper-Codes/scrapingData_ITE-College-West-Confessions-123845157793064_FULL.xlsx',\n",
    "             './Scraper-Codes/scrapingData_JjcConfessions_FULL.xlsx',\n",
    "             './Scraper-Codes/scrapingData_NJC-Confessions-414721038609037_FULL.xlsx',\n",
    "             './Scraper-Codes/scrapingData_npconfession_FULL.xlsx',\n",
    "             './Scraper-Codes/scrapingData_NTUConfess_PART.xlsx',\n",
    "             './Scraper-Codes/scrapingData_nuswhispers_FULL.xlsx',\n",
    "             './Scraper-Codes/scrapingData_NYP-Confessions-118332335013023_FULL.xlsx',\n",
    "             './Scraper-Codes/scrapingData_RepublicPolyConfessions_FULL.xlsx',\n",
    "             './Scraper-Codes/scrapingData_RJConfessions_FULL.xlsx',\n",
    "             './Scraper-Codes/scrapingData_SajcConfessions_FULL.xlsx',\n",
    "             './Scraper-Codes/scrapingData_SGAG_FULL.xlsx',\n",
    "             './Scraper-Codes/scrapingData_simconfessions_FULL.xlsx',\n",
    "             './Scraper-Codes/scrapingData_SMUConfessionsPage_FULL.xlsx',\n",
    "             './Scraper-Codes/scrapingData_SP-Confessions-329564370479100_FULL.xlsx',\n",
    "             './Scraper-Codes/scrapingData_SUSSConfessions_FULL.xlsx',\n",
    "             './Scraper-Codes/scrapingData_TJC-Confessions-133149643521172_FULL.xlsx',\n",
    "             './Scraper-Codes/scrapingData_tpconfession_FULL.xlsx',\n",
    "              'scrapingData_andiechen_FULL.xlsx',\n",
    " 'scrapingData_bellywellyjelly_FULL.xlsx',\n",
    " 'scrapingData_benjamin.kheng_FULL.xlsx',\n",
    " 'scrapingData_bossyflossie_FULL.xlsx',\n",
    " 'scrapingData_DanielFoodDiary_FULL.xlsx',\n",
    " 'scrapingData_DollarsAndSenseSG_FULL.xlsx',\n",
    " 'scrapingData_dreachongofficial_FULL.xlsx',\n",
    " 'scrapingData_ieatishootipost_FULL.xlsx',\n",
    " 'scrapingData_ladyironchef_FULL.xlsx',\n",
    " 'scrapingData_moneysmartsg_FULL.xlsx',\n",
    " 'scrapingData_mongabong_FULL.xlsx',\n",
    " 'scrapingData_mrbrownlah_FULL.xlsx',\n",
    " 'scrapingData_mykxii_FULL.xlsx',\n",
    " 'scrapingData_sethluimarketing_FULL.xlsx',\n",
    " 'scrapingData_sophiewillocq_FULL.xlsx',\n",
    " 'scrapingData_therealnaomineo_FULL.xlsx',\n",
    " 'scrapingData_TheSmartLocal_FULL.xlsx',\n",
    " 'scrapingData_yoyokulala_FULL.xlsx']"
   ]
  },
  {
   "cell_type": "code",
   "execution_count": 12,
   "metadata": {},
   "outputs": [],
   "source": [
    "# initialise line count\n",
    "count = 0"
   ]
  },
  {
   "cell_type": "code",
   "execution_count": 13,
   "metadata": {},
   "outputs": [],
   "source": [
    "fileList = ['scrapingData_mrbrownlah_FULL.xlsx']"
   ]
  },
  {
   "cell_type": "code",
   "execution_count": 14,
   "metadata": {
    "tags": [
     "outputPrepend"
    ]
   },
   "outputs": [
    {
     "output_type": "stream",
     "name": "stdout",
     "text": "yone.  it is very important to stay calm and come up with the best solution using the resources around you. And most importantly, learn some self defense arts, trust me, your limbs could be your only weapons in this kind of situations.\n\n---Before encode/decode at row 3665\nAfter her #VMA performance, I hear Disney may start a new series around Miley Cyrus called \"Hannah Moantana\".\n\nSo many childhoods ruined today, sial.\n\n---After encoding/decoding\n\n-> Found #:  ['#VMA']\n\n-> No websites found\n\n-> No [tag] found\n\n-> Found \\n:  ['\\n', '\\n']\n\n-> No date/time found\n\n-> No month found\n\n-> No (brackets) found\n\n-> No @ found\n\n-> No emoticons D: found\n\nAfter her  performance, I hear Disney may start a new series around Miley Cyrus called \"Hannah Moantana\"...So many childhoods ruined today, sial.\n\n---Before encode/decode at row 3666\nKristen Chenoweth had a pleasant surprise when the lady she randomly picked from the audience sang the duet with her.\n\nhttp://youtu.be/FpXm_sXcc_Y\n\nYOUTU.BE\nFor Good - Kristin Chenoweth and Sarah Horn - Hollywood Bowl\n\n---After encoding/decoding\n\n-> No # found\n\n-> Found websites:  [('http://youtu.be/FpXm_sXcc_Y', '', '', '', '')]\n\n-> No [tag] found\n\n-> Found \\n:  ['\\n', '\\n', '\\n', '\\n', '\\n']\n\n-> No date/time found\n\n-> No month found\n\n-> No (brackets) found\n\n-> No @ found\n\n-> No emoticons D: found\n\nKristen Chenoweth had a pleasant surprise when the lady she randomly picked from the audience sang the duet with her.....YOUTU.BE.For Good - Kristin Chenoweth and Sarah Horn - Hollywood Bowl\n\n---Before encode/decode at row 3667\nToday some tiko uncles may be very disappointed when they go down to the History Channel Pawn Stars event at The Star Vista.\n\n---After encoding/decoding\n\n-> No # found\n\n-> No websites found\n\n-> No [tag] found\n\n-> No \\n found\n\n-> No date/time found\n\n-> No month found\n\n-> No (brackets) found\n\n-> No @ found\n\n-> No emoticons D: found\n\nToday some tiko uncles may be very disappointed when they go down to the History Channel Pawn Stars event at The Star Vista.\n\n---Before encode/decode at row 3668\nFriend's GF: \"Your bro went to watch Metal-Licka yesterday?\"\n\nWell they ARE known for some legendary licks.\n\n---After encoding/decoding\n\n-> No # found\n\n-> No websites found\n\n-> No [tag] found\n\n-> Found \\n:  ['\\n', '\\n']\n\n-> No date/time found\n\n-> No month found\n\n-> No (brackets) found\n\n-> No @ found\n\n-> No emoticons D: found\n\nFriend's GF: \"Your bro went to watch Metal-Licka yesterday?\"..Well they ARE known for some legendary licks.\n\n---Before encode/decode at row 3669\nBen Affleck as Batman… it can go either way.\n\n[Images via George Takei's FB, dragonfiretwistedwire tumblr and superheromovies FB]\n\n---After encoding/decoding\n\n-> No # found\n\n-> No websites found\n\n-> No [tag] found\n\n-> Found \\n:  ['\\n', '\\n']\n\n-> No date/time found\n\n-> No month found\n\n-> No (brackets) found\n\n-> No @ found\n\n-> No emoticons D: found\n\nBen Affleck as Batman it can go either way...[Images via George Takei's FB, dragonfiretwistedwire tumblr and superheromovies FB]\n\n---Before encode/decode at row 3670\nWhat the report didn't tell you was that the one million cockroaches are now enhanced with Chinese medicine, possess superior intelligence and are planning to take over the world.\n\nSHANGHAIIST.COM\nOne million cockroaches escape from farm in Jiangsu\n\n---After encoding/decoding\n\n-> No # found\n\n-> No websites found\n\n-> No [tag] found\n\n-> Found \\n:  ['\\n', '\\n', '\\n']\n\n-> No date/time found\n\n-> No month found\n\n-> No (brackets) found\n\n-> No @ found\n\n-> No emoticons D: found\nReplacing didn't to did not'\n\nWhat the report  did not tell you was that the one million cockroaches are now enhanced with Chinese medicine, possess superior intelligence and are planning to take over the world...SHANGHAIIST.COM.One million cockroaches escape from farm in Jiangsu\n\n---Before encode/decode at row 3671\nWhen you are younger, you want more abs. When you are older, you settle for less chins.\n\n---After encoding/decoding\n\n-> No # found\n\n-> No websites found\n\n-> No [tag] found\n\n-> No \\n found\n\n-> No date/time found\n\n-> No month found\n\n-> No (brackets) found\n\n-> No @ found\n\n-> No emoticons D: found\n\nWhen you are younger, you want more abs. When you are older, you settle for less chins.\n\n---Before encode/decode at row 3672\nI liked the Kia hamsters more when they were cute and fat though. Skinny hamsters just look creepy.\n\nYOUTU.BE\n2014 Kia Soul Hamster Commercial (Lady Gaga \"Applause\" Official Song)\n\n---After encoding/decoding\n\n-> No # found\n\n-> No websites found\n\n-> No [tag] found\n\n-> Found \\n:  ['\\n', '\\n', '\\n']\n\n-> No date/time found\n\n-> No month found\n\n-> No (brackets) found\n\n-> No @ found\n\n-> No emoticons D: found\n\nI liked the Kia hamsters more when they were cute and fat though. Skinny hamsters just look creepy...YOUTU.BE.2014 Kia Soul Hamster Commercial (Lady Gaga \"Applause\" Official Song)\n\n---Before encode/decode at row 3673\nMe, shouting at my kids pressing the doorbell for fun:\n\n\"Oi! Don't keep pressing my Ding Dong ah! Waste my Ding Dong battery then you know!\"\n\n---After encoding/decoding\n\n-> No # found\n\n-> No websites found\n\n-> No [tag] found\n\n-> Found \\n:  ['\\n', '\\n']\n\n-> No date/time found\n\n-> No month found\n\n-> No (brackets) found\n\n-> No @ found\n\n-> No emoticons D: found\nReplacing don't to do not\n\nMe, shouting at my kids pressing the doorbell for fun:..\"Oi!  do not keep pressing my Ding Dong ah! Waste my Ding Dong battery then you know!\"\n\n---Before encode/decode at row 3674\nAnd in Singapore, anyone who disagrees with an establishment view is called a Netizen.\n\nMinistry of Education, Singapore\n24 August 2013 at 12:00 ·\n\nFun With English: Do we say ‘Singapore Citizen’ or ‘Singaporean Citizen’? :)\n\nThe correct term is ‘Singapore Citizen’. This is really a matter of convention. With some countries you use the noun and some you use an adjective form.\n\nHence you get ‘American citizen’, ‘British citizen’, and ‘Australian citizen’. And you get ‘Singapore citizen’, ‘Brunei citizen’, and ‘Hong Kong citizen’.\n\nDid you find this useful? Share this with your friends!\n\n(Source: Speak Good English Movement)\n\n---After encoding/decoding\n\n-> No # found\n\n-> No websites found\n\n-> No [tag] found\n\n-> Found \\n:  ['\\n', '\\n', '\\n', '\\n', '\\n', '\\n', '\\n', '\\n', '\\n', '\\n', '\\n', '\\n', '\\n']\n\n-> No date/time found\n\n-> Found month:  [('24 ', '', 'August', ' 2013')]\n\n-> No (brackets) found\n\n-> No @ found\n\n-> Found emoticons :) :  [':)']\n\nAnd in Singapore, anyone who disagrees with an establishment view is called a Netizen...Ministry of Education, Singapore. at 12:00 ..Fun With English: Do we say Singapore Citizen or Singaporean Citizen? ..The correct term is Singapore Citizen. This is really a matter of convention. With some countries you use the noun and some you use an adjective form...Hence you get American citizen, British citizen, and Australian citizen. And you get Singapore citizen, Brunei citizen, and Hong Kong citizen...Did you find this useful? Share this with your friends!..(Source: Speak Good English Movement)\n\n---Before encode/decode at row 3675\nFun With English: Do we say ‘Singapore Citizen’ or ‘Singaporean Citizen’? :)\n\nThe correct term is ‘Singapore Citizen’. This is really a matter of convention. With some countries you use the noun and some you use an adjective form.\n\nHence you get ‘American citizen’, ‘British citizen’, and ‘Australian citizen’. And you get ‘Singapore citizen’, ‘Brunei citizen’, and ‘Hong Kong citizen’.\n\nDid you find this useful? Share this with your friends!\n\n(Source: Speak Good English Movement)\n\n---After encoding/decoding\n\n-> No # found\n\n-> No websites found\n\n-> No [tag] found\n\n-> Found \\n:  ['\\n', '\\n', '\\n', '\\n', '\\n', '\\n', '\\n', '\\n']\n\n-> No date/time found\n\n-> No month found\n\n-> No (brackets) found\n\n-> No @ found\n\n-> Found emoticons :) :  [':)']\n\nFun With English: Do we say Singapore Citizen or Singaporean Citizen? ..The correct term is Singapore Citizen. This is really a matter of convention. With some countries you use the noun and some you use an adjective form...Hence you get American citizen, British citizen, and Australian citizen. And you get Singapore citizen, Brunei citizen, and Hong Kong citizen...Did you find this useful? Share this with your friends!..(Source: Speak Good English Movement)\n\n---Before encode/decode at row 3676\nWoah, I made Mashable for one of my #BetterBatmanThanBenAffleck tweets.\n\nMASHABLE.COM\n15 Suggestions for a Better Batman Than Ben Affleck\n\n---After encoding/decoding\n\n-> Found #:  ['#BetterBatmanThanBenAffleck']\n\n-> No websites found\n\n-> No [tag] found\n\n-> Found \\n:  ['\\n', '\\n', '\\n']\n\n-> No date/time found\n\n-> No month found\n\n-> No (brackets) found\n\n-> No @ found\n\n-> No emoticons D: found\n\nWoah, I made Mashable for one of my  tweets...MASHABLE.COM.15 Suggestions for a Better Batman Than Ben Affleck\n\n---Before encode/decode at row 3677\nIf a fast food restaurant's air-conditioning isn't cold enough, I leave for some place else.\n\nAlso if queue too long.\n\nNo food is nice enough to make me queue. Except maybe Tai Wah Bak Chor Mee (and even then I can only bear their off-peak queue times).\n\n---After encoding/decoding\n\n-> No # found\n\n-> No websites found\n\n-> No [tag] found\n\n-> Found \\n:  ['\\n', '\\n', '\\n', '\\n']\n\n-> No date/time found\n\n-> No month found\n\n-> No (brackets) found\n\n-> No @ found\n\n-> No emoticons D: found\n\nIf a fast food restaurant's air-conditioning isn't cold enough, I leave for some place else...Also if queue too long...No food is nice enough to make me queue. Except maybe Tai Wah Bak Chor Mee (and even then I can only bear their off-peak queue times).\n\n---Before encode/decode at row 3678\nNever celebrate too early in sports, even if you have 0.6 seconds left on the clock.\n\nYOUTUBE.COM\nWhy You Should Never Celebrate Too Soon\n\n---After encoding/decoding\n\n-> No # found\n\n-> No websites found\n\n-> No [tag] found\n\n-> Found \\n:  ['\\n', '\\n', '\\n']\n\n-> No date/time found\n\n-> No month found\n\n-> No (brackets) found\n\n-> No @ found\n\n-> No emoticons D: found\n\nNever celebrate too early in sports, even if you have 0.6 seconds left on the clock...YOUTUBE.COM.Why You Should Never Celebrate Too Soon\n\n---Before encode/decode at row 3679\nEvery year for the last eight years, Izwan has been catching a Chinese movie on a particular day, to remember his best friend, Zul, who passed away in a motorcycle accident at the tender age of 21. This year, he watched #ThatGirlinPinafore\n\nA touching testimony to friendship.\n\nYOUTUBE.COM\na motovlog. the forever 21.\n\n---After encoding/decoding\n\n-> Found #:  ['#ThatGirlinPinafore']\n\n-> No websites found\n\n-> No [tag] found\n\n-> Found \\n:  ['\\n', '\\n', '\\n', '\\n', '\\n']\n\n-> No date/time found\n\n-> No month found\n\n-> No (brackets) found\n\n-> No @ found\n\n-> No emoticons D: found\n\nEvery year for the last eight years, Izwan has been catching a Chinese movie on a particular day, to remember his best friend, Zul, who passed away in a motorcycle accident at the tender age of 21. This year, he watched ..A touching testimony to friendship...YOUTUBE.COM.a motovlog. the forever 21.\n\n---Before encode/decode at row 3680\nBuddy: “You can such a hater sometimes, brown.”\n\nMe: “It’s not hating if you’re right.”\n\n---After encoding/decoding\n\n-> No # found\n\n-> No websites found\n\n-> No [tag] found\n\n-> Found \\n:  ['\\n', '\\n']\n\n-> No date/time found\n\n-> No month found\n\n-> No (brackets) found\n\n-> No @ found\n\n-> No emoticons D: found\n\nBuddy: You can such a hater sometimes, brown...Me: Its not hating if youre right.\n\n---Before encode/decode at row 3681\nAnnouncement heard by a friend at the Plain English Speaking Awards: \"This is urgent, <person's name> from <name of school>, please report to the door!\"\n\nI guess the door really wanted to see the person right away.\n\n#winliao\n\n---After encoding/decoding\n\n-> Found #:  ['#winliao']\n\n-> No websites found\n\n-> No [tag] found\n\n-> Found \\n:  ['\\n', '\\n', '\\n', '\\n']\n\n-> No date/time found\n\n-> No month found\n\n-> No (brackets) found\n\n-> No @ found\n\n-> No emoticons D: found\n\nAnnouncement heard by a friend at the Plain English Speaking Awards: \"This is urgent, <person's name> from <name of school>, please report to the door!\"..I guess the door really wanted to see the person right away...\n\n---Before encode/decode at row 3682\nEven Swee Say would've made a #BetterBatmanThanBenAffleck\n\nCheaper, Better and Faster too.\n\n---After encoding/decoding\n\n-> Found #:  ['#BetterBatmanThanBenAffleck']\n\n-> No websites found\n\n-> No [tag] found\n\n-> Found \\n:  ['\\n', '\\n']\n\n-> No date/time found\n\n-> No month found\n\n-> No (brackets) found\n\n-> No @ found\n\n-> No emoticons D: found\nReplacing 've to have\n\nEven Swee Say would have made a ..Cheaper, Better and Faster too.\n\n---Before encode/decode at row 3683\nBen Affleck to play older Batman fighting younger Superman in the coming Batman vs Superman movie.\n\nSuddenly, Keaton seems like a great Batman.\n\nhttp://io9.com/ben-affleck-will-play-an-older-batman-fighting-the-youn-1186466053\n\n---After encoding/decoding\n\n-> No # found\n\n-> Found websites:  [('http://io9.com/ben-affleck-will-play-an-older-batman-fighting-the-youn-1186466053', '', '', '', '')]\n\n-> No [tag] found\n\n-> Found \\n:  ['\\n', '\\n', '\\n', '\\n']\n\n-> No date/time found\n\n-> No month found\n\n-> No (brackets) found\n\n-> No @ found\n\n-> No emoticons D: found\n\nBen Affleck to play older Batman fighting younger Superman in the coming Batman vs Superman movie...Suddenly, Keaton seems like a great Batman...\n\n---Before encode/decode at row 3684\nGood morning, homies! What's for breakfast?\n\nI am hankering for some fishball mee!\n\n---After encoding/decoding\n\n-> No # found\n\n-> No websites found\n\n-> No [tag] found\n\n-> Found \\n:  ['\\n', '\\n']\n\n-> No date/time found\n\n-> No month found\n\n-> No (brackets) found\n\n-> No @ found\n\n-> No emoticons D: found\n\nGood morning, homies! What's for breakfast?..I am hankering for some fishball mee!\n\n---Before encode/decode at row 3685\nI come back from the food stall with two forks instead of a fork and a spoon.\n\nFriend: \"你在Secret Shop买错item了.\"\n\n(You bought the wrong item at Secret Shop liao)\n\nToo much #DOTA2\n\n---After encoding/decoding\n\n-> Found #:  ['#DOTA2']\n\n-> No websites found\n\n-> No [tag] found\n\n-> Found \\n:  ['\\n', '\\n', '\\n', '\\n', '\\n', '\\n']\n\n-> No date/time found\n\n-> No month found\n\n-> No (brackets) found\n\n-> No @ found\n\n-> Found emoticons :) :  ['d:']\n\nI come back from the food stall with two forks instead of a fork and a spoon...Frien \"Secret Shopitem.\"..(You bought the wrong item at Secret Shop liao)..Too much \n\n---Before encode/decode at row 3686\nThe SMRT Bus slogan should be:\n\n\"SMRT: We don't know when the heck our buses will arrive.\"\n\n---After encoding/decoding\n\n-> No # found\n\n-> No websites found\n\n-> No [tag] found\n\n-> Found \\n:  ['\\n', '\\n']\n\n-> No date/time found\n\n-> No month found\n\n-> No (brackets) found\n\n-> No @ found\n\n-> No emoticons D: found\nReplacing don't to do not\n\nThe SMRT Bus slogan should be:..\"SMRT: We  do not know when the heck our buses will arrive.\"\n\n---Before encode/decode at row 3687\nAfter the National Day Rally announcements, I am waiting for tuition centres to offer Character tuition classes.\n\n\"We guaranteed your child will be A* in Character!\"\n\n\"Your child Character is lousy? Don't worry! We will make him more better because Every Child can be a Character!\"\n\n\"I have Character, so can you!\"\n\n#ndrsg\n\n---After encoding/decoding\n\n-> Found #:  ['#ndrsg']\n\n-> No websites found\n\n-> No [tag] found\n\n-> Found \\n:  ['\\n', '\\n', '\\n', '\\n', '\\n', '\\n', '\\n', '\\n']\n\n-> No date/time found\n\n-> No month found\n\n-> No (brackets) found\n\n-> No @ found\n\n-> Found emoticons :) :  ['*']\nReplacing don't to do not\n\nAfter the National Day Rally announcements, I am waiting for tuition centres to offer Character tuition classes...\"We guaranteed your child will be A in Character!\"..\"Your child Character is lousy?  do not worry! We will make him more better because Every Child can be a Character!\"..\"I have Character, so can you!\"..\n\n---Before encode/decode at row 3688\nStood at my corridor for a full minute just enjoying the cool wind blowing in. Almost felt like another country's climate.\n\n---After encoding/decoding\n\n-> No # found\n\n-> No websites found\n\n-> No [tag] found\n\n-> No \\n found\n\n-> No date/time found\n\n-> No month found\n\n-> No (brackets) found\n\n-> No @ found\n\n-> No emoticons D: found\n\nStood at my corridor for a full minute just enjoying the cool wind blowing in. Almost felt like another country's climate.\n\n---Before encode/decode at row 3689\n不管前程艰难 不管路途遥远\n我们都不怕失败的走向前\n加快你脚步 当IQ成熟时…\n\nYOUTU.BE\n走过年少 Zou Guo Nian Shao － From movie '我的朋友，我的同学，我爱过的一切' 'That Girl In Pinafore'\n\n---After encoding/decoding\n\n-> No # found\n\n-> No websites found\n\n-> No [tag] found\n\n-> Found \\n:  ['\\n', '\\n', '\\n', '\\n', '\\n']\n\n-> No date/time found\n\n-> No month found\n\n-> No (brackets) found\n\n-> No @ found\n\n-> No emoticons D: found\n\n .. IQ..YOUTU.BE. Zou Guo Nian Shao  From movie '' 'That Girl In Pinafore'\n\n---Before encode/decode at row 3690\nWife is streaming the #thatgirlinpinafore soundtrack from her phone to the room #Sonos speaker.\n\nStill basking in the memories of our youth…\n\n---After encoding/decoding\n\n-> Found #:  ['#thatgirlinpinafore', '#Sonos']\n\n-> No websites found\n\n-> No [tag] found\n\n-> Found \\n:  ['\\n', '\\n']\n\n-> No date/time found\n\n-> No month found\n\n-> No (brackets) found\n\n-> No @ found\n\n-> No emoticons D: found\n\nWife is streaming the  soundtrack from her phone to the room  speaker...Still basking in the memories of our youth\n\n---Before encode/decode at row 3691\nSeen on some Malaysian FB page.\n\n---After encoding/decoding\n\n-> No # found\n\n-> No websites found\n\n-> No [tag] found\n\n-> No \\n found\n\n-> No date/time found\n\n-> No month found\n\n-> No (brackets) found\n\n-> No @ found\n\n-> No emoticons D: found\n\nSeen on some Malaysian FB page.\n\n---Before encode/decode at row 3692\nGot peesai gif. Win.\n\nMOTHERSHIP.SG\nOptimist vs Cynic: How do they size up the National Day Rally 2013\n\n---After encoding/decoding\n\n-> No # found\n\n-> No websites found\n\n-> No [tag] found\n\n-> Found \\n:  ['\\n', '\\n', '\\n']\n\n-> No date/time found\n\n-> No month found\n\n-> No (brackets) found\n\n-> No @ found\n\n-> No emoticons D: found\n\nGot peesai gif. Win...MOTHERSHIP.SG.Optimist vs Cynic: How do they size up the National Day Rally 2013\n\n---Before encode/decode at row 3693\nBow before Baey Yam Keng, King of Selfies!\n\nBaey Yam Keng 马炎庆\n21 August 2013 at 16:18 ·\n\nNow that I post this photo of me working in my branch office today, will people think that I do this all the time? :)\n\n---After encoding/decoding\n\n-> No # found\n\n-> No websites found\n\n-> No [tag] found\n\n-> Found \\n:  ['\\n', '\\n', '\\n', '\\n', '\\n']\n\n-> No date/time found\n\n-> Found month:  [('21 ', '', 'August', ' 2013')]\n\n-> No (brackets) found\n\n-> No @ found\n\n-> Found emoticons :) :  [':)']\n\nBow before Baey Yam Keng, King of Selfies!..Baey Yam Keng . at 16:18 ..Now that I post this photo of me working in my branch office today, will people think that I do this all the time? \n\n---Before encode/decode at row 3694\nLatest video from my YouTube. Testing testing only.\n\nYOUTUBE.COM\nNgiao Things I Do\n\n---After encoding/decoding\n\n-> No # found\n\n-> No websites found\n\n-> No [tag] found\n\n-> Found \\n:  ['\\n', '\\n', '\\n']\n\n-> No date/time found\n\n-> No month found\n\n-> No (brackets) found\n\n-> No @ found\n\n-> No emoticons D: found\n\nLatest video from my YouTube. Testing testing only...YOUTUBE.COM.Ngiao Things I Do\n\n---Before encode/decode at row 3695\nI finally got round to creating a Facebook page for myself. I will post updates from my blog, Twitter, YouTube and whatever online properties I have here for you Facebook folks. So do Like the page, ok?\n\n---After encoding/decoding\n\n-> No # found\n\n-> No websites found\n\n-> No [tag] found\n\n-> No \\n found\n\n-> No date/time found\n\n-> No month found\n\n-> No (brackets) found\n\n-> No @ found\n\n-> No emoticons D: found\n\nI finally got round to creating a Facebook page for myself. I will post updates from my blog, Twitter, YouTube and whatever online properties I have here for you Facebook folks. So do Like the page, ok?\n\nTotal len of List: 3695\n"
    }
   ],
   "source": [
    "#Initialize some list\n",
    "someList = []\n",
    "\n",
    "#Script to open data\n",
    "for file in fileList:\n",
    "    workbook = xlrd.open_workbook(file)\n",
    "    sheet = workbook.sheet_by_index(0)\n",
    "    rows = sheet.nrows\n",
    "    count += rows\n",
    "    for x in range(rows):\n",
    "        item = sheet.cell_value(x, 0)\n",
    "        # Prints the value of element at row x\n",
    "        print()\n",
    "        print(\"---Before encode/decode at row \"+str(x))\n",
    "        print(item)\n",
    "        print()\n",
    "        #Cleaning Codes\n",
    "        print(\"---After encoding/decoding\")\n",
    "        #Removed chinese characters and emojis\n",
    "        cleaned_item = str(item).encode(\"ascii\", errors = \"ignore\").decode()\n",
    "        #Code to clean for #hastags\n",
    "        print()\n",
    "        p = re.compile('#\\S+')\n",
    "        m = p.findall(cleaned_item)\n",
    "        if m:\n",
    "            print('-> Found #: ', m)\n",
    "            cleaned_item = re.sub('#(\\S+)?','',cleaned_item)\n",
    "        else:\n",
    "            print('-> No # found')\n",
    "        #Code to clean for websites www\n",
    "        print()\n",
    "        regex = r\"(?i)\\b((?:https?://|www\\d{0,3}[.]|[a-z0-9.\\-]+[.][a-z]{2,4}/)(?:[^\\s()<>]+|\\(([^\\s()<>]+|(\\([^\\s()<>]+\\)))*\\))+(?:\\(([^\\s()<>]+|(\\([^\\s()<>]+\\)))*\\)|[^\\s`!()\\[\\]{};:'\\\".,<>?«»“”‘’]))\"\n",
    "        m2 = re.findall(regex,cleaned_item)\n",
    "        if m2:\n",
    "            print('-> Found websites: ', m2)\n",
    "            cleaned_item = re.sub(regex,'',cleaned_item)\n",
    "        else:\n",
    "            print('-> No websites found')\n",
    "        #Code to clean for tags [  ]\n",
    "        print()\n",
    "        p = re.compile('\\[\\S*\\]')\n",
    "        m = p.findall(cleaned_item)\n",
    "        if m:\n",
    "            print('-> Found [tag]: ', m)\n",
    "            cleaned_item = re.sub('\\[\\S*\\]','',cleaned_item)\n",
    "        else:\n",
    "            print('-> No [tag] found')\n",
    "        #Code to replace \\n with fullstop\n",
    "        print()\n",
    "        p = re.compile('\\\\n')\n",
    "        m = p.findall(cleaned_item)\n",
    "        if m:\n",
    "            print('-> Found \\\\n: ', m)\n",
    "            cleaned_item = re.sub('\\\\n','.',cleaned_item)\n",
    "        else:\n",
    "            print('-> No \\\\n found')\n",
    "        #Code to replace date-time\n",
    "        print()\n",
    "        p = re.compile('\\b[0-9]*(-|\\/|\\.|:)[0-9]*((-|\\/|\\.|:)[0-9]*)?\\b')\n",
    "        m = p.findall(cleaned_item)\n",
    "        if m:\n",
    "            print('-> Found date/time: ', m)\n",
    "            cleaned_item = re.sub('\\b[0-9]*(-|\\/|\\.|:)[0-9]*((-|\\/|\\.|:)[0-9]*)?\\b','',cleaned_item)\n",
    "        else:\n",
    "            print('-> No date/time found')\n",
    "        #Code to replace month\n",
    "        print()\n",
    "        p = re.compile('([0-9]*(st|nd|rd|th)?\\s)?(January|Jan|Feburary|Feb|March|Mar|April|Apr|May|June|Jun|July|Jul|August|Aug|September|Sep|October|Oct|November|Nov|December|Dec)(\\s[0-9]*)?')\n",
    "        m = p.findall(cleaned_item)\n",
    "        if m:\n",
    "            print('-> Found month: ', m)\n",
    "            cleaned_item = re.sub('([0-9]*(st|nd|rd|th)?\\s)?(January|Jan|Feburary|Feb|March|Mar|April|Apr|May|June|Jun|July|Jul|August|Aug|September|Sep|October|Oct|November|Nov|December|Dec)(\\s[0-9]*)?','',cleaned_item)\n",
    "        else:\n",
    "            print('-> No month found')\n",
    "        #Code to remove circle bracket ()\n",
    "        print()\n",
    "        p = re.compile('\\(\\S*\\)')\n",
    "        m = p.findall(cleaned_item)\n",
    "        if m:\n",
    "            print('-> Found (brackets): ', m)\n",
    "            cleaned_item = re.sub('\\(\\S*\\)','',cleaned_item)\n",
    "        else:\n",
    "            print('-> No (brackets) found')\n",
    "        #Code to remove mentions @\n",
    "        print()\n",
    "        p = re.compile('@(\\S+)?')\n",
    "        m = p.findall(cleaned_item)\n",
    "        if m:\n",
    "            print('-> Found @mentions: ', m)\n",
    "            cleaned_item = re.sub('@(\\S+)?','',cleaned_item)\n",
    "        else:\n",
    "            print('-> No @ found')\n",
    "        #Code to remove emoticons\n",
    "        print()\n",
    "        regex = r\":-\\)|:\\)|:-\\]|:\\]|:-3|:3|:->|:>|8-\\)|8\\)|:-}|:}|:o\\)|:c\\)|:\\^\\)|=\\]|=\\)|:\\(|=\\(|:-D|:D|8-D|8D|x-D|xD|X-D|XD|=D|=3|B\\^D|:-\\)\\)|:-\\(|:-c|:c|:-<|:<|:-\\[|:\\[|>:\\[|:{|:@|;\\(|:'‑\\(|:'\\(|:'-\\)|:\\'\\)|D-':|D:<|D:|D8|D;|D=|DX|:‑O|:O|:‑o|:o|:-0|8-0|>:O|:-\\|:\\|:×|;-\\)|;\\)|;-]|;]|;\\^\\)|;D|:-P|:-P|:-P|:P|X-P|XP|x-p|xp|:-p|:p|:-b|:b|d:|=p|>:P|:-\\/|:\\/|>:\\\\|>:\\/|:\\\\|=\\/|=\\\\|:L|=L|:S|:‑\\||:\\||:\\$|:-X|:X|:‑#|:#|:&|:-&|>:‑\\)|>;\\)|>:3|<\\/3|<3|\\\\o\\/|\\\\\\0\\/\\|v.v|>.<|[Oo][.|][oO]|[uU]w[uU]|;:\\)|:-[Pp]|\\'[o|-]\\'|x[0|o|O]|\\-\\\\-|:\\||\\^[|.]\\^|\\*\\\\*|:\\*\"\n",
    "        m = re.findall(regex, cleaned_item)\n",
    "        if m:\n",
    "            print('-> Found emoticons :) : ', m)\n",
    "            cleaned_item = re.sub(regex,'',cleaned_item)\n",
    "        else:\n",
    "            print('-> No emoticons D: found')\n",
    "\n",
    "        #Script to replace words\n",
    "        ##Replace 'll to will\n",
    "        regex = r\"'ll\"\n",
    "        m = re.findall(regex, cleaned_item)\n",
    "        if m:\n",
    "            print(\"Replacing 'll to will\")\n",
    "            cleaned_item = re.sub(regex,' will',cleaned_item)\n",
    "        ##Replace 've to have\n",
    "        regex = r\"'ve\"\n",
    "        m = re.findall(regex, cleaned_item)\n",
    "        if m:\n",
    "            print(\"Replacing 've to have\")\n",
    "            cleaned_item = re.sub(regex,' have',cleaned_item)\n",
    "        ##Replace don't to do not\n",
    "        regex = r\"[Dd]on'?t\"\n",
    "        m = re.findall(regex, cleaned_item)\n",
    "        if m:\n",
    "            print(\"Replacing don't to do not\")\n",
    "            cleaned_item = re.sub(regex,' do not',cleaned_item)\n",
    "        ##Replace aren't to are not\n",
    "        regex = r\"[Aa]ren'?t\"\n",
    "        m = re.findall(regex, cleaned_item)\n",
    "        if m:\n",
    "            print(\"Replacing aren't to are not\")\n",
    "            cleaned_item = re.sub(regex,' are not',cleaned_item)\n",
    "        ##Replace won't to will not\n",
    "        regex = r\"[wW]on'?t\"\n",
    "        m = re.findall(regex, cleaned_item)\n",
    "        if m:\n",
    "            print(\"Replacing won't to will not\")\n",
    "            cleaned_item = re.sub(regex,' will not',cleaned_item)\n",
    "        ##Replace can't to can not\n",
    "        regex = r\"[cC]an'?t\"\n",
    "        m = re.findall(regex, cleaned_item)\n",
    "        if m:\n",
    "            print(\"Replacing can't to can not\")\n",
    "            cleaned_item = re.sub(regex,' can not',cleaned_item)\n",
    "        ##Replace shan't to shall not\n",
    "        regex = r\"[sS]han'?t\"\n",
    "        m = re.findall(regex, cleaned_item)\n",
    "        if m:\n",
    "            print(\"Replacing shan't to shall not\")\n",
    "            cleaned_item = re.sub(regex,' shall not',cleaned_item)\n",
    "        ##Replace 'm to am\n",
    "        regex = r\"'m\"\n",
    "        m = re.findall(regex, cleaned_item)\n",
    "        if m:\n",
    "            print(\"Replacing 'm to am'\")\n",
    "            cleaned_item = re.sub(regex,' am',cleaned_item)\n",
    "        ##Replace doesn't to does not\n",
    "        regex = r\"[dD]oesn'?t\"\n",
    "        m = re.findall(regex, cleaned_item)\n",
    "        if m:\n",
    "            print(\"Replacing doesn't to does not\")\n",
    "            cleaned_item = re.sub(regex,' does not',cleaned_item)\n",
    "        ##Replace didn't to did not\n",
    "        regex = r\"[dD]idn'?t\"\n",
    "        m = re.findall(regex, cleaned_item)\n",
    "        if m:\n",
    "            print(\"Replacing didn't to did not'\")\n",
    "            cleaned_item = re.sub(regex,' did not',cleaned_item)\n",
    "        ##Replace hasn't to has not\n",
    "        regex = r\"[hH]asn'?t\"\n",
    "        m = re.findall(regex, cleaned_item)\n",
    "        if m:\n",
    "            print(\"Replacing hasn't to has not\")\n",
    "            cleaned_item = re.sub(regex,' has not',cleaned_item)\n",
    "        ##Replace haven't to have not\n",
    "        regex = r\"[hH]aven'?t\"\n",
    "        m = re.findall(regex, cleaned_item)\n",
    "        if m:\n",
    "            print(\"Replacing haven't to have not'\")\n",
    "            cleaned_item = re.sub(regex,' have not',cleaned_item)\n",
    "        ##Replace wouldn't to would not\n",
    "        regex = r\"[wW]ouldn'?t\"\n",
    "        m = re.findall(regex, cleaned_item)\n",
    "        if m:\n",
    "            print(\"Replacing wouldn't to would not\")\n",
    "            cleaned_item = re.sub(regex,' would not',cleaned_item)\n",
    "        ##Replace it's to it is\n",
    "        regex = r\"[iI]t's\"\n",
    "        m = re.findall(regex, cleaned_item)\n",
    "        if m:\n",
    "            print(\"Replacing it's to it is\")\n",
    "            cleaned_item = re.sub(regex,' it is',cleaned_item)\n",
    "        ##Replace that's to that is\n",
    "        regex = r\"[tT]hat's\"\n",
    "        m = re.findall(regex, cleaned_item)\n",
    "        if m:\n",
    "            print(\"Replacing wouldn't to would not\")\n",
    "            cleaned_item = re.sub(regex,' would not',cleaned_item)\n",
    "        ##Replace weren't to were not\n",
    "        regex = r\"[wW]eren'?t\"\n",
    "        m = re.findall(regex, cleaned_item)\n",
    "        if m:\n",
    "            print(\"Replacing weren't to were not\")\n",
    "            cleaned_item = re.sub(regex,' were not',cleaned_item)\n",
    "        #display cleaned item\n",
    "        print()\n",
    "        print(cleaned_item)\n",
    "        #append to cleaned list if it contains something\n",
    "        if not (cleaned_item.isspace()):\n",
    "            someList.append(cleaned_item)\n",
    "    \n",
    "    print()\n",
    "    print(\"Total len of List: \"+str(len(someList)))"
   ]
  },
  {
   "cell_type": "code",
   "execution_count": 15,
   "metadata": {},
   "outputs": [
    {
     "output_type": "execute_result",
     "data": {
      "text/plain": "ne hours, and control how much screen time they get per app, or per site, or per category of apps/sites...Yes, you will be loathed and hated by your kids. But this is your destiny as a p are not. This is your calling. This is the burden you will bear...You can thank me later.',\n 'When in Japan, one must always take photos with train station mascots...I have no idea who these characters are. I am a simple man. I see kawaii yuru-chara, I take photos with kawaii yuru-chara...  ',\n 'My  Red Travel Cubelet weekend  (L-R, clockwise): Joby Micro Hybrid stand paired with a GripTight One iPhone grip, keys, Shure MV88 Lightning mic, Q-kit with Moment Wide v2 lens, grubby old wallet, Sennheiser ClipMic Digital Lightning lavalier mic, and Innergie USB-C 6000 powerbank...Not in photo: iPhone X and AirPods (in my pocket).......',\n ' reads the news - ...ANCHOR.FM.Kim Huat reads the news  by the mrbrown show  A podcast on Anchor',\n 'Not sure why Facebook suggested that I follow, er, myself. I guess I have a lot in common with me.',\n 'Stadium Station. iPhone XS with  Wide v2........',\n 'Home Is: a day with mrbrown..mrbrown elores what home means to him, in this short film - a day in the life of mrbrown...It is a reminder to him that a home you love, is a home worth defending...Along the way, he is reminded that our nation is like a family and our bonds keep us strong...  ...Producer and conception: mrbrown.Cinematography and editing: mrbrown..Original song \" it is Complicated\".Composed by mrbrown ac Nair.Performed by mrbrown ac Nair..a production of mrbrown.com',\n 'At Apple Orchard Road for the launch of the  and  this morning. Met the lovely Baby G  of Class 95FM........  Apple Orchard Road',\n 'At the Apple Store today.',\n ' updates in progress.',\n 'Waiting.......',\n 'Walking through the fields behind my hotel in rustic  Island.....',\n 'mrbrown travels: from Wakayama to Karuizawa..Coincidentally, I am watching episode 5 of the Japanese drama, The Memorandum of Kyoko Okitegami, which takes place in Karuizawa...Link: ...  ..ANCHOR.FM.mrbrown travels: from Wakayama to Karuizawa by the mrbrown show  A podcast on Anchor',\n 'mrbrown travels: Narai and Wakayama...  ..ANCHOR.FM.mrbrown travels: Narai and Wakayama by the mrbrown show  A podcast on Anchor',\n 'Saw this car on display at Wakayama Station. Its so cute and fluffy Im gonna die...  ',\n 'mrbrown travels: a very blur sotong on Sado Island..  ..ANCHOR.FM.mrbrown travels: a very blur sotong on Sado Island by the mrbrown show  A podcast on Anchor',\n 'Essentially all one needs for travel: Powerbank, internet, AirPods, favorite camera and Japanese tea. And the IPhone X that took this photo...(Ok, spare underwear, passport and wallet too, of course. It  does not hurt to have an iPad Pro for entertainment but its not essential.)..I just got off the two-and-half-hour ferry ride from Sado Island. I am now on a two-hour-and-16-minute bullet train ride from Niigata to Nagano. Im a little hardcore, I think.........',\n 'mrbrown travels: mrbrown on Sado Island...A little hello from me, on the road.   ..ANCHOR.FM.mrbrown travels: mrbrown on Sado Island by the mrbrown show  A podcast on Anchor',\n 'Ten hours of flying from San Jose. Four and a half hours from Narita to Niigata by train. Im finally here. Japan, Im in you. And tucking into my first meal at 9.30pm. Note to self:  do not forget to buy food and drinks when chionging for the train...    Niigata-shi, Niigata, Japan',\n 'Goodbye San Jose! Next stop! Japan!.......  San Jose International Airport ',\n 'Steve Jobs Theater, Apple Park.............',\n 'Kim Huat goes all the way to Apple Park to check out the new iPhone XS, XS Max and Apple Watch Series 4...a production of mrbrown.com',\n 'And we have a THIRD iPhone: the XR, the budget iPhone. Instead of an OLED screen, it is LCD. But still running the new A12 Bionic chip...But the main camera is a single camera instead of dual camera. Still delivers Portrait mode though...',\n 'Dual SIM finally comes to iPhone XS. But one of the sims is an eSIM. Which currently only Singtel supports...Only in China will there be a dual physical SIM card tray...Hopefully M1 and Starhub comes onboard the eSIM train soon...',\n 'No. Way. iPhone XS now has editable depth of field. Meaning you can now control the bokeh of your Portrait mode photos AFTER the photo is shot...',\n 'The new Smart HDR mode powered by the A12 Bionic chip of the iPhone XS makes some really lovely photos...',\n 'The new Elder Scrolls Blades game that takes advantage of the new iPhone XS and Core ML looks really impressive...And the AR Arcade Galaga game looks awesome!..',\n 'iPhone XS is 5.8-inch and iPhone XS Max is 6.5-inch with OLED screens and A12 Bionic 7-nanometer chip...With the Max, you get the iPhone 8 Plus body but with more screen real estate. Oooooooh...',\n 'The  Series 4 speaker is 50% louder. Great for phone calls...The new back can receive radio waves like the front, so cellular reception is better...The  Series 4 can now detect falls with the updated accelerometer and gyroscope inside...Once it detects the fall, it can create an alert and send for help...Wow. Great for the elderly.',\n 'The new  Series 4 has a new bigger screen that is 32-35% bigger than the old Watch...And the new Series 4 Watch Face lets you add even more complications...',\n 'Almost time for the t 2018  What iPhones and other gear are you looking forward to?..: Trevor Tan........',\n 'A little side trip to this place is always necessary when I am in San Francisco. Its my SF pilgrimage...: ',\n ' reads the news - ...ANCHOR.FM.Kim Huat reads the news  by the mrbrown show  A podcast on Anchor',\n 'Its a 6am flight and I am super sleepy because I left home at 3.30am. Heading to San Jose! See you when I get there! (Sorry for the accidental double post.).........',\n 'Its a 6am flight and I am super sleepy because I left home at 3.30am. Heading to San Jose! See you when I get there!........',\n 'Me: Orange jit kee...Kopitiam Guy: Horlick ah? No Horlick...Me: Orange...Kopitiam Guy: Boh Horlick leh...Me: Orleng Joo...Kopitiam Guy: Orleng ah? Ok!',\n 'Wife: Wah you ordered the fish at Economy Rice stall?..Me: Because Limpeh is a',\n 'Hang in there, p are nots! School reopens in two days!',\n ' reads the news - ...ANCHOR.FM.Kim Huat reads the news  by the mrbrown show  A podcast on Anchor',\n 'Almost the last train home.....',\n 'The three Ah Peks of the Singapore Internet. Before the shochu kicked in.',\n ' reads the news - ...ANCHOR.FM.Kim Huat reads the news  by the mrbrown show  A podcast on Anchor',\n '',\n 'A bit regret taking photo with The Nun doll... ',\n 'When a regular mocking is not enough.',\n ' to all teachers! If I had my way, students will still go to school, and teachers stay home...Why students so good life, right? Chewren Day they also off. Teachers Day they also off.',\n ' reads the news - ...ANCHOR.FM.Kim Huat reads the news  by the mrbrown show | Anchor - The easiest way to start a podcast',\n 'Kim Huat talks about Sexy Online Content. Kim Huat wants in on the sexy influencer content market. He promises that he is of legal age...[Context: ]..a production of mrbrown.com',\n 'Andy Lau now warns others about the dangers of nuclear radiation.',\n 'Kim Huat suddenly realizes he is not a young spring chicken anymore and feels old. ..a production of mrbrown.com',\n 'Oh look, 20,000 AutoAirplaneMode spots now in Singapore...Ministeril Puthucheary had said during the Committee of Supply debate in 2016 that the number of Wireless hot spots would reach 20,000 by 2018. There were 10,000 such hot spots then.',\n 'Waiting for the bus to arrive.....',\n 'Dear POPULAR',\n 'If only PSLE questions were like so.',\n \"Can I just say that the helmet/mask design of our fencers is very badass? So cool...And congrats to Team Singapore Fencing Team!..Singapore National Olympic Council. at 13:09 ..Asian Games update: Fencing - Women's team foil quarter-finals..BERTHIER AMITA MARIE NICOLETTE.MELANIE HUANG XINYI.WONG JIE XIN MAXINE.WONG YU RONG TATIANA..SGP VS TPE.SGP beats TPE 45-19 and advances to the semi-final, which will be played at 1300hrs SGT today...SGP will play either PHI or CHN as the last quarter-final match is still in progress...Photo by SportSG\",\n ' My current mobile audio kit (L to R, counterclockwise):  AMBEO SMART HEADSET, Sennheiser Clipmic Digital lavalier,  MV88, Sennheiser Memory Mic, and the  BoomPro headset .....',\n 'This month, please remind your helper not to place her gloves this way.......[Shared with me by friends over WhatsApp.]',\n ' Har? Tomorrow is Public Holiday???..Also, ',\n 'So this fella was NINE years old when he bought his HDB flat? Wah! So young he already saved up so much money ah! Respect sia.',\n 'PM says Community Health Assist Scheme  will extend to all Singaporeans, regardless of income level, but only those with chronic illnesses...be need to rename to Chronic Health Assist Money or CHAM...',\n 'We take a break from my coverage of  because my family has to take a long public bus ride home from my In-laws. And I  do not want to use my mobile data for streaming the rally...Managing my  and all that.',\n 'PM on TV: ASEAN is very important to us in these uncertain times where trade wars are happening. Particularly relations with our closest neighbors, Indonesia and Malaysia...Me on the sofa: Even though Dr M can be an asshole sometimes and likes to throw shade...PM goes on to talk about the water and HSR challenges. I go to the fridge and grab a Teh Tarik Potong ice-cream...',\n 'And now we return from the makan for the England half of the ',\n 'Brother-in-Law: When I was a kid, I would cry every time LKY gave his National Day Rally. Because he talked until very late, like 11pm, and I couldnt watch the shows I wanted to watch. All the channels showed only him...Me: Ah Kong last time got a lot of thing to say mah, and a lot of thing to scold us...',\n 'Ok. Who designed these slides? The white text against a light-green-to-light-blue gradient background, HOW TO READ? ',\n ' start liao! PM is making his speech in Malay first. His Malay very steady. PMs baju very  can notik sia! Shiny shiny one!',\n 'Kim Huat is at the airport to send Team Singapore athletes off to the Asian Games 2018! Look! It is Joseph Isaac Schooling, and Kim Huat is gushing like a fanboi. Also at the airport are the Swimming team (Singapore Swimming Association) and the Fencing team (Fencing Singapore)...Join Kim Huat in supporting Team Singapore. Go Singapore go! Win all the medals! Now Kim Huat has to find a corner to shed a manly tear. He is quite emotional about sending our athletes to their competitions...    Changi Airport T2',\n 'So many people asked for the video version of this podcast that I had to make one. So here it is, the lyric video of our cyber army songs podcast. Enjoy. You may want to subscribe to the mrbrown show podcast to hear more of our audio shows. Links below...Subscribe to the mrbrown show podcast:..Anchor: .Apple Podcasts: .Google Podcasts: ',\n ' reads the news - ...ANCHOR.FM.Kim Huat reads the news  by the mrbrown show | Anchor - The easiest way to start a podcast',\n 'I think you will die of diabetes before you get drunk, eating tubs of rum and raisin. Siao one, this rule.',\n 'Minister Midas Jin Jue Lui tries to elain why ministerial salaries should not be cut...a production of mrbrown.com',\n 'When a few blur sotongs get together, they have ',\n 'Tried to type Nasi Lemak. Came out Nazi Lemak...No, iPhone. I  do not want a Rich and Creamy Fascist. Eww.',\n 'Kim Huat donated blood for the tenth time and got his medal! He wasnt even scared! Giving blood is part of  Do your part and keep the blood bank full! Check out the community drives happening this National Day weekend here: .. ',\n 'Afiq Syazani is our cycling hero on this National Day. He rode 75.4 KM, over 7 hours, on a 3-speed Strida Evo to make this Lion Head...He even made it look like the reservoir is water coming out of the lions mouth...I salute you, good sir...   ',\n 'My family is singing Mosquito as the Home is playing on  This is my legacy... ',\n 'Mom, during the military segment: If they  do not have enough Generals and Colonels to march, they can get from SMRT...  ',\n 'I was very happy to have a small part at this years  It was fun to work with Gurmit.  ',\n 'Seen near Toa Payoh Hub. Oi, is this a national epidemic?',\n 'Happy 53rd Birthday, Singapore! We thought it might be fun to use the  feature from  upcoming  to send our birthday greetings...Memojis are a kind of customizable Animoji that will work with iPhone X. I really enjoyed making my own. And Kim Huats...',\n 'There is nothing quite like the company of an old friend, over dinner with good izakaya food, great sake, in a hole-in-the-wall place at Golden Mile Tower. You will almost think we were in Japan together. This is what happens when two Uncles need a break from a crazy day at work. Dodgy makan places ftw. Fun times.  Golden Mile Tower ',\n 'Since Im in a marking mood today',\n 'Dear TODAY, I know today is the eve of National Day, and we are all in a pre-public holiday mood...But the plural of aircraft is aircraft. And proper nouns like the Apache helicopter must be capitalized. Also, Air Forces?',\n 'I was at peak form more than a decade ago...Twelveosix. at 090 ..Dun play play hor',\n 'Much as I like Lululemon products, guys my size can only wear their offshoot brand, Lulumelon.',\n 'mrbrowns Guide to Booking a Flight on a Budget Airline or Low Cost Carrier ..1. Go to the Budget Airlines site...2. Site is down because they are having a sale and the site cannot cope...3. Come back to the site another day when the sale frenzy is over...4. Find and book ticket...5. Next screen: Airline asks you to choose their bundle...6. Select flight only. Dowan bundle...7. Next screen: Airline asks you to choose Luggage options. Skip luggage because you are Hand Carry only...8. Next screen: Airline asks you to choose their overpriced food...9. Skip food, its only a three-hour flight...10. Next screen: Airline asks you to choose your seats...11. Spend a few minutes looking for way to skip choosing seats because you  do not want to pay. Finally find the button. Continue without choosing seat. You will chance it because its only a three-hour flight...12. Next screen: Payment Page. You notice your flight price is $20 more than you eected. You begin your CSI...13. After a few minutes, you realize the extra $20 is the travel insurance. Which was automatically added without you selecting it. And you had to scroll down to find it. You deselect the Insurance option. Warnings of Hellfire and Dire Consequences are shown. You ignore said warnings because you already have your own travel insurance. You deselect the Insurance...14. You notice a checkbox to get an SMS alert on your flight. It costs $2. You laugh at the sheer audacity of the airline to charge for a stupid SMS...15. Payment Page again. This time the price of the flight is exactly what you saw when you first booked it. Nothing extra. Nothing more. Nothing less. You choose payment options...16. Credit Car $10 to $20 per person per flight...17. eNETs: $8 per person per flight...18. Post Office or SAM or 7-Eleven: $5 per person per flight...19. You choose the cheapest option because you want to save money. Then realize you  can not because that requires you to book 14 days in advance. You can only choose the credit card option...20. You give up and book a full-service airline out of sheer frustration because it sucks to be nickel-and-dimed, and to have things like travel insurance foisted on you without your knowledge. Also, you realize that often, the full-service airline is only a few bucks more by the time you add the options of a LCC Airline. And why do you have to pay to pay for your ticket???..21. Curl up and cry... ',\n ' reads the news - ...ANCHOR.FM.Kim Huat reads the news  by the mrbrown show | Anchor - The easiest way to start a podcast',\n 'Im sorry for the radio silence. I opened myUtilities bill today, and the bill jumped out of the envelope and punched me in the face twice...The double whammy of the electricity and water hike knocked me out for the day.',\n \"Vote for Kim Huat's cheer for NDP 2018 by pressing Like and Sharing this video!   ..Actually he is not in the NDP18 Cheer Competition but he  did not want to miss out on the fun...He also apologizes for using the NDP word Singapore. But he avoided other NDP words like Home and Dreams, and One Nation and Harmony...No Hakas were performed in this cheer...Download track: ..Vocals: mrbrown ac Nair.Lyrics: mrbrown ac Nair.Music Nair.Album: Liddat Also Song..a production of \",\n ' Crawled under my desk to install a new power extension cord and now',\n 'My weekly weekend ritual with the wife: Breakfast at ',\n 'Moment of Horror: You are outside, and the iPhone battery is at 20 percent, and you left the powerbank charging in the office.',\n 'mrbrown tries out the Video Teller Machine by DBS/POSB. Need a replacement ATM card? Need a banking token? After banking hours? No problem! Try this super convenient service!',\n ' reads the news - ...ANCHOR.FM.Kim Huat reads the news  by the mrbrown show | Anchor - The easiest way to start a podcast',\n 'Simisai...',\n 'the mrbrown show:: cyber army songs...ANCHOR.FM.the mrbrown show: cyber army songs by the mrbrown show | Anchor - The easiest way to start a podcast',\n ' reads the news - ...ANCHOR.FM.Kim Huat reads the news  by the mrbrown show | Anchor - The easiest way to start a podcast',\n \"I  do not always share music on this page but I really enjoyed this. And Im an A Cappella fan too. Nicely done, 1023!..1023. at 21:45 ..One of our favourite things about Singapore - it is a beautiful brew of cultures, influences, and harmony. 1023 may not be native Tamil speakers, but we absolutely loved doing this medley of Munnaeru Vaalibaa and Singai Naadu, incorporating the traditional Carnatic art form, Konnakkol...Thank you S Jesudassan and Shabir Tabare Alam for inspiring local music ..  Studios. Loveblush Hair & Makeup Co.. Raymond Phang Photography. SuperTree Rooftop Bar by IndoChine. Suite Sound. Interpage Pte Ltd. Agung Santoso Ongko, Amanda Poh, Rachel Lian.: First premiered at Arts in Your Neighbourhood by National Arts Council Singapore..Special thanks to Nandini Kanagaraj, Rasanya Isabella Jacob, Sures Ravindran and Siti Nur'Ain for being our pronunciation coaches \",\n 'Kim Huat Thought of the Day - Cyber Security. In the wake of the SingHealth data security breaching affecting 1.5 million patients, Kim Huat shares his thought of the day, on the need for cyber security...a production of mrbrown.com',\n 'The upper deck of the bus is mine tonight! All mine!..Update: Ok. The upper deck of the bus was mine, all mine, for all of three bus stops. But it was a glorious three stops.',\n 'Unbeknownst to many, Thanos had a hotter younger brother. His name was Thermos.',\n 'Deferment Haiku..Football? Deferment.Not granted. Only Scholar.Or Scientist maybe.',\n 'Is the  Final over yet? I need to blink...Update: Wah. Over liao. Most entertaining final Ive watched.',\n 'My  commentary is in  can notonese and Alan Tham is one of the hosts. Hotel room World Cup viewing time.....',\n 'A photo-walking weekend with my old classmate and friend, photographer Jon She, in Hong Kong. So good to catch up with him and so honoured to be photographed by him...See the photoset here: ',\n 'Temple Street Nightket, Hong Kong.   ',\n 'Happy to be here in Hong Kong to chat with John Cho, Michelle La, director Aneesh Chaganty and producer Sev Ohanian for ..Watch out for my video interview for  in the coming weeks.',\n 'Off to Hong Kong for a few days. Entire row to myself. Sweet. And a very good Singapore Airlines movie and tv selection. Most likely Ill end up sleeping for the next four hours...  ',\n 'The Wild Boars and their Coach are all out! Hooyah! ..Translation: 12 wild pigs and coach out of the cave. Safe everyone...This time, waiting to pick up 4 Frogs...Hooyah',\n ...]"
     },
     "metadata": {},
     "execution_count": 15
    }
   ],
   "source": [
    "someList"
   ]
  },
  {
   "cell_type": "code",
   "execution_count": 16,
   "metadata": {},
   "outputs": [
    {
     "output_type": "execute_result",
     "data": {
      "text/plain": "3696"
     },
     "metadata": {},
     "execution_count": 16
    }
   ],
   "source": [
    "count"
   ]
  },
  {
   "cell_type": "code",
   "execution_count": 17,
   "metadata": {},
   "outputs": [],
   "source": [
    "#Code to save cleaned data as txt files\n",
    "with open(\"FULL CLEANED DATA.txt\", \"w\") as output:\n",
    "    output.write(str(someList))"
   ]
  },
  {
   "cell_type": "code",
   "execution_count": null,
   "metadata": {},
   "outputs": [],
   "source": []
  }
 ],
 "metadata": {
  "kernelspec": {
   "display_name": "Python 3",
   "language": "python",
   "name": "python3"
  },
  "language_info": {
   "codemirror_mode": {
    "name": "ipython",
    "version": 3
   },
   "file_extension": ".py",
   "mimetype": "text/x-python",
   "name": "python",
   "nbconvert_exporter": "python",
   "pygments_lexer": "ipython3",
   "version": "3.8.5-final"
  }
 },
 "nbformat": 4,
 "nbformat_minor": 4
}