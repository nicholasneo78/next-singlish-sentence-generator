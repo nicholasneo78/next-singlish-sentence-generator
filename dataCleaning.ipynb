{
 "cells": [
  {
   "cell_type": "code",
   "execution_count": 25,
   "metadata": {},
   "outputs": [],
   "source": [
    "import requests\n",
    "import urllib\n",
    "import xlrd\n",
    "import os\n",
    "#Code to import Regex\n",
    "import re"
   ]
  },
  {
   "cell_type": "markdown",
   "metadata": {},
   "source": [
    "## Test Code"
   ]
  },
  {
   "cell_type": "code",
   "execution_count": 2,
   "metadata": {},
   "outputs": [],
   "source": [
    "file = \"scrapingData_andiechen_FULL.xlsx\""
   ]
  },
  {
   "cell_type": "code",
   "execution_count": 3,
   "metadata": {},
   "outputs": [],
   "source": [
    "workbook = xlrd.open_workbook(file)"
   ]
  },
  {
   "cell_type": "code",
   "execution_count": 4,
   "metadata": {},
   "outputs": [],
   "source": [
    "sheet = workbook.sheet_by_index(0)"
   ]
  },
  {
   "cell_type": "code",
   "execution_count": 5,
   "metadata": {},
   "outputs": [
    {
     "output_type": "execute_result",
     "data": {
      "text/plain": "<xlrd.sheet.Sheet at 0x1f002a03d00>"
     },
     "metadata": {},
     "execution_count": 5
    }
   ],
   "source": [
    "sheet"
   ]
  },
  {
   "cell_type": "code",
   "execution_count": 6,
   "metadata": {},
   "outputs": [
    {
     "output_type": "execute_result",
     "data": {
      "text/plain": "1699"
     },
     "metadata": {},
     "execution_count": 6
    }
   ],
   "source": [
    "sheet.nrows"
   ]
  },
  {
   "cell_type": "markdown",
   "metadata": {},
   "source": [
    "## Actual Code"
   ]
  },
  {
   "cell_type": "code",
   "execution_count": 7,
   "metadata": {},
   "outputs": [
    {
     "output_type": "execute_result",
     "data": {
      "text/plain": "'c:\\\\Users\\\\65866\\\\Documents\\\\RandomCodes\\\\next-sentence-predictor'"
     },
     "metadata": {},
     "execution_count": 7
    }
   ],
   "source": [
    "os.getcwd()"
   ]
  },
  {
   "cell_type": "code",
   "execution_count": 8,
   "metadata": {},
   "outputs": [
    {
     "output_type": "execute_result",
     "data": {
      "text/plain": "['.git',\n '.ipynb_checkpoints',\n 'countNoOfLines.ipynb',\n 'dataCleaning.ipynb',\n 'LICENSE',\n 'README.md',\n 'Scraper-Codes',\n 'scrapingData_andiechen_FULL.xlsx',\n 'scrapingData_bellywellyjelly_FULL.xlsx',\n 'scrapingData_benjamin.kheng_FULL.xlsx',\n 'scrapingData_bossyflossie_FULL.xlsx',\n 'scrapingData_DanielFoodDiary_FULL.xlsx',\n 'scrapingData_DollarsAndSenseSG_FULL.xlsx',\n 'scrapingData_dreachongofficial_FULL.xlsx',\n 'scrapingData_ieatishootipost_FULL.xlsx',\n 'scrapingData_ladyironchef_FULL.xlsx',\n 'scrapingData_moneysmartsg_FULL.xlsx',\n 'scrapingData_mongabong_FULL.xlsx',\n 'scrapingData_mrbrownlah_FULL.xlsx',\n 'scrapingData_mykxii_FULL.xlsx',\n 'scrapingData_sethluimarketing_FULL.xlsx',\n 'scrapingData_sophiewillocq_FULL.xlsx',\n 'scrapingData_therealnaomineo_FULL.xlsx',\n 'scrapingData_TheSmartLocal_FULL.xlsx',\n 'scrapingData_yoyokulala_FULL.xlsx']"
     },
     "metadata": {},
     "execution_count": 8
    }
   ],
   "source": [
    "os.listdir()"
   ]
  },
  {
   "cell_type": "code",
   "execution_count": 9,
   "metadata": {},
   "outputs": [
    {
     "output_type": "execute_result",
     "data": {
      "text/plain": "['FBScraper.py',\n 'scrapingData_ACJC-Confessions-365341810240423_FULL.xlsx',\n 'scrapingData_asrjcconfessions_FULL.xlsx',\n 'scrapingData_cjcroxx_FULL.xlsx',\n 'scrapingData_DHS-Confessions-103690209814932_FULL.xlsx',\n 'scrapingData_HwaChongConfessions_FULL.xlsx',\n 'scrapingData_InnovaConfessions_FULL.xlsx',\n 'scrapingData_ITE-College-Central-Confessions-102332676616681_FULL.xlsx',\n 'scrapingData_ITE-College-West-Confessions-123845157793064_FULL.xlsx',\n 'scrapingData_JjcConfessions_FULL.xlsx',\n 'scrapingData_NJC-Confessions-414721038609037_FULL.xlsx',\n 'scrapingData_npconfession_FULL.xlsx',\n 'scrapingData_NTUConfess_PART.xlsx',\n 'scrapingData_nuswhispers_FULL.xlsx',\n 'scrapingData_NYP-Confessions-118332335013023_FULL.xlsx',\n 'scrapingData_RepublicPolyConfessions_FULL.xlsx',\n 'scrapingData_RJConfessions_FULL.xlsx',\n 'scrapingData_SajcConfessions_FULL.xlsx',\n 'scrapingData_SGAG_FULL.xlsx',\n 'scrapingData_simconfessions_FULL.xlsx',\n 'scrapingData_SMUConfessionsPage_FULL.xlsx',\n 'scrapingData_SP-Confessions-329564370479100_FULL.xlsx',\n 'scrapingData_SUSSConfessions_FULL.xlsx',\n 'scrapingData_TJC-Confessions-133149643521172_FULL.xlsx',\n 'scrapingData_tpconfession_FULL.xlsx']"
     },
     "metadata": {},
     "execution_count": 9
    }
   ],
   "source": [
    "# inside the Scraper-Codes folder\n",
    "os.listdir('Scraper-Codes')"
   ]
  },
  {
   "cell_type": "code",
   "execution_count": 10,
   "metadata": {},
   "outputs": [
    {
     "output_type": "execute_result",
     "data": {
      "text/plain": "['./Scraper-Codes/FBScraper.py',\n './Scraper-Codes/scrapingData_ACJC-Confessions-365341810240423_FULL.xlsx',\n './Scraper-Codes/scrapingData_asrjcconfessions_FULL.xlsx',\n './Scraper-Codes/scrapingData_cjcroxx_FULL.xlsx',\n './Scraper-Codes/scrapingData_DHS-Confessions-103690209814932_FULL.xlsx',\n './Scraper-Codes/scrapingData_HwaChongConfessions_FULL.xlsx',\n './Scraper-Codes/scrapingData_InnovaConfessions_FULL.xlsx',\n './Scraper-Codes/scrapingData_ITE-College-Central-Confessions-102332676616681_FULL.xlsx',\n './Scraper-Codes/scrapingData_ITE-College-West-Confessions-123845157793064_FULL.xlsx',\n './Scraper-Codes/scrapingData_JjcConfessions_FULL.xlsx',\n './Scraper-Codes/scrapingData_NJC-Confessions-414721038609037_FULL.xlsx',\n './Scraper-Codes/scrapingData_npconfession_FULL.xlsx',\n './Scraper-Codes/scrapingData_NTUConfess_PART.xlsx',\n './Scraper-Codes/scrapingData_nuswhispers_FULL.xlsx',\n './Scraper-Codes/scrapingData_NYP-Confessions-118332335013023_FULL.xlsx',\n './Scraper-Codes/scrapingData_RepublicPolyConfessions_FULL.xlsx',\n './Scraper-Codes/scrapingData_RJConfessions_FULL.xlsx',\n './Scraper-Codes/scrapingData_SajcConfessions_FULL.xlsx',\n './Scraper-Codes/scrapingData_SGAG_FULL.xlsx',\n './Scraper-Codes/scrapingData_simconfessions_FULL.xlsx',\n './Scraper-Codes/scrapingData_SMUConfessionsPage_FULL.xlsx',\n './Scraper-Codes/scrapingData_SP-Confessions-329564370479100_FULL.xlsx',\n './Scraper-Codes/scrapingData_SUSSConfessions_FULL.xlsx',\n './Scraper-Codes/scrapingData_TJC-Confessions-133149643521172_FULL.xlsx',\n './Scraper-Codes/scrapingData_tpconfession_FULL.xlsx']"
     },
     "metadata": {},
     "execution_count": 10
    }
   ],
   "source": [
    "# Append the directory in the Scraper-Codes folder\n",
    "appendDir = './Scraper-Codes/'\n",
    "tempList = os.listdir('Scraper-Codes')\n",
    "finalList = list()\n",
    "for k in tempList:\n",
    "    finalList += [appendDir + k]\n",
    "    \n",
    "finalList"
   ]
  },
  {
   "cell_type": "code",
   "execution_count": 21,
   "metadata": {},
   "outputs": [],
   "source": [
    "# Copy the above .xlsx files and paste into fileList\n",
    "fileList = ['./Scraper-Codes/scrapingData_ACJC-Confessions-365341810240423_FULL.xlsx',\n",
    "             './Scraper-Codes/scrapingData_asrjcconfessions_FULL.xlsx',\n",
    "             './Scraper-Codes/scrapingData_cjcroxx_FULL.xlsx',\n",
    "             './Scraper-Codes/scrapingData_DHS-Confessions-103690209814932_FULL.xlsx',\n",
    "             './Scraper-Codes/scrapingData_HwaChongConfessions_FULL.xlsx',\n",
    "             './Scraper-Codes/scrapingData_InnovaConfessions_FULL.xlsx',\n",
    "             './Scraper-Codes/scrapingData_ITE-College-Central-Confessions-102332676616681_FULL.xlsx',\n",
    "             './Scraper-Codes/scrapingData_ITE-College-West-Confessions-123845157793064_FULL.xlsx',\n",
    "             './Scraper-Codes/scrapingData_JjcConfessions_FULL.xlsx',\n",
    "             './Scraper-Codes/scrapingData_NJC-Confessions-414721038609037_FULL.xlsx',\n",
    "             './Scraper-Codes/scrapingData_npconfession_FULL.xlsx',\n",
    "             './Scraper-Codes/scrapingData_NTUConfess_PART.xlsx',\n",
    "             './Scraper-Codes/scrapingData_nuswhispers_FULL.xlsx',\n",
    "             './Scraper-Codes/scrapingData_NYP-Confessions-118332335013023_FULL.xlsx',\n",
    "             './Scraper-Codes/scrapingData_RepublicPolyConfessions_FULL.xlsx',\n",
    "             './Scraper-Codes/scrapingData_RJConfessions_FULL.xlsx',\n",
    "             './Scraper-Codes/scrapingData_SajcConfessions_FULL.xlsx',\n",
    "             './Scraper-Codes/scrapingData_SGAG_FULL.xlsx',\n",
    "             './Scraper-Codes/scrapingData_simconfessions_FULL.xlsx',\n",
    "             './Scraper-Codes/scrapingData_SMUConfessionsPage_FULL.xlsx',\n",
    "             './Scraper-Codes/scrapingData_SP-Confessions-329564370479100_FULL.xlsx',\n",
    "             './Scraper-Codes/scrapingData_SUSSConfessions_FULL.xlsx',\n",
    "             './Scraper-Codes/scrapingData_TJC-Confessions-133149643521172_FULL.xlsx',\n",
    "             './Scraper-Codes/scrapingData_tpconfession_FULL.xlsx']"
   ]
  },
  {
   "cell_type": "code",
   "execution_count": 12,
   "metadata": {},
   "outputs": [],
   "source": [
    "# initialise line count\n",
    "count = 0"
   ]
  },
  {
   "cell_type": "code",
   "execution_count": 48,
   "metadata": {},
   "outputs": [],
   "source": [
    "fileList = ['./scrapingData_ladyironchef_FULL.xlsx']\n"
   ]
  },
  {
   "cell_type": "code",
   "execution_count": 49,
   "metadata": {
    "tags": [
     "outputPrepend"
    ]
   },
   "outputs": [
    {
     "output_type": "stream",
     "name": "stdout",
     "text": "persons and maximum of 10 persons per booking) for the buffet, with 1 complimentary Wine or Beer.\n\n\n\n---Before encode/decode at row 2012\nWeekend getaway in Seminyak.\n\nhttp://www.ladyironchef.com/2017/10/seminyak-food-itinerary/\n\n---After encoding/decoding\n\n-> No # found\n\n-> Found websites:  [('http://www.ladyironchef.com/2017/10/seminyak-food-itinerary/', '', '', '', '')]\n\n-> No [tag] found\n\nWeekend getaway in Seminyak.\n\n\n\n---Before encode/decode at row 2013\nIt's pink, pink and more pink!!!\n\n---After encoding/decoding\n\n-> No # found\n\n-> No websites found\n\n-> No [tag] found\n\nIt's pink, pink and more pink!!!\n\n---Before encode/decode at row 2014\n[Giveaway] We are giving away another 3 x $50 Chope Gift Cards to celebrate Chope's Best Festive Sale.\n\nTo join:\n1. Like Chope and Ladyironchef.\n2. Like and share this video.\n3. Leave a comment to tag a friend and let us know which restaurant featured in the Chope sale you would like to dine at.\n4. We will pick the winners on 19 Dec.\n\nFrom now until 17 December 2017, Chope's Best Festive Sale is offering 50% off dining vouchers at top restaurants, such as Dehesa, Vatos Urban Tacos, and Dancing Crab, when you pay with Visa, and an irresistible offer where the second buffet diner has to pay ONLY S$0.18 for an entire buffet spread!\n\nOn top of the existing discounts, our readers can use our code LIC10 to get an extra storewide discount of $10 off on The Chope Shop. This is valid during the sale period, and is limited to the first 50 new customers who redeem this deal.\n\nhttp://www.ladyironchef.com/2017/12/chope-festive-sale/\n\n---After encoding/decoding\n\n-> No # found\n\n-> Found websites:  [('http://www.ladyironchef.com/2017/12/chope-festive-sale/', '', '', '', '')]\n\n-> Found [tag]:  ['[Giveaway]']\n\n We are giving away another 3 x $50 Chope Gift Cards to celebrate Chope's Best Festive Sale.\n\nTo join:\n1. Like Chope and Ladyironchef.\n2. Like and share this video.\n3. Leave a comment to tag a friend and let us know which restaurant featured in the Chope sale you would like to dine at.\n4. We will pick the winners on 19 Dec.\n\nFrom now until 17 December 2017, Chope's Best Festive Sale is offering 50% off dining vouchers at top restaurants, such as Dehesa, Vatos Urban Tacos, and Dancing Crab, when you pay with Visa, and an irresistible offer where the second buffet diner has to pay ONLY S$0.18 for an entire buffet spread!\n\nOn top of the existing discounts, our readers can use our code LIC10 to get an extra storewide discount of $10 off on The Chope Shop. This is valid during the sale period, and is limited to the first 50 new customers who redeem this deal.\n\n\n\n---Before encode/decode at row 2015\nExplore Chip Bee Gardens.\n\nhttp://www.ladyironchef.com/2017/12/chip-bee-gardens-food/\n\n---After encoding/decoding\n\n-> No # found\n\n-> Found websites:  [('http://www.ladyironchef.com/2017/12/chip-bee-gardens-food/', '', '', '', '')]\n\n-> No [tag] found\n\nExplore Chip Bee Gardens.\n\n\n\n---Before encode/decode at row 2016\n5 Christmas Buffet in Singapore to eat till you drop.\n\nhttp://www.ladyironchef.com/2017/12/christmas-buffets-singapore-2017/\n\n---After encoding/decoding\n\n-> No # found\n\n-> Found websites:  [('http://www.ladyironchef.com/2017/12/christmas-buffets-singapore-2017/', '', '', '', '')]\n\n-> No [tag] found\n\n5 Christmas Buffet in Singapore to eat till you drop.\n\n\n\n---Before encode/decode at row 2017\nThai pink noodles is a popular local dish in Thailand.\n\n---After encoding/decoding\n\n-> No # found\n\n-> No websites found\n\n-> No [tag] found\n\nThai pink noodles is a popular local dish in Thailand.\n\n---Before encode/decode at row 2018\nThe Maple Mania’s buttery cookies are perfect for those with a sweet tooth.\n\nhttp://www.ladyironchef.com/2017/11/maple-mania-singapore/\n\n---After encoding/decoding\n\n-> No # found\n\n-> Found websites:  [('http://www.ladyironchef.com/2017/11/maple-mania-singapore/', '', '', '', '')]\n\n-> No [tag] found\n\nThe Maple Manias buttery cookies are perfect for those with a sweet tooth.\n\n\n\n---Before encode/decode at row 2019\nYou need to add this to your bucket list!\n\n---After encoding/decoding\n\n-> No # found\n\n-> No websites found\n\n-> No [tag] found\n\nYou need to add this to your bucket list!\n\n---Before encode/decode at row 2020\nIt is always nice to hang out at a neighbourhood bar where you can have a cold one absent from any form of pretentiousness.\n\nhttp://www.ladyironchef.com/2017/10/neighbourhood-bars-singapore/\n\n---After encoding/decoding\n\n-> No # found\n\n-> Found websites:  [('http://www.ladyironchef.com/2017/10/neighbourhood-bars-singapore/', '', '', '', '')]\n\n-> No [tag] found\n\nIt is always nice to hang out at a neighbourhood bar where you can have a cold one absent from any form of pretentiousness.\n\n\n\n---Before encode/decode at row 2021\nBringing Korea to you.\n\nhttp://www.ladyironchef.com/2017/10/korean-supermarkets-singapore/\n\n---After encoding/decoding\n\n-> No # found\n\n-> Found websites:  [('http://www.ladyironchef.com/2017/10/korean-supermarkets-singapore/', '', '', '', '')]\n\n-> No [tag] found\n\nBringing Korea to you.\n\n\n\n---Before encode/decode at row 2022\nTaobao has all sorts of products you can ever imagine—fashion, gadgets, electronics, furniture, homeware… and the list goes on.\n\nhttp://www.ladyironchef.com/2017/12/tmall-double-12/\n\n---After encoding/decoding\n\n-> No # found\n\n-> Found websites:  [('http://www.ladyironchef.com/2017/12/tmall-double-12/', '', '', '', '')]\n\n-> No [tag] found\n\nTaobao has all sorts of products you can ever imaginefashion, gadgets, electronics, furniture, homeware and the list goes on.\n\n\n\n---Before encode/decode at row 2023\nJeju Island Itinerary ft. the best things to do and see.\n\nhttp://www.ladyironchef.com/2017/12/jeju-things-to-do/\n\n---After encoding/decoding\n\n-> No # found\n\n-> Found websites:  [('http://www.ladyironchef.com/2017/12/jeju-things-to-do/', '', '', '', '')]\n\n-> No [tag] found\n\nJeju Island Itinerary ft. the best things to do and see.\n\n\n\n---Before encode/decode at row 2024\n[Giveaway] We are giving away 3 pairs of Food Exchange's Sunday Brunch buffet (worth S$156++ per pair).\n\nTo join:\n1. Like Novotel Singapore on Stevens and Ladyironchef.\n2. Like and share this post.\n3. Leave a comment and tag someone whom you want to bring along to this luxurious Sunday Brunch.\n4. We will pick the winners on 15 Dec.\n\nQuote ‘ladyironchef’ upon making your reservation to enjoy the Sunday Brunch at S$120 for two pax from now until 25 Feb 2018!\n\nhttp://www.ladyironchef.com/2017/12/novotel-singapore-stevens-sunday-brunch/\n\n---After encoding/decoding\n\n-> No # found\n\n-> Found websites:  [('http://www.ladyironchef.com/2017/12/novotel-singapore-stevens-sunday-brunch/', '', '', '', '')]\n\n-> Found [tag]:  ['[Giveaway]']\n\n We are giving away 3 pairs of Food Exchange's Sunday Brunch buffet (worth S$156++ per pair).\n\nTo join:\n1. Like Novotel Singapore on Stevens and Ladyironchef.\n2. Like and share this post.\n3. Leave a comment and tag someone whom you want to bring along to this luxurious Sunday Brunch.\n4. We will pick the winners on 15 Dec.\n\nQuote ladyironchef upon making your reservation to enjoy the Sunday Brunch at S$120 for two pax from now until 25 Feb 2018!\n\n\n\n---Before encode/decode at row 2025\nmezza9's Christmas festive menu features a stellar array of Christmas-themed delights such as Confit Duck Leg, French Onion Soup and the fork-tender Braised Ox Cheek.\n\nhttp://www.ladyironchef.com/2017/12/grand-hyatt-singapore-christmas-2017/\n\n---After encoding/decoding\n\n-> No # found\n\n-> Found websites:  [('http://www.ladyironchef.com/2017/12/grand-hyatt-singapore-christmas-2017/', '', '', '', '')]\n\n-> No [tag] found\n\nmezza9's Christmas festive menu features a stellar array of Christmas-themed delights such as Confit Duck Leg, French Onion Soup and the fork-tender Braised Ox Cheek.\n\n\n\n---Before encode/decode at row 2026\n[Giveaway] We are giving away 8 x S$50 dining vouchers from Dragon Bowl.\n\nTo join:\n1. Like Dragon Bowl 龍碗 and Ladyironchef.\n2. Like and share this video.\n3. Leave a comment and tag someone whom you want to bring along to this dim sum party.\n4. We will pick the winners on 14 Dec.\n\nQuote ‘ladyironchef’ upon making your reservation and get a free Live Lobster Golden Porridge (worth S$38) with a min spend of S$50 from 11 to 15 Dec 2017 (limited to 5 redemptions a day, per outlet). From now until 31 Dec 2017, enjoy 30% off dim sum during lunch time (only available at the Marina Square outlet).\n\n---After encoding/decoding\n\n-> No # found\n\n-> No websites found\n\n-> Found [tag]:  ['[Giveaway]']\n\n We are giving away 8 x S$50 dining vouchers from Dragon Bowl.\n\nTo join:\n1. Like Dragon Bowl  and Ladyironchef.\n2. Like and share this video.\n3. Leave a comment and tag someone whom you want to bring along to this dim sum party.\n4. We will pick the winners on 14 Dec.\n\nQuote ladyironchef upon making your reservation and get a free Live Lobster Golden Porridge (worth S$38) with a min spend of S$50 from 11 to 15 Dec 2017 (limited to 5 redemptions a day, per outlet). From now until 31 Dec 2017, enjoy 30% off dim sum during lunch time (only available at the Marina Square outlet).\n\n---Before encode/decode at row 2027\n[Giveaway] We are giving away 3 pairs of Executive Cocktail Hour for 2 (worth S$129.50++ per pair) from Oakwood Premier OUE Singapore.\n\nTo join:\n1. Like Oakwood Premier OUE Singapore and Ladyironchef.\n2. Like and share this video.\n3. Tag a fellow alcohol enthusiast whom you want to bring along for this alcohol party.\n4. We will pick the winner on 12 Dec.\n\nOakwood Premier OUE Singapore’s Executive Cocktail Hour is the best deal in town. From 6pm to 9pm daily, you can enjoy free-flow house wines, beers, spirits, prosecco and canapés, including gourmet cheeses and warm entrées at the luxurious poolside club lounge – The Oakwood Executive Club.\n\nQuote ‘ladyironchef’ when making reservations to enjoy 1-for-1 (Mon to Thu) and 30% off (Fri) for the Executive Cocktail Hour (U.P. S$55 per pax). You only pay S$27.5++ per pax (Mon to Thu) for free-flow alcohol and more! Valid until 31 January 2018.\n\nFor reservations to call 6812 6050 or email dining.opsg@oakwoodasia.com\n\n---After encoding/decoding\n\n-> No # found\n\n-> No websites found\n\n-> Found [tag]:  ['[Giveaway]']\n\n We are giving away 3 pairs of Executive Cocktail Hour for 2 (worth S$129.50++ per pair) from Oakwood Premier OUE Singapore.\n\nTo join:\n1. Like Oakwood Premier OUE Singapore and Ladyironchef.\n2. Like and share this video.\n3. Tag a fellow alcohol enthusiast whom you want to bring along for this alcohol party.\n4. We will pick the winner on 12 Dec.\n\nOakwood Premier OUE Singapores Executive Cocktail Hour is the best deal in town. From 6pm to 9pm daily, you can enjoy free-flow house wines, beers, spirits, prosecco and canaps, including gourmet cheeses and warm entres at the luxurious poolside club lounge  The Oakwood Executive Club.\n\nQuote ladyironchef when making reservations to enjoy 1-for-1 (Mon to Thu) and 30% off (Fri) for the Executive Cocktail Hour (U.P. S$55 per pax). You only pay S$27.5++ per pax (Mon to Thu) for free-flow alcohol and more! Valid until 31 January 2018.\n\nFor reservations to call 6812 6050 or email dining.opsg@oakwoodasia.com\n\n---Before encode/decode at row 2028\n[Giveaway] We are giving away 2 pairs of Festive Dinner for two (worth S$156++ per pair) from Ginger.\n\nTo join:\n1. Like PARKROYAL on Beach Road, Singapore and Ladyironchef.\n2. Like and share this video.\n3. Tag someone whom you want to bring along for this Christmas buffet.\n4. We will pick the winners on 10 Dec.\n\nQuote ‘ladyironchef x Christmas’ upon making your reservation to enjoy the dinner buffet at S$58.50++ per adult. This promotion is valid from Mon to Thu from 09 to 29 Dec 2017.\n\nhttp://www.ladyironchef.com/2017/12/ginger-christmas-buffet/\n\n---After encoding/decoding\n\n-> No # found\n\n-> Found websites:  [('http://www.ladyironchef.com/2017/12/ginger-christmas-buffet/', '', '', '', '')]\n\n-> Found [tag]:  ['[Giveaway]']\n\n We are giving away 2 pairs of Festive Dinner for two (worth S$156++ per pair) from Ginger.\n\nTo join:\n1. Like PARKROYAL on Beach Road, Singapore and Ladyironchef.\n2. Like and share this video.\n3. Tag someone whom you want to bring along for this Christmas buffet.\n4. We will pick the winners on 10 Dec.\n\nQuote ladyironchef x Christmas upon making your reservation to enjoy the dinner buffet at S$58.50++ per adult. This promotion is valid from Mon to Thu from 09 to 29 Dec 2017.\n\n\n\n---Before encode/decode at row 2029\nChristmas markets in Europe are so magical.\n\n---After encoding/decoding\n\n-> No # found\n\n-> No websites found\n\n-> No [tag] found\n\nChristmas markets in Europe are so magical.\n\n---Before encode/decode at row 2030\nToasted buns with condensed milk. Shut up and take my money!\n\n---After encoding/decoding\n\n-> No # found\n\n-> No websites found\n\n-> No [tag] found\n\nToasted buns with condensed milk. Shut up and take my money!\n\n---Before encode/decode at row 2031\nThe coolest brunch spot in Tiong Bahru.\n\nhttp://www.ladyironchef.com/2017/11/merci-marcel-parisian-cafe-singapore/\n\n---After encoding/decoding\n\n-> No # found\n\n-> Found websites:  [('http://www.ladyironchef.com/2017/11/merci-marcel-parisian-cafe-singapore/', '', '', '', '')]\n\n-> No [tag] found\n\nThe coolest brunch spot in Tiong Bahru.\n\n\n\n---Before encode/decode at row 2032\nThis S$10 Bara Chirashi Don is the real deal!\n\nhttp://www.ladyironchef.com/2017/11/district-sushi-singapore/\n\n---After encoding/decoding\n\n-> No # found\n\n-> Found websites:  [('http://www.ladyironchef.com/2017/11/district-sushi-singapore/', '', '', '', '')]\n\n-> No [tag] found\n\nThis S$10 Bara Chirashi Don is the real deal!\n\n\n\n---Before encode/decode at row 2033\nTag bae to subtly hint him for the next date.\n\nhttp://www.ladyironchef.com/2017/11/romantic-restaurants-singapore/\n\n---After encoding/decoding\n\n-> No # found\n\n-> Found websites:  [('http://www.ladyironchef.com/2017/11/romantic-restaurants-singapore/', '', '', '', '')]\n\n-> No [tag] found\n\nTag bae to subtly hint him for the next date.\n\n\n\n---Before encode/decode at row 2034\nJust look at all these chocolates!\n\n---After encoding/decoding\n\n-> No # found\n\n-> No websites found\n\n-> No [tag] found\n\nJust look at all these chocolates!\n\n---Before encode/decode at row 2035\nGluten-free dining options in Singapore.\n\nhttp://www.ladyironchef.com/2017/11/gluten-free-restaurants-singapore/\n\n---After encoding/decoding\n\n-> No # found\n\n-> Found websites:  [('http://www.ladyironchef.com/2017/11/gluten-free-restaurants-singapore/', '', '', '', '')]\n\n-> No [tag] found\n\nGluten-free dining options in Singapore.\n\n\n\n---Before encode/decode at row 2036\nWhere to find drool-worthy Halal desserts around Sultan Mosque. The Halal Mag\n\nhttp://www.ladyironchef.com/2017/11/halal-dessert-sultan-mosque/\n\n---After encoding/decoding\n\n-> No # found\n\n-> Found websites:  [('http://www.ladyironchef.com/2017/11/halal-dessert-sultan-mosque/', '', '', '', '')]\n\n-> No [tag] found\n\nWhere to find drool-worthy Halal desserts around Sultan Mosque. The Halal Mag\n\n\n\n---Before encode/decode at row 2037\nThis is our favourite yakitori joint in Tokyo. Yakitori and beer at ¥298 each.\n\nhttp://www.ladyironchef.com/2017/10/torikizoku/\n\n---After encoding/decoding\n\n-> No # found\n\n-> Found websites:  [('http://www.ladyironchef.com/2017/10/torikizoku/', '', '', '', '')]\n\n-> No [tag] found\n\nThis is our favourite yakitori joint in Tokyo. Yakitori and beer at 298 each.\n\n\n\n---Before encode/decode at row 2038\nHere are some places where you can get the best Japanese produces without having to fly to Japan.\n\nhttp://www.ladyironchef.com/2017/06/best-japanese-supermarkets-singapore/\n\n---After encoding/decoding\n\n-> No # found\n\n-> Found websites:  [('http://www.ladyironchef.com/2017/06/best-japanese-supermarkets-singapore/', '', '', '', '')]\n\n-> No [tag] found\n\nHere are some places where you can get the best Japanese produces without having to fly to Japan.\n\n\n\n---Before encode/decode at row 2039\nWhile Wen Dao Shi does not have the best dim sum, it is still very popular as it provides a sense of nostalgia. And not to mention the fact that it opens 24/7!\n\n---After encoding/decoding\n\n-> No # found\n\n-> No websites found\n\n-> No [tag] found\n\nWhile Wen Dao Shi does not have the best dim sum, it is still very popular as it provides a sense of nostalgia. And not to mention the fact that it opens 24/7!\n\n---Before encode/decode at row 2040\nSo many things to eat in Myeong-dong, but so little tummy space.\n\nhttp://www.ladyironchef.com/2017/10/myeong-dong-best-street-food/\n\n---After encoding/decoding\n\n-> No # found\n\n-> Found websites:  [('http://www.ladyironchef.com/2017/10/myeong-dong-best-street-food/', '', '', '', '')]\n\n-> No [tag] found\n\nSo many things to eat in Myeong-dong, but so little tummy space.\n\n\n\n---Before encode/decode at row 2041\nYong Kang Street in Taipei is filled with restaurants, cafes and eateries.\n\nhttp://www.ladyironchef.com/2017/01/yong-kang-street-restaurants/\n\n---After encoding/decoding\n\n-> No # found\n\n-> Found websites:  [('http://www.ladyironchef.com/2017/01/yong-kang-street-restaurants/', '', '', '', '')]\n\n-> No [tag] found\n\nYong Kang Street in Taipei is filled with restaurants, cafes and eateries.\n\n\n\n---Before encode/decode at row 2042\n[Giveaway] We are giving away 2 pairs of Globetrotting Festive Buffet (worth S$96++ per pair) from Royale at Mercure Singapore Bugis.\n\nTo join:\n1. Like Mercure Singapore Bugis and Ladyironchef.\n2. Like and share this video.\n3. Tag someone whom you want to bring along for this festive buffet.\n4. We will pick the winners on 02 Dec.\n\nQuote ‘ladyironchef’ upon making reservations to enjoy 20% off total bills for Royale’s festive buffets at S$38.4++ per pax (U.P. S$48++ per pax) from 01 to 31 December 2017 (excluding Christmas Eve, Christmas Day and New Year’s Eve).\n\nhttp://www.ladyironchef.com/2017/11/royale-mercure-singapore-bugis/\n\n---After encoding/decoding\n\n-> No # found\n\n-> Found websites:  [('http://www.ladyironchef.com/2017/11/royale-mercure-singapore-bugis/', '', '', '', '')]\n\n-> Found [tag]:  ['[Giveaway]']\n\n We are giving away 2 pairs of Globetrotting Festive Buffet (worth S$96++ per pair) from Royale at Mercure Singapore Bugis.\n\nTo join:\n1. Like Mercure Singapore Bugis and Ladyironchef.\n2. Like and share this video.\n3. Tag someone whom you want to bring along for this festive buffet.\n4. We will pick the winners on 02 Dec.\n\nQuote ladyironchef upon making reservations to enjoy 20% off total bills for Royales festive buffets at S$38.4++ per pax (U.P. S$48++ per pax) from 01 to 31 December 2017 (excluding Christmas Eve, Christmas Day and New Years Eve).\n\n\n\n---Before encode/decode at row 2043\n[Giveaway] We are giving away 4 x S$50 dining vouchers from Fresh Fruits Lab—our favourite cafe in the east.\n\nTo join:\n1. Like FFL Fresh Fruits Lab and Ladyironchef.\n2. Like and share this video.\n3. Tag someone whom you want to bring along to this gorgeous pastel-coloured cafe.\n4. We will pick the winners on 01 Dec.\n\nThe newly-revamped FFL now boasts a colourful, pastel interior that is both whimsical and photogenic. It has also become a kids-friendly dining outlet with a play corner for your little ones as well as a low-salt kids menu that is so reasonably priced.\n\nhttp://www.ladyironchef.com/2017/11/fresh-fruits-lab-pastel-cafe/\n\n---After encoding/decoding\n\n-> No # found\n\n-> Found websites:  [('http://www.ladyironchef.com/2017/11/fresh-fruits-lab-pastel-cafe/', '', '', '', '')]\n\n-> Found [tag]:  ['[Giveaway]']\n\n We are giving away 4 x S$50 dining vouchers from Fresh Fruits Labour favourite cafe in the east.\n\nTo join:\n1. Like FFL Fresh Fruits Lab and Ladyironchef.\n2. Like and share this video.\n3. Tag someone whom you want to bring along to this gorgeous pastel-coloured cafe.\n4. We will pick the winners on 01 Dec.\n\nThe newly-revamped FFL now boasts a colourful, pastel interior that is both whimsical and photogenic. It has also become a kids-friendly dining outlet with a play corner for your little ones as well as a low-salt kids menu that is so reasonably priced.\n\n\n\nTotal len of List: 2044\n"
    }
   ],
   "source": [
    "#Initialize some list\n",
    "someList = []\n",
    "\n",
    "#Script to open data\n",
    "for file in fileList:\n",
    "    workbook = xlrd.open_workbook(file)\n",
    "    sheet = workbook.sheet_by_index(0)\n",
    "    rows = sheet.nrows\n",
    "    for x in range(rows):\n",
    "        item = sheet.cell_value(x, 0)\n",
    "        # Prints the value of element at row x\n",
    "        print()\n",
    "        print(\"---Before encode/decode at row \"+str(x))\n",
    "        print(item)\n",
    "        print()\n",
    "        #Cleaning Codes\n",
    "        print(\"---After encoding/decoding\")\n",
    "        #Removed chinese characters and emojis\n",
    "        cleaned_item = str(item).encode(\"ascii\", errors = \"ignore\").decode()\n",
    "        #Code to clean for #hastags\n",
    "        print()\n",
    "        p = re.compile('#\\S+')\n",
    "        m = p.findall(cleaned_item)\n",
    "        if m:\n",
    "            print('-> Found #: ', m)\n",
    "            cleaned_item = re.sub('#\\S+','',cleaned_item)\n",
    "        else:\n",
    "            print('-> No # found')\n",
    "        #Code to clean for websites www\n",
    "        print()\n",
    "        regex = r\"(?i)\\b((?:https?://|www\\d{0,3}[.]|[a-z0-9.\\-]+[.][a-z]{2,4}/)(?:[^\\s()<>]+|\\(([^\\s()<>]+|(\\([^\\s()<>]+\\)))*\\))+(?:\\(([^\\s()<>]+|(\\([^\\s()<>]+\\)))*\\)|[^\\s`!()\\[\\]{};:'\\\".,<>?«»“”‘’]))\"\n",
    "        m2 = re.findall(regex,cleaned_item)\n",
    "        if m2:\n",
    "            print('-> Found websites: ', m2)\n",
    "            cleaned_item = re.sub(regex,'',cleaned_item)\n",
    "        else:\n",
    "            print('-> No websites found')\n",
    "        #Code to clean for tags [  ]\n",
    "        print()\n",
    "        p = re.compile('\\[\\S*\\]')\n",
    "        m = p.findall(cleaned_item)\n",
    "        if m:\n",
    "            print('-> Found [tag]: ', m)\n",
    "            cleaned_item = re.sub('\\[\\S*\\]','',cleaned_item)\n",
    "        else:\n",
    "            print('-> No [tag] found')\n",
    "        #Code to replace \\n with fullstop\n",
    "        print()\n",
    "        p = re.compile('\\\\n')\n",
    "        m = p.findall(cleaned_item)\n",
    "        if m:\n",
    "            print('-> Found \\\\n: ', m)\n",
    "            cleaned_item = re.sub('\\\\n','.',cleaned_item)\n",
    "        else:\n",
    "            print('-> No \\\\n found')\n",
    "        #Code to replace date format\n",
    "\n",
    "        #Code to remove time\n",
    "\n",
    "        #Code to remove text emojis\n",
    "\n",
    "        #Code to remove circle bracket ()\n",
    "\n",
    "        #Code to remove mentions @\n",
    "\n",
    "        #display cleaned item\n",
    "        print()\n",
    "        print(cleaned_item)\n",
    "        #append to cleaned list\n",
    "        someList.append(cleaned_item)\n",
    "    \n",
    "    print()\n",
    "    print(\"Total len of List: \"+str(len(someList)))"
   ]
  },
  {
   "cell_type": "code",
   "execution_count": 50,
   "metadata": {},
   "outputs": [
    {
     "output_type": "execute_result",
     "data": {
      "text/plain": "ot with our Muslim friends.\\n\\nThe Halal Mag\\n28 October 2019 at 13:20 \\n\\nThis new halal cafe in Tampines offers huge Western food portions at reasonable prices.\\n\\n',\n 'Expect a stellar line-up of succulent crab dishes at only S$43.5++/pax.\\n\\nQuote ladyironchef upon making your reservation to enjoy 25% OFF Gingers Crabs Galore Buffet.\\n\\n\\n\\nLADYIRONCHEF.COM\\nGingers Crabs Galore Buffet  Feast on The Best Crab Dishes From 14 Oct to 22 Nov',\n \"Ho Chi Minh City is an upcoming city for foodies to embark on an all-you-can-eat extravaganza.\\n\\n\\n\\nLADYIRONCHEF.COM\\nHo Chi Minh City District 1 Food Guide - A Comprehensive List Of Local Must-Try's\",\n 'From tasty nasi padang that promises to fire up your palate, an age-old bakery with the best banana cake in the country (supposedly) to good ol local breakfast dishes.\\n\\n\\n\\nLADYIRONCHEF.COM\\n6 Local Eateries In Johor Bahru To Add To Your Day Trip Itinerary',\n 'Life lessons that are worth sharing.\\n\\n\\n\\nLADYIRONCHEF.COM\\n7 Life Lessons Learnt From A Trip to Nepal That Humble Us City Dwellers',\n 'An increasing number of travellers are craving for an authentic local experience and immersing themselves in the lives of natives.\\n\\n\\n\\nLADYIRONCHEF.COM\\n13 Ways To Live Like A Local Because You Are No Mainstream Tourist',\n 'These are the best hot chocolate drinks in Singapore.\\n\\n\\n\\nLADYIRONCHEF.COM\\n10 Best Hot Chocolates In Singapore That Are Choc(ked)-Full of Chocolate',\n 'We recommend getting the Soya Duck Rice (60 baht) which comes with succulent duck slices atop a mound of white rice and a side of blood pudding and chilli sauce.\\n\\n\\n\\nLADYIRONCHEF.COM\\nPondtip Pratunam  Addictively Good Duck Rice In The Heart Of Pratunam',\n 'For all you coffee lovers who wanna enjoy your cup of Joe at home.\\n\\n\\n\\nLADYIRONCHEF.COM\\n13 Barista Tips For Making Great Coffee At Home',\n 'Legit Hong Kong-style beef brisket noodle.\\n\\nTidbits Mag is at Lao Jie Fang Beef Noodle.\\n24 October 2019 at 13:42  Singapore \\n\\nThis stall is known for their Hong Kong-style beef brisket noodle.',\n 'One of our favourite cafes in Bangkok in recent times.\\n\\n\\n\\nLADYIRONCHEF.COM\\nB-Story Cafe  Botanical Paradise In Bangkok That Serves Up Great Cafe & Local Nosh',\n \"Sometimes, we really have to make tough choices in life.\\n\\n\\n\\nLADYIRONCHEF.COM\\n[SINGAPORE FOOD] - Battle of 20 Singapore's Hawker Dishes  Which is Healthier?\",\n 'Leng Saap translates to Spicy Pork Bone Soup - giant portions of pork ribs and spine doused in a rich and addictively spicy broth as well as plenty of lime, coriander and chilli.\\n\\n\\n\\nLADYIRONCHEF.COM\\nLeng Saap  Towering Plates Of Outrageously Spicy Pork Spine At Talad Rot Fai Srinakarin',\n 'We wanted to have lunch at the famous Geylang Claypot Rice but it was closed by the time we got there. By a stroke of luck, we chanced upon  Fei Kee Claypot Chicken Rice (341 Beach Road) and we thoroughly enjoyed their Claypot Chicken Rice (S$10) which came with a generous portion of chicken thigh meat, Chinese sausage and cabbage.',\n 'This new bakery at Capitol Piazza has really soft and fluffy roll cakes!\\n\\nFrom now until 27 Oct, they are offering 50% OFF roll cakes.\\n\\n',\n 'Another supper spot in the East of Singapore to check out.\\n\\nThe Halal Mag\\n21 October 2019 at 10:54 \\n\\nThis halal dim sum eatery at Simpang Bedok has affordable and yummy dim sum!\\n\\nRead more on ',\n \"You'd need this to survive the week.\\n\\n\\n\\nLADYIRONCHEF.COM\\nTanjong Pagar Food Guide30 Cafs, Eateries & Restaurants To Check Out In This Food Enclave\",\n 'Peking duck ',\n \"There'll always be an excuse for a wagyu-don, even if it's not Pay Day yet.\\n\\n\\n\\nLADYIRONCHEF.COM\\n12 Wagyu Beef Bowls In Singapore For All Kinds of Budget Because Wagyu-don Is A Staple\",\n \"This halal dim sum eatery in Simpang Bedok is known for its affordable dim sum.\\n\\nThe Halal Mag\\n19 October 2019 at 19:55 \\n\\nHere's where you can find affordable halal dim sum.\\n\\nRead more on \",\n 'Not enough people know what to look out for in ingredient lists and nutritional labels.\\n\\n\\n\\nLADYIRONCHEF.COM\\nHere Are 8 Tips On How To Read Nutritional Labels So You Know What You Are Eating',\n 'For all you salted egg fanatics.\\n\\n\\n\\nLADYIRONCHEF.COM\\n5 Salted Egg Yolk Chicken Rice Spots To Intro To Your Caucasian Friends',\n 'More weekend getaway ideas. You are welcome.\\n\\n\\n\\nLADYIRONCHEF.COM\\n18 Sights & Attractions Worth Booking A Trip To Kota Kinabalu RN',\n 'This new roll cake bakery opens on 21 Oct and they are giving out 50 free roll cakes on 21 & 22 Oct!\\n\\n\\n\\nLADYIRONCHEF.COM\\nNow Bakery  Moist, Creamy And Outrageously Fluffy Roll Cakes At Capitol Piazza',\n 'A quaint cafe in Clementi to check out.\\n\\n\\n\\nLADYIRONCHEF.COM\\nSesame & Bagels  A Quiet & Minimalistic Cafe In Clementi That Serves Bagels All Day',\n \"One of our all-time favourite desserts.\\n\\n\\n\\nLADYIRONCHEF.COM\\n10 Super Damn Good Sticky Date Pudding In Singapore To Try If You're Sick Of Waffles & Pancakes\",\n 'Located conveniently at the bustling Union Mall, Kin Tiew Kan Noodle is a great place to check out after a hectic day of shopping and getting your nails done.\\n\\n\\n\\nLADYIRONCHEF.COM\\nKin Tiew Kan Noodle  Hearty Bowls Of 15 Baht Boat Noodles At Union Mall',\n 'It is really not hard to understand why Osaka is gaining such immense popularity among tourists.\\n\\n\\n\\nLADYIRONCHEF.COM\\nJAPAN TRAVEL GUIDE - An Introduction To Osaka & 13 Things To Eat, See & Do',\n 'Ipohs rapid transition has managed to land the city on Lonely Planets list of Top 10 Asian Destinations To Visit in 2016.\\n\\n\\n\\nLADYIRONCHEF.COM\\nDay Trip To IpohWhat To Eat, Do And See In This Underrated City',\n 'Weekend getaway to Bali.\\n\\nTip: if you are flying biz on SQ to Bali, make sure that you are booking the newer 787-10 plane and not the A330-300 plane which comes in a 2-2-2 configuration.',\n \"Meatless doesn't mean it suck.\\n\\n\\n\\nLADYIRONCHEF.COM\\n10 Vegetarian Eateries In Singapore That Will Change Your Mind About Meatless Cuisine\",\n 'Weekend getaway to Bali.',\n 'When you are feeling guilty for eating too much.\\n\\nTidbits Mag\\n7 October 2019 at 12:53 \\n\\nHealthy and delicious tofu bowls.\\n\\n',\n 'TIDBITSMAG.COM\\nGarden Street Kway Chap  One Of The Best Kway Chap Stalls in Singapore\\n\\nTidbits Mag is at Garden Street Kway Chap.\\n9 October 2019 at 12:34  Serangoon Garden Estate, Singapore \\n\\nOne of the best kway chap stalls in Singapore.\\n\\n',\n 'Tidbits Mag is at Garden Street Kway Chap.\\n9 October 2019 at 12:34  Serangoon Garden Estate, Singapore \\n\\nOne of the best kway chap stalls in Singapore.\\n\\n',\n 'Boba tea tart?!? \\n\\nTidbits Mag\\n8 October 2019 at 18:44 \\n\\nThe new KFC Brown Sugar Boba Tea Tart is available from 10 October!',\n 'Ipoh is Malaysias third most populous city and one of the most popular destinations for a short, simple and fun weekend getaway today.\\n\\n\\n\\nLADYIRONCHEF.COM\\nDay Trip To IpohWhat To Eat, Do And See In This Underrated City',\n 'And Diwali is coming once again!\\n\\n\\n\\nLADYIRONCHEF.COM\\n14 Things You Did Not Know About Diwali, The Dazzling Light Festival',\n 'Here are some of the best Bak Chor Mee you can find in Singapore.',\n 'Never say no to wagyu-don.\\n\\n\\n\\nLADYIRONCHEF.COM\\n12 Wagyu Beef Bowls In Singapore You Must Try, From The Budget To Luxurious',\n \"Singapore's first ramen shop with private booths.\\n\\n\\n\\nLADYIRONCHEF.COM\\nGangsta Ramen  Singapores First Ramen Shop With Private Booth A.K.A Ichiran-Inspired Shop\",\n 'Located just a short walk away from the famous Wat Arun and the Grand Palace, The Sixth is a cosy and hip little cafe that is run by a young couple.\\n\\n\\n\\nLADYIRONCHEF.COM\\nThe Sixth  Wholesome And Authentic Thai Dishes In A Cosy Cafe With Only Five Tables',\n 'Banana Kaya, Purple Sweet Potato, Gula Melaka, Black Sesame and Peanut Butter Croissants? \\n\\n\\n\\nLADYIRONCHEF.COM\\nAu Croissant  New Hidden Bakery In Kallang With Quirky-Flavoured Croissants And Cruffins',\n \"No longer our favourite.\\n\\n\\n\\nLADYIRONCHEF.COM\\nSabx2 Wanton Mee  Overhyped, Subpar Wanton Noodles You Shouldn't Waste Your Calories On\",\n \"The one that you must try.\\n\\n\\n\\nLADYIRONCHEF.COM\\nTan's Tu Tu Coconut Cake  The OG Tutu Kueh Stall That Started it All In Singapore\",\n 'Fries before guys.\\n\\n\\n\\nLADYIRONCHEF.COM\\n14 Insanely Good Fries In Singapore Because Who Needs The Gym When We Can Eat Fries',\n 'Residents in Kovan and Hougang will be familiar with this food centre.\\n\\nTIDBITSMAG.COM\\nHougang Hainanese Village Food Centre Guide  14 Stalls To Try At This Food Paradise\\n\\nTidbits Mag\\n1 October 2019 at 16:42 \\n\\nHome to plenty of old-school hawker food.\\n\\n',\n 'Tidbits Mag\\n1 October 2019 at 16:42 \\n\\nHome to plenty of old-school hawker food.\\n\\n',\n '50% discount for 100% sugar rush.\\n\\n\\n\\nLADYIRONCHEF.COM\\n8 Hotels In Singapore That Extend 50% Off Takeaway Cakes & Sweets Daily',\n 'That sinfully good dessert that we can never resist.\\n\\n\\n\\nLADYIRONCHEF.COM\\n10 Places In Singapore To Treat Yourself To Some Sinfully Good Sticky Date Pudding',\n ' Momiji Matsuri - Japanese Food Fair at NEX Atrium from 24 Sep to 6 Oct.',\n \"Not for the snobs, but for the rest who can deal with a little simplicity, this list is good.\\n\\n\\n\\nLADYIRONCHEF.COM\\n10 Affordable Dim Sum Places In Singapore That'll Transport You To Hong Kong\",\n 'Say goodbye to BAKE Cheese Tart Singapore!\\n\\n\\n\\nLADYIRONCHEF.COM\\nBAKE Cheese Tart Singapore Is Closing Down By End Oct 2019',\n 'Buy some good meats and be your own Masterchef at home!\\n\\n\\n\\nLADYIRONCHEF.COM\\n5 Gourmet Butchers In Singapore To Get Restaurant-Standard Meats',\n 'Cheap cheap, good good na~\\n\\n\\n\\nLADYIRONCHEF.COM\\n6 Places In Singapore To Get Cheap Thai Boat Noodles From Just S$0.80 Per Bowl',\n 'This is a new caf in Serangoon Gardens taking over the premise of the now-defunct Arbite.\\n\\n\\n\\nLADYIRONCHEF.COM\\nThe Larder Caf  New Caf at Serangoon Gardens Serving Pocket-friendly Mains and Desserts',\n 'Travel to the East of Singapore for these hidden gems.\\n\\nTIDBITSMAG.COM\\n10 Eats In Bedok Interchange Hawker Centre That East Siders Would Rather You Not Know\\n\\nTidbits Mag\\n28 September 2019 at 13:06 \\n\\nOnly Bedok residents know about these hidden gems.\\n\\n',\n 'Tidbits Mag\\n28 September 2019 at 13:06 \\n\\nOnly Bedok residents know about these hidden gems.\\n\\n',\n 'Thailand is a wondrous country with so much waiting for you to discover.\\n\\n\\n\\nLADYIRONCHEF.COM\\n8 Underrated Destinations in Thailand You Never Knew About - Time To Clear Your Remaining AL',\n 'The famous Monga Fried Chicken is finally here!\\n\\n\\n\\nLADYIRONCHEF.COM\\nTaiwans Famous (And Delicious) Monga Fried Chicken Is Finally In Singapore',\n 'Home to yummy sandwiches, toasties and speciality coffee.\\n\\n\\n\\nLADYIRONCHEF.COM\\nProdigal Caf  This Cafe At Macpherson Lane Specialises In Toasties & Specialty Coffee',\n 'For the coffee lovers.\\n\\n\\n\\nLADYIRONCHEF.COM\\nQuarter Life Coffee  New Single-Origin Coffee Roaster Hidden in Prinsep Street',\n 'This Japanese Autumn food fair is happening at NEX Mall Atrium from now until 6 October',\n 'Old-school gems left in Singapore.\\n\\n\\n\\nLADYIRONCHEF.COM\\nHeap Seng Leong - Old-School Coffeeshop With Kopi Gu You & Kaya Toast',\n 'On a tight budget? No problem. Penang can still be fun!\\n\\n\\n\\nLADYIRONCHEF.COM\\nHow To Travel To Penang For A 3D2N Trip With S$250 (All-Inclusive)',\n 'Bookmark this!\\n\\nLADYIRONCHEF.COM\\n8 Halal Restaurants in Jewel Changi Airport To Dine At With Your Family & Friends\\n\\nThe Halal Mag\\n22 September 2019 at 14:56 \\n\\nDine at these halal restaurants in Jewel Changi Airport.\\n\\n',\n 'The Halal Mag\\n22 September 2019 at 14:56 \\n\\nDine at these halal restaurants in Jewel Changi Airport.\\n\\n',\n 'And it is also a popular honeymoon destination!\\n\\n\\n\\nLADYIRONCHEF.COM\\n12 Reasons To Visit Fiji - This Beautiful Island Is Picturesque Beyond Words',\n 'The Place 168 is a humble Thai restaurant tucked away at a rundown building near Pratunam Market.\\n\\n\\n\\nLADYIRONCHEF.COM\\nThe Place 168  Monster-Sized Bowls Of Tom Yum Koong Soup At Only 195 Baht',\n \"DON'T WE ALL LOVE EGG TARTS?!\\n\\n\\n\\nLADYIRONCHEF.COM\\n9 Comforting Old-School Egg Tarts You'd Love If You Grew Up In The 90's\",\n \"You'd never run out of things to eat and do in Hongdae.\\n\\n\\n\\nLADYIRONCHEF.COM\\n12 Tips On The Best Things To See, Do & Eat In Hongdae, One Of Seoul's Most Happening Neighboods\",\n 'Over 200 shockingly good dining deals at up to 75% off!\\n\\n\\n\\nLADYIRONCHEF.COM\\nChopeDeals Online Food Festival (24 to 26 Sep)  Over 200 Dining Deals With Up To 75% Off',\n \"This will be useful for your next trip to Melbourne.\\n\\n\\n\\nLADYIRONCHEF.COM\\n6 Ways To Get From Melbourne's Tullamarine Airport To The City\",\n 'That egg mayo sandwich tho.\\n\\n\\n\\nLADYIRONCHEF.COM\\nFine Dining Bakery By Akira .M  Japanese Bakery Serving The Best Egg Salad Sandwich',\n 'As soon as we opened the doors, we were greeted with the smell of warm butter, sugar and a faint waft of freshly brewed espresso.\\n\\n\\nLADYIRONCHEF.COM\\nBaker & Cook  A Homegrown Bakery in Greenwood Avenue Serving Cakes & Pastries',\n 'For folks staying in the west of Singapore.\\n\\nTIDBITSMAG.COM\\nThis 24-Hour Cafe At Taman Jurong Shopping Centre Serves Local Comfort Food From S$3\\n\\nTidbits Mag is at Taman Jurong Shopping Centre.\\n19 September 2019 at 21:35  Singapore \\n\\nPrices range from S$3-6 and they open for 24 hours.\\n\\n',\n 'Tidbits Mag is at Taman Jurong Shopping Centre.\\n19 September 2019 at 21:35  Singapore \\n\\nPrices range from S$3-6 and they open for 24 hours.\\n\\n',\n 'This new Chinese restaurant features classics such as the Double-Boiled Fish Maw with Chicken, Australian Barramundi Fish Head and Crisp-Fried Tiger Prawn with Sichuan Spice.\\n\\n\\n\\nLADYIRONCHEF.COM\\nTASTE by TungLok  New Dining Concept Focusing On Sustainable and Organic Chinese Fare',\n 'This new coffee shop in Jurong West serves S$3 gourmet coffee.\\n\\n\\n\\nLADYIRONCHEF.COM\\nSuzuki Cafe and Roastery - S$3 Gourmet Coffee Hidden Away in An Industrial Estate',\n 'This new cafe in the East of Singapore is serving cheesecakes from The Cheesecake Factory!\\n\\n\\n\\nLADYIRONCHEF.COM\\nMOD Caf  New Cafe in The East of Singapore Serving Cheesecakes from The Cheesecake Factory',\n 'No one needs to be excluded from the fun!\\n\\n\\n\\nLADYIRONCHEF.COM\\n8 Halal Restaurants in Jewel Changi Airport To Dine At With Your Family & Friends',\n 'For all the carnivores out there, this list is the only list you need.\\n\\n\\n\\nLADYIRONCHEF.COM\\n13 BBQ Restaurants In Singapore - The Only Guide Carnivores Need For The Best BBQ Meats In Town',\n 'While there arent as many stalls in Bangkok that sell duck rice as there are that sell chicken rice, we know a good one to recommend to you.\\n\\n\\n\\nLADYIRONCHEF.COM\\nPondtip Pratunam  Addictively Good Duck Rice In The Heart Of Pratunam',\n 'The best period to visit Lyndoch Lavender Farm is from August to January.\\n\\n\\n\\nLADYIRONCHEF.COM\\nLyndoch Lavender Farm, Australia - Visit This Farm For Lavender Flowers, Ice Cream, Scones & More',\n '2019 Michelin Guide Singapore winners!\\n\\n',\n \"BREAKING: Here's the full list of the winners.\\n\\n\\n\\nLADYIRONCHEF.COM\\n2019 Michelin Guide Singapore  Here's The Full List Of The Best Restaurants In Singapore\",\n 'Croissant + bubble tea = great idea!\\n\\n\\n\\nLADYIRONCHEF.COM\\nLaLune Croissant - Brand-new Croissanterie in 313 Somerset Serving Up Flaky Croissants and Bubble Tea',\n 'Cheap and decent dim sum!\\n\\nTIDBITSMAG.COM\\nYi Dian Xin  A Dim Sum Gem In Upper Serangoon That Needs To Open For Supper',\n 'ICHIRAN IS FINALLY COMING TO SINGAPORE!!!\\n\\n\\n\\nJoin us on Telegram where we share the latest food and travel news. \\n\\nLADYIRONCHEF.COM\\nThe Legendary Ichiran Is Finally Coming To Singapore From 3 to 20 October',\n 'Yishun\\'s greatest hits: the food edition.\\n\\nRead our guide on 13 food places in Yishun that are worth braving the \"stranger things\" for. ',\n \"How to chase away your Monday Blues: plan for 2020's vacations.\\n\\n\\n\\nLADYIRONCHEF.COM\\nSingapore's Long Weekends In 2020 - Start Planning For Your Next Holiday\",\n 'Cats lovers have to check out this cat cafe in Bangkok.\\n\\n',\n 'Another part of Malaysia you should totally visit.\\n\\n\\n\\nLADYIRONCHEF.COM\\n18 Sights & Attractions Worth Booking A Trip To Kota Kinabalu RN',\n 'Feline lovers will be glad to know that Bangkok has a really solid cat cafe called Caturday Cat Caf that is brimming with adorable, fluffy kitties of all shapes and sizes.\\n\\n\\n\\nLADYIRONCHEF.COM\\nCaturday Cat Cafe A Pussy Paradise Right Smack In The Heart Of Bangkok',\n 'If you are around the area, dont forget to try this popular Lor Mee.\\n\\nTIDBITSMAG.COM\\nLorong Ah Soo Lor Mee  Wholesome Bowls Of Lor Mee That Come Chock Full Of Ingredients\\n\\nTidbits Mag is at Lorong Ah Soo Lor Mee.\\n13 September 2019 at 17:48  Singapore \\n\\nThis popular Lor Mee stall has been around for over two decades.\\n\\n',\n 'Tidbits Mag is at Lorong Ah Soo Lor Mee.\\n13 September 2019 at 17:48  Singapore \\n\\nThis popular Lor Mee stall has been around for over two decades.\\n\\n',\n 'There is no time to waste in getting that golden tan and there could be no better way to laze the weekend away.\\n\\n\\n\\nLADYIRONCHEF.COM\\n14 Best Beach Clubs In Singapore You Should Spend Your Weekends At',\n 'Guide to Alexandra Village Food Centre.\\n\\n\\n\\nTIDBITSMAG.COM\\nAlexandra Village Food Centre Guide  One of The Best Hawker Centres in Singapore',\n 'This fairly new bakery cafe in Sunset Way features a delectable selection of pastries, cakes and tarts.\\n\\n\\n\\nLADYIRONCHEF.COM\\nFredos Baker - Quality Baked Goods To Enjoy Right In The Heartlands of Sunset Way',\n \"If you're already done with Tokyo, go to Osaka next!\\n\\n\\n\\nLADYIRONCHEF.COM\\n[TRAVEL GUIDE] 13 Things Every First-Timer Should Do When In Osaka\",\n 'Huai Khwang Night Market is just a short walk away from Huai Khwang MRT station, which makes it very convenient and accessible.\\n\\n\\n\\nLADYIRONCHEF.COM\\nHuai Khwang Night Market  A Local Bangkok Shopping Spot For Insominiacs',\n 'Old-school western food \\n\\nTidbits Mag\\n10 September 2019 at 22:15 \\n\\nThis is one of the most popular old-school western food stalls in Singapore.\\n\\n',\n 'Osaka is also dubbed as the Kitchen of Japan.\\n\\n\\n\\nLADYIRONCHEF.COM\\nGuide To Osaka  8 Local Street Food That You Have To Try',\n \"Budget buffets so that you can feast without guilt.\\n\\n\\n\\nLADYIRONCHEF.COM\\n10 Super Affordable Buffets In Singapore That You Can Enjoy Even If It Isn't Pay Day\",\n \"I don't know who needs to see this, but here you go.\\n\\n\\n\\nLADYIRONCHEF.COM\\n7 Tips on How You Can Still Travel Often With A Full-Time Job\",\n 'How many of these have you been to?\\n\\n\\n\\nLADYIRONCHEF.COM\\n[TRAVEL GUIDE] 8 Night Markets In Kuala Lumpur To Add To Your Itinerary',\n 'A new week, another new cafe for you to explore.\\n\\n',\n 'Hvala is an oasis for true matcha fans in Singapore.\\n\\n\\n\\nLADYIRONCHEF.COM\\nHvala  Minimalist Matcha Cafe at the Heart of Orchard Road in Singapore',\n 'XXL Leng Saap at just 599 baht!\\n\\n\\n\\nLADYIRONCHEF.COM\\nLeng Saap  Towering Plates Of Outrageously Spicy Pork Spine At Talad Rot Fai Srinakarin',\n \"Pay day isn't in, anniversary isn't here, but it's ok. You still can pig out.\\n\\n\\n\\nLADYIRONCHEF.COM\\n10 Affordable Buffets In Singapore For When You Need Budget AF But Still Want A Feast\",\n 'This hole-in-the-wall eatery is where you should go to in Seoul.\\n\\n\\n\\nLADYIRONCHEF.COM\\nHadongkwan - 80-Year-Old Restaurant In Seoul Specialising In Gomtang',\n \"Since it isn't advisable to go to Hong Kong now...\\n\\n\\n\\nLADYIRONCHEF.COM\\n10 Affordable Dim Sum Places In Singapore That'll Transport You To Hong Kong\",\n \"Also known as Rot Fai Train Market, this is one epic market you have to experience.\\n\\n\\n\\nLADYIRONCHEF.COM\\nTalad Rot Fai Srinakarin  What To Expect At One Of Bangkok's Largest Night Markets\",\n \"Always so much to eat in Tokyo.\\n\\n\\n\\nLADYIRONCHEF.COM\\nHarajuku's Takeshita Dori - 9 Things To See And Snacks To Eat\",\n 'Best of both worlds!\\n\\nTidbits Mag\\n31 August 2019 at 12:12 \\n\\nGet their mixed plate which comes with black and white carrot cake!\\n\\n',\n 'The seafood here honestly isnt the best but the entertainmentfrom the waiters in \"sexy\" costumessure makes up for it.\\n\\n',\n ...]"
     },
     "metadata": {},
     "execution_count": 50
    }
   ],
   "source": [
    "someList"
   ]
  },
  {
   "cell_type": "code",
   "execution_count": 15,
   "metadata": {},
   "outputs": [
    {
     "output_type": "execute_result",
     "data": {
      "text/plain": "40455"
     },
     "metadata": {},
     "execution_count": 15
    }
   ],
   "source": [
    "count"
   ]
  },
  {
   "cell_type": "code",
   "execution_count": null,
   "metadata": {},
   "outputs": [],
   "source": []
  }
 ],
 "metadata": {
  "kernelspec": {
   "display_name": "Python 3",
   "language": "python",
   "name": "python3"
  },
  "language_info": {
   "codemirror_mode": {
    "name": "ipython",
    "version": 3
   },
   "file_extension": ".py",
   "mimetype": "text/x-python",
   "name": "python",
   "nbconvert_exporter": "python",
   "pygments_lexer": "ipython3",
   "version": "3.8.5-final"
  }
 },
 "nbformat": 4,
 "nbformat_minor": 4
}